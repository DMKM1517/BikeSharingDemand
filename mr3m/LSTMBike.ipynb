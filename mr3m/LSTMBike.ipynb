{
 "cells": [
  {
   "cell_type": "code",
   "execution_count": 1,
   "metadata": {
    "collapsed": true
   },
   "outputs": [],
   "source": [
    "%matplotlib inline"
   ]
  },
  {
   "cell_type": "code",
   "execution_count": 2,
   "metadata": {
    "collapsed": false
   },
   "outputs": [
    {
     "name": "stderr",
     "output_type": "stream",
     "text": [
      "Using TensorFlow backend.\n"
     ]
    }
   ],
   "source": [
    "import numpy as np\n",
    "import numpy\n",
    "import matplotlib.pyplot as plt\n",
    "import pandas as pd\n",
    "import math\n",
    "import keras\n",
    "from keras.models import Sequential\n",
    "from keras.layers import Dense, Activation, TimeDistributed\n",
    "from keras.layers import LSTM, SimpleRNN\n",
    "from sklearn.preprocessing import MinMaxScaler\n",
    "from sklearn.metrics import mean_squared_error\n",
    "import scipy as scipy\n",
    "from keras.callbacks import TensorBoard\n",
    "from keras.regularizers import l1, activity_l1\n",
    "from keras.regularizers import l2, activity_l2\n",
    "from sklearn import preprocessing  \n"
   ]
  },
  {
   "cell_type": "code",
   "execution_count": 3,
   "metadata": {
    "collapsed": false
   },
   "outputs": [],
   "source": [
    "numpy.random.seed(7)"
   ]
  },
  {
   "cell_type": "code",
   "execution_count": 4,
   "metadata": {
    "collapsed": false
   },
   "outputs": [],
   "source": [
    "df_train = pd.read_csv(\"../train.csv\")\n",
    "df_test = pd.read_csv(\"../test.csv\")"
   ]
  },
  {
   "cell_type": "code",
   "execution_count": 5,
   "metadata": {
    "collapsed": false
   },
   "outputs": [],
   "source": [
    "df_train['month'] = pd.DatetimeIndex(df_train.datetime).month\n",
    "df_train['day'] = pd.DatetimeIndex(df_train.datetime).dayofweek\n",
    "df_train['hour'] = pd.DatetimeIndex(df_train.datetime).hour\n",
    "df_train['year'] = pd.DatetimeIndex(df_train.datetime).year"
   ]
  },
  {
   "cell_type": "code",
   "execution_count": 6,
   "metadata": {
    "collapsed": false
   },
   "outputs": [],
   "source": [
    "df_train_train = df_train.drop(['datetime','casual','registered','count'], axis = 1)\n",
    "df_train_train = df_train_train.drop(['season','workingday','weather','holiday'], axis = 1)\n",
    "df_test_train = df_train['count']"
   ]
  },
  {
   "cell_type": "code",
   "execution_count": 7,
   "metadata": {
    "collapsed": false
   },
   "outputs": [
    {
     "data": {
      "text/html": [
       "<div>\n",
       "<table border=\"1\" class=\"dataframe\">\n",
       "  <thead>\n",
       "    <tr style=\"text-align: right;\">\n",
       "      <th></th>\n",
       "      <th>temp</th>\n",
       "      <th>atemp</th>\n",
       "      <th>humidity</th>\n",
       "      <th>windspeed</th>\n",
       "      <th>month</th>\n",
       "      <th>day</th>\n",
       "      <th>hour</th>\n",
       "      <th>year</th>\n",
       "    </tr>\n",
       "  </thead>\n",
       "  <tbody>\n",
       "    <tr>\n",
       "      <th>0</th>\n",
       "      <td>9.84</td>\n",
       "      <td>14.395</td>\n",
       "      <td>81</td>\n",
       "      <td>0</td>\n",
       "      <td>1</td>\n",
       "      <td>5</td>\n",
       "      <td>0</td>\n",
       "      <td>2011</td>\n",
       "    </tr>\n",
       "    <tr>\n",
       "      <th>1</th>\n",
       "      <td>9.02</td>\n",
       "      <td>13.635</td>\n",
       "      <td>80</td>\n",
       "      <td>0</td>\n",
       "      <td>1</td>\n",
       "      <td>5</td>\n",
       "      <td>1</td>\n",
       "      <td>2011</td>\n",
       "    </tr>\n",
       "    <tr>\n",
       "      <th>2</th>\n",
       "      <td>9.02</td>\n",
       "      <td>13.635</td>\n",
       "      <td>80</td>\n",
       "      <td>0</td>\n",
       "      <td>1</td>\n",
       "      <td>5</td>\n",
       "      <td>2</td>\n",
       "      <td>2011</td>\n",
       "    </tr>\n",
       "    <tr>\n",
       "      <th>3</th>\n",
       "      <td>9.84</td>\n",
       "      <td>14.395</td>\n",
       "      <td>75</td>\n",
       "      <td>0</td>\n",
       "      <td>1</td>\n",
       "      <td>5</td>\n",
       "      <td>3</td>\n",
       "      <td>2011</td>\n",
       "    </tr>\n",
       "    <tr>\n",
       "      <th>4</th>\n",
       "      <td>9.84</td>\n",
       "      <td>14.395</td>\n",
       "      <td>75</td>\n",
       "      <td>0</td>\n",
       "      <td>1</td>\n",
       "      <td>5</td>\n",
       "      <td>4</td>\n",
       "      <td>2011</td>\n",
       "    </tr>\n",
       "  </tbody>\n",
       "</table>\n",
       "</div>"
      ],
      "text/plain": [
       "   temp   atemp  humidity  windspeed  month  day  hour  year\n",
       "0  9.84  14.395        81          0      1    5     0  2011\n",
       "1  9.02  13.635        80          0      1    5     1  2011\n",
       "2  9.02  13.635        80          0      1    5     2  2011\n",
       "3  9.84  14.395        75          0      1    5     3  2011\n",
       "4  9.84  14.395        75          0      1    5     4  2011"
      ]
     },
     "execution_count": 7,
     "metadata": {},
     "output_type": "execute_result"
    }
   ],
   "source": [
    "df_train_train.head()"
   ]
  },
  {
   "cell_type": "code",
   "execution_count": 8,
   "metadata": {
    "collapsed": true
   },
   "outputs": [],
   "source": [
    "n = len(df_train_train)\n",
    "train_x = df_train_train[0:int(n*.8)].astype('float32')\n",
    "train_y = df_test_train[0:int(n*.8)].astype('float32')\n",
    "test_x = df_train_train[int(n*.8)+1:n].astype('float32')\n",
    "test_y = df_test_train[int(n*.8)+1:n].astype('float32')"
   ]
  },
  {
   "cell_type": "code",
   "execution_count": 9,
   "metadata": {
    "collapsed": false
   },
   "outputs": [],
   "source": [
    "scaler = MinMaxScaler(feature_range=(-1, 1))"
   ]
  },
  {
   "cell_type": "code",
   "execution_count": 10,
   "metadata": {
    "collapsed": false
   },
   "outputs": [],
   "source": [
    "train_x_r = scaler.fit_transform(train_x.values)\n",
    "#for elem in (train_x,trainY,test_x,testY):\n",
    "#    for col in range(len(elem.values[0])):\n",
    "#        print elem.values[col]\n",
    "#        elem.values[:,col] = scaler.fit_transform(elem.values[:,col])\n",
    "#trainY = scaler.fit_transform(train_y.values)\n",
    "test_x_r = scaler.fit_transform(test_x.values)\n",
    "#testY = scaler.fit_transform(test_y.values)"
   ]
  },
  {
   "cell_type": "code",
   "execution_count": 11,
   "metadata": {
    "collapsed": false
   },
   "outputs": [],
   "source": [
    "#simplernn = keras.layers.recurrent.SimpleRNN(64, init='glorot_uniform', inner_init='orthogonal', activation='sigmoid', W_regularizer=None, U_regularizer=None, b_regularizer=None, dropout_W=0.0, dropout_U=0.0)"
   ]
  },
  {
   "cell_type": "code",
   "execution_count": 12,
   "metadata": {
    "collapsed": false
   },
   "outputs": [],
   "source": [
    "#trainX = numpy.reshape(train_x_r, (train_x_r.shape[0], 1, train_x_r.shape[1]))\n",
    "#testX = numpy.reshape(test_x_r, (test_x_r.shape[0], 1, test_x_r.shape[1]))"
   ]
  },
  {
   "cell_type": "code",
   "execution_count": 13,
   "metadata": {
    "collapsed": false,
    "scrolled": false
   },
   "outputs": [],
   "source": [
    "#model = Sequential()\n",
    "#model.add(Dense(1, input_shape=(8,)))\n",
    "#model.add(SimpleRNN(64, input_shape=(8,)))\n",
    "#model.add(Dense(8))\n",
    "#model.add(Activation('relu'))\n",
    "\n",
    "# create model\n",
    "#model = Sequential()\n",
    "#model.add(Dense(13, input_dim=8, init='normal', activation='relu'))\n",
    "#model.add(Dense(1, init='normal'))\n",
    "# Compile model\n",
    "#model.compile(loss='mean_squared_error', optimizer='adam')\n",
    "\n",
    "#model = Sequential()\n",
    "#model.add(Dense(1, input_shape=(8,) ))\n",
    "#model.add(Activation('relu'))\n",
    "#model.add(LSTM(2, input_shape=(1, 8)))\n",
    "\n",
    "\n",
    "#model.compile(loss='mean_squared_error', optimizer='adam')\n",
    "#model.fit(trainX, trainY, nb_epoch=10, batch_size=32,verbose=1)\n"
   ]
  },
  {
   "cell_type": "code",
   "execution_count": 14,
   "metadata": {
    "collapsed": false,
    "scrolled": true
   },
   "outputs": [
    {
     "name": "stdout",
     "output_type": "stream",
     "text": [
      "Train on 8708 samples, validate on 2177 samples\n",
      "Epoch 1/100\n",
      "8708/8708 [==============================] - 3s - loss: 0.4904 - val_loss: 0.3711\n",
      "Epoch 2/100\n",
      "8708/8708 [==============================] - 2s - loss: 0.4326 - val_loss: 0.3133\n",
      "Epoch 3/100\n",
      "8708/8708 [==============================] - 1s - loss: 0.3510 - val_loss: 0.2334\n",
      "Epoch 4/100\n",
      "8708/8708 [==============================] - 1s - loss: 0.2374 - val_loss: 0.1605\n",
      "Epoch 5/100\n",
      "8708/8708 [==============================] - 2s - loss: 0.1327 - val_loss: 0.1873\n",
      "Epoch 6/100\n",
      "8708/8708 [==============================] - 2s - loss: 0.1033 - val_loss: 0.2198\n",
      "Epoch 7/100\n",
      "8708/8708 [==============================] - 1s - loss: 0.0942 - val_loss: 0.1779\n",
      "Epoch 8/100\n",
      "8708/8708 [==============================] - 1s - loss: 0.0882 - val_loss: 0.1635\n",
      "Epoch 9/100\n",
      "8708/8708 [==============================] - 2s - loss: 0.0873 - val_loss: 0.1672\n",
      "Epoch 10/100\n",
      "8708/8708 [==============================] - 2s - loss: 0.0856 - val_loss: 0.1738\n",
      "Epoch 11/100\n",
      "8708/8708 [==============================] - 2s - loss: 0.0847 - val_loss: 0.1750\n",
      "Epoch 12/100\n",
      "8708/8708 [==============================] - 2s - loss: 0.0840 - val_loss: 0.1726\n",
      "Epoch 13/100\n",
      "8708/8708 [==============================] - 1s - loss: 0.0834 - val_loss: 0.1725\n",
      "Epoch 14/100\n",
      "8708/8708 [==============================] - 1s - loss: 0.0829 - val_loss: 0.1727\n",
      "Epoch 15/100\n",
      "8708/8708 [==============================] - 1s - loss: 0.0824 - val_loss: 0.1729\n",
      "Epoch 16/100\n",
      "8708/8708 [==============================] - 1s - loss: 0.0819 - val_loss: 0.1732\n",
      "Epoch 17/100\n",
      "8708/8708 [==============================] - 1s - loss: 0.0814 - val_loss: 0.1727\n",
      "Epoch 18/100\n",
      "8708/8708 [==============================] - 1s - loss: 0.0810 - val_loss: 0.1720\n",
      "Epoch 19/100\n",
      "8708/8708 [==============================] - 1s - loss: 0.0805 - val_loss: 0.1743\n",
      "Epoch 20/100\n",
      "8708/8708 [==============================] - 1s - loss: 0.0800 - val_loss: 0.1724\n",
      "Epoch 21/100\n",
      "8708/8708 [==============================] - 1s - loss: 0.0796 - val_loss: 0.1722\n",
      "Epoch 22/100\n",
      "8708/8708 [==============================] - 1s - loss: 0.0791 - val_loss: 0.1723\n",
      "Epoch 23/100\n",
      "8708/8708 [==============================] - 1s - loss: 0.0786 - val_loss: 0.1720\n",
      "Epoch 24/100\n",
      "8708/8708 [==============================] - 1s - loss: 0.0780 - val_loss: 0.1716\n",
      "Epoch 25/100\n",
      "8708/8708 [==============================] - 1s - loss: 0.0775 - val_loss: 0.1710\n",
      "Epoch 26/100\n",
      "8708/8708 [==============================] - 2s - loss: 0.0769 - val_loss: 0.1714\n",
      "Epoch 27/100\n",
      "8708/8708 [==============================] - 2s - loss: 0.0763 - val_loss: 0.1705\n",
      "Epoch 28/100\n",
      "8708/8708 [==============================] - 1s - loss: 0.0756 - val_loss: 0.1711\n",
      "Epoch 29/100\n",
      "8708/8708 [==============================] - 1s - loss: 0.0748 - val_loss: 0.1697\n",
      "Epoch 30/100\n",
      "8708/8708 [==============================] - 2s - loss: 0.0741 - val_loss: 0.1693\n",
      "Epoch 31/100\n",
      "8708/8708 [==============================] - 2s - loss: 0.0732 - val_loss: 0.1682\n",
      "Epoch 32/100\n",
      "8708/8708 [==============================] - 2s - loss: 0.0723 - val_loss: 0.1676\n",
      "Epoch 33/100\n",
      "8708/8708 [==============================] - 1s - loss: 0.0714 - val_loss: 0.1681\n",
      "Epoch 34/100\n",
      "8708/8708 [==============================] - 1s - loss: 0.0703 - val_loss: 0.1660\n",
      "Epoch 35/100\n",
      "8708/8708 [==============================] - 1s - loss: 0.0693 - val_loss: 0.1638\n",
      "Epoch 36/100\n",
      "8708/8708 [==============================] - 1s - loss: 0.0682 - val_loss: 0.1639\n",
      "Epoch 37/100\n",
      "8708/8708 [==============================] - 1s - loss: 0.0671 - val_loss: 0.1632\n",
      "Epoch 38/100\n",
      "8708/8708 [==============================] - 1s - loss: 0.0661 - val_loss: 0.1620\n",
      "Epoch 39/100\n",
      "8708/8708 [==============================] - 1s - loss: 0.0652 - val_loss: 0.1614\n",
      "Epoch 40/100\n",
      "8708/8708 [==============================] - 1s - loss: 0.0643 - val_loss: 0.1598\n",
      "Epoch 41/100\n",
      "8708/8708 [==============================] - 1s - loss: 0.0637 - val_loss: 0.1597\n",
      "Epoch 42/100\n",
      "8708/8708 [==============================] - 2s - loss: 0.0631 - val_loss: 0.1591\n",
      "Epoch 43/100\n",
      "8708/8708 [==============================] - 2s - loss: 0.0626 - val_loss: 0.1568\n",
      "Epoch 44/100\n",
      "8708/8708 [==============================] - 1s - loss: 0.0621 - val_loss: 0.1581\n",
      "Epoch 45/100\n",
      "8708/8708 [==============================] - 1s - loss: 0.0616 - val_loss: 0.1554\n",
      "Epoch 46/100\n",
      "8708/8708 [==============================] - 1s - loss: 0.0611 - val_loss: 0.1555\n",
      "Epoch 47/100\n",
      "8708/8708 [==============================] - 2s - loss: 0.0606 - val_loss: 0.1565\n",
      "Epoch 48/100\n",
      "8708/8708 [==============================] - 1s - loss: 0.0601 - val_loss: 0.1551\n",
      "Epoch 49/100\n",
      "8708/8708 [==============================] - 1s - loss: 0.0597 - val_loss: 0.1552\n",
      "Epoch 50/100\n",
      "8708/8708 [==============================] - 1s - loss: 0.0591 - val_loss: 0.1537\n",
      "Epoch 51/100\n",
      "8708/8708 [==============================] - 1s - loss: 0.0586 - val_loss: 0.1562\n",
      "Epoch 52/100\n",
      "8708/8708 [==============================] - 1s - loss: 0.0582 - val_loss: 0.1540\n",
      "Epoch 53/100\n",
      "8708/8708 [==============================] - 2s - loss: 0.0577 - val_loss: 0.1546\n",
      "Epoch 54/100\n",
      "8708/8708 [==============================] - 2s - loss: 0.0572 - val_loss: 0.1553\n",
      "Epoch 55/100\n",
      "8708/8708 [==============================] - 2s - loss: 0.0568 - val_loss: 0.1552\n",
      "Epoch 56/100\n",
      "8708/8708 [==============================] - 1s - loss: 0.0564 - val_loss: 0.1558\n",
      "Epoch 57/100\n",
      "8708/8708 [==============================] - 1s - loss: 0.0561 - val_loss: 0.1571\n",
      "Epoch 58/100\n",
      "8708/8708 [==============================] - 1s - loss: 0.0557 - val_loss: 0.1551\n",
      "Epoch 59/100\n",
      "8708/8708 [==============================] - 1s - loss: 0.0555 - val_loss: 0.1566\n",
      "Epoch 60/100\n",
      "8708/8708 [==============================] - 1s - loss: 0.0553 - val_loss: 0.1583\n",
      "Epoch 61/100\n",
      "8708/8708 [==============================] - 1s - loss: 0.0550 - val_loss: 0.1563\n",
      "Epoch 62/100\n",
      "8708/8708 [==============================] - 2s - loss: 0.0548 - val_loss: 0.1590\n",
      "Epoch 63/100\n",
      "8708/8708 [==============================] - 2s - loss: 0.0546 - val_loss: 0.1564\n",
      "Epoch 64/100\n",
      "8708/8708 [==============================] - 1s - loss: 0.0544 - val_loss: 0.1595\n",
      "Epoch 65/100\n",
      "8708/8708 [==============================] - 1s - loss: 0.0543 - val_loss: 0.1579\n",
      "Epoch 66/100\n",
      "8708/8708 [==============================] - 2s - loss: 0.0542 - val_loss: 0.1602\n",
      "Epoch 67/100\n",
      "8708/8708 [==============================] - 2s - loss: 0.0540 - val_loss: 0.1580\n",
      "Epoch 68/100\n",
      "8708/8708 [==============================] - 2s - loss: 0.0538 - val_loss: 0.1569\n",
      "Epoch 69/100\n",
      "8708/8708 [==============================] - 2s - loss: 0.0537 - val_loss: 0.1611\n",
      "Epoch 70/100\n",
      "8708/8708 [==============================] - 2s - loss: 0.0535 - val_loss: 0.1573\n",
      "Epoch 71/100\n",
      "8708/8708 [==============================] - 2s - loss: 0.0534 - val_loss: 0.1598\n",
      "Epoch 72/100\n",
      "8708/8708 [==============================] - 2s - loss: 0.0533 - val_loss: 0.1597\n",
      "Epoch 73/100\n",
      "8708/8708 [==============================] - 2s - loss: 0.0532 - val_loss: 0.1577\n",
      "Epoch 74/100\n",
      "8708/8708 [==============================] - 2s - loss: 0.0530 - val_loss: 0.1594\n",
      "Epoch 75/100\n",
      "8708/8708 [==============================] - 2s - loss: 0.0528 - val_loss: 0.1590\n",
      "Epoch 76/100\n",
      "8708/8708 [==============================] - 2s - loss: 0.0527 - val_loss: 0.1605\n",
      "Epoch 77/100\n",
      "8708/8708 [==============================] - 1s - loss: 0.0525 - val_loss: 0.1595\n",
      "Epoch 78/100\n",
      "8708/8708 [==============================] - 2s - loss: 0.0524 - val_loss: 0.1594\n",
      "Epoch 79/100\n",
      "8708/8708 [==============================] - 2s - loss: 0.0523 - val_loss: 0.1579\n",
      "Epoch 80/100\n",
      "8708/8708 [==============================] - 2s - loss: 0.0521 - val_loss: 0.1615\n",
      "Epoch 81/100\n",
      "8708/8708 [==============================] - 2s - loss: 0.0520 - val_loss: 0.1594\n",
      "Epoch 82/100\n",
      "8708/8708 [==============================] - 1s - loss: 0.0519 - val_loss: 0.1580\n",
      "Epoch 83/100\n",
      "8708/8708 [==============================] - 2s - loss: 0.0517 - val_loss: 0.1596\n",
      "Epoch 84/100\n",
      "8708/8708 [==============================] - 2s - loss: 0.0515 - val_loss: 0.1609\n",
      "Epoch 85/100\n",
      "8708/8708 [==============================] - 2s - loss: 0.0514 - val_loss: 0.1581\n",
      "Epoch 86/100\n",
      "8708/8708 [==============================] - 2s - loss: 0.0513 - val_loss: 0.1602\n",
      "Epoch 87/100\n",
      "8708/8708 [==============================] - 2s - loss: 0.0512 - val_loss: 0.1611\n",
      "Epoch 88/100\n",
      "8708/8708 [==============================] - 2s - loss: 0.0510 - val_loss: 0.1571\n",
      "Epoch 89/100\n",
      "8708/8708 [==============================] - 2s - loss: 0.0508 - val_loss: 0.1592\n",
      "Epoch 90/100\n",
      "8708/8708 [==============================] - 2s - loss: 0.0507 - val_loss: 0.1585\n",
      "Epoch 91/100\n",
      "8708/8708 [==============================] - 2s - loss: 0.0505 - val_loss: 0.1622\n",
      "Epoch 92/100\n",
      "8708/8708 [==============================] - 2s - loss: 0.0504 - val_loss: 0.1590\n",
      "Epoch 93/100\n",
      "8708/8708 [==============================] - 2s - loss: 0.0502 - val_loss: 0.1590\n",
      "Epoch 94/100\n",
      "8708/8708 [==============================] - 2s - loss: 0.0500 - val_loss: 0.1628\n",
      "Epoch 95/100\n",
      "8708/8708 [==============================] - 2s - loss: 0.0498 - val_loss: 0.1585\n",
      "Epoch 96/100\n",
      "8708/8708 [==============================] - 2s - loss: 0.0496 - val_loss: 0.1609\n",
      "Epoch 97/100\n",
      "8708/8708 [==============================] - 2s - loss: 0.0495 - val_loss: 0.1567\n",
      "Epoch 98/100\n",
      "8708/8708 [==============================] - 2s - loss: 0.0492 - val_loss: 0.1594\n",
      "Epoch 99/100\n",
      "8708/8708 [==============================] - 2s - loss: 0.0490 - val_loss: 0.1597\n",
      "Epoch 100/100\n",
      "8708/8708 [==============================] - 1s - loss: 0.0487 - val_loss: 0.1583\n"
     ]
    },
    {
     "name": "stderr",
     "output_type": "stream",
     "text": [
      "/usr/local/bin/anaconda/lib/python2.7/site-packages/sklearn/preprocessing/data.py:321: DeprecationWarning: Passing 1d arrays as data is deprecated in 0.17 and will raise ValueError in 0.19. Reshape your data either using X.reshape(-1, 1) if your data has a single feature or X.reshape(1, -1) if it contains a single sample.\n",
      "  warnings.warn(DEPRECATION_MSG_1D, DeprecationWarning)\n",
      "/usr/local/bin/anaconda/lib/python2.7/site-packages/sklearn/preprocessing/data.py:356: DeprecationWarning: Passing 1d arrays as data is deprecated in 0.17 and will raise ValueError in 0.19. Reshape your data either using X.reshape(-1, 1) if your data has a single feature or X.reshape(1, -1) if it contains a single sample.\n",
      "  warnings.warn(DEPRECATION_MSG_1D, DeprecationWarning)\n",
      "/usr/local/bin/anaconda/lib/python2.7/site-packages/sklearn/preprocessing/data.py:321: DeprecationWarning: Passing 1d arrays as data is deprecated in 0.17 and will raise ValueError in 0.19. Reshape your data either using X.reshape(-1, 1) if your data has a single feature or X.reshape(1, -1) if it contains a single sample.\n",
      "  warnings.warn(DEPRECATION_MSG_1D, DeprecationWarning)\n",
      "/usr/local/bin/anaconda/lib/python2.7/site-packages/sklearn/preprocessing/data.py:356: DeprecationWarning: Passing 1d arrays as data is deprecated in 0.17 and will raise ValueError in 0.19. Reshape your data either using X.reshape(-1, 1) if your data has a single feature or X.reshape(1, -1) if it contains a single sample.\n",
      "  warnings.warn(DEPRECATION_MSG_1D, DeprecationWarning)\n"
     ]
    },
    {
     "data": {
      "text/plain": [
       "<keras.callbacks.History at 0x1104df810>"
      ]
     },
     "execution_count": 14,
     "metadata": {},
     "output_type": "execute_result"
    }
   ],
   "source": [
    "from keras.models import Sequential\n",
    "from keras.layers import LSTM, Dense\n",
    "import numpy as np\n",
    "\n",
    "data_dim = len(train_x_r[0])\n",
    "timesteps = 1\n",
    "\n",
    "# expected input data shape: (batch_size, timesteps, data_dim)\n",
    "model = Sequential()\n",
    "#model.add(Dense(100))\n",
    "model.add(LSTM(100, return_sequences=True,\n",
    "               input_shape=(timesteps, data_dim) )) #W_regularizer=l2(0.01) \n",
    "model.add(LSTM(100, return_sequences=True)) #, W_regularizer=l2(0.01)\n",
    "model.add(LSTM(10))  \n",
    "model.add(Dense(1, activation='linear'))\n",
    "\n",
    "model.compile(loss='mean_squared_error',\n",
    "              optimizer='rmsprop')\n",
    "\n",
    "# generate dummy training data\n",
    "def resizetimestep(dataset,timestepsize):\n",
    "    return dataset[0:int(len(dataset/timestepsize))]\n",
    "\n",
    "train_x_r = resizetimestep(train_x_r,timesteps)\n",
    "test_x_r =  resizetimestep(test_x_r,timesteps)\n",
    "\n",
    "x_train = numpy.reshape(train_x_r, (train_x_r.shape[0]/timesteps, timesteps, train_x_r.shape[1]))\n",
    "y_train = scaler.fit_transform(train_y.values)\n",
    "\n",
    "\n",
    "x_val = numpy.reshape(test_x_r, (test_x_r.shape[0]/timesteps, timesteps, test_x_r.shape[1]))\n",
    "y_val = scaler.fit_transform(test_y.values)\n",
    "# generate dummy validation data\n",
    "\n",
    "model.fit(x_train, y_train,\n",
    "          batch_size=1000, nb_epoch=100,\n",
    "          validation_data=(x_val, y_val),callbacks=[TensorBoard(log_dir='logs')])"
   ]
  },
  {
   "cell_type": "code",
   "execution_count": 15,
   "metadata": {
    "collapsed": false
   },
   "outputs": [
    {
     "name": "stderr",
     "output_type": "stream",
     "text": [
      "/usr/local/bin/anaconda/lib/python2.7/site-packages/sklearn/preprocessing/data.py:374: DeprecationWarning: Passing 1d arrays as data is deprecated in 0.17 and will raise ValueError in 0.19. Reshape your data either using X.reshape(-1, 1) if your data has a single feature or X.reshape(1, -1) if it contains a single sample.\n",
      "  warnings.warn(DEPRECATION_MSG_1D, DeprecationWarning)\n"
     ]
    }
   ],
   "source": [
    "trainPredict = model.predict(x_train)\n",
    "testPredict = model.predict(x_val)\n",
    "trainPredict = scaler.inverse_transform(trainPredict)\n",
    "train_y_r_e = scaler.inverse_transform(y_train)\n",
    "testPredict = scaler.inverse_transform(testPredict)\n",
    "test_y_r_e = y_val#scaler.inverse_transform([y_val])"
   ]
  },
  {
   "cell_type": "code",
   "execution_count": 16,
   "metadata": {
    "collapsed": false,
    "scrolled": true
   },
   "outputs": [
    {
     "data": {
      "text/plain": [
       "[<matplotlib.lines.Line2D at 0x11af19890>]"
      ]
     },
     "execution_count": 16,
     "metadata": {},
     "output_type": "execute_result"
    },
    {
     "data": {
      "image/png": "[encoded data removed]",
      "text/plain": [
       "<matplotlib.figure.Figure at 0x1120809d0>"
      ]
     },
     "metadata": {},
     "output_type": "display_data"
    }
   ],
   "source": [
    "plt.plot(testPredict)"
   ]
  },
  {
   "cell_type": "code",
   "execution_count": 17,
   "metadata": {
    "collapsed": false
   },
   "outputs": [
    {
     "name": "stdout",
     "output_type": "stream",
     "text": [
      "Train Score: 107.46 RMSE\n",
      "Test Score: 182.15 RMSE\n"
     ]
    }
   ],
   "source": [
    "trainScore = math.sqrt(mean_squared_error(train_y_r_e, trainPredict[:,0]))\n",
    "print('Train Score: %.2f RMSE' % (trainScore))\n",
    "testScore = math.sqrt(mean_squared_error(test_y_r_e, testPredict[:,0]))\n",
    "print('Test Score: %.2f RMSE' % (testScore))"
   ]
  },
  {
   "cell_type": "code",
   "execution_count": 18,
   "metadata": {
    "collapsed": false
   },
   "outputs": [
    {
     "name": "stdout",
     "output_type": "stream",
     "text": [
      "0.808277\n"
     ]
    },
    {
     "data": {
      "text/plain": [
       "[<matplotlib.lines.Line2D at 0x11a3d5250>]"
      ]
     },
     "execution_count": 18,
     "metadata": {},
     "output_type": "execute_result"
    },
    {
     "data": {
      "image/png": "[encoded data removed]",
      "text/plain": [
       "<matplotlib.figure.Figure at 0x119c48e90>"
      ]
     },
     "metadata": {},
     "output_type": "display_data"
    }
   ],
   "source": [
    "print scipy.stats.pearsonr(train_y_r_e,trainPredict[:,0])[0]\n",
    "plt.plot(train_y_r_e,trainPredict,'.')"
   ]
  },
  {
   "cell_type": "code",
   "execution_count": 19,
   "metadata": {
    "collapsed": false
   },
   "outputs": [
    {
     "data": {
      "text/plain": [
       "[<matplotlib.lines.Line2D at 0x11a65a7d0>]"
      ]
     },
     "execution_count": 19,
     "metadata": {},
     "output_type": "execute_result"
    },
    {
     "data": {
      "image/png": "[encoded data removed]",
      "text/plain": [
       "<matplotlib.figure.Figure at 0x1106325d0>"
      ]
     },
     "metadata": {},
     "output_type": "display_data"
    }
   ],
   "source": [
    "plt.plot(train_y_r_e-trainPredict[:,0])"
   ]
  },
  {
   "cell_type": "code",
   "execution_count": 20,
   "metadata": {
    "collapsed": false
   },
   "outputs": [
    {
     "name": "stdout",
     "output_type": "stream",
     "text": [
      "0.72381\n"
     ]
    },
    {
     "data": {
      "text/plain": [
       "[<matplotlib.lines.Line2D at 0x11a897810>]"
      ]
     },
     "execution_count": 20,
     "metadata": {},
     "output_type": "execute_result"
    },
    {
     "data": {
      "image/png": "[encoded data removed]",
      "text/plain": [
       "<matplotlib.figure.Figure at 0x11a675f50>"
      ]
     },
     "metadata": {},
     "output_type": "display_data"
    }
   ],
   "source": [
    "print scipy.stats.pearsonr(test_y_r_e,testPredict[:,0])[0]\n",
    "plt.plot(test_y_r_e,testPredict,'.')"
   ]
  },
  {
   "cell_type": "code",
   "execution_count": 21,
   "metadata": {
    "collapsed": false
   },
   "outputs": [],
   "source": [
    "df_test['month'] = pd.DatetimeIndex(df_test.datetime).month\n",
    "df_test['day'] = pd.DatetimeIndex(df_test.datetime).dayofweek\n",
    "df_test['hour'] = pd.DatetimeIndex(df_test.datetime).hour\n",
    "df_test['year'] = pd.DatetimeIndex(df_test.datetime).year\n",
    "df_test_test = df_test.drop(['datetime'], axis = 1)\n",
    "df_test_test = df_test_test.drop(['season','workingday','weather','holiday'], axis = 1)\n",
    "df_test_t = scaler.fit_transform(df_test_test.values)\n",
    "df_test_r = numpy.reshape(df_test_t, (df_test_t.shape[0], timesteps , df_test_t.shape[1]))\n",
    "pred = model.predict(df_test_r)"
   ]
  },
  {
   "cell_type": "code",
   "execution_count": 22,
   "metadata": {
    "collapsed": false
   },
   "outputs": [
    {
     "name": "stderr",
     "output_type": "stream",
     "text": [
      "/usr/local/bin/anaconda/lib/python2.7/site-packages/sklearn/preprocessing/data.py:321: DeprecationWarning: Passing 1d arrays as data is deprecated in 0.17 and will raise ValueError in 0.19. Reshape your data either using X.reshape(-1, 1) if your data has a single feature or X.reshape(1, -1) if it contains a single sample.\n",
      "  warnings.warn(DEPRECATION_MSG_1D, DeprecationWarning)\n",
      "/usr/local/bin/anaconda/lib/python2.7/site-packages/sklearn/preprocessing/data.py:356: DeprecationWarning: Passing 1d arrays as data is deprecated in 0.17 and will raise ValueError in 0.19. Reshape your data either using X.reshape(-1, 1) if your data has a single feature or X.reshape(1, -1) if it contains a single sample.\n",
      "  warnings.warn(DEPRECATION_MSG_1D, DeprecationWarning)\n"
     ]
    },
    {
     "data": {
      "text/plain": [
       "array([-0.9631148 , -0.86270493, -0.78073776, ..., -0.65778697,\n",
       "       -0.73770499, -0.82172132], dtype=float32)"
      ]
     },
     "execution_count": 22,
     "metadata": {},
     "output_type": "execute_result"
    }
   ],
   "source": [
    "scaler.fit_transform(test_y.values)"
   ]
  },
  {
   "cell_type": "code",
   "execution_count": 23,
   "metadata": {
    "collapsed": false
   },
   "outputs": [],
   "source": [
    "out = scaler.inverse_transform(pred).astype(int)\n",
    "out[out<0] = 0\n",
    "out = out[:,0]"
   ]
  },
  {
   "cell_type": "code",
   "execution_count": 24,
   "metadata": {
    "collapsed": false
   },
   "outputs": [],
   "source": [
    "pred = pd.DataFrame({'datetime': df_test['datetime'],'count': out})\n",
    "pred = pred[['datetime','count']]"
   ]
  },
  {
   "cell_type": "code",
   "execution_count": 25,
   "metadata": {
    "collapsed": false
   },
   "outputs": [],
   "source": [
    "pred.to_csv(\"pred.csv\", index = False)"
   ]
  },
  {
   "cell_type": "code",
   "execution_count": 26,
   "metadata": {
    "collapsed": false
   },
   "outputs": [],
   "source": [
    "predicted = pd.read_csv('pred.csv')"
   ]
  },
  {
   "cell_type": "code",
   "execution_count": 27,
   "metadata": {
    "collapsed": false
   },
   "outputs": [
    {
     "data": {
      "text/plain": [
       "[<matplotlib.lines.Line2D at 0x11acb51d0>]"
      ]
     },
     "execution_count": 27,
     "metadata": {},
     "output_type": "execute_result"
    },
    {
     "data": {
      "image/png": "[encoded data removed]",
      "text/plain": [
       "<matplotlib.figure.Figure at 0x110632610>"
      ]
     },
     "metadata": {},
     "output_type": "display_data"
    }
   ],
   "source": [
    "plt.plot(predicted['count'])"
   ]
  },
  {
   "cell_type": "code",
   "execution_count": 28,
   "metadata": {
    "collapsed": false
   },
   "outputs": [
    {
     "data": {
      "text/plain": [
       "[<matplotlib.lines.Line2D at 0x117f8c5d0>]"
      ]
     },
     "execution_count": 28,
     "metadata": {},
     "output_type": "execute_result"
    },
    {
     "data": {
      "image/png": "[encoded data removed]",
      "text/plain": [
       "<matplotlib.figure.Figure at 0x11ad74ad0>"
      ]
     },
     "metadata": {},
     "output_type": "display_data"
    }
   ],
   "source": [
    "plt.plot(df_train['count'].values)"
   ]
  }
 ],
 "metadata": {
  "kernelspec": {
   "display_name": "Python 2",
   "language": "python",
   "name": "python2"
  },
  "language_info": {
   "codemirror_mode": {
    "name": "ipython",
    "version": 2
   },
   "file_extension": ".py",
   "mimetype": "text/x-python",
   "name": "python",
   "nbconvert_exporter": "python",
   "pygments_lexer": "ipython2",
   "version": "2.7.10"
  }
 },
 "nbformat": 4,
 "nbformat_minor": 0
}
