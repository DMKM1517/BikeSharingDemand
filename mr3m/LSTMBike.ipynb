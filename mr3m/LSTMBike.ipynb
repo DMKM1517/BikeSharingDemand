{
 "cells": [
  {
   "cell_type": "code",
   "execution_count": 1,
   "metadata": {
    "collapsed": true
   },
   "outputs": [],
   "source": [
    "%matplotlib inline"
   ]
  },
  {
   "cell_type": "code",
   "execution_count": 2,
   "metadata": {
    "collapsed": false
   },
   "outputs": [
    {
     "name": "stderr",
     "output_type": "stream",
     "text": [
      "Using TensorFlow backend.\n"
     ]
    }
   ],
   "source": [
    "import numpy as np\n",
    "import numpy\n",
    "import matplotlib.pyplot as plt\n",
    "import pandas as pd\n",
    "import math\n",
    "import keras\n",
    "from keras.models import Sequential\n",
    "from keras.layers import Dense, Activation, TimeDistributed\n",
    "from keras.layers import LSTM, SimpleRNN\n",
    "from sklearn.preprocessing import MinMaxScaler\n",
    "from sklearn.metrics import mean_squared_error\n",
    "import scipy as scipy\n",
    "from keras.callbacks import TensorBoard\n",
    "from keras.regularizers import l1, activity_l1\n",
    "from keras.regularizers import l2, activity_l2\n",
    "from sklearn import preprocessing  \n",
    "from datetime import datetime"
   ]
  },
  {
   "cell_type": "code",
   "execution_count": 3,
   "metadata": {
    "collapsed": false
   },
   "outputs": [],
   "source": [
    "numpy.random.seed(7)"
   ]
  },
  {
   "cell_type": "code",
   "execution_count": 4,
   "metadata": {
    "collapsed": false
   },
   "outputs": [],
   "source": [
    "df_train = pd.read_csv(\"../train.csv\")\n",
    "df_test = pd.read_csv(\"../test.csv\")"
   ]
  },
  {
   "cell_type": "code",
   "execution_count": 5,
   "metadata": {
    "collapsed": false
   },
   "outputs": [],
   "source": [
    "df_train['month'] = pd.DatetimeIndex(df_train.datetime).month\n",
    "df_train['day'] = pd.DatetimeIndex(df_train.datetime).dayofweek\n",
    "df_train['hour'] = pd.DatetimeIndex(df_train.datetime).hour\n",
    "df_train['year'] = pd.DatetimeIndex(df_train.datetime).year"
   ]
  },
  {
   "cell_type": "code",
   "execution_count": 6,
   "metadata": {
    "collapsed": false
   },
   "outputs": [],
   "source": [
    "df_train_train = df_train.drop(['datetime','casual','registered','count'], axis = 1)\n",
    "#df_train_train = df_train_train.drop(['season','workingday','weather','holiday'], axis = 1)\n",
    "df_test_train = df_train['count']"
   ]
  },
  {
   "cell_type": "code",
   "execution_count": 7,
   "metadata": {
    "collapsed": false
   },
   "outputs": [
    {
     "data": {
      "text/html": [
       "<div>\n",
       "<table border=\"1\" class=\"dataframe\">\n",
       "  <thead>\n",
       "    <tr style=\"text-align: right;\">\n",
       "      <th></th>\n",
       "      <th>season</th>\n",
       "      <th>holiday</th>\n",
       "      <th>workingday</th>\n",
       "      <th>weather</th>\n",
       "      <th>temp</th>\n",
       "      <th>atemp</th>\n",
       "      <th>humidity</th>\n",
       "      <th>windspeed</th>\n",
       "      <th>month</th>\n",
       "      <th>day</th>\n",
       "      <th>hour</th>\n",
       "      <th>year</th>\n",
       "    </tr>\n",
       "  </thead>\n",
       "  <tbody>\n",
       "    <tr>\n",
       "      <th>0</th>\n",
       "      <td>1</td>\n",
       "      <td>0</td>\n",
       "      <td>0</td>\n",
       "      <td>1</td>\n",
       "      <td>9.84</td>\n",
       "      <td>14.395</td>\n",
       "      <td>81</td>\n",
       "      <td>0</td>\n",
       "      <td>1</td>\n",
       "      <td>5</td>\n",
       "      <td>0</td>\n",
       "      <td>2011</td>\n",
       "    </tr>\n",
       "    <tr>\n",
       "      <th>1</th>\n",
       "      <td>1</td>\n",
       "      <td>0</td>\n",
       "      <td>0</td>\n",
       "      <td>1</td>\n",
       "      <td>9.02</td>\n",
       "      <td>13.635</td>\n",
       "      <td>80</td>\n",
       "      <td>0</td>\n",
       "      <td>1</td>\n",
       "      <td>5</td>\n",
       "      <td>1</td>\n",
       "      <td>2011</td>\n",
       "    </tr>\n",
       "    <tr>\n",
       "      <th>2</th>\n",
       "      <td>1</td>\n",
       "      <td>0</td>\n",
       "      <td>0</td>\n",
       "      <td>1</td>\n",
       "      <td>9.02</td>\n",
       "      <td>13.635</td>\n",
       "      <td>80</td>\n",
       "      <td>0</td>\n",
       "      <td>1</td>\n",
       "      <td>5</td>\n",
       "      <td>2</td>\n",
       "      <td>2011</td>\n",
       "    </tr>\n",
       "    <tr>\n",
       "      <th>3</th>\n",
       "      <td>1</td>\n",
       "      <td>0</td>\n",
       "      <td>0</td>\n",
       "      <td>1</td>\n",
       "      <td>9.84</td>\n",
       "      <td>14.395</td>\n",
       "      <td>75</td>\n",
       "      <td>0</td>\n",
       "      <td>1</td>\n",
       "      <td>5</td>\n",
       "      <td>3</td>\n",
       "      <td>2011</td>\n",
       "    </tr>\n",
       "    <tr>\n",
       "      <th>4</th>\n",
       "      <td>1</td>\n",
       "      <td>0</td>\n",
       "      <td>0</td>\n",
       "      <td>1</td>\n",
       "      <td>9.84</td>\n",
       "      <td>14.395</td>\n",
       "      <td>75</td>\n",
       "      <td>0</td>\n",
       "      <td>1</td>\n",
       "      <td>5</td>\n",
       "      <td>4</td>\n",
       "      <td>2011</td>\n",
       "    </tr>\n",
       "  </tbody>\n",
       "</table>\n",
       "</div>"
      ],
      "text/plain": [
       "   season  holiday  workingday  weather  temp   atemp  humidity  windspeed  \\\n",
       "0       1        0           0        1  9.84  14.395        81          0   \n",
       "1       1        0           0        1  9.02  13.635        80          0   \n",
       "2       1        0           0        1  9.02  13.635        80          0   \n",
       "3       1        0           0        1  9.84  14.395        75          0   \n",
       "4       1        0           0        1  9.84  14.395        75          0   \n",
       "\n",
       "   month  day  hour  year  \n",
       "0      1    5     0  2011  \n",
       "1      1    5     1  2011  \n",
       "2      1    5     2  2011  \n",
       "3      1    5     3  2011  \n",
       "4      1    5     4  2011  "
      ]
     },
     "execution_count": 7,
     "metadata": {},
     "output_type": "execute_result"
    }
   ],
   "source": [
    "df_train_train.head()"
   ]
  },
  {
   "cell_type": "code",
   "execution_count": 25,
   "metadata": {
    "collapsed": false
   },
   "outputs": [],
   "source": [
    "scaler = MinMaxScaler(feature_range=(-1, 1))\n",
    "scaler.fit(df_test_train.values.astype('float32').reshape(-1,1))\n",
    "timesteps = 1\n",
    "def preprocess_nn(datax,datay):\n",
    "    train_X_n = preprocessing.scale(datax.values.astype('float32'))\n",
    "    train_Y_n = scaler.transform(datay.values.astype('float32').reshape(-1,1))\n",
    "    n = len(train_X_n)\n",
    "    train_x = train_X_n[0:int(n*.8)].astype('float32')\n",
    "    train_y = train_Y_n[0:int(n*.8)].astype('float32')\n",
    "    test_x = train_X_n[int(n*.8)+1:n].astype('float32')\n",
    "    test_y = train_Y_n[int(n*.8)+1:n].astype('float32')\n",
    "    return train_x, train_y, test_x, test_y\n",
    "def preshape_nn(data_x):\n",
    "    data_x = numpy.reshape(data_x, (data_x.shape[0]/timesteps, timesteps, data_x.shape[1]))\n",
    "    return data_x\n",
    "def learn_nn(train_x, train_y, test_x, test_y):\n",
    "    from keras.models import Sequential\n",
    "    from keras.layers import LSTM, Dense\n",
    "    import numpy as np\n",
    "\n",
    "    data_dim = len(train_x[0])\n",
    "\n",
    "    # expected input data shape: (batch_size, timesteps, data_dim)\n",
    "    model = Sequential()\n",
    "    #model.add(Dense(100))\n",
    "    model.add(LSTM(100, return_sequences=True,\n",
    "                   input_shape=(timesteps, data_dim) )) #W_regularizer=l2(0.01) \n",
    "    model.add(LSTM(100, return_sequences=True)) #, W_regularizer=l2(0.01)\n",
    "    model.add(LSTM(10))  \n",
    "    model.add(Dense(1, activation='linear'))\n",
    "\n",
    "    model.compile(loss='mean_squared_error',\n",
    "                  optimizer='rmsprop')\n",
    "\n",
    "\n",
    "    x_train = preshape_nn(train_x)\n",
    "    y_train = train_y #scaler.transform(train_y)\n",
    "\n",
    "\n",
    "    x_val = preshape_nn(test_x)\n",
    "    y_val = test_y#scaler.transform(test_y)\n",
    "    # generate dummy validation data\n",
    "\n",
    "    now = datetime.now()\n",
    "\n",
    "    model.fit(x_train, y_train,\n",
    "              batch_size=100, nb_epoch=100,\n",
    "              validation_data=(x_val, y_val),callbacks=[TensorBoard(log_dir='logs/' + now.strftime(\"%Y%m%d-%H%M%S\") + \"/\")])\n",
    "    return model"
   ]
  },
  {
   "cell_type": "code",
   "execution_count": 9,
   "metadata": {
    "collapsed": false,
    "scrolled": true
   },
   "outputs": [
    {
     "name": "stdout",
     "output_type": "stream",
     "text": [
      "Train on 8708 samples, validate on 2177 samples\n",
      "Epoch 1/100\n",
      "8708/8708 [==============================] - 6s - loss: 0.1667 - val_loss: 0.1405\n",
      "Epoch 2/100\n",
      "8708/8708 [==============================] - 6s - loss: 0.0615 - val_loss: 0.1222\n",
      "Epoch 3/100\n",
      "8708/8708 [==============================] - 8s - loss: 0.0550 - val_loss: 0.1094\n",
      "Epoch 4/100\n",
      "8708/8708 [==============================] - 8s - loss: 0.0508 - val_loss: 0.1084\n",
      "Epoch 5/100\n",
      "8708/8708 [==============================] - 9s - loss: 0.0484 - val_loss: 0.1035\n",
      "Epoch 6/100\n",
      "8708/8708 [==============================] - 7s - loss: 0.0456 - val_loss: 0.0957\n",
      "Epoch 7/100\n",
      "8708/8708 [==============================] - 7s - loss: 0.0429 - val_loss: 0.0914\n",
      "Epoch 8/100\n",
      "8708/8708 [==============================] - 7s - loss: 0.0413 - val_loss: 0.0866\n",
      "Epoch 9/100\n",
      "8708/8708 [==============================] - 7s - loss: 0.0397 - val_loss: 0.0880\n",
      "Epoch 10/100\n",
      "8708/8708 [==============================] - 10s - loss: 0.0389 - val_loss: 0.0838\n",
      "Epoch 11/100\n",
      "8708/8708 [==============================] - 10s - loss: 0.0381 - val_loss: 0.0840\n",
      "Epoch 12/100\n",
      "8708/8708 [==============================] - 9s - loss: 0.0372 - val_loss: 0.0855\n",
      "Epoch 13/100\n",
      "8708/8708 [==============================] - 7s - loss: 0.0365 - val_loss: 0.0825\n",
      "Epoch 14/100\n",
      "8708/8708 [==============================] - 7s - loss: 0.0355 - val_loss: 0.0856\n",
      "Epoch 15/100\n",
      "8708/8708 [==============================] - 8s - loss: 0.0347 - val_loss: 0.0783\n",
      "Epoch 16/100\n",
      "8708/8708 [==============================] - 7s - loss: 0.0335 - val_loss: 0.0793\n",
      "Epoch 17/100\n",
      "8708/8708 [==============================] - 8s - loss: 0.0321 - val_loss: 0.0776\n",
      "Epoch 18/100\n",
      "8708/8708 [==============================] - 7s - loss: 0.0304 - val_loss: 0.0704\n",
      "Epoch 19/100\n",
      "8708/8708 [==============================] - 7s - loss: 0.0285 - val_loss: 0.0723\n",
      "Epoch 20/100\n",
      "8708/8708 [==============================] - 7s - loss: 0.0262 - val_loss: 0.0657\n",
      "Epoch 21/100\n",
      "8708/8708 [==============================] - 7s - loss: 0.0240 - val_loss: 0.0577\n",
      "Epoch 22/100\n",
      "8708/8708 [==============================] - 7s - loss: 0.0219 - val_loss: 0.0554\n",
      "Epoch 23/100\n",
      "8708/8708 [==============================] - 7s - loss: 0.0199 - val_loss: 0.0575\n",
      "Epoch 24/100\n",
      "8708/8708 [==============================] - 7s - loss: 0.0181 - val_loss: 0.0470\n",
      "Epoch 25/100\n",
      "8708/8708 [==============================] - 9s - loss: 0.0163 - val_loss: 0.0441\n",
      "Epoch 26/100\n",
      "8708/8708 [==============================] - 11s - loss: 0.0149 - val_loss: 0.0434\n",
      "Epoch 27/100\n",
      "8708/8708 [==============================] - 12s - loss: 0.0138 - val_loss: 0.0415\n",
      "Epoch 28/100\n",
      "8708/8708 [==============================] - 11s - loss: 0.0127 - val_loss: 0.0405\n",
      "Epoch 29/100\n",
      "8708/8708 [==============================] - 11s - loss: 0.0118 - val_loss: 0.0358\n",
      "Epoch 30/100\n",
      "8708/8708 [==============================] - 11s - loss: 0.0109 - val_loss: 0.0326\n",
      "Epoch 31/100\n",
      "8708/8708 [==============================] - 13s - loss: 0.0099 - val_loss: 0.0298\n",
      "Epoch 32/100\n",
      "8708/8708 [==============================] - 11s - loss: 0.0091 - val_loss: 0.0280\n",
      "Epoch 33/100\n",
      "8708/8708 [==============================] - 11s - loss: 0.0083 - val_loss: 0.0257\n",
      "Epoch 34/100\n",
      "8708/8708 [==============================] - 11s - loss: 0.0077 - val_loss: 0.0245\n",
      "Epoch 35/100\n",
      "8708/8708 [==============================] - 10s - loss: 0.0073 - val_loss: 0.0240\n",
      "Epoch 36/100\n",
      "8708/8708 [==============================] - 11s - loss: 0.0069 - val_loss: 0.0239\n",
      "Epoch 37/100\n",
      "8708/8708 [==============================] - 10s - loss: 0.0064 - val_loss: 0.0331\n",
      "Epoch 38/100\n",
      "8708/8708 [==============================] - 11s - loss: 0.0064 - val_loss: 0.0233\n",
      "Epoch 39/100\n",
      "8708/8708 [==============================] - 13s - loss: 0.0061 - val_loss: 0.0253\n",
      "Epoch 40/100\n",
      "8708/8708 [==============================] - 12s - loss: 0.0060 - val_loss: 0.0216\n",
      "Epoch 41/100\n",
      "8708/8708 [==============================] - 12s - loss: 0.0058 - val_loss: 0.0209\n",
      "Epoch 42/100\n",
      "8708/8708 [==============================] - 10s - loss: 0.0058 - val_loss: 0.0227\n",
      "Epoch 43/100\n",
      "8708/8708 [==============================] - 9s - loss: 0.0055 - val_loss: 0.0270\n",
      "Epoch 44/100\n",
      "8708/8708 [==============================] - 10s - loss: 0.0055 - val_loss: 0.0215\n",
      "Epoch 45/100\n",
      "8708/8708 [==============================] - 11s - loss: 0.0055 - val_loss: 0.0185\n",
      "Epoch 46/100\n",
      "8708/8708 [==============================] - 8s - loss: 0.0053 - val_loss: 0.0229\n",
      "Epoch 47/100\n",
      "8708/8708 [==============================] - 9s - loss: 0.0052 - val_loss: 0.0222\n",
      "Epoch 48/100\n",
      "8708/8708 [==============================] - 9s - loss: 0.0052 - val_loss: 0.0326\n",
      "Epoch 49/100\n",
      "8708/8708 [==============================] - 7s - loss: 0.0051 - val_loss: 0.0211\n",
      "Epoch 50/100\n",
      "8708/8708 [==============================] - 7s - loss: 0.0050 - val_loss: 0.0191\n",
      "Epoch 51/100\n",
      "8708/8708 [==============================] - 7s - loss: 0.0050 - val_loss: 0.0287\n",
      "Epoch 52/100\n",
      "8708/8708 [==============================] - 7s - loss: 0.0049 - val_loss: 0.0202\n",
      "Epoch 53/100\n",
      "8708/8708 [==============================] - 8s - loss: 0.0048 - val_loss: 0.0203\n",
      "Epoch 54/100\n",
      "8708/8708 [==============================] - 9s - loss: 0.0049 - val_loss: 0.0190\n",
      "Epoch 55/100\n",
      "8708/8708 [==============================] - 9s - loss: 0.0047 - val_loss: 0.0210\n",
      "Epoch 56/100\n",
      "8708/8708 [==============================] - 7s - loss: 0.0047 - val_loss: 0.0239\n",
      "Epoch 57/100\n",
      "8708/8708 [==============================] - 9s - loss: 0.0046 - val_loss: 0.0201\n",
      "Epoch 58/100\n",
      "8708/8708 [==============================] - 8s - loss: 0.0046 - val_loss: 0.0231\n",
      "Epoch 59/100\n",
      "8708/8708 [==============================] - 7s - loss: 0.0046 - val_loss: 0.0171\n",
      "Epoch 60/100\n",
      "8708/8708 [==============================] - 7s - loss: 0.0045 - val_loss: 0.0202\n",
      "Epoch 61/100\n",
      "8708/8708 [==============================] - 7s - loss: 0.0045 - val_loss: 0.0199\n",
      "Epoch 62/100\n",
      "8708/8708 [==============================] - 10s - loss: 0.0044 - val_loss: 0.0204\n",
      "Epoch 63/100\n",
      "8708/8708 [==============================] - 8s - loss: 0.0044 - val_loss: 0.0247\n",
      "Epoch 64/100\n",
      "8708/8708 [==============================] - 9s - loss: 0.0043 - val_loss: 0.0182\n",
      "Epoch 65/100\n",
      "8708/8708 [==============================] - 9s - loss: 0.0043 - val_loss: 0.0182\n",
      "Epoch 66/100\n",
      "8708/8708 [==============================] - 8s - loss: 0.0043 - val_loss: 0.0227\n",
      "Epoch 67/100\n",
      "8708/8708 [==============================] - 8s - loss: 0.0043 - val_loss: 0.0225\n",
      "Epoch 68/100\n",
      "8708/8708 [==============================] - 8s - loss: 0.0042 - val_loss: 0.0244\n",
      "Epoch 69/100\n",
      "8708/8708 [==============================] - 9s - loss: 0.0042 - val_loss: 0.0191\n",
      "Epoch 70/100\n",
      "8708/8708 [==============================] - 8s - loss: 0.0041 - val_loss: 0.0221\n",
      "Epoch 71/100\n",
      "8708/8708 [==============================] - 8s - loss: 0.0041 - val_loss: 0.0197\n",
      "Epoch 72/100\n",
      "8708/8708 [==============================] - 8s - loss: 0.0041 - val_loss: 0.0191\n",
      "Epoch 73/100\n",
      "8708/8708 [==============================] - 7s - loss: 0.0040 - val_loss: 0.0227\n",
      "Epoch 74/100\n",
      "8708/8708 [==============================] - 9s - loss: 0.0040 - val_loss: 0.0194\n",
      "Epoch 75/100\n",
      "8708/8708 [==============================] - 8s - loss: 0.0040 - val_loss: 0.0185\n",
      "Epoch 76/100\n",
      "8708/8708 [==============================] - 9s - loss: 0.0040 - val_loss: 0.0204\n",
      "Epoch 77/100\n",
      "8708/8708 [==============================] - 8s - loss: 0.0040 - val_loss: 0.0220\n",
      "Epoch 78/100\n",
      "8708/8708 [==============================] - 7s - loss: 0.0040 - val_loss: 0.0222\n",
      "Epoch 79/100\n",
      "8708/8708 [==============================] - 8s - loss: 0.0039 - val_loss: 0.0188\n",
      "Epoch 80/100\n",
      "8708/8708 [==============================] - 8s - loss: 0.0039 - val_loss: 0.0205\n",
      "Epoch 81/100\n",
      "8708/8708 [==============================] - 9s - loss: 0.0039 - val_loss: 0.0200\n",
      "Epoch 82/100\n",
      "8708/8708 [==============================] - 8s - loss: 0.0038 - val_loss: 0.0216\n",
      "Epoch 83/100\n",
      "8708/8708 [==============================] - 8s - loss: 0.0038 - val_loss: 0.0220\n",
      "Epoch 84/100\n",
      "8708/8708 [==============================] - 7s - loss: 0.0038 - val_loss: 0.0176\n",
      "Epoch 85/100\n",
      "8708/8708 [==============================] - 8s - loss: 0.0037 - val_loss: 0.0235\n",
      "Epoch 86/100\n",
      "8708/8708 [==============================] - 10s - loss: 0.0038 - val_loss: 0.0214\n",
      "Epoch 87/100\n",
      "8708/8708 [==============================] - 9s - loss: 0.0037 - val_loss: 0.0196\n",
      "Epoch 88/100\n",
      "8708/8708 [==============================] - 8s - loss: 0.0037 - val_loss: 0.0186\n",
      "Epoch 89/100\n",
      "8708/8708 [==============================] - 8s - loss: 0.0037 - val_loss: 0.0235\n",
      "Epoch 90/100\n",
      "8708/8708 [==============================] - 8s - loss: 0.0037 - val_loss: 0.0214\n",
      "Epoch 91/100\n",
      "8708/8708 [==============================] - 8s - loss: 0.0036 - val_loss: 0.0200\n",
      "Epoch 92/100\n",
      "8708/8708 [==============================] - 8s - loss: 0.0037 - val_loss: 0.0211\n",
      "Epoch 93/100\n",
      "8708/8708 [==============================] - 9s - loss: 0.0036 - val_loss: 0.0186\n",
      "Epoch 94/100\n",
      "8708/8708 [==============================] - 8s - loss: 0.0036 - val_loss: 0.0213\n",
      "Epoch 95/100\n",
      "8708/8708 [==============================] - 8s - loss: 0.0035 - val_loss: 0.0191\n",
      "Epoch 96/100\n",
      "8708/8708 [==============================] - 7s - loss: 0.0036 - val_loss: 0.0204\n",
      "Epoch 97/100\n",
      "8708/8708 [==============================] - 7s - loss: 0.0036 - val_loss: 0.0184\n",
      "Epoch 98/100\n",
      "8708/8708 [==============================] - 8s - loss: 0.0035 - val_loss: 0.0192\n",
      "Epoch 99/100\n",
      "8708/8708 [==============================] - 9s - loss: 0.0035 - val_loss: 0.0247\n",
      "Epoch 100/100\n",
      "8708/8708 [==============================] - 9s - loss: 0.0035 - val_loss: 0.0194\n"
     ]
    },
    {
     "name": "stderr",
     "output_type": "stream",
     "text": [
      "/usr/local/bin/anaconda/lib/python2.7/site-packages/sklearn/preprocessing/data.py:160: UserWarning: Numerical issues were encountered when centering the data and might not be solved. Dataset may contain too large values. You may need to prescale your features.\n",
      "  warnings.warn(\"Numerical issues were encountered \"\n",
      "/usr/local/bin/anaconda/lib/python2.7/site-packages/sklearn/preprocessing/data.py:177: UserWarning: Numerical issues were encountered when scaling the data and might not be solved. The standard deviation of the data is probably very close to 0. \n",
      "  warnings.warn(\"Numerical issues were encountered \"\n"
     ]
    }
   ],
   "source": [
    "pre1 = preprocess_nn(df_train_train,df_test_train)\n",
    "m1 = learn_nn(pre1[0],pre1[1],pre1[2],pre1[3])"
   ]
  },
  {
   "cell_type": "code",
   "execution_count": 28,
   "metadata": {
    "collapsed": false
   },
   "outputs": [
    {
     "data": {
      "text/plain": [
       "[<matplotlib.lines.Line2D at 0x119d2c0d0>]"
      ]
     },
     "execution_count": 28,
     "metadata": {},
     "output_type": "execute_result"
    },
    {
     "data": {
      "image/png": "[encoded data removed]",
      "text/plain": [
       "<matplotlib.figure.Figure at 0x119b48fd0>"
      ]
     },
     "metadata": {},
     "output_type": "display_data"
    }
   ],
   "source": [
    "plt.plot(scaler.inverse_transform(m1.predict(preshape_nn(pre1[2]))))"
   ]
  },
  {
   "cell_type": "code",
   "execution_count": 29,
   "metadata": {
    "collapsed": false
   },
   "outputs": [
    {
     "data": {
      "text/plain": [
       "[<matplotlib.lines.Line2D at 0x119ed2790>]"
      ]
     },
     "execution_count": 29,
     "metadata": {},
     "output_type": "execute_result"
    },
    {
     "data": {
      "image/png": "[encoded data removed]",
      "text/plain": [
       "<matplotlib.figure.Figure at 0x119bac050>"
      ]
     },
     "metadata": {},
     "output_type": "display_data"
    }
   ],
   "source": [
    "plt.plot(scaler.inverse_transform(m1.predict(preshape_nn(pre1[2]))),scaler.inverse_transform(pre1[3]),'.')"
   ]
  },
  {
   "cell_type": "code",
   "execution_count": 33,
   "metadata": {
    "collapsed": false
   },
   "outputs": [],
   "source": [
    "df_test['month'] = pd.DatetimeIndex(df_test.datetime).month\n",
    "df_test['day'] = pd.DatetimeIndex(df_test.datetime).dayofweek\n",
    "df_test['hour'] = pd.DatetimeIndex(df_test.datetime).hour\n",
    "df_test['year'] = pd.DatetimeIndex(df_test.datetime).year\n",
    "df_test_test = df_test.drop(['datetime'], axis = 1)\n",
    "#df_test_test = df_test_test.drop(['season','workingday','weather','holiday'], axis = 1)\n",
    "df_test_t = preprocessing.scale(df_test_test.values)\n",
    "df_test_r = preshape_nn(df_test_t)\n",
    "pred = m1.predict(df_test_r)\n",
    "out = scaler.inverse_transform(pred).astype(int)\n",
    "out[out<0] = 0\n",
    "out = out[:,0]\n",
    "pred = pd.DataFrame({'datetime': df_test['datetime'],'count': out})\n",
    "pred = pred[['datetime','count']]\n",
    "pred.to_csv(\"pred.csv\", index = False)"
   ]
  },
  {
   "cell_type": "code",
   "execution_count": 32,
   "metadata": {
    "collapsed": false
   },
   "outputs": [
    {
     "data": {
      "text/plain": [
       "array([[-1.0078789 ],\n",
       "       [-1.01546395],\n",
       "       [-1.02477872],\n",
       "       ..., \n",
       "       [-0.70951605],\n",
       "       [-0.81182176],\n",
       "       [-0.90357906]], dtype=float32)"
      ]
     },
     "execution_count": 32,
     "metadata": {},
     "output_type": "execute_result"
    }
   ],
   "source": [
    "pred"
   ]
  },
  {
   "cell_type": "code",
   "execution_count": null,
   "metadata": {
    "collapsed": false
   },
   "outputs": [],
   "source": [
    "trainPredict = model.predict(x_train)\n",
    "testPredict = model.predict(x_val)\n",
    "train_y_r_e = np.exp(train_y)\n",
    "trainPredict = np.exp(scaler.inverse_transform(trainPredict))\n",
    "test_y_r_e = np.exp(test_y)\n",
    "testPredict = np.exp(scaler.inverse_transform(testPredict))"
   ]
  },
  {
   "cell_type": "code",
   "execution_count": null,
   "metadata": {
    "collapsed": false
   },
   "outputs": [],
   "source": [
    "trainScore = math.sqrt(mean_squared_error(train_y_r_e, trainPredict[:,0]))\n",
    "print('Train Score: %.2f RMSE' % (trainScore))\n",
    "testScore = math.sqrt(mean_squared_error(test_y_r_e, testPredict[:,0]))\n",
    "print('Test Score: %.2f RMSE' % (testScore))"
   ]
  },
  {
   "cell_type": "code",
   "execution_count": null,
   "metadata": {
    "collapsed": false
   },
   "outputs": [],
   "source": [
    "print scipy.stats.pearsonr(train_y_r_e,trainPredict[:,0])[0]\n",
    "plt.plot(train_y_r_e,trainPredict,'.')"
   ]
  },
  {
   "cell_type": "code",
   "execution_count": null,
   "metadata": {
    "collapsed": false
   },
   "outputs": [],
   "source": [
    "plt.plot(train_y_r_e-trainPredict[:,0])"
   ]
  },
  {
   "cell_type": "code",
   "execution_count": null,
   "metadata": {
    "collapsed": false
   },
   "outputs": [],
   "source": [
    "print scipy.stats.pearsonr(test_y_r_e,testPredict[:,0])[0]\n",
    "plt.plot(test_y_r_e,testPredict,'.')"
   ]
  },
  {
   "cell_type": "code",
   "execution_count": null,
   "metadata": {
    "collapsed": false
   },
   "outputs": [],
   "source": [
    "df_test['month'] = pd.DatetimeIndex(df_test.datetime).month\n",
    "df_test['day'] = pd.DatetimeIndex(df_test.datetime).dayofweek\n",
    "df_test['hour'] = pd.DatetimeIndex(df_test.datetime).hour\n",
    "df_test['year'] = pd.DatetimeIndex(df_test.datetime).year\n",
    "df_test_test = df_test.drop(['datetime'], axis = 1)\n",
    "#df_test_test = df_test_test.drop(['season','workingday','weather','holiday'], axis = 1)\n",
    "df_test_t = preprocessing.scale(df_test_test.values)\n",
    "df_test_r = numpy.reshape(df_test_t, (df_test_t.shape[0], timesteps , df_test_t.shape[1]))\n",
    "pred = model.predict(df_test_r)"
   ]
  },
  {
   "cell_type": "code",
   "execution_count": null,
   "metadata": {
    "collapsed": false
   },
   "outputs": [],
   "source": [
    "out = np.exp(scaler.inverse_transform(pred)).astype(int)\n",
    "out[out<0] = 0\n",
    "out = out[:,0]"
   ]
  },
  {
   "cell_type": "code",
   "execution_count": null,
   "metadata": {
    "collapsed": false
   },
   "outputs": [],
   "source": [
    "pred = pd.DataFrame({'datetime': df_test['datetime'],'count': out})\n",
    "pred = pred[['datetime','count']]"
   ]
  },
  {
   "cell_type": "code",
   "execution_count": null,
   "metadata": {
    "collapsed": false
   },
   "outputs": [],
   "source": [
    "pred.to_csv(\"pred.csv\", index = False)"
   ]
  },
  {
   "cell_type": "code",
   "execution_count": null,
   "metadata": {
    "collapsed": false
   },
   "outputs": [],
   "source": [
    "predicted = pd.read_csv('pred.csv')"
   ]
  },
  {
   "cell_type": "code",
   "execution_count": null,
   "metadata": {
    "collapsed": false
   },
   "outputs": [],
   "source": [
    "plt.plot(predicted['count'])"
   ]
  },
  {
   "cell_type": "code",
   "execution_count": null,
   "metadata": {
    "collapsed": true
   },
   "outputs": [],
   "source": [
    "plt.hist(predicted['count'])"
   ]
  },
  {
   "cell_type": "code",
   "execution_count": null,
   "metadata": {
    "collapsed": false
   },
   "outputs": [],
   "source": [
    "plt.plot(df_train['count'].values)"
   ]
  },
  {
   "cell_type": "code",
   "execution_count": null,
   "metadata": {
    "collapsed": false
   },
   "outputs": [],
   "source": [
    "plt.plot(predicted['count'][500:1000])"
   ]
  },
  {
   "cell_type": "code",
   "execution_count": null,
   "metadata": {
    "collapsed": false,
    "scrolled": true
   },
   "outputs": [],
   "source": [
    "a= []\n",
    "for i in range(10):\n",
    "    b = df_train['datetime'][i <= pd.DatetimeIndex(df_train['datetime']).dayofyear < 9*(i+1)].values\n",
    "    a.append(b)\n",
    "print a"
   ]
  },
  {
   "cell_type": "code",
   "execution_count": null,
   "metadata": {
    "collapsed": false,
    "scrolled": true
   },
   "outputs": [],
   "source": [
    "a[1]"
   ]
  },
  {
   "cell_type": "code",
   "execution_count": null,
   "metadata": {
    "collapsed": false,
    "scrolled": true
   },
   "outputs": [],
   "source": [
    "df_train['datetime'][0:24*10-7][25:24+24]"
   ]
  },
  {
   "cell_type": "code",
   "execution_count": null,
   "metadata": {
    "collapsed": false
   },
   "outputs": [],
   "source": [
    "x_train = np.random.random((1000, 8, 3))\n"
   ]
  },
  {
   "cell_type": "code",
   "execution_count": null,
   "metadata": {
    "collapsed": false
   },
   "outputs": [],
   "source": [
    "x_train[0]"
   ]
  },
  {
   "cell_type": "code",
   "execution_count": null,
   "metadata": {
    "collapsed": false,
    "scrolled": true
   },
   "outputs": [],
   "source": [
    "from keras.models import Sequential\n",
    "from keras.layers import LSTM, Dense\n",
    "import numpy as np\n",
    "\n",
    "data_dim = 16\n",
    "timesteps = 8\n",
    "nb_classes = 10\n",
    "\n",
    "# expected input data shape: (batch_size, timesteps, data_dim)\n",
    "model = Sequential()\n",
    "\n",
    "model.add(LSTM(100, return_sequences=True,\n",
    "               input_shape=(timesteps, data_dim) )) #W_regularizer=l2(0.01) \n",
    "model.add(LSTM(100, return_sequences=True)) #, W_regularizer=l2(0.01)\n",
    "model.add(LSTM(100))  \n",
    "model.add(Dense(1, activation='linear'))\n",
    "\n",
    "model.compile(loss='mean_squared_error',\n",
    "              optimizer='rmsprop')\n",
    "\n",
    "# generate dummy training data\n",
    "x_train = np.random.random((1000, timesteps, data_dim))\n",
    "y_train = 10*np.random.random((1000))\n",
    "\n",
    "# generate dummy validation data\n",
    "x_val = np.random.random((100, timesteps, data_dim))\n",
    "y_val = np.random.random((100))\n",
    "\n",
    "now = datetime.now()\n",
    "\n",
    "model.fit(x_train, y_train,\n",
    "          batch_size=64, nb_epoch=100,\n",
    "          validation_data=(x_val, y_val),\n",
    "          callbacks=[TensorBoard(log_dir='logs1/' + now.strftime(\"%Y%m%d-%H%M%S\") + \"/\")])"
   ]
  },
  {
   "cell_type": "code",
   "execution_count": null,
   "metadata": {
    "collapsed": true
   },
   "outputs": [],
   "source": []
  }
 ],
 "metadata": {
  "kernelspec": {
   "display_name": "Python 2",
   "language": "python",
   "name": "python2"
  },
  "language_info": {
   "codemirror_mode": {
    "name": "ipython",
    "version": 2
   },
   "file_extension": ".py",
   "mimetype": "text/x-python",
   "name": "python",
   "nbconvert_exporter": "python",
   "pygments_lexer": "ipython2",
   "version": "2.7.10"
  }
 },
 "nbformat": 4,
 "nbformat_minor": 0
}
