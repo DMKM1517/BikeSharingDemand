{
 "cells": [
  {
   "cell_type": "code",
   "execution_count": 1,
   "metadata": {
    "collapsed": true
   },
   "outputs": [],
   "source": [
    "%matplotlib inline"
   ]
  },
  {
   "cell_type": "code",
   "execution_count": 2,
   "metadata": {
    "collapsed": false
   },
   "outputs": [
    {
     "name": "stderr",
     "output_type": "stream",
     "text": [
      "Using TensorFlow backend.\n"
     ]
    }
   ],
   "source": [
    "import numpy as np\n",
    "import numpy\n",
    "import matplotlib.pyplot as plt\n",
    "import pandas as pd\n",
    "import math\n",
    "import keras\n",
    "from keras.models import Sequential\n",
    "from keras.layers import Dense, Activation, TimeDistributed\n",
    "from keras.layers import LSTM, SimpleRNN\n",
    "from sklearn.preprocessing import MinMaxScaler\n",
    "from sklearn.metrics import mean_squared_error\n",
    "import scipy as scipy\n",
    "from keras.callbacks import TensorBoard\n",
    "from keras.regularizers import l1, activity_l1\n",
    "from keras.regularizers import l2, activity_l2\n",
    "from sklearn import preprocessing  \n",
    "from datetime import datetime\n"
   ]
  },
  {
   "cell_type": "code",
   "execution_count": 3,
   "metadata": {
    "collapsed": false
   },
   "outputs": [],
   "source": [
    "numpy.random.seed(7)"
   ]
  },
  {
   "cell_type": "code",
   "execution_count": 4,
   "metadata": {
    "collapsed": false
   },
   "outputs": [],
   "source": [
    "df_train = pd.read_csv(\"../train.csv\")\n",
    "df_test = pd.read_csv(\"../test.csv\")"
   ]
  },
  {
   "cell_type": "code",
   "execution_count": 5,
   "metadata": {
    "collapsed": false
   },
   "outputs": [],
   "source": [
    "df_train['month'] = pd.DatetimeIndex(df_train.datetime).month\n",
    "df_train['day'] = pd.DatetimeIndex(df_train.datetime).dayofweek\n",
    "df_train['hour'] = pd.DatetimeIndex(df_train.datetime).hour\n",
    "df_train['year'] = pd.DatetimeIndex(df_train.datetime).year"
   ]
  },
  {
   "cell_type": "code",
   "execution_count": 6,
   "metadata": {
    "collapsed": false
   },
   "outputs": [],
   "source": [
    "df_train_train = df_train.drop(['datetime','casual','registered','count'], axis = 1)\n",
    "df_train_train = df_train_train.drop(['season','workingday','weather','holiday'], axis = 1)\n",
    "df_test_train = df_train['count']"
   ]
  },
  {
   "cell_type": "code",
   "execution_count": 7,
   "metadata": {
    "collapsed": false
   },
   "outputs": [
    {
     "data": {
      "text/html": [
       "<div>\n",
       "<table border=\"1\" class=\"dataframe\">\n",
       "  <thead>\n",
       "    <tr style=\"text-align: right;\">\n",
       "      <th></th>\n",
       "      <th>temp</th>\n",
       "      <th>atemp</th>\n",
       "      <th>humidity</th>\n",
       "      <th>windspeed</th>\n",
       "      <th>month</th>\n",
       "      <th>day</th>\n",
       "      <th>hour</th>\n",
       "      <th>year</th>\n",
       "    </tr>\n",
       "  </thead>\n",
       "  <tbody>\n",
       "    <tr>\n",
       "      <th>0</th>\n",
       "      <td>9.84</td>\n",
       "      <td>14.395</td>\n",
       "      <td>81</td>\n",
       "      <td>0</td>\n",
       "      <td>1</td>\n",
       "      <td>5</td>\n",
       "      <td>0</td>\n",
       "      <td>2011</td>\n",
       "    </tr>\n",
       "    <tr>\n",
       "      <th>1</th>\n",
       "      <td>9.02</td>\n",
       "      <td>13.635</td>\n",
       "      <td>80</td>\n",
       "      <td>0</td>\n",
       "      <td>1</td>\n",
       "      <td>5</td>\n",
       "      <td>1</td>\n",
       "      <td>2011</td>\n",
       "    </tr>\n",
       "    <tr>\n",
       "      <th>2</th>\n",
       "      <td>9.02</td>\n",
       "      <td>13.635</td>\n",
       "      <td>80</td>\n",
       "      <td>0</td>\n",
       "      <td>1</td>\n",
       "      <td>5</td>\n",
       "      <td>2</td>\n",
       "      <td>2011</td>\n",
       "    </tr>\n",
       "    <tr>\n",
       "      <th>3</th>\n",
       "      <td>9.84</td>\n",
       "      <td>14.395</td>\n",
       "      <td>75</td>\n",
       "      <td>0</td>\n",
       "      <td>1</td>\n",
       "      <td>5</td>\n",
       "      <td>3</td>\n",
       "      <td>2011</td>\n",
       "    </tr>\n",
       "    <tr>\n",
       "      <th>4</th>\n",
       "      <td>9.84</td>\n",
       "      <td>14.395</td>\n",
       "      <td>75</td>\n",
       "      <td>0</td>\n",
       "      <td>1</td>\n",
       "      <td>5</td>\n",
       "      <td>4</td>\n",
       "      <td>2011</td>\n",
       "    </tr>\n",
       "  </tbody>\n",
       "</table>\n",
       "</div>"
      ],
      "text/plain": [
       "   temp   atemp  humidity  windspeed  month  day  hour  year\n",
       "0  9.84  14.395        81          0      1    5     0  2011\n",
       "1  9.02  13.635        80          0      1    5     1  2011\n",
       "2  9.02  13.635        80          0      1    5     2  2011\n",
       "3  9.84  14.395        75          0      1    5     3  2011\n",
       "4  9.84  14.395        75          0      1    5     4  2011"
      ]
     },
     "execution_count": 7,
     "metadata": {},
     "output_type": "execute_result"
    }
   ],
   "source": [
    "df_train_train.head()"
   ]
  },
  {
   "cell_type": "code",
   "execution_count": 8,
   "metadata": {
    "collapsed": true
   },
   "outputs": [],
   "source": [
    "n = len(df_train_train)\n",
    "train_x = df_train_train[0:int(n*.8)].astype('float32')\n",
    "train_y = df_test_train[0:int(n*.8)].astype('float32')\n",
    "test_x = df_train_train[int(n*.8)+1:n].astype('float32')\n",
    "test_y = df_test_train[int(n*.8)+1:n].astype('float32')"
   ]
  },
  {
   "cell_type": "code",
   "execution_count": 9,
   "metadata": {
    "collapsed": false
   },
   "outputs": [],
   "source": [
    "scaler = MinMaxScaler(feature_range=(-1, 1))"
   ]
  },
  {
   "cell_type": "code",
   "execution_count": 10,
   "metadata": {
    "collapsed": false
   },
   "outputs": [],
   "source": [
    "train_x_r = scaler.fit_transform(train_x.values)\n",
    "#for elem in (train_x,trainY,test_x,testY):\n",
    "#    for col in range(len(elem.values[0])):\n",
    "#        print elem.values[col]\n",
    "#        elem.values[:,col] = scaler.fit_transform(elem.values[:,col])\n",
    "#trainY = scaler.fit_transform(train_y.values)\n",
    "test_x_r = scaler.fit_transform(test_x.values)\n",
    "#testY = scaler.fit_transform(test_y.values)"
   ]
  },
  {
   "cell_type": "code",
   "execution_count": 11,
   "metadata": {
    "collapsed": false
   },
   "outputs": [],
   "source": [
    "#simplernn = keras.layers.recurrent.SimpleRNN(64, init='glorot_uniform', inner_init='orthogonal', activation='sigmoid', W_regularizer=None, U_regularizer=None, b_regularizer=None, dropout_W=0.0, dropout_U=0.0)"
   ]
  },
  {
   "cell_type": "code",
   "execution_count": 12,
   "metadata": {
    "collapsed": false
   },
   "outputs": [],
   "source": [
    "#trainX = numpy.reshape(train_x_r, (train_x_r.shape[0], 1, train_x_r.shape[1]))\n",
    "#testX = numpy.reshape(test_x_r, (test_x_r.shape[0], 1, test_x_r.shape[1]))"
   ]
  },
  {
   "cell_type": "code",
   "execution_count": 13,
   "metadata": {
    "collapsed": false,
    "scrolled": false
   },
   "outputs": [],
   "source": [
    "#model = Sequential()\n",
    "#model.add(Dense(1, input_shape=(8,)))\n",
    "#model.add(SimpleRNN(64, input_shape=(8,)))\n",
    "#model.add(Dense(8))\n",
    "#model.add(Activation('relu'))\n",
    "\n",
    "# create model\n",
    "#model = Sequential()\n",
    "#model.add(Dense(13, input_dim=8, init='normal', activation='relu'))\n",
    "#model.add(Dense(1, init='normal'))\n",
    "# Compile model\n",
    "#model.compile(loss='mean_squared_error', optimizer='adam')\n",
    "\n",
    "#model = Sequential()\n",
    "#model.add(Dense(1, input_shape=(8,) ))\n",
    "#model.add(Activation('relu'))\n",
    "#model.add(LSTM(2, input_shape=(1, 8)))\n",
    "\n",
    "\n",
    "#model.compile(loss='mean_squared_error', optimizer='adam')\n",
    "#model.fit(trainX, trainY, nb_epoch=10, batch_size=32,verbose=1)\n"
   ]
  },
  {
   "cell_type": "code",
   "execution_count": 14,
   "metadata": {
    "collapsed": false,
    "scrolled": true
   },
   "outputs": [
    {
     "name": "stdout",
     "output_type": "stream",
     "text": [
      "Train on 8708 samples, validate on 2177 samples\n",
      "Epoch 1/100\n",
      "8708/8708 [==============================] - 55s - loss: 0.0991 - val_loss: 0.1674\n",
      "Epoch 2/100\n",
      "8708/8708 [==============================] - 43s - loss: 0.0682 - val_loss: 0.1781\n",
      "Epoch 3/100\n",
      "8708/8708 [==============================] - 51s - loss: 0.0599 - val_loss: 0.1606\n",
      "Epoch 4/100\n",
      "8708/8708 [==============================] - 42s - loss: 0.0563 - val_loss: 0.1696\n",
      "Epoch 5/100\n",
      "8708/8708 [==============================] - 42s - loss: 0.0547 - val_loss: 0.1377\n",
      "Epoch 6/100\n",
      "8708/8708 [==============================] - 46s - loss: 0.0531 - val_loss: 0.1513\n",
      "Epoch 7/100\n",
      "8708/8708 [==============================] - 44s - loss: 0.0511 - val_loss: 0.1502\n",
      "Epoch 8/100\n",
      "8708/8708 [==============================] - 43s - loss: 0.0485 - val_loss: 0.1359\n",
      "Epoch 9/100\n",
      "8708/8708 [==============================] - 49s - loss: 0.0424 - val_loss: 0.1334\n",
      "Epoch 10/100\n",
      "8708/8708 [==============================] - 42s - loss: 0.0339 - val_loss: 0.1323\n",
      "Epoch 11/100\n",
      "8708/8708 [==============================] - 49s - loss: 0.0277 - val_loss: 0.1183\n",
      "Epoch 12/100\n",
      "8708/8708 [==============================] - 42s - loss: 0.0233 - val_loss: 0.0932\n",
      "Epoch 13/100\n",
      "8708/8708 [==============================] - 43s - loss: 0.0199 - val_loss: 0.1365\n",
      "Epoch 14/100\n",
      "8708/8708 [==============================] - 46s - loss: 0.0174 - val_loss: 0.1040\n",
      "Epoch 15/100\n",
      "8708/8708 [==============================] - 43s - loss: 0.0152 - val_loss: 0.1056\n",
      "Epoch 16/100\n",
      "8708/8708 [==============================] - 43s - loss: 0.0136 - val_loss: 0.0966\n",
      "Epoch 17/100\n",
      "8708/8708 [==============================] - 41s - loss: 0.0130 - val_loss: 0.1066\n",
      "Epoch 18/100\n",
      "8708/8708 [==============================] - 46s - loss: 0.0123 - val_loss: 0.0995\n",
      "Epoch 19/100\n",
      "8708/8708 [==============================] - 44s - loss: 0.0120 - val_loss: 0.0967\n",
      "Epoch 20/100\n",
      "8708/8708 [==============================] - 46s - loss: 0.0115 - val_loss: 0.1042\n",
      "Epoch 21/100\n",
      "8708/8708 [==============================] - 48s - loss: 0.0113 - val_loss: 0.1317\n",
      "Epoch 22/100\n",
      "8708/8708 [==============================] - 45s - loss: 0.0110 - val_loss: 0.0829\n",
      "Epoch 23/100\n",
      "8708/8708 [==============================] - 44s - loss: 0.0108 - val_loss: 0.1269\n",
      "Epoch 24/100\n",
      "8708/8708 [==============================] - 43s - loss: 0.0107 - val_loss: 0.0980\n",
      "Epoch 25/100\n",
      "8708/8708 [==============================] - 40s - loss: 0.0104 - val_loss: 0.0891\n",
      "Epoch 26/100\n",
      "8708/8708 [==============================] - 44s - loss: 0.0102 - val_loss: 0.0799\n",
      "Epoch 27/100\n",
      "8708/8708 [==============================] - 40s - loss: 0.0102 - val_loss: 0.0886\n",
      "Epoch 28/100\n",
      "8708/8708 [==============================] - 43s - loss: 0.0101 - val_loss: 0.0988\n",
      "Epoch 29/100\n",
      "8708/8708 [==============================] - 48s - loss: 0.0101 - val_loss: 0.0751\n",
      "Epoch 30/100\n",
      "8708/8708 [==============================] - 43s - loss: 0.0099 - val_loss: 0.0963\n",
      "Epoch 31/100\n",
      "8708/8708 [==============================] - 41s - loss: 0.0098 - val_loss: 0.1018\n",
      "Epoch 32/100\n",
      "8708/8708 [==============================] - 48s - loss: 0.0097 - val_loss: 0.1040\n",
      "Epoch 33/100\n",
      "8708/8708 [==============================] - 45s - loss: 0.0095 - val_loss: 0.0985\n",
      "Epoch 34/100\n",
      "8708/8708 [==============================] - 50s - loss: 0.0094 - val_loss: 0.0978\n",
      "Epoch 35/100\n",
      "8708/8708 [==============================] - 46s - loss: 0.0093 - val_loss: 0.1015\n",
      "Epoch 36/100\n",
      "8708/8708 [==============================] - 43s - loss: 0.0095 - val_loss: 0.1038\n",
      "Epoch 37/100\n",
      "8708/8708 [==============================] - 46s - loss: 0.0093 - val_loss: 0.1135\n",
      "Epoch 38/100\n",
      "8708/8708 [==============================] - 46s - loss: 0.0091 - val_loss: 0.1012\n",
      "Epoch 39/100\n",
      "8708/8708 [==============================] - 40s - loss: 0.0090 - val_loss: 0.0995\n",
      "Epoch 40/100\n",
      "8708/8708 [==============================] - 46s - loss: 0.0088 - val_loss: 0.0866\n",
      "Epoch 41/100\n",
      "8708/8708 [==============================] - 48s - loss: 0.0090 - val_loss: 0.0990\n",
      "Epoch 42/100\n",
      "8708/8708 [==============================] - 47s - loss: 0.0089 - val_loss: 0.0945\n",
      "Epoch 43/100\n",
      "8708/8708 [==============================] - 47s - loss: 0.0087 - val_loss: 0.0984\n",
      "Epoch 44/100\n",
      "8708/8708 [==============================] - 50s - loss: 0.0086 - val_loss: 0.0796\n",
      "Epoch 45/100\n",
      "8708/8708 [==============================] - 42s - loss: 0.0086 - val_loss: 0.1002\n",
      "Epoch 46/100\n",
      "8708/8708 [==============================] - 48s - loss: 0.0086 - val_loss: 0.1062\n",
      "Epoch 47/100\n",
      "8708/8708 [==============================] - 46s - loss: 0.0085 - val_loss: 0.1020\n",
      "Epoch 48/100\n",
      "8708/8708 [==============================] - 45s - loss: 0.0084 - val_loss: 0.1064\n",
      "Epoch 49/100\n",
      "8708/8708 [==============================] - 45s - loss: 0.0085 - val_loss: 0.1008\n",
      "Epoch 50/100\n",
      "8708/8708 [==============================] - 43s - loss: 0.0083 - val_loss: 0.1037\n",
      "Epoch 51/100\n",
      "8708/8708 [==============================] - 44s - loss: 0.0082 - val_loss: 0.0992\n",
      "Epoch 52/100\n",
      "8708/8708 [==============================] - 46s - loss: 0.0081 - val_loss: 0.1011\n",
      "Epoch 53/100\n",
      "8708/8708 [==============================] - 44s - loss: 0.0081 - val_loss: 0.1062\n",
      "Epoch 54/100\n",
      "8708/8708 [==============================] - 43s - loss: 0.0080 - val_loss: 0.1147\n",
      "Epoch 55/100\n",
      "8708/8708 [==============================] - 49s - loss: 0.0080 - val_loss: 0.1091\n",
      "Epoch 56/100\n",
      "8708/8708 [==============================] - 43s - loss: 0.0079 - val_loss: 0.1020\n",
      "Epoch 57/100\n",
      "8708/8708 [==============================] - 46s - loss: 0.0079 - val_loss: 0.0883\n",
      "Epoch 58/100\n",
      "8708/8708 [==============================] - 52s - loss: 0.0079 - val_loss: 0.0978\n",
      "Epoch 59/100\n",
      "8708/8708 [==============================] - 44s - loss: 0.0079 - val_loss: 0.0880\n",
      "Epoch 60/100\n",
      "8708/8708 [==============================] - 46s - loss: 0.0078 - val_loss: 0.0867\n",
      "Epoch 61/100\n",
      "8708/8708 [==============================] - 46s - loss: 0.0077 - val_loss: 0.0931\n",
      "Epoch 62/100\n",
      "8708/8708 [==============================] - 46s - loss: 0.0076 - val_loss: 0.0998\n",
      "Epoch 63/100\n",
      "8708/8708 [==============================] - 48s - loss: 0.0076 - val_loss: 0.0961\n",
      "Epoch 64/100\n",
      "8708/8708 [==============================] - 46s - loss: 0.0075 - val_loss: 0.0982\n",
      "Epoch 65/100\n",
      "8708/8708 [==============================] - 42s - loss: 0.0076 - val_loss: 0.0986\n",
      "Epoch 66/100\n",
      "8708/8708 [==============================] - 50s - loss: 0.0075 - val_loss: 0.0955\n",
      "Epoch 67/100\n",
      "8708/8708 [==============================] - 49s - loss: 0.0073 - val_loss: 0.0801\n",
      "Epoch 68/100\n",
      "8708/8708 [==============================] - 45s - loss: 0.0074 - val_loss: 0.0926\n",
      "Epoch 69/100\n",
      "8708/8708 [==============================] - 49s - loss: 0.0073 - val_loss: 0.0973\n",
      "Epoch 70/100\n",
      "8708/8708 [==============================] - 51s - loss: 0.0073 - val_loss: 0.0938\n",
      "Epoch 71/100\n",
      "8708/8708 [==============================] - 44s - loss: 0.0071 - val_loss: 0.0921\n",
      "Epoch 72/100\n",
      "8708/8708 [==============================] - 42s - loss: 0.0072 - val_loss: 0.0899\n",
      "Epoch 73/100\n",
      "8708/8708 [==============================] - 45s - loss: 0.0073 - val_loss: 0.0919\n",
      "Epoch 74/100\n",
      "8708/8708 [==============================] - 51s - loss: 0.0070 - val_loss: 0.0907\n",
      "Epoch 75/100\n",
      "8708/8708 [==============================] - 49s - loss: 0.0071 - val_loss: 0.1036\n",
      "Epoch 76/100\n",
      "8708/8708 [==============================] - 48s - loss: 0.0070 - val_loss: 0.0958\n",
      "Epoch 77/100\n",
      "8708/8708 [==============================] - 43s - loss: 0.0070 - val_loss: 0.1115\n",
      "Epoch 78/100\n",
      "8708/8708 [==============================] - 44s - loss: 0.0069 - val_loss: 0.1040\n",
      "Epoch 79/100\n",
      "8708/8708 [==============================] - 46s - loss: 0.0069 - val_loss: 0.1022\n",
      "Epoch 80/100\n",
      "8708/8708 [==============================] - 46s - loss: 0.0067 - val_loss: 0.1065\n",
      "Epoch 81/100\n",
      "8708/8708 [==============================] - 46s - loss: 0.0069 - val_loss: 0.1009\n",
      "Epoch 82/100\n",
      "8708/8708 [==============================] - 44s - loss: 0.0066 - val_loss: 0.0897\n",
      "Epoch 83/100\n",
      "8708/8708 [==============================] - 44s - loss: 0.0067 - val_loss: 0.1016\n",
      "Epoch 84/100\n",
      "8708/8708 [==============================] - 42s - loss: 0.0067 - val_loss: 0.1024\n",
      "Epoch 85/100\n",
      "8708/8708 [==============================] - 56s - loss: 0.0066 - val_loss: 0.1056\n",
      "Epoch 86/100\n",
      "8708/8708 [==============================] - 54s - loss: 0.0066 - val_loss: 0.1005\n",
      "Epoch 87/100\n",
      "8708/8708 [==============================] - 45s - loss: 0.0065 - val_loss: 0.0996\n",
      "Epoch 88/100\n",
      "8708/8708 [==============================] - 43s - loss: 0.0065 - val_loss: 0.0993\n",
      "Epoch 89/100\n",
      "8708/8708 [==============================] - 47s - loss: 0.0065 - val_loss: 0.1063\n",
      "Epoch 90/100\n",
      "8708/8708 [==============================] - 45s - loss: 0.0064 - val_loss: 0.1079\n",
      "Epoch 91/100\n",
      "8708/8708 [==============================] - 53s - loss: 0.0064 - val_loss: 0.1243\n",
      "Epoch 92/100\n",
      "8708/8708 [==============================] - 49s - loss: 0.0063 - val_loss: 0.0995\n",
      "Epoch 93/100\n",
      "8708/8708 [==============================] - 43s - loss: 0.0063 - val_loss: 0.1011\n",
      "Epoch 94/100\n",
      "8708/8708 [==============================] - 46s - loss: 0.0062 - val_loss: 0.0954\n",
      "Epoch 95/100\n",
      "8708/8708 [==============================] - 44s - loss: 0.0063 - val_loss: 0.0981\n",
      "Epoch 96/100\n",
      "8708/8708 [==============================] - 44s - loss: 0.0062 - val_loss: 0.1059\n",
      "Epoch 97/100\n",
      "8708/8708 [==============================] - 46s - loss: 0.0061 - val_loss: 0.1105\n",
      "Epoch 98/100\n",
      "8708/8708 [==============================] - 43s - loss: 0.0061 - val_loss: 0.1048\n",
      "Epoch 99/100\n",
      "8708/8708 [==============================] - 47s - loss: 0.0061 - val_loss: 0.0956\n",
      "Epoch 100/100\n",
      "8708/8708 [==============================] - 50s - loss: 0.0061 - val_loss: 0.1028\n"
     ]
    },
    {
     "name": "stderr",
     "output_type": "stream",
     "text": [
      "/usr/local/bin/anaconda/lib/python2.7/site-packages/sklearn/preprocessing/data.py:321: DeprecationWarning: Passing 1d arrays as data is deprecated in 0.17 and will raise ValueError in 0.19. Reshape your data either using X.reshape(-1, 1) if your data has a single feature or X.reshape(1, -1) if it contains a single sample.\n",
      "  warnings.warn(DEPRECATION_MSG_1D, DeprecationWarning)\n",
      "/usr/local/bin/anaconda/lib/python2.7/site-packages/sklearn/preprocessing/data.py:356: DeprecationWarning: Passing 1d arrays as data is deprecated in 0.17 and will raise ValueError in 0.19. Reshape your data either using X.reshape(-1, 1) if your data has a single feature or X.reshape(1, -1) if it contains a single sample.\n",
      "  warnings.warn(DEPRECATION_MSG_1D, DeprecationWarning)\n",
      "/usr/local/bin/anaconda/lib/python2.7/site-packages/sklearn/preprocessing/data.py:321: DeprecationWarning: Passing 1d arrays as data is deprecated in 0.17 and will raise ValueError in 0.19. Reshape your data either using X.reshape(-1, 1) if your data has a single feature or X.reshape(1, -1) if it contains a single sample.\n",
      "  warnings.warn(DEPRECATION_MSG_1D, DeprecationWarning)\n",
      "/usr/local/bin/anaconda/lib/python2.7/site-packages/sklearn/preprocessing/data.py:356: DeprecationWarning: Passing 1d arrays as data is deprecated in 0.17 and will raise ValueError in 0.19. Reshape your data either using X.reshape(-1, 1) if your data has a single feature or X.reshape(1, -1) if it contains a single sample.\n",
      "  warnings.warn(DEPRECATION_MSG_1D, DeprecationWarning)\n"
     ]
    },
    {
     "data": {
      "text/plain": [
       "<keras.callbacks.History at 0x11443ad90>"
      ]
     },
     "execution_count": 14,
     "metadata": {},
     "output_type": "execute_result"
    }
   ],
   "source": [
    "from keras.models import Sequential\n",
    "from keras.layers import LSTM, Dense\n",
    "import numpy as np\n",
    "\n",
    "data_dim = len(train_x_r[0])\n",
    "timesteps = 1\n",
    "\n",
    "# expected input data shape: (batch_size, timesteps, data_dim)\n",
    "model = Sequential()\n",
    "#model.add(Dense(100))\n",
    "model.add(LSTM(100, return_sequences=True,\n",
    "               input_shape=(timesteps, data_dim) )) #W_regularizer=l2(0.01) \n",
    "model.add(LSTM(100, return_sequences=True)) #, W_regularizer=l2(0.01)\n",
    "model.add(LSTM(10))  \n",
    "model.add(Dense(1, activation='linear'))\n",
    "\n",
    "model.compile(loss='mean_squared_error',\n",
    "              optimizer='rmsprop')\n",
    "\n",
    "# generate dummy training data\n",
    "def resizetimestep(dataset,timestepsize):\n",
    "    return dataset[0:int(len(dataset/timestepsize))]\n",
    "\n",
    "train_x_r = resizetimestep(train_x_r,timesteps)\n",
    "test_x_r =  resizetimestep(test_x_r,timesteps)\n",
    "\n",
    "x_train = numpy.reshape(train_x_r, (train_x_r.shape[0]/timesteps, timesteps, train_x_r.shape[1]))\n",
    "y_train = scaler.fit_transform(train_y.values)\n",
    "\n",
    "\n",
    "x_val = numpy.reshape(test_x_r, (test_x_r.shape[0]/timesteps, timesteps, test_x_r.shape[1]))\n",
    "y_val = scaler.fit_transform(test_y.values)\n",
    "# generate dummy validation data\n",
    "\n",
    "now = datetime.now()\n",
    "\n",
    "model.fit(x_train, y_train,\n",
    "          batch_size=20, nb_epoch=100,\n",
    "          validation_data=(x_val, y_val),callbacks=[TensorBoard(log_dir='logs/' + now.strftime(\"%Y%m%d-%H%M%S\") + \"/\")])"
   ]
  },
  {
   "cell_type": "code",
   "execution_count": 15,
   "metadata": {
    "collapsed": false
   },
   "outputs": [
    {
     "name": "stderr",
     "output_type": "stream",
     "text": [
      "/usr/local/bin/anaconda/lib/python2.7/site-packages/sklearn/preprocessing/data.py:374: DeprecationWarning: Passing 1d arrays as data is deprecated in 0.17 and will raise ValueError in 0.19. Reshape your data either using X.reshape(-1, 1) if your data has a single feature or X.reshape(1, -1) if it contains a single sample.\n",
      "  warnings.warn(DEPRECATION_MSG_1D, DeprecationWarning)\n"
     ]
    }
   ],
   "source": [
    "trainPredict = model.predict(x_train)\n",
    "testPredict = model.predict(x_val)\n",
    "trainPredict = scaler.inverse_transform(trainPredict)\n",
    "train_y_r_e = scaler.inverse_transform(y_train)\n",
    "testPredict = scaler.inverse_transform(testPredict)\n",
    "test_y_r_e = y_val#scaler.inverse_transform([y_val])"
   ]
  },
  {
   "cell_type": "code",
   "execution_count": 16,
   "metadata": {
    "collapsed": false,
    "scrolled": true
   },
   "outputs": [
    {
     "data": {
      "text/plain": [
       "[<matplotlib.lines.Line2D at 0x11a176d10>]"
      ]
     },
     "execution_count": 16,
     "metadata": {},
     "output_type": "execute_result"
    },
    {
     "data": {
      "image/png": "[encoded data removed]",
      "text/plain": [
       "<matplotlib.figure.Figure at 0x1118ee910>"
      ]
     },
     "metadata": {},
     "output_type": "display_data"
    }
   ],
   "source": [
    "plt.plot(testPredict)"
   ]
  },
  {
   "cell_type": "code",
   "execution_count": 17,
   "metadata": {
    "collapsed": false
   },
   "outputs": [
    {
     "name": "stdout",
     "output_type": "stream",
     "text": [
      "Train Score: 36.78 RMSE\n",
      "Test Score: 201.24 RMSE\n"
     ]
    }
   ],
   "source": [
    "trainScore = math.sqrt(mean_squared_error(train_y_r_e, trainPredict[:,0]))\n",
    "print('Train Score: %.2f RMSE' % (trainScore))\n",
    "testScore = math.sqrt(mean_squared_error(test_y_r_e, testPredict[:,0]))\n",
    "print('Test Score: %.2f RMSE' % (testScore))"
   ]
  },
  {
   "cell_type": "code",
   "execution_count": 18,
   "metadata": {
    "collapsed": false
   },
   "outputs": [
    {
     "name": "stdout",
     "output_type": "stream",
     "text": [
      "0.98012\n"
     ]
    },
    {
     "data": {
      "text/plain": [
       "[<matplotlib.lines.Line2D at 0x1196b2890>]"
      ]
     },
     "execution_count": 18,
     "metadata": {},
     "output_type": "execute_result"
    },
    {
     "data": {
      "image/png": "[encoded data removed]",
      "text/plain": [
       "<matplotlib.figure.Figure at 0x114092110>"
      ]
     },
     "metadata": {},
     "output_type": "display_data"
    }
   ],
   "source": [
    "print scipy.stats.pearsonr(train_y_r_e,trainPredict[:,0])[0]\n",
    "plt.plot(train_y_r_e,trainPredict,'.')"
   ]
  },
  {
   "cell_type": "code",
   "execution_count": 19,
   "metadata": {
    "collapsed": false
   },
   "outputs": [
    {
     "data": {
      "text/plain": [
       "[<matplotlib.lines.Line2D at 0x119af4910>]"
      ]
     },
     "execution_count": 19,
     "metadata": {},
     "output_type": "execute_result"
    },
    {
     "data": {
      "image/png": "[encoded data removed]",
      "text/plain": [
       "<matplotlib.figure.Figure at 0x1197ebed0>"
      ]
     },
     "metadata": {},
     "output_type": "display_data"
    }
   ],
   "source": [
    "plt.plot(train_y_r_e-trainPredict[:,0])"
   ]
  },
  {
   "cell_type": "code",
   "execution_count": 20,
   "metadata": {
    "collapsed": false
   },
   "outputs": [
    {
     "data": {
      "text/plain": [
       "array([-510.17501831, -510.17501831, -509.07839966, ..., -500.42730713,\n",
       "       -500.42730713, -500.42730713], dtype=float32)"
      ]
     },
     "execution_count": 20,
     "metadata": {},
     "output_type": "execute_result"
    }
   ],
   "source": [
    "a=train_y_r_e-trainPredict\n",
    "a[a<-500]"
   ]
  },
  {
   "cell_type": "code",
   "execution_count": 21,
   "metadata": {
    "collapsed": false
   },
   "outputs": [
    {
     "name": "stdout",
     "output_type": "stream",
     "text": [
      "0.908973\n"
     ]
    },
    {
     "data": {
      "text/plain": [
       "[<matplotlib.lines.Line2D at 0x119f057d0>]"
      ]
     },
     "execution_count": 21,
     "metadata": {},
     "output_type": "execute_result"
    },
    {
     "data": {
      "image/png": "[encoded data removed]",
      "text/plain": [
       "<matplotlib.figure.Figure at 0x1197ebe10>"
      ]
     },
     "metadata": {},
     "output_type": "display_data"
    }
   ],
   "source": [
    "print scipy.stats.pearsonr(test_y_r_e,testPredict[:,0])[0]\n",
    "plt.plot(test_y_r_e,testPredict,'.')"
   ]
  },
  {
   "cell_type": "code",
   "execution_count": 22,
   "metadata": {
    "collapsed": false
   },
   "outputs": [],
   "source": [
    "df_test['month'] = pd.DatetimeIndex(df_test.datetime).month\n",
    "df_test['day'] = pd.DatetimeIndex(df_test.datetime).dayofweek\n",
    "df_test['hour'] = pd.DatetimeIndex(df_test.datetime).hour\n",
    "df_test['year'] = pd.DatetimeIndex(df_test.datetime).year\n",
    "df_test_test = df_test.drop(['datetime'], axis = 1)\n",
    "df_test_test = df_test_test.drop(['season','workingday','weather','holiday'], axis = 1)\n",
    "df_test_t = scaler.fit_transform(df_test_test.values)\n",
    "df_test_r = numpy.reshape(df_test_t, (df_test_t.shape[0], timesteps , df_test_t.shape[1]))\n",
    "pred = model.predict(df_test_r)"
   ]
  },
  {
   "cell_type": "code",
   "execution_count": 23,
   "metadata": {
    "collapsed": false
   },
   "outputs": [
    {
     "name": "stderr",
     "output_type": "stream",
     "text": [
      "/usr/local/bin/anaconda/lib/python2.7/site-packages/sklearn/preprocessing/data.py:321: DeprecationWarning: Passing 1d arrays as data is deprecated in 0.17 and will raise ValueError in 0.19. Reshape your data either using X.reshape(-1, 1) if your data has a single feature or X.reshape(1, -1) if it contains a single sample.\n",
      "  warnings.warn(DEPRECATION_MSG_1D, DeprecationWarning)\n",
      "/usr/local/bin/anaconda/lib/python2.7/site-packages/sklearn/preprocessing/data.py:356: DeprecationWarning: Passing 1d arrays as data is deprecated in 0.17 and will raise ValueError in 0.19. Reshape your data either using X.reshape(-1, 1) if your data has a single feature or X.reshape(1, -1) if it contains a single sample.\n",
      "  warnings.warn(DEPRECATION_MSG_1D, DeprecationWarning)\n"
     ]
    },
    {
     "data": {
      "text/plain": [
       "array([-0.9631148 , -0.86270493, -0.78073776, ..., -0.65778697,\n",
       "       -0.73770499, -0.82172132], dtype=float32)"
      ]
     },
     "execution_count": 23,
     "metadata": {},
     "output_type": "execute_result"
    }
   ],
   "source": [
    "scaler.fit_transform(test_y.values)"
   ]
  },
  {
   "cell_type": "code",
   "execution_count": 24,
   "metadata": {
    "collapsed": false
   },
   "outputs": [],
   "source": [
    "out = scaler.inverse_transform(pred).astype(int)\n",
    "out[out<0] = 0\n",
    "out = out[:,0]"
   ]
  },
  {
   "cell_type": "code",
   "execution_count": 25,
   "metadata": {
    "collapsed": false
   },
   "outputs": [],
   "source": [
    "pred = pd.DataFrame({'datetime': df_test['datetime'],'count': out})\n",
    "pred = pred[['datetime','count']]"
   ]
  },
  {
   "cell_type": "code",
   "execution_count": 26,
   "metadata": {
    "collapsed": false
   },
   "outputs": [],
   "source": [
    "pred.to_csv(\"pred.csv\", index = False)"
   ]
  },
  {
   "cell_type": "code",
   "execution_count": 27,
   "metadata": {
    "collapsed": false
   },
   "outputs": [],
   "source": [
    "predicted = pd.read_csv('pred.csv')"
   ]
  },
  {
   "cell_type": "code",
   "execution_count": 28,
   "metadata": {
    "collapsed": false
   },
   "outputs": [
    {
     "data": {
      "text/plain": [
       "[<matplotlib.lines.Line2D at 0x1157ff750>]"
      ]
     },
     "execution_count": 28,
     "metadata": {},
     "output_type": "execute_result"
    },
    {
     "data": {
      "image/png": "[encoded data removed]",
      "text/plain": [
       "<matplotlib.figure.Figure at 0x119bc4690>"
      ]
     },
     "metadata": {},
     "output_type": "display_data"
    }
   ],
   "source": [
    "plt.plot(predicted['count'])"
   ]
  },
  {
   "cell_type": "code",
   "execution_count": 29,
   "metadata": {
    "collapsed": false
   },
   "outputs": [
    {
     "data": {
      "text/plain": [
       "[<matplotlib.lines.Line2D at 0x10f3b9590>]"
      ]
     },
     "execution_count": 29,
     "metadata": {},
     "output_type": "execute_result"
    },
    {
     "data": {
      "image/png": "[encoded data removed]",
      "text/plain": [
       "<matplotlib.figure.Figure at 0x119bfb7d0>"
      ]
     },
     "metadata": {},
     "output_type": "display_data"
    }
   ],
   "source": [
    "plt.plot(df_train['count'].values)"
   ]
  },
  {
   "cell_type": "code",
   "execution_count": 30,
   "metadata": {
    "collapsed": false
   },
   "outputs": [
    {
     "data": {
      "text/plain": [
       "[<matplotlib.lines.Line2D at 0x115e6ad50>]"
      ]
     },
     "execution_count": 30,
     "metadata": {},
     "output_type": "execute_result"
    },
    {
     "data": {
      "image/png": "[encoded data removed]",
      "text/plain": [
       "<matplotlib.figure.Figure at 0x115ede550>"
      ]
     },
     "metadata": {},
     "output_type": "display_data"
    }
   ],
   "source": [
    "plt.plot(predicted['count'][500:1000])"
   ]
  },
  {
   "cell_type": "code",
   "execution_count": null,
   "metadata": {
    "collapsed": true
   },
   "outputs": [],
   "source": []
  }
 ],
 "metadata": {
  "kernelspec": {
   "display_name": "Python 2",
   "language": "python",
   "name": "python2"
  },
  "language_info": {
   "codemirror_mode": {
    "name": "ipython",
    "version": 2
   },
   "file_extension": ".py",
   "mimetype": "text/x-python",
   "name": "python",
   "nbconvert_exporter": "python",
   "pygments_lexer": "ipython2",
   "version": "2.7.10"
  }
 },
 "nbformat": 4,
 "nbformat_minor": 0
}
