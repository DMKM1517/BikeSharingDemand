{
 "cells": [
  {
   "cell_type": "code",
   "execution_count": null,
   "metadata": {
    "collapsed": false
   },
   "outputs": [],
   "source": [
    "%matplotlib inline"
   ]
  },
  {
   "cell_type": "markdown",
   "metadata": {},
   "source": [
    "\nGaussian HMM of stock data\n--------------------------\n\nThis script shows how to use Gaussian HMM on stock price data from\nYahoo! finance. For more information on how to visualize stock prices\nwith matplotlib, please refer to ``date_demo1.py`` of matplotlib.\n"
   ]
  },
  {
   "cell_type": "code",
   "execution_count": null,
   "metadata": {
    "collapsed": false
   },
   "outputs": [],
   "source": [
    "from __future__ import print_function\n\nimport datetime\n\nimport numpy as np\nfrom matplotlib import cm, pyplot as plt\nfrom matplotlib.dates import YearLocator, MonthLocator\ntry:\n    from matplotlib.finance import quotes_historical_yahoo_ochl\nexcept ImportError:\n    # For Matplotlib prior to 1.5.\n    from matplotlib.finance import (\n        quotes_historical_yahoo as quotes_historical_yahoo_ochl\n    )\n\nfrom hmmlearn.hmm import GaussianHMM\n\n\nprint(__doc__)"
   ]
  },
  {
   "cell_type": "markdown",
   "metadata": {},
   "source": [
    "Get quotes from Yahoo! finance\n"
   ]
  },
  {
   "cell_type": "code",
   "execution_count": null,
   "metadata": {
    "collapsed": false
   },
   "outputs": [],
   "source": [
    "quotes = quotes_historical_yahoo_ochl(\n    \"INTC\", datetime.date(1995, 1, 1), datetime.date(2012, 1, 6))\n\n# Unpack quotes\ndates = np.array([q[0] for q in quotes], dtype=int)\nclose_v = np.array([q[2] for q in quotes])\nvolume = np.array([q[5] for q in quotes])[1:]\n\n# Take diff of close value. Note that this makes\n# ``len(diff) = len(close_t) - 1``, therefore, other quantities also\n# need to be shifted by 1.\ndiff = np.diff(close_v)\ndates = dates[1:]\nclose_v = close_v[1:]\n\n# Pack diff and volume for training.\nX = np.column_stack([diff, volume])"
   ]
  },
  {
   "cell_type": "markdown",
   "metadata": {},
   "source": [
    "Run Gaussian HMM\n"
   ]
  },
  {
   "cell_type": "code",
   "execution_count": null,
   "metadata": {
    "collapsed": false
   },
   "outputs": [],
   "source": [
    "print(\"fitting to HMM and decoding ...\", end=\"\")\n\n# Make an HMM instance and execute fit\nmodel = GaussianHMM(n_components=4, covariance_type=\"diag\", n_iter=1000).fit(X)\n\n# Predict the optimal sequence of internal hidden state\nhidden_states = model.predict(X)\n\nprint(\"done\")"
   ]
  },
  {
   "cell_type": "markdown",
   "metadata": {},
   "source": [
    "Print trained parameters and plot\n"
   ]
  },
  {
   "cell_type": "code",
   "execution_count": null,
   "metadata": {
    "collapsed": false
   },
   "outputs": [],
   "source": [
    "print(\"Transition matrix\")\nprint(model.transmat_)\nprint()\n\nprint(\"Means and vars of each hidden state\")\nfor i in range(model.n_components):\n    print(\"{0}th hidden state\".format(i))\n    print(\"mean = \", model.means_[i])\n    print(\"var = \", np.diag(model.covars_[i]))\n    print()\n\nfig, axs = plt.subplots(model.n_components, sharex=True, sharey=True)\ncolours = cm.rainbow(np.linspace(0, 1, model.n_components))\nfor i, (ax, colour) in enumerate(zip(axs, colours)):\n    # Use fancy indexing to plot data in each state.\n    mask = hidden_states == i\n    ax.plot_date(dates[mask], close_v[mask], \".-\", c=colour)\n    ax.set_title(\"{0}th hidden state\".format(i))\n\n    # Format the ticks.\n    ax.xaxis.set_major_locator(YearLocator())\n    ax.xaxis.set_minor_locator(MonthLocator())\n\n    ax.grid(True)\n\nplt.show()"
   ]
  }
 ],
 "metadata": {
  "kernelspec": {
   "display_name": "Python 2",
   "language": "python",
   "name": "python2"
  },
  "language_info": {
   "codemirror_mode": {
    "name": "ipython",
    "version": 2
   },
   "file_extension": ".py",
   "mimetype": "text/x-python",
   "name": "python",
   "nbconvert_exporter": "python",
   "pygments_lexer": "ipython2",
   "version": "2.7.6"
  }
 },
 "nbformat": 4,
 "nbformat_minor": 0
}
