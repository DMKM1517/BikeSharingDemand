{
 "cells": [
  {
   "cell_type": "code",
   "execution_count": 39,
   "metadata": {
    "collapsed": false
   },
   "outputs": [],
   "source": [
    "from sklearn.neural_network import MLPClassifier\n",
    "import pandas as pd\n",
    "import numpy as np\n",
    "import matplotlib.pyplot as plt\n",
    "%matplotlib inline"
   ]
  },
  {
   "cell_type": "code",
   "execution_count": 67,
   "metadata": {
    "collapsed": true
   },
   "outputs": [],
   "source": [
    "def rmsle(y_pred, y_actual):\n",
    "    diff = np.log(y_pred + 1) - np.log(y_actual + 1)\n",
    "    mean_error = np.square(diff).mean()\n",
    "    return np.sqrt(mean_error)"
   ]
  },
  {
   "cell_type": "code",
   "execution_count": 3,
   "metadata": {
    "collapsed": true
   },
   "outputs": [],
   "source": [
    "df_train = pd.read_csv(\"../train.csv\")\n",
    "df_test = pd.read_csv(\"../test.csv\")"
   ]
  },
  {
   "cell_type": "code",
   "execution_count": 4,
   "metadata": {
    "collapsed": false
   },
   "outputs": [],
   "source": [
    "df_train['month'] = pd.DatetimeIndex(df_train.datetime).month\n",
    "df_train['day'] = pd.DatetimeIndex(df_train.datetime).dayofweek\n",
    "df_train['hour'] = pd.DatetimeIndex(df_train.datetime).hour\n",
    "#df_train['dayofm'] = pd.DatetimeIndex(df_train.datetime).day\n",
    "df_train = df_train.drop(['datetime','casual','registered'],axis=1)"
   ]
  },
  {
   "cell_type": "code",
   "execution_count": 5,
   "metadata": {
    "collapsed": true
   },
   "outputs": [],
   "source": [
    "df_train_train = df_train.drop(['count','holiday','workingday','weather','season'],axis = 1)\n",
    "df_train_target = df_train['count']"
   ]
  },
  {
   "cell_type": "code",
   "execution_count": 14,
   "metadata": {
    "collapsed": false
   },
   "outputs": [],
   "source": [
    "df_train_train_1 = df_train_train[0:8000]\n",
    "df_train_train_2 = df_train_train[8000+1:len(df_train_train)]\n",
    "df_train_target_1 = df_train_target[0:8000]\n",
    "df_train_target_2 = df_train_target[8000+1:len(df_train_target)]"
   ]
  },
  {
   "cell_type": "code",
   "execution_count": null,
   "metadata": {
    "collapsed": false
   },
   "outputs": [
    {
     "name": "stdout",
     "output_type": "stream",
     "text": [
      "Iteration 1, loss = 6.47080492\n",
      "Iteration 2, loss = 6.04877289\n",
      "Iteration 3, loss = 5.79695794\n",
      "Iteration 4, loss = 5.70448937\n",
      "Iteration 5, loss = 5.60386742\n",
      "Iteration 6, loss = 5.51904760\n",
      "Iteration 7, loss = 5.45704456\n",
      "Iteration 8, loss = 5.39959237\n",
      "Iteration 9, loss = 5.37692729\n",
      "Iteration 10, loss = 5.35879158\n",
      "Iteration 11, loss = 5.33255583\n",
      "Iteration 12, loss = 5.31585781\n",
      "Iteration 13, loss = 5.30568420\n",
      "Iteration 14, loss = 5.28601459\n",
      "Iteration 15, loss = 5.28719208\n",
      "Iteration 16, loss = 5.26679418\n",
      "Iteration 17, loss = 5.25125854\n",
      "Iteration 18, loss = 5.24429103\n",
      "Iteration 19, loss = 5.23178674\n",
      "Iteration 20, loss = 5.21897266\n",
      "Iteration 21, loss = 5.21553395\n",
      "Iteration 22, loss = 5.19605343\n",
      "Iteration 23, loss = 5.19692410\n",
      "Iteration 24, loss = 5.19286654\n",
      "Iteration 25, loss = 5.17015967\n",
      "Iteration 26, loss = 5.16709011\n",
      "Iteration 27, loss = 5.15378149\n",
      "Iteration 28, loss = 5.17806139\n",
      "Iteration 29, loss = 5.13611905\n",
      "Iteration 30, loss = 5.15865302\n",
      "Iteration 31, loss = 5.14586961\n",
      "Iteration 32, loss = 5.12817011\n",
      "Iteration 33, loss = 5.12039401\n",
      "Iteration 34, loss = 5.11112304\n",
      "Iteration 35, loss = 5.09776093\n",
      "Iteration 36, loss = 5.09271528\n",
      "Iteration 37, loss = 5.09641015\n",
      "Iteration 38, loss = 5.07864268\n",
      "Iteration 39, loss = 5.10181852\n",
      "Iteration 40, loss = 5.06084147\n",
      "Iteration 41, loss = 5.05137222\n",
      "Iteration 42, loss = 5.03912672\n",
      "Iteration 43, loss = 5.01372487\n",
      "Iteration 44, loss = 5.02447372\n",
      "Iteration 45, loss = 5.01444806\n",
      "Iteration 46, loss = 5.00000200\n",
      "Iteration 47, loss = 4.98723179\n",
      "Iteration 48, loss = 4.99400752\n",
      "Iteration 49, loss = 4.99470824\n",
      "Iteration 50, loss = 4.96263500"
     ]
    }
   ],
   "source": [
    "import time\n",
    "time_start = time.clock()\n",
    "ann = MLPClassifier(hidden_layer_sizes=(100,100,100,100,90,80,70,60,50,40,30,20,10,),verbose=True,learning_rate='adaptive',warm_start=True,tol=1e-30,max_iter=1000).fit(df_train_train_1,df_train_target_1)\n",
    "time_elapsed = (time.clock() - time_start)"
   ]
  },
  {
   "cell_type": "code",
   "execution_count": null,
   "metadata": {
    "collapsed": false
   },
   "outputs": [],
   "source": [
    "time_elapsed"
   ]
  },
  {
   "cell_type": "code",
   "execution_count": null,
   "metadata": {
    "collapsed": false
   },
   "outputs": [],
   "source": [
    "ann.score(df_train_train_2,df_train_target_2)"
   ]
  },
  {
   "cell_type": "code",
   "execution_count": null,
   "metadata": {
    "collapsed": false
   },
   "outputs": [],
   "source": [
    "pred_test = ann.predict(df_train_train_2)\n",
    "pred = np.array(pred_test)\n",
    "target = np.array(df_train_target_2.values)"
   ]
  },
  {
   "cell_type": "code",
   "execution_count": null,
   "metadata": {
    "collapsed": false
   },
   "outputs": [],
   "source": [
    "rmsle(pred_test,target)"
   ]
  },
  {
   "cell_type": "code",
   "execution_count": null,
   "metadata": {
    "collapsed": false
   },
   "outputs": [],
   "source": [
    "plt.plot(pred_test,target,'.')"
   ]
  },
  {
   "cell_type": "code",
   "execution_count": null,
   "metadata": {
    "collapsed": true
   },
   "outputs": [],
   "source": []
  },
  {
   "cell_type": "code",
   "execution_count": 70,
   "metadata": {
    "collapsed": false
   },
   "outputs": [],
   "source": [
    "df_test_test = df_test.drop(['holiday','workingday','weather','season'],axis = 1)\n",
    "df_test_test['month'] = pd.DatetimeIndex(df_test_test.datetime).month\n",
    "df_test_test['day'] = pd.DatetimeIndex(df_test_test.datetime).dayofweek\n",
    "df_test_test['hour'] = pd.DatetimeIndex(df_test_test.datetime).hour\n",
    "df_test_test = df_test_test.drop(['datetime'],axis = 1)"
   ]
  },
  {
   "cell_type": "code",
   "execution_count": 71,
   "metadata": {
    "collapsed": false
   },
   "outputs": [],
   "source": [
    "out = ann.predict(df_test_test)"
   ]
  },
  {
   "cell_type": "code",
   "execution_count": 72,
   "metadata": {
    "collapsed": false
   },
   "outputs": [],
   "source": [
    "pred = pd.DataFrame({'datetime': df_test['datetime'],'count': out})\n",
    "pred = pred[['datetime','count']]"
   ]
  },
  {
   "cell_type": "code",
   "execution_count": 73,
   "metadata": {
    "collapsed": false
   },
   "outputs": [],
   "source": [
    "pred.to_csv(\"pred.csv\", index = False)"
   ]
  },
  {
   "cell_type": "code",
   "execution_count": null,
   "metadata": {
    "collapsed": true
   },
   "outputs": [],
   "source": []
  }
 ],
 "metadata": {
  "kernelspec": {
   "display_name": "Python 2",
   "language": "python",
   "name": "python2"
  },
  "language_info": {
   "codemirror_mode": {
    "name": "ipython",
    "version": 2
   },
   "file_extension": ".py",
   "mimetype": "text/x-python",
   "name": "python",
   "nbconvert_exporter": "python",
   "pygments_lexer": "ipython2",
   "version": "2.7.10"
  }
 },
 "nbformat": 4,
 "nbformat_minor": 0
}
