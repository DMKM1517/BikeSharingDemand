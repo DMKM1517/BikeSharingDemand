{
 "cells": [
  {
   "cell_type": "code",
   "execution_count": 1,
   "metadata": {
    "collapsed": true
   },
   "outputs": [],
   "source": [
    "%matplotlib inline"
   ]
  },
  {
   "cell_type": "code",
   "execution_count": 2,
   "metadata": {
    "collapsed": false
   },
   "outputs": [
    {
     "name": "stderr",
     "output_type": "stream",
     "text": [
      "Using TensorFlow backend.\n"
     ]
    }
   ],
   "source": [
    "import numpy as np\n",
    "import numpy\n",
    "import matplotlib.pyplot as plt\n",
    "import pandas as pd\n",
    "import math\n",
    "import keras\n",
    "from keras.models import Sequential\n",
    "from keras.layers import Dense, Activation, TimeDistributed\n",
    "from keras.layers import LSTM, SimpleRNN\n",
    "from sklearn.preprocessing import MinMaxScaler\n",
    "from sklearn.metrics import mean_squared_error\n",
    "import scipy as scipy\n",
    "from keras.callbacks import TensorBoard\n",
    "from keras.regularizers import l1, activity_l1\n",
    "from keras.regularizers import l2, activity_l2\n",
    "from sklearn import preprocessing  \n",
    "from datetime import datetime"
   ]
  },
  {
   "cell_type": "code",
   "execution_count": 3,
   "metadata": {
    "collapsed": false
   },
   "outputs": [],
   "source": [
    "numpy.random.seed(7)"
   ]
  },
  {
   "cell_type": "code",
   "execution_count": 4,
   "metadata": {
    "collapsed": false
   },
   "outputs": [],
   "source": [
    "df_train = pd.read_csv(\"../train.csv\")\n",
    "df_test = pd.read_csv(\"../test.csv\")"
   ]
  },
  {
   "cell_type": "code",
   "execution_count": 5,
   "metadata": {
    "collapsed": false
   },
   "outputs": [],
   "source": [
    "df_train['month'] = pd.DatetimeIndex(df_train.datetime).month\n",
    "df_train['day'] = pd.DatetimeIndex(df_train.datetime).dayofweek\n",
    "df_train['hour'] = pd.DatetimeIndex(df_train.datetime).hour\n",
    "df_train['year'] = pd.DatetimeIndex(df_train.datetime).year"
   ]
  },
  {
   "cell_type": "code",
   "execution_count": 6,
   "metadata": {
    "collapsed": false
   },
   "outputs": [],
   "source": [
    "df_train_train = df_train.drop(['datetime','casual','registered','count'], axis = 1)\n",
    "#df_train_train = df_train_train.drop(['season','workingday','weather','holiday'], axis = 1)\n",
    "df_test_train = df_train['count']"
   ]
  },
  {
   "cell_type": "code",
   "execution_count": 7,
   "metadata": {
    "collapsed": false
   },
   "outputs": [
    {
     "data": {
      "text/html": [
       "<div>\n",
       "<table border=\"1\" class=\"dataframe\">\n",
       "  <thead>\n",
       "    <tr style=\"text-align: right;\">\n",
       "      <th></th>\n",
       "      <th>season</th>\n",
       "      <th>holiday</th>\n",
       "      <th>workingday</th>\n",
       "      <th>weather</th>\n",
       "      <th>temp</th>\n",
       "      <th>atemp</th>\n",
       "      <th>humidity</th>\n",
       "      <th>windspeed</th>\n",
       "      <th>month</th>\n",
       "      <th>day</th>\n",
       "      <th>hour</th>\n",
       "      <th>year</th>\n",
       "    </tr>\n",
       "  </thead>\n",
       "  <tbody>\n",
       "    <tr>\n",
       "      <th>0</th>\n",
       "      <td>1</td>\n",
       "      <td>0</td>\n",
       "      <td>0</td>\n",
       "      <td>1</td>\n",
       "      <td>9.84</td>\n",
       "      <td>14.395</td>\n",
       "      <td>81</td>\n",
       "      <td>0</td>\n",
       "      <td>1</td>\n",
       "      <td>5</td>\n",
       "      <td>0</td>\n",
       "      <td>2011</td>\n",
       "    </tr>\n",
       "    <tr>\n",
       "      <th>1</th>\n",
       "      <td>1</td>\n",
       "      <td>0</td>\n",
       "      <td>0</td>\n",
       "      <td>1</td>\n",
       "      <td>9.02</td>\n",
       "      <td>13.635</td>\n",
       "      <td>80</td>\n",
       "      <td>0</td>\n",
       "      <td>1</td>\n",
       "      <td>5</td>\n",
       "      <td>1</td>\n",
       "      <td>2011</td>\n",
       "    </tr>\n",
       "    <tr>\n",
       "      <th>2</th>\n",
       "      <td>1</td>\n",
       "      <td>0</td>\n",
       "      <td>0</td>\n",
       "      <td>1</td>\n",
       "      <td>9.02</td>\n",
       "      <td>13.635</td>\n",
       "      <td>80</td>\n",
       "      <td>0</td>\n",
       "      <td>1</td>\n",
       "      <td>5</td>\n",
       "      <td>2</td>\n",
       "      <td>2011</td>\n",
       "    </tr>\n",
       "    <tr>\n",
       "      <th>3</th>\n",
       "      <td>1</td>\n",
       "      <td>0</td>\n",
       "      <td>0</td>\n",
       "      <td>1</td>\n",
       "      <td>9.84</td>\n",
       "      <td>14.395</td>\n",
       "      <td>75</td>\n",
       "      <td>0</td>\n",
       "      <td>1</td>\n",
       "      <td>5</td>\n",
       "      <td>3</td>\n",
       "      <td>2011</td>\n",
       "    </tr>\n",
       "    <tr>\n",
       "      <th>4</th>\n",
       "      <td>1</td>\n",
       "      <td>0</td>\n",
       "      <td>0</td>\n",
       "      <td>1</td>\n",
       "      <td>9.84</td>\n",
       "      <td>14.395</td>\n",
       "      <td>75</td>\n",
       "      <td>0</td>\n",
       "      <td>1</td>\n",
       "      <td>5</td>\n",
       "      <td>4</td>\n",
       "      <td>2011</td>\n",
       "    </tr>\n",
       "  </tbody>\n",
       "</table>\n",
       "</div>"
      ],
      "text/plain": [
       "   season  holiday  workingday  weather  temp   atemp  humidity  windspeed  \\\n",
       "0       1        0           0        1  9.84  14.395        81          0   \n",
       "1       1        0           0        1  9.02  13.635        80          0   \n",
       "2       1        0           0        1  9.02  13.635        80          0   \n",
       "3       1        0           0        1  9.84  14.395        75          0   \n",
       "4       1        0           0        1  9.84  14.395        75          0   \n",
       "\n",
       "   month  day  hour  year  \n",
       "0      1    5     0  2011  \n",
       "1      1    5     1  2011  \n",
       "2      1    5     2  2011  \n",
       "3      1    5     3  2011  \n",
       "4      1    5     4  2011  "
      ]
     },
     "execution_count": 7,
     "metadata": {},
     "output_type": "execute_result"
    }
   ],
   "source": [
    "df_train_train.head()"
   ]
  },
  {
   "cell_type": "code",
   "execution_count": 35,
   "metadata": {
    "collapsed": false
   },
   "outputs": [],
   "source": [
    "scaler = MinMaxScaler(feature_range=(-1, 1))\n",
    "scaler.fit(df_test_train.values.astype('float32').reshape(-1,1))\n",
    "def preprocess_nn(datax,datay):\n",
    "    train_X_n = preprocessing.scale(datax.values.astype('float32'))\n",
    "    train_Y_n = scaler.transform(datay.values.astype('float32').reshape(-1,1))\n",
    "    n = len(train_X_n)\n",
    "    train_x = train_X_n[0:int(n*.8)].astype('float32')\n",
    "    train_y = train_Y_n[0:int(n*.8)].astype('float32')\n",
    "    test_x = train_X_n[int(n*.8)+1:n].astype('float32')\n",
    "    test_y = train_Y_n[int(n*.8)+1:n].astype('float32')\n",
    "    return train_x, train_y, test_x, test_y\n",
    "def learn_nn(train_x, train_y, test_x, test_y):\n",
    "    from keras.models import Sequential\n",
    "    from keras.layers import LSTM, Dense\n",
    "    import numpy as np\n",
    "\n",
    "    data_dim = len(train_x[0])\n",
    "    timesteps = 1\n",
    "\n",
    "    # expected input data shape: (batch_size, timesteps, data_dim)\n",
    "    model = Sequential()\n",
    "    #model.add(Dense(100))\n",
    "    model.add(LSTM(100, return_sequences=True,\n",
    "                   input_shape=(timesteps, data_dim) )) #W_regularizer=l2(0.01) \n",
    "    model.add(LSTM(100, return_sequences=True)) #, W_regularizer=l2(0.01)\n",
    "    model.add(LSTM(10))  \n",
    "    model.add(Dense(1, activation='linear'))\n",
    "\n",
    "    model.compile(loss='mean_squared_error',\n",
    "                  optimizer='rmsprop')\n",
    "\n",
    "\n",
    "    x_train = numpy.reshape(train_x, (train_x.shape[0]/timesteps, timesteps, train_x.shape[1]))\n",
    "    y_train = scaler.transform(train_y)\n",
    "\n",
    "\n",
    "    x_val = numpy.reshape(test_x, (test_x.shape[0]/timesteps, timesteps, test_x.shape[1]))\n",
    "    y_val = scaler.transform(test_y)\n",
    "    # generate dummy validation data\n",
    "\n",
    "    now = datetime.now()\n",
    "\n",
    "    model.fit(x_train, y_train,\n",
    "              batch_size=100, nb_epoch=100,\n",
    "              validation_data=(x_val, y_val),callbacks=[TensorBoard(log_dir='logs/' + now.strftime(\"%Y%m%d-%H%M%S\") + \"/\")])\n",
    "    return model"
   ]
  },
  {
   "cell_type": "code",
   "execution_count": 36,
   "metadata": {
    "collapsed": false,
    "scrolled": true
   },
   "outputs": [
    {
     "name": "stdout",
     "output_type": "stream",
     "text": [
      "Train on 8708 samples, validate on 2177 samples\n",
      "Epoch 1/100\n",
      "8708/8708 [==============================] - 17s - loss: 0.2441 - val_loss: 0.1141\n",
      "Epoch 2/100\n",
      "8708/8708 [==============================] - 8s - loss: 0.0022 - val_loss: 0.0176\n",
      "Epoch 3/100\n",
      "8708/8708 [==============================] - 8s - loss: 4.8591e-04 - val_loss: 0.0120\n",
      "Epoch 4/100\n",
      "8708/8708 [==============================] - 8s - loss: 2.3509e-04 - val_loss: 0.0078\n",
      "Epoch 5/100\n",
      "8708/8708 [==============================] - 7204s - loss: 1.7456e-04 - val_loss: 0.0080\n",
      "Epoch 6/100\n",
      "8708/8708 [==============================] - 10s - loss: 1.4974e-04 - val_loss: 0.0064\n",
      "Epoch 7/100\n",
      "8708/8708 [==============================] - 8s - loss: 1.3646e-04 - val_loss: 0.0044\n",
      "Epoch 8/100\n",
      "8708/8708 [==============================] - 7s - loss: 1.3364e-04 - val_loss: 0.0082\n",
      "Epoch 9/100\n",
      "8708/8708 [==============================] - 8s - loss: 1.3839e-04 - val_loss: 0.0072\n",
      "Epoch 10/100\n",
      "8708/8708 [==============================] - 7s - loss: 1.4863e-04 - val_loss: 0.0042\n",
      "Epoch 11/100\n",
      "8708/8708 [==============================] - 7s - loss: 1.6532e-04 - val_loss: 0.0040\n",
      "Epoch 12/100\n",
      "8708/8708 [==============================] - 7s - loss: 1.8998e-04 - val_loss: 0.0026\n",
      "Epoch 13/100\n",
      "8708/8708 [==============================] - 8s - loss: 2.1381e-04 - val_loss: 0.0019\n",
      "Epoch 14/100\n",
      "8708/8708 [==============================] - 7204s - loss: 2.4855e-04 - val_loss: 0.0016\n",
      "Epoch 15/100\n",
      "8708/8708 [==============================] - 8s - loss: 2.7573e-04 - val_loss: 0.0011\n",
      "Epoch 16/100\n",
      "8708/8708 [==============================] - 7s - loss: 3.0113e-04 - val_loss: 9.9366e-04\n",
      "Epoch 17/100\n",
      "8708/8708 [==============================] - 6s - loss: 3.2613e-04 - val_loss: 8.4935e-04\n",
      "Epoch 18/100\n",
      "8708/8708 [==============================] - 5s - loss: 3.5008e-04 - val_loss: 6.3124e-04\n",
      "Epoch 19/100\n",
      "8708/8708 [==============================] - 5s - loss: 3.7235e-04 - val_loss: 5.5213e-04\n",
      "Epoch 20/100\n",
      "8708/8708 [==============================] - 5s - loss: 4.0019e-04 - val_loss: 4.3082e-04\n",
      "Epoch 21/100\n",
      "8708/8708 [==============================] - 5s - loss: 4.2700e-04 - val_loss: 2.9106e-04\n",
      "Epoch 22/100\n",
      "8708/8708 [==============================] - 5s - loss: 4.1906e-04 - val_loss: 3.1042e-04\n",
      "Epoch 23/100\n",
      "8708/8708 [==============================] - 6s - loss: 4.1578e-04 - val_loss: 2.3843e-04\n",
      "Epoch 24/100\n",
      "8708/8708 [==============================] - 6s - loss: 4.1952e-04 - val_loss: 3.7578e-04\n",
      "Epoch 25/100\n",
      "8708/8708 [==============================] - 7203s - loss: 4.2192e-04 - val_loss: 2.6686e-04\n",
      "Epoch 26/100\n",
      "8708/8708 [==============================] - 8s - loss: 4.2091e-04 - val_loss: 3.3201e-04\n",
      "Epoch 27/100\n",
      "8708/8708 [==============================] - 7s - loss: 4.1811e-04 - val_loss: 3.1159e-04\n",
      "Epoch 28/100\n",
      "8708/8708 [==============================] - 7s - loss: 4.0921e-04 - val_loss: 3.0494e-04\n",
      "Epoch 29/100\n",
      "8708/8708 [==============================] - 7s - loss: 4.1121e-04 - val_loss: 3.5963e-04\n",
      "Epoch 30/100\n",
      "8708/8708 [==============================] - 6s - loss: 4.0672e-04 - val_loss: 3.8234e-04\n",
      "Epoch 31/100\n",
      "8708/8708 [==============================] - 7s - loss: 4.0854e-04 - val_loss: 3.0147e-04\n",
      "Epoch 32/100\n",
      "8708/8708 [==============================] - 7s - loss: 4.0934e-04 - val_loss: 3.2152e-04\n",
      "Epoch 33/100\n",
      "8708/8708 [==============================] - 7s - loss: 4.0597e-04 - val_loss: 3.5635e-04\n",
      "Epoch 34/100\n",
      "8708/8708 [==============================] - 7s - loss: 4.0486e-04 - val_loss: 3.0183e-04\n",
      "Epoch 35/100\n",
      "8708/8708 [==============================] - 7s - loss: 4.0149e-04 - val_loss: 3.5148e-04\n",
      "Epoch 36/100\n",
      "8708/8708 [==============================] - 251s - loss: 3.9355e-04 - val_loss: 2.7283e-04\n",
      "Epoch 37/100\n",
      "8708/8708 [==============================] - 10s - loss: 3.8929e-04 - val_loss: 2.8877e-04\n",
      "Epoch 38/100\n",
      "8708/8708 [==============================] - 11s - loss: 3.8399e-04 - val_loss: 2.4849e-04\n",
      "Epoch 39/100\n",
      "8708/8708 [==============================] - 8s - loss: 3.7927e-04 - val_loss: 3.9001e-04\n",
      "Epoch 40/100\n",
      "8708/8708 [==============================] - 8s - loss: 3.7707e-04 - val_loss: 4.2431e-04\n",
      "Epoch 41/100\n",
      "8708/8708 [==============================] - 8s - loss: 3.7097e-04 - val_loss: 4.0569e-04\n",
      "Epoch 42/100\n",
      "8708/8708 [==============================] - 7s - loss: 3.6543e-04 - val_loss: 3.7523e-04\n",
      "Epoch 43/100\n",
      "8708/8708 [==============================] - 8s - loss: 3.6069e-04 - val_loss: 3.8841e-04\n",
      "Epoch 44/100\n",
      "8708/8708 [==============================] - 12s - loss: 3.5313e-04 - val_loss: 3.2325e-04\n",
      "Epoch 45/100\n",
      "8708/8708 [==============================] - 7s - loss: 3.4328e-04 - val_loss: 3.7620e-04\n",
      "Epoch 46/100\n",
      "8708/8708 [==============================] - 8s - loss: 3.3178e-04 - val_loss: 2.8509e-04\n",
      "Epoch 47/100\n",
      "8708/8708 [==============================] - 8s - loss: 3.2402e-04 - val_loss: 3.0250e-04\n",
      "Epoch 48/100\n",
      "8708/8708 [==============================] - 8s - loss: 3.1163e-04 - val_loss: 2.0964e-04\n",
      "Epoch 49/100\n",
      "8708/8708 [==============================] - 7s - loss: 3.0970e-04 - val_loss: 2.3873e-04\n",
      "Epoch 50/100\n",
      "8708/8708 [==============================] - 7s - loss: 3.0358e-04 - val_loss: 2.4948e-04\n",
      "Epoch 51/100\n",
      "8708/8708 [==============================] - 7s - loss: 3.0280e-04 - val_loss: 1.9508e-04\n",
      "Epoch 52/100\n",
      "8708/8708 [==============================] - 7s - loss: 2.9947e-04 - val_loss: 2.2510e-04\n",
      "Epoch 53/100\n",
      "8708/8708 [==============================] - 7s - loss: 2.9833e-04 - val_loss: 1.4331e-04\n",
      "Epoch 54/100\n",
      "8708/8708 [==============================] - 7s - loss: 2.9284e-04 - val_loss: 1.9967e-04\n",
      "Epoch 55/100\n",
      "8708/8708 [==============================] - 7s - loss: 2.9014e-04 - val_loss: 1.7874e-04\n",
      "Epoch 56/100\n",
      "8708/8708 [==============================] - 6s - loss: 2.8493e-04 - val_loss: 1.4570e-04\n",
      "Epoch 57/100\n",
      "8708/8708 [==============================] - 7s - loss: 2.7997e-04 - val_loss: 1.4697e-04\n",
      "Epoch 58/100\n",
      "8708/8708 [==============================] - 6s - loss: 2.7533e-04 - val_loss: 1.6938e-04\n",
      "Epoch 59/100\n",
      "8708/8708 [==============================] - 6s - loss: 2.7086e-04 - val_loss: 1.3657e-04\n",
      "Epoch 60/100\n",
      "8708/8708 [==============================] - 7s - loss: 2.6616e-04 - val_loss: 1.3489e-04\n",
      "Epoch 61/100\n",
      "8708/8708 [==============================] - 7s - loss: 2.5958e-04 - val_loss: 1.5044e-04\n",
      "Epoch 62/100\n",
      "8708/8708 [==============================] - 7s - loss: 2.5221e-04 - val_loss: 1.4439e-04\n",
      "Epoch 63/100\n",
      "8708/8708 [==============================] - 7s - loss: 2.4741e-04 - val_loss: 1.3620e-04\n",
      "Epoch 64/100\n",
      "8708/8708 [==============================] - 7s - loss: 2.1277e-04 - val_loss: 9.6341e-05\n",
      "Epoch 65/100\n",
      "8708/8708 [==============================] - 7s - loss: 1.3478e-04 - val_loss: 1.1940e-04\n",
      "Epoch 66/100\n",
      "8708/8708 [==============================] - 7s - loss: 1.2695e-04 - val_loss: 8.8129e-05\n",
      "Epoch 67/100\n",
      "8708/8708 [==============================] - 7s - loss: 1.2189e-04 - val_loss: 9.9010e-05\n",
      "Epoch 68/100\n",
      "8708/8708 [==============================] - 7s - loss: 1.1376e-04 - val_loss: 9.6935e-05\n",
      "Epoch 69/100\n",
      "8708/8708 [==============================] - 7s - loss: 1.0637e-04 - val_loss: 1.0074e-04\n",
      "Epoch 70/100\n",
      "8708/8708 [==============================] - 7s - loss: 9.6685e-05 - val_loss: 6.5904e-05\n",
      "Epoch 71/100\n",
      "8708/8708 [==============================] - 7s - loss: 8.2159e-05 - val_loss: 5.1075e-05\n",
      "Epoch 72/100\n",
      "8708/8708 [==============================] - 7s - loss: 7.8275e-05 - val_loss: 5.4823e-05\n",
      "Epoch 73/100\n",
      "8708/8708 [==============================] - 7s - loss: 7.6734e-05 - val_loss: 5.6127e-05\n",
      "Epoch 74/100\n",
      "8708/8708 [==============================] - 7s - loss: 7.5041e-05 - val_loss: 6.4034e-05\n",
      "Epoch 75/100\n",
      "8708/8708 [==============================] - 7s - loss: 7.2878e-05 - val_loss: 3.8957e-05\n",
      "Epoch 76/100\n",
      "8708/8708 [==============================] - 7s - loss: 7.0517e-05 - val_loss: 5.0271e-05\n",
      "Epoch 77/100\n",
      "8708/8708 [==============================] - 8s - loss: 6.9581e-05 - val_loss: 3.7986e-05\n",
      "Epoch 78/100\n",
      "8708/8708 [==============================] - 7s - loss: 6.7076e-05 - val_loss: 5.6413e-05\n",
      "Epoch 79/100\n",
      "8708/8708 [==============================] - 7s - loss: 6.5104e-05 - val_loss: 4.8224e-05\n",
      "Epoch 80/100\n",
      "8708/8708 [==============================] - 7s - loss: 6.3152e-05 - val_loss: 3.3840e-05\n",
      "Epoch 81/100\n",
      "8708/8708 [==============================] - 9s - loss: 6.0664e-05 - val_loss: 3.5287e-05\n",
      "Epoch 82/100\n",
      "8708/8708 [==============================] - 8s - loss: 5.8165e-05 - val_loss: 3.1506e-05\n",
      "Epoch 83/100\n",
      "8708/8708 [==============================] - 8s - loss: 5.5633e-05 - val_loss: 2.8968e-05\n",
      "Epoch 84/100\n",
      "8708/8708 [==============================] - 8s - loss: 5.3320e-05 - val_loss: 3.5284e-05\n",
      "Epoch 85/100\n",
      "8708/8708 [==============================] - 8s - loss: 5.0712e-05 - val_loss: 2.9920e-05\n",
      "Epoch 86/100\n",
      "8708/8708 [==============================] - 8s - loss: 2.0819e-05 - val_loss: 1.6154e-05\n",
      "Epoch 87/100\n",
      "8708/8708 [==============================] - 8s - loss: 1.7443e-05 - val_loss: 1.6009e-05\n",
      "Epoch 88/100\n",
      "8708/8708 [==============================] - 8s - loss: 1.6346e-05 - val_loss: 2.0406e-05\n",
      "Epoch 89/100\n",
      "8708/8708 [==============================] - 8s - loss: 1.4866e-05 - val_loss: 1.4089e-05\n",
      "Epoch 90/100\n",
      "8708/8708 [==============================] - 8s - loss: 1.3067e-05 - val_loss: 1.6077e-05\n",
      "Epoch 91/100\n",
      "8708/8708 [==============================] - 7s - loss: 1.0124e-05 - val_loss: 2.4878e-05\n",
      "Epoch 92/100\n",
      "8708/8708 [==============================] - 8s - loss: 8.6957e-06 - val_loss: 3.2356e-05\n",
      "Epoch 93/100\n",
      "8708/8708 [==============================] - 7s - loss: 8.5232e-06 - val_loss: 3.2647e-05\n",
      "Epoch 94/100\n",
      "8708/8708 [==============================] - 8s - loss: 7.8266e-06 - val_loss: 3.0573e-05\n",
      "Epoch 95/100\n",
      "8708/8708 [==============================] - 9s - loss: 7.5029e-06 - val_loss: 3.2448e-05\n",
      "Epoch 96/100\n",
      "8708/8708 [==============================] - 8s - loss: 6.9391e-06 - val_loss: 3.4113e-05\n",
      "Epoch 97/100\n",
      "8708/8708 [==============================] - 8s - loss: 6.4856e-06 - val_loss: 3.6990e-05\n",
      "Epoch 98/100\n",
      "8708/8708 [==============================] - 8s - loss: 5.8089e-06 - val_loss: 3.3192e-05\n",
      "Epoch 99/100\n",
      "8708/8708 [==============================] - 8s - loss: 5.3168e-06 - val_loss: 3.4922e-05\n",
      "Epoch 100/100\n",
      "8708/8708 [==============================] - 7s - loss: 4.5701e-06 - val_loss: 3.8968e-05\n"
     ]
    }
   ],
   "source": [
    "pre1 = preprocess_nn(df_train_train,df_test_train)\n",
    "m1 = learn_nn(pre1[0],pre1[1],pre1[2],pre1[3])"
   ]
  },
  {
   "cell_type": "code",
   "execution_count": 37,
   "metadata": {
    "collapsed": false
   },
   "outputs": [
    {
     "name": "stdout",
     "output_type": "stream",
     "text": [
      "[[[-1.34986377 -0.17149052 -1.46067238 ...,  0.99079263 -1.66894364\n",
      "   -1.00386548]]\n",
      "\n",
      " [[-1.34986377 -0.17149052 -1.46067238 ...,  0.99079263 -1.52434134\n",
      "   -1.00386548]]\n",
      "\n",
      " [[-1.34986377 -0.17149052 -1.46067238 ...,  0.99079263 -1.37973905\n",
      "   -1.00386548]]\n",
      "\n",
      " ..., \n",
      " [[ 0.44205335 -0.17149052 -1.46067238 ...,  1.48967183 -1.37973905\n",
      "    0.99614954]]\n",
      "\n",
      " [[ 0.44205335 -0.17149052 -1.46067238 ...,  1.48967183 -1.23513687\n",
      "    0.99614954]]\n",
      "\n",
      " [[ 0.44205335 -0.17149052 -1.46067238 ...,  1.48967183 -1.09053445\n",
      "    0.99614954]]]\n"
     ]
    },
    {
     "data": {
      "text/plain": [
       "[<matplotlib.lines.Line2D at 0x12ced9cd0>]"
      ]
     },
     "execution_count": 37,
     "metadata": {},
     "output_type": "execute_result"
    },
    {
     "data": {
      "image/png": "[encoded data removed]",
      "text/plain": [
       "<matplotlib.figure.Figure at 0x113affe10>"
      ]
     },
     "metadata": {},
     "output_type": "display_data"
    }
   ],
   "source": [
    "train_x = pre1[0]\n",
    "timesteps = 1\n",
    "x_train = numpy.reshape(train_x, (train_x.shape[0]/timesteps, timesteps, train_x.shape[1]))\n",
    "print x_train\n",
    "plt.plot(m1.predict(x_train))"
   ]
  },
  {
   "cell_type": "code",
   "execution_count": 27,
   "metadata": {
    "collapsed": false
   },
   "outputs": [
    {
     "data": {
      "text/plain": [
       "array([ 16.,  40.,  32., ...,  73.,  41.,  14.], dtype=float32)"
      ]
     },
     "execution_count": 27,
     "metadata": {},
     "output_type": "execute_result"
    }
   ],
   "source": [
    "pre1[1]"
   ]
  },
  {
   "cell_type": "code",
   "execution_count": null,
   "metadata": {
    "collapsed": false
   },
   "outputs": [],
   "source": [
    "trainPredict = model.predict(x_train)\n",
    "testPredict = model.predict(x_val)\n",
    "train_y_r_e = np.exp(train_y)\n",
    "trainPredict = np.exp(scaler.inverse_transform(trainPredict))\n",
    "test_y_r_e = np.exp(test_y)\n",
    "testPredict = np.exp(scaler.inverse_transform(testPredict))"
   ]
  },
  {
   "cell_type": "code",
   "execution_count": null,
   "metadata": {
    "collapsed": false
   },
   "outputs": [],
   "source": [
    "trainScore = math.sqrt(mean_squared_error(train_y_r_e, trainPredict[:,0]))\n",
    "print('Train Score: %.2f RMSE' % (trainScore))\n",
    "testScore = math.sqrt(mean_squared_error(test_y_r_e, testPredict[:,0]))\n",
    "print('Test Score: %.2f RMSE' % (testScore))"
   ]
  },
  {
   "cell_type": "code",
   "execution_count": null,
   "metadata": {
    "collapsed": false
   },
   "outputs": [],
   "source": [
    "print scipy.stats.pearsonr(train_y_r_e,trainPredict[:,0])[0]\n",
    "plt.plot(train_y_r_e,trainPredict,'.')"
   ]
  },
  {
   "cell_type": "code",
   "execution_count": null,
   "metadata": {
    "collapsed": false
   },
   "outputs": [],
   "source": [
    "plt.plot(train_y_r_e-trainPredict[:,0])"
   ]
  },
  {
   "cell_type": "code",
   "execution_count": null,
   "metadata": {
    "collapsed": false
   },
   "outputs": [],
   "source": [
    "print scipy.stats.pearsonr(test_y_r_e,testPredict[:,0])[0]\n",
    "plt.plot(test_y_r_e,testPredict,'.')"
   ]
  },
  {
   "cell_type": "code",
   "execution_count": null,
   "metadata": {
    "collapsed": false
   },
   "outputs": [],
   "source": [
    "df_test['month'] = pd.DatetimeIndex(df_test.datetime).month\n",
    "df_test['day'] = pd.DatetimeIndex(df_test.datetime).dayofweek\n",
    "df_test['hour'] = pd.DatetimeIndex(df_test.datetime).hour\n",
    "df_test['year'] = pd.DatetimeIndex(df_test.datetime).year\n",
    "df_test_test = df_test.drop(['datetime'], axis = 1)\n",
    "#df_test_test = df_test_test.drop(['season','workingday','weather','holiday'], axis = 1)\n",
    "df_test_t = preprocessing.scale(df_test_test.values)\n",
    "df_test_r = numpy.reshape(df_test_t, (df_test_t.shape[0], timesteps , df_test_t.shape[1]))\n",
    "pred = model.predict(df_test_r)"
   ]
  },
  {
   "cell_type": "code",
   "execution_count": null,
   "metadata": {
    "collapsed": false
   },
   "outputs": [],
   "source": [
    "out = np.exp(scaler.inverse_transform(pred)).astype(int)\n",
    "out[out<0] = 0\n",
    "out = out[:,0]"
   ]
  },
  {
   "cell_type": "code",
   "execution_count": null,
   "metadata": {
    "collapsed": false
   },
   "outputs": [],
   "source": [
    "pred = pd.DataFrame({'datetime': df_test['datetime'],'count': out})\n",
    "pred = pred[['datetime','count']]"
   ]
  },
  {
   "cell_type": "code",
   "execution_count": null,
   "metadata": {
    "collapsed": false
   },
   "outputs": [],
   "source": [
    "pred.to_csv(\"pred.csv\", index = False)"
   ]
  },
  {
   "cell_type": "code",
   "execution_count": null,
   "metadata": {
    "collapsed": false
   },
   "outputs": [],
   "source": [
    "predicted = pd.read_csv('pred.csv')"
   ]
  },
  {
   "cell_type": "code",
   "execution_count": null,
   "metadata": {
    "collapsed": false
   },
   "outputs": [],
   "source": [
    "plt.plot(predicted['count'])"
   ]
  },
  {
   "cell_type": "code",
   "execution_count": null,
   "metadata": {
    "collapsed": true
   },
   "outputs": [],
   "source": [
    "plt.hist(predicted['count'])"
   ]
  },
  {
   "cell_type": "code",
   "execution_count": null,
   "metadata": {
    "collapsed": false
   },
   "outputs": [],
   "source": [
    "plt.plot(df_train['count'].values)"
   ]
  },
  {
   "cell_type": "code",
   "execution_count": null,
   "metadata": {
    "collapsed": false
   },
   "outputs": [],
   "source": [
    "plt.plot(predicted['count'][500:1000])"
   ]
  },
  {
   "cell_type": "code",
   "execution_count": null,
   "metadata": {
    "collapsed": false,
    "scrolled": true
   },
   "outputs": [],
   "source": [
    "a= []\n",
    "for i in range(10):\n",
    "    b = df_train['datetime'][i <= pd.DatetimeIndex(df_train['datetime']).dayofyear < 9*(i+1)].values\n",
    "    a.append(b)\n",
    "print a"
   ]
  },
  {
   "cell_type": "code",
   "execution_count": null,
   "metadata": {
    "collapsed": false,
    "scrolled": true
   },
   "outputs": [],
   "source": [
    "a[1]"
   ]
  },
  {
   "cell_type": "code",
   "execution_count": null,
   "metadata": {
    "collapsed": false,
    "scrolled": true
   },
   "outputs": [],
   "source": [
    "df_train['datetime'][0:24*10-7][25:24+24]"
   ]
  },
  {
   "cell_type": "code",
   "execution_count": null,
   "metadata": {
    "collapsed": false
   },
   "outputs": [],
   "source": [
    "x_train = np.random.random((1000, 8, 3))\n"
   ]
  },
  {
   "cell_type": "code",
   "execution_count": null,
   "metadata": {
    "collapsed": false
   },
   "outputs": [],
   "source": [
    "x_train[0]"
   ]
  },
  {
   "cell_type": "code",
   "execution_count": null,
   "metadata": {
    "collapsed": false,
    "scrolled": true
   },
   "outputs": [],
   "source": [
    "from keras.models import Sequential\n",
    "from keras.layers import LSTM, Dense\n",
    "import numpy as np\n",
    "\n",
    "data_dim = 16\n",
    "timesteps = 8\n",
    "nb_classes = 10\n",
    "\n",
    "# expected input data shape: (batch_size, timesteps, data_dim)\n",
    "model = Sequential()\n",
    "\n",
    "model.add(LSTM(100, return_sequences=True,\n",
    "               input_shape=(timesteps, data_dim) )) #W_regularizer=l2(0.01) \n",
    "model.add(LSTM(100, return_sequences=True)) #, W_regularizer=l2(0.01)\n",
    "model.add(LSTM(100))  \n",
    "model.add(Dense(1, activation='linear'))\n",
    "\n",
    "model.compile(loss='mean_squared_error',\n",
    "              optimizer='rmsprop')\n",
    "\n",
    "# generate dummy training data\n",
    "x_train = np.random.random((1000, timesteps, data_dim))\n",
    "y_train = 10*np.random.random((1000))\n",
    "\n",
    "# generate dummy validation data\n",
    "x_val = np.random.random((100, timesteps, data_dim))\n",
    "y_val = np.random.random((100))\n",
    "\n",
    "now = datetime.now()\n",
    "\n",
    "model.fit(x_train, y_train,\n",
    "          batch_size=64, nb_epoch=100,\n",
    "          validation_data=(x_val, y_val),\n",
    "          callbacks=[TensorBoard(log_dir='logs1/' + now.strftime(\"%Y%m%d-%H%M%S\") + \"/\")])"
   ]
  },
  {
   "cell_type": "code",
   "execution_count": null,
   "metadata": {
    "collapsed": true
   },
   "outputs": [],
   "source": []
  }
 ],
 "metadata": {
  "kernelspec": {
   "display_name": "Python 2",
   "language": "python",
   "name": "python2"
  },
  "language_info": {
   "codemirror_mode": {
    "name": "ipython",
    "version": 2
   },
   "file_extension": ".py",
   "mimetype": "text/x-python",
   "name": "python",
   "nbconvert_exporter": "python",
   "pygments_lexer": "ipython2",
   "version": "2.7.10"
  }
 },
 "nbformat": 4,
 "nbformat_minor": 0
}
