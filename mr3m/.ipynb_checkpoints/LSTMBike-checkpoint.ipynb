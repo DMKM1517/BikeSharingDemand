{
 "cells": [
  {
   "cell_type": "code",
   "execution_count": 1,
   "metadata": {
    "collapsed": true
   },
   "outputs": [],
   "source": [
    "%matplotlib inline"
   ]
  },
  {
   "cell_type": "code",
   "execution_count": 2,
   "metadata": {
    "collapsed": false
   },
   "outputs": [
    {
     "name": "stderr",
     "output_type": "stream",
     "text": [
      "Using TensorFlow backend.\n"
     ]
    }
   ],
   "source": [
    "import numpy as np\n",
    "import numpy\n",
    "import matplotlib.pyplot as plt\n",
    "import pandas as pd\n",
    "import math\n",
    "import keras\n",
    "from keras.models import Sequential\n",
    "from keras.layers import Dense, Activation, TimeDistributed\n",
    "from keras.layers import LSTM, SimpleRNN\n",
    "from sklearn.preprocessing import MinMaxScaler\n",
    "from sklearn.metrics import mean_squared_error\n",
    "import scipy as scipy\n",
    "from keras.callbacks import TensorBoard\n",
    "from keras.regularizers import l1, activity_l1\n",
    "from keras.regularizers import l2, activity_l2\n",
    "from sklearn import preprocessing  \n",
    "from datetime import datetime\n"
   ]
  },
  {
   "cell_type": "code",
   "execution_count": 3,
   "metadata": {
    "collapsed": false
   },
   "outputs": [],
   "source": [
    "numpy.random.seed(7)"
   ]
  },
  {
   "cell_type": "code",
   "execution_count": 4,
   "metadata": {
    "collapsed": false
   },
   "outputs": [],
   "source": [
    "df_train = pd.read_csv(\"../train.csv\")\n",
    "df_test = pd.read_csv(\"../test.csv\")"
   ]
  },
  {
   "cell_type": "code",
   "execution_count": 5,
   "metadata": {
    "collapsed": false
   },
   "outputs": [],
   "source": [
    "df_train['month'] = pd.DatetimeIndex(df_train.datetime).month\n",
    "df_train['day'] = pd.DatetimeIndex(df_train.datetime).dayofweek\n",
    "df_train['hour'] = pd.DatetimeIndex(df_train.datetime).hour\n",
    "df_train['year'] = pd.DatetimeIndex(df_train.datetime).year"
   ]
  },
  {
   "cell_type": "code",
   "execution_count": 6,
   "metadata": {
    "collapsed": false
   },
   "outputs": [],
   "source": [
    "df_train_train = df_train.drop(['datetime','casual','registered','count'], axis = 1)\n",
    "df_train_train = df_train_train.drop(['season','workingday','weather','holiday'], axis = 1)\n",
    "df_test_train = df_train['count']"
   ]
  },
  {
   "cell_type": "code",
   "execution_count": 7,
   "metadata": {
    "collapsed": false
   },
   "outputs": [
    {
     "data": {
      "text/html": [
       "<div>\n",
       "<table border=\"1\" class=\"dataframe\">\n",
       "  <thead>\n",
       "    <tr style=\"text-align: right;\">\n",
       "      <th></th>\n",
       "      <th>temp</th>\n",
       "      <th>atemp</th>\n",
       "      <th>humidity</th>\n",
       "      <th>windspeed</th>\n",
       "      <th>month</th>\n",
       "      <th>day</th>\n",
       "      <th>hour</th>\n",
       "      <th>year</th>\n",
       "    </tr>\n",
       "  </thead>\n",
       "  <tbody>\n",
       "    <tr>\n",
       "      <th>0</th>\n",
       "      <td>9.84</td>\n",
       "      <td>14.395</td>\n",
       "      <td>81</td>\n",
       "      <td>0</td>\n",
       "      <td>1</td>\n",
       "      <td>5</td>\n",
       "      <td>0</td>\n",
       "      <td>2011</td>\n",
       "    </tr>\n",
       "    <tr>\n",
       "      <th>1</th>\n",
       "      <td>9.02</td>\n",
       "      <td>13.635</td>\n",
       "      <td>80</td>\n",
       "      <td>0</td>\n",
       "      <td>1</td>\n",
       "      <td>5</td>\n",
       "      <td>1</td>\n",
       "      <td>2011</td>\n",
       "    </tr>\n",
       "    <tr>\n",
       "      <th>2</th>\n",
       "      <td>9.02</td>\n",
       "      <td>13.635</td>\n",
       "      <td>80</td>\n",
       "      <td>0</td>\n",
       "      <td>1</td>\n",
       "      <td>5</td>\n",
       "      <td>2</td>\n",
       "      <td>2011</td>\n",
       "    </tr>\n",
       "    <tr>\n",
       "      <th>3</th>\n",
       "      <td>9.84</td>\n",
       "      <td>14.395</td>\n",
       "      <td>75</td>\n",
       "      <td>0</td>\n",
       "      <td>1</td>\n",
       "      <td>5</td>\n",
       "      <td>3</td>\n",
       "      <td>2011</td>\n",
       "    </tr>\n",
       "    <tr>\n",
       "      <th>4</th>\n",
       "      <td>9.84</td>\n",
       "      <td>14.395</td>\n",
       "      <td>75</td>\n",
       "      <td>0</td>\n",
       "      <td>1</td>\n",
       "      <td>5</td>\n",
       "      <td>4</td>\n",
       "      <td>2011</td>\n",
       "    </tr>\n",
       "  </tbody>\n",
       "</table>\n",
       "</div>"
      ],
      "text/plain": [
       "   temp   atemp  humidity  windspeed  month  day  hour  year\n",
       "0  9.84  14.395        81          0      1    5     0  2011\n",
       "1  9.02  13.635        80          0      1    5     1  2011\n",
       "2  9.02  13.635        80          0      1    5     2  2011\n",
       "3  9.84  14.395        75          0      1    5     3  2011\n",
       "4  9.84  14.395        75          0      1    5     4  2011"
      ]
     },
     "execution_count": 7,
     "metadata": {},
     "output_type": "execute_result"
    }
   ],
   "source": [
    "df_train_train.head()"
   ]
  },
  {
   "cell_type": "code",
   "execution_count": 8,
   "metadata": {
    "collapsed": true
   },
   "outputs": [],
   "source": [
    "n = len(df_train_train)\n",
    "train_x = df_train_train[0:int(n*.8)].astype('float32')\n",
    "train_y = df_test_train[0:int(n*.8)].astype('float32')\n",
    "test_x = df_train_train[int(n*.8)+1:n].astype('float32')\n",
    "test_y = df_test_train[int(n*.8)+1:n].astype('float32')"
   ]
  },
  {
   "cell_type": "code",
   "execution_count": 9,
   "metadata": {
    "collapsed": false
   },
   "outputs": [],
   "source": [
    "scaler = MinMaxScaler(feature_range=(-1, 1))"
   ]
  },
  {
   "cell_type": "code",
   "execution_count": 10,
   "metadata": {
    "collapsed": false
   },
   "outputs": [],
   "source": [
    "train_x_r = scaler.fit_transform(train_x.values)\n",
    "#for elem in (train_x,trainY,test_x,testY):\n",
    "#    for col in range(len(elem.values[0])):\n",
    "#        print elem.values[col]\n",
    "#        elem.values[:,col] = scaler.fit_transform(elem.values[:,col])\n",
    "#trainY = scaler.fit_transform(train_y.values)\n",
    "test_x_r = scaler.fit_transform(test_x.values)\n",
    "#testY = scaler.fit_transform(test_y.values)"
   ]
  },
  {
   "cell_type": "code",
   "execution_count": 11,
   "metadata": {
    "collapsed": false
   },
   "outputs": [],
   "source": [
    "#simplernn = keras.layers.recurrent.SimpleRNN(64, init='glorot_uniform', inner_init='orthogonal', activation='sigmoid', W_regularizer=None, U_regularizer=None, b_regularizer=None, dropout_W=0.0, dropout_U=0.0)"
   ]
  },
  {
   "cell_type": "code",
   "execution_count": 12,
   "metadata": {
    "collapsed": false
   },
   "outputs": [],
   "source": [
    "#trainX = numpy.reshape(train_x_r, (train_x_r.shape[0], 1, train_x_r.shape[1]))\n",
    "#testX = numpy.reshape(test_x_r, (test_x_r.shape[0], 1, test_x_r.shape[1]))"
   ]
  },
  {
   "cell_type": "code",
   "execution_count": 13,
   "metadata": {
    "collapsed": false,
    "scrolled": false
   },
   "outputs": [],
   "source": [
    "#model = Sequential()\n",
    "#model.add(Dense(1, input_shape=(8,)))\n",
    "#model.add(SimpleRNN(64, input_shape=(8,)))\n",
    "#model.add(Dense(8))\n",
    "#model.add(Activation('relu'))\n",
    "\n",
    "# create model\n",
    "#model = Sequential()\n",
    "#model.add(Dense(13, input_dim=8, init='normal', activation='relu'))\n",
    "#model.add(Dense(1, init='normal'))\n",
    "# Compile model\n",
    "#model.compile(loss='mean_squared_error', optimizer='adam')\n",
    "\n",
    "#model = Sequential()\n",
    "#model.add(Dense(1, input_shape=(8,) ))\n",
    "#model.add(Activation('relu'))\n",
    "#model.add(LSTM(2, input_shape=(1, 8)))\n",
    "\n",
    "\n",
    "#model.compile(loss='mean_squared_error', optimizer='adam')\n",
    "#model.fit(trainX, trainY, nb_epoch=10, batch_size=32,verbose=1)\n"
   ]
  },
  {
   "cell_type": "code",
   "execution_count": 16,
   "metadata": {
    "collapsed": false,
    "scrolled": false
   },
   "outputs": [
    {
     "name": "stdout",
     "output_type": "stream",
     "text": [
      "Train on 8708 samples, validate on 2177 samples\n",
      "Epoch 1/100\n",
      "8708/8708 [==============================] - 13s - loss: 0.1530 - val_loss: 0.1922\n",
      "Epoch 2/100\n",
      "8708/8708 [==============================] - 8s - loss: 0.0819 - val_loss: 0.1845\n",
      "Epoch 3/100\n",
      "8708/8708 [==============================] - 8s - loss: 0.0760 - val_loss: 0.1596\n",
      "Epoch 4/100\n",
      "8708/8708 [==============================] - 11s - loss: 0.0690 - val_loss: 0.1934\n",
      "Epoch 5/100\n",
      "8708/8708 [==============================] - 11s - loss: 0.0643 - val_loss: 0.1543\n",
      "Epoch 6/100\n",
      "8708/8708 [==============================] - 7s - loss: 0.0614 - val_loss: 0.1380\n",
      "Epoch 7/100\n",
      "8708/8708 [==============================] - 8s - loss: 0.0585 - val_loss: 0.1740\n",
      "Epoch 8/100\n",
      "8708/8708 [==============================] - 7s - loss: 0.0564 - val_loss: 0.1509\n",
      "Epoch 9/100\n",
      "8708/8708 [==============================] - 6s - loss: 0.0555 - val_loss: 0.1550\n",
      "Epoch 10/100\n",
      "8708/8708 [==============================] - 7s - loss: 0.0545 - val_loss: 0.1722\n",
      "Epoch 11/100\n",
      "8708/8708 [==============================] - 8s - loss: 0.0540 - val_loss: 0.1626\n",
      "Epoch 12/100\n",
      "8708/8708 [==============================] - 8s - loss: 0.0533 - val_loss: 0.1324\n",
      "Epoch 13/100\n",
      "8708/8708 [==============================] - 8s - loss: 0.0529 - val_loss: 0.1449\n",
      "Epoch 14/100\n",
      "8708/8708 [==============================] - 7s - loss: 0.0525 - val_loss: 0.1757\n",
      "Epoch 15/100\n",
      "8708/8708 [==============================] - 8s - loss: 0.0517 - val_loss: 0.1696\n",
      "Epoch 16/100\n",
      "8708/8708 [==============================] - 8s - loss: 0.0514 - val_loss: 0.1381\n",
      "Epoch 17/100\n",
      "8708/8708 [==============================] - 9s - loss: 0.0510 - val_loss: 0.1321\n",
      "Epoch 18/100\n",
      "8708/8708 [==============================] - 7s - loss: 0.0505 - val_loss: 0.1711\n",
      "Epoch 19/100\n",
      "8708/8708 [==============================] - 9s - loss: 0.0498 - val_loss: 0.1477\n",
      "Epoch 20/100\n",
      "8708/8708 [==============================] - 8s - loss: 0.0495 - val_loss: 0.1716\n",
      "Epoch 21/100\n",
      "8708/8708 [==============================] - 8s - loss: 0.0491 - val_loss: 0.1838\n",
      "Epoch 22/100\n",
      "8708/8708 [==============================] - 7s - loss: 0.0484 - val_loss: 0.1831\n",
      "Epoch 23/100\n",
      "8708/8708 [==============================] - 8s - loss: 0.0478 - val_loss: 0.1678\n",
      "Epoch 24/100\n",
      "8708/8708 [==============================] - 8s - loss: 0.0474 - val_loss: 0.1491\n",
      "Epoch 25/100\n",
      "8708/8708 [==============================] - 7s - loss: 0.0465 - val_loss: 0.1843\n",
      "Epoch 26/100\n",
      "8708/8708 [==============================] - 8s - loss: 0.0458 - val_loss: 0.1428\n",
      "Epoch 27/100\n",
      "8708/8708 [==============================] - 7s - loss: 0.0449 - val_loss: 0.1478\n",
      "Epoch 28/100\n",
      "8708/8708 [==============================] - 7s - loss: 0.0435 - val_loss: 0.1410\n",
      "Epoch 29/100\n",
      "8708/8708 [==============================] - 8s - loss: 0.0416 - val_loss: 0.1592\n",
      "Epoch 30/100\n",
      "8708/8708 [==============================] - 10s - loss: 0.0390 - val_loss: 0.1375\n",
      "Epoch 31/100\n",
      "8708/8708 [==============================] - 8s - loss: 0.0359 - val_loss: 0.1418\n",
      "Epoch 32/100\n",
      "8708/8708 [==============================] - 6s - loss: 0.0331 - val_loss: 0.1698\n",
      "Epoch 33/100\n",
      "8708/8708 [==============================] - 7s - loss: 0.0308 - val_loss: 0.1067\n",
      "Epoch 34/100\n",
      "8708/8708 [==============================] - 6s - loss: 0.0288 - val_loss: 0.1044\n",
      "Epoch 35/100\n",
      "8708/8708 [==============================] - 7s - loss: 0.0271 - val_loss: 0.1320\n",
      "Epoch 36/100\n",
      "8708/8708 [==============================] - 6s - loss: 0.0254 - val_loss: 0.1165\n",
      "Epoch 37/100\n",
      "8708/8708 [==============================] - 6s - loss: 0.0240 - val_loss: 0.1181\n",
      "Epoch 38/100\n",
      "8708/8708 [==============================] - 7s - loss: 0.0228 - val_loss: 0.1314\n",
      "Epoch 39/100\n",
      "8708/8708 [==============================] - 7s - loss: 0.0213 - val_loss: 0.1402\n",
      "Epoch 40/100\n",
      "8708/8708 [==============================] - 6s - loss: 0.0201 - val_loss: 0.1277\n",
      "Epoch 41/100\n",
      "8708/8708 [==============================] - 7s - loss: 0.0187 - val_loss: 0.1405\n",
      "Epoch 42/100\n",
      "8708/8708 [==============================] - 7s - loss: 0.0178 - val_loss: 0.1241\n",
      "Epoch 43/100\n",
      "8708/8708 [==============================] - 7s - loss: 0.0168 - val_loss: 0.1075\n",
      "Epoch 44/100\n",
      "8708/8708 [==============================] - 6s - loss: 0.0157 - val_loss: 0.1198\n",
      "Epoch 45/100\n",
      "8708/8708 [==============================] - 6s - loss: 0.0149 - val_loss: 0.1028\n",
      "Epoch 46/100\n",
      "8708/8708 [==============================] - 7s - loss: 0.0140 - val_loss: 0.1133\n",
      "Epoch 47/100\n",
      "8708/8708 [==============================] - 7s - loss: 0.0132 - val_loss: 0.0937\n",
      "Epoch 48/100\n",
      "8708/8708 [==============================] - 7s - loss: 0.0125 - val_loss: 0.1193\n",
      "Epoch 49/100\n",
      "8708/8708 [==============================] - 7s - loss: 0.0121 - val_loss: 0.0930\n",
      "Epoch 50/100\n",
      "8708/8708 [==============================] - 7s - loss: 0.0116 - val_loss: 0.0942\n",
      "Epoch 51/100\n",
      "8708/8708 [==============================] - 7s - loss: 0.0112 - val_loss: 0.0984\n",
      "Epoch 52/100\n",
      "8708/8708 [==============================] - 6s - loss: 0.0110 - val_loss: 0.0909\n",
      "Epoch 53/100\n",
      "8708/8708 [==============================] - 7s - loss: 0.0109 - val_loss: 0.1236\n",
      "Epoch 54/100\n",
      "8708/8708 [==============================] - 7s - loss: 0.0108 - val_loss: 0.1056\n",
      "Epoch 55/100\n",
      "8708/8708 [==============================] - 8s - loss: 0.0106 - val_loss: 0.1097\n",
      "Epoch 56/100\n",
      "8708/8708 [==============================] - 9s - loss: 0.0104 - val_loss: 0.0896\n",
      "Epoch 57/100\n",
      "8708/8708 [==============================] - 7s - loss: 0.0104 - val_loss: 0.1274\n",
      "Epoch 58/100\n",
      "8708/8708 [==============================] - 7s - loss: 0.0102 - val_loss: 0.1267\n",
      "Epoch 59/100\n",
      "8708/8708 [==============================] - 9s - loss: 0.0101 - val_loss: 0.1110\n",
      "Epoch 60/100\n",
      "8708/8708 [==============================] - 9s - loss: 0.0100 - val_loss: 0.0910\n",
      "Epoch 61/100\n",
      "8708/8708 [==============================] - 9s - loss: 0.0098 - val_loss: 0.1184\n",
      "Epoch 62/100\n",
      "8708/8708 [==============================] - 11s - loss: 0.0098 - val_loss: 0.1055\n",
      "Epoch 63/100\n",
      "8708/8708 [==============================] - 9s - loss: 0.0098 - val_loss: 0.0907\n",
      "Epoch 64/100\n",
      "8708/8708 [==============================] - 9s - loss: 0.0096 - val_loss: 0.1042\n",
      "Epoch 65/100\n",
      "8708/8708 [==============================] - 10s - loss: 0.0095 - val_loss: 0.0998\n",
      "Epoch 66/100\n",
      "8708/8708 [==============================] - 9s - loss: 0.0097 - val_loss: 0.0864\n",
      "Epoch 67/100\n",
      "8708/8708 [==============================] - 9s - loss: 0.0094 - val_loss: 0.1190\n",
      "Epoch 68/100\n",
      "8708/8708 [==============================] - 10s - loss: 0.0095 - val_loss: 0.1012\n",
      "Epoch 69/100\n",
      "8708/8708 [==============================] - 11s - loss: 0.0092 - val_loss: 0.1019\n",
      "Epoch 70/100\n",
      "8708/8708 [==============================] - 14s - loss: 0.0093 - val_loss: 0.1047\n",
      "Epoch 71/100\n",
      "8708/8708 [==============================] - 12s - loss: 0.0092 - val_loss: 0.1061\n",
      "Epoch 72/100\n",
      "8708/8708 [==============================] - 9s - loss: 0.0093 - val_loss: 0.1047\n",
      "Epoch 73/100\n",
      "8708/8708 [==============================] - 9s - loss: 0.0092 - val_loss: 0.0945\n",
      "Epoch 74/100\n",
      "8708/8708 [==============================] - 10s - loss: 0.0089 - val_loss: 0.0742\n",
      "Epoch 75/100\n",
      "8708/8708 [==============================] - 13s - loss: 0.0090 - val_loss: 0.0773\n",
      "Epoch 76/100\n",
      "8708/8708 [==============================] - 11s - loss: 0.0089 - val_loss: 0.1020\n",
      "Epoch 77/100\n",
      "8708/8708 [==============================] - 9s - loss: 0.0089 - val_loss: 0.0830\n",
      "Epoch 78/100\n",
      "8708/8708 [==============================] - 8s - loss: 0.0090 - val_loss: 0.0863\n",
      "Epoch 79/100\n",
      "8708/8708 [==============================] - 8s - loss: 0.0089 - val_loss: 0.1011\n",
      "Epoch 80/100\n",
      "8708/8708 [==============================] - 8s - loss: 0.0088 - val_loss: 0.1310\n",
      "Epoch 81/100\n",
      "8708/8708 [==============================] - 10s - loss: 0.0089 - val_loss: 0.0944\n",
      "Epoch 82/100\n",
      "8708/8708 [==============================] - 9s - loss: 0.0087 - val_loss: 0.1133\n",
      "Epoch 83/100\n",
      "8708/8708 [==============================] - 8s - loss: 0.0085 - val_loss: 0.0864\n",
      "Epoch 84/100\n",
      "8708/8708 [==============================] - 8s - loss: 0.0087 - val_loss: 0.0802\n",
      "Epoch 85/100\n",
      "8708/8708 [==============================] - 8s - loss: 0.0088 - val_loss: 0.0855\n",
      "Epoch 86/100\n",
      "8708/8708 [==============================] - 8s - loss: 0.0086 - val_loss: 0.1029\n",
      "Epoch 87/100\n",
      "8708/8708 [==============================] - 8s - loss: 0.0086 - val_loss: 0.1260\n",
      "Epoch 88/100\n",
      "8708/8708 [==============================] - 9s - loss: 0.0085 - val_loss: 0.0798\n",
      "Epoch 89/100\n",
      "8708/8708 [==============================] - 8s - loss: 0.0085 - val_loss: 0.1073\n",
      "Epoch 90/100\n",
      "8708/8708 [==============================] - 8s - loss: 0.0083 - val_loss: 0.0981\n",
      "Epoch 91/100\n",
      "8708/8708 [==============================] - 8s - loss: 0.0084 - val_loss: 0.1063\n",
      "Epoch 92/100\n",
      "8708/8708 [==============================] - 8s - loss: 0.0083 - val_loss: 0.1172\n",
      "Epoch 93/100\n",
      "8708/8708 [==============================] - 8s - loss: 0.0082 - val_loss: 0.0881\n",
      "Epoch 94/100\n",
      "8708/8708 [==============================] - 8s - loss: 0.0081 - val_loss: 0.0855\n",
      "Epoch 95/100\n",
      "8708/8708 [==============================] - 10s - loss: 0.0081 - val_loss: 0.0915\n",
      "Epoch 96/100\n",
      "8708/8708 [==============================] - 9s - loss: 0.0082 - val_loss: 0.0985\n",
      "Epoch 97/100\n",
      "8708/8708 [==============================] - 10s - loss: 0.0081 - val_loss: 0.0981\n",
      "Epoch 98/100\n",
      "8708/8708 [==============================] - 9s - loss: 0.0081 - val_loss: 0.1103\n",
      "Epoch 99/100\n",
      "8708/8708 [==============================] - 9s - loss: 0.0082 - val_loss: 0.1058\n",
      "Epoch 100/100\n",
      "8708/8708 [==============================] - 10s - loss: 0.0080 - val_loss: 0.1038\n"
     ]
    },
    {
     "name": "stderr",
     "output_type": "stream",
     "text": [
      "/usr/local/bin/anaconda/lib/python2.7/site-packages/sklearn/preprocessing/data.py:321: DeprecationWarning: Passing 1d arrays as data is deprecated in 0.17 and will raise ValueError in 0.19. Reshape your data either using X.reshape(-1, 1) if your data has a single feature or X.reshape(1, -1) if it contains a single sample.\n",
      "  warnings.warn(DEPRECATION_MSG_1D, DeprecationWarning)\n",
      "/usr/local/bin/anaconda/lib/python2.7/site-packages/sklearn/preprocessing/data.py:356: DeprecationWarning: Passing 1d arrays as data is deprecated in 0.17 and will raise ValueError in 0.19. Reshape your data either using X.reshape(-1, 1) if your data has a single feature or X.reshape(1, -1) if it contains a single sample.\n",
      "  warnings.warn(DEPRECATION_MSG_1D, DeprecationWarning)\n",
      "/usr/local/bin/anaconda/lib/python2.7/site-packages/sklearn/preprocessing/data.py:321: DeprecationWarning: Passing 1d arrays as data is deprecated in 0.17 and will raise ValueError in 0.19. Reshape your data either using X.reshape(-1, 1) if your data has a single feature or X.reshape(1, -1) if it contains a single sample.\n",
      "  warnings.warn(DEPRECATION_MSG_1D, DeprecationWarning)\n",
      "/usr/local/bin/anaconda/lib/python2.7/site-packages/sklearn/preprocessing/data.py:356: DeprecationWarning: Passing 1d arrays as data is deprecated in 0.17 and will raise ValueError in 0.19. Reshape your data either using X.reshape(-1, 1) if your data has a single feature or X.reshape(1, -1) if it contains a single sample.\n",
      "  warnings.warn(DEPRECATION_MSG_1D, DeprecationWarning)\n"
     ]
    },
    {
     "data": {
      "text/plain": [
       "<keras.callbacks.History at 0x118a629d0>"
      ]
     },
     "execution_count": 16,
     "metadata": {},
     "output_type": "execute_result"
    }
   ],
   "source": [
    "from keras.models import Sequential\n",
    "from keras.layers import LSTM, Dense\n",
    "import numpy as np\n",
    "\n",
    "data_dim = len(train_x_r[0])\n",
    "timesteps = 1\n",
    "\n",
    "# expected input data shape: (batch_size, timesteps, data_dim)\n",
    "model = Sequential()\n",
    "#model.add(Dense(100))\n",
    "model.add(LSTM(100, return_sequences=True,\n",
    "               input_shape=(timesteps, data_dim) )) #W_regularizer=l2(0.01) \n",
    "model.add(LSTM(100, return_sequences=True)) #, W_regularizer=l2(0.01)\n",
    "model.add(LSTM(10))  \n",
    "model.add(Dense(1, activation='linear'))\n",
    "\n",
    "model.compile(loss='mean_squared_error',\n",
    "              optimizer='rmsprop')\n",
    "\n",
    "# generate dummy training data\n",
    "def resizetimestep(dataset,timestepsize):\n",
    "    return dataset[0:int(len(dataset/timestepsize))]\n",
    "\n",
    "train_x_r = resizetimestep(train_x_r,timesteps)\n",
    "test_x_r =  resizetimestep(test_x_r,timesteps)\n",
    "\n",
    "x_train = numpy.reshape(train_x_r, (train_x_r.shape[0]/timesteps, timesteps, train_x_r.shape[1]))\n",
    "y_train = scaler.fit_transform(train_y.values)\n",
    "\n",
    "\n",
    "x_val = numpy.reshape(test_x_r, (test_x_r.shape[0]/timesteps, timesteps, test_x_r.shape[1]))\n",
    "y_val = scaler.fit_transform(test_y.values)\n",
    "# generate dummy validation data\n",
    "\n",
    "now = datetime.now()\n",
    "\n",
    "model.fit(x_train, y_train,\n",
    "          batch_size=100, nb_epoch=100,\n",
    "          validation_data=(x_val, y_val),callbacks=[TensorBoard(log_dir='logs/' + now.strftime(\"%Y%m%d-%H%M%S\") + \"/\")])"
   ]
  },
  {
   "cell_type": "code",
   "execution_count": 17,
   "metadata": {
    "collapsed": false
   },
   "outputs": [
    {
     "name": "stderr",
     "output_type": "stream",
     "text": [
      "/usr/local/bin/anaconda/lib/python2.7/site-packages/sklearn/preprocessing/data.py:374: DeprecationWarning: Passing 1d arrays as data is deprecated in 0.17 and will raise ValueError in 0.19. Reshape your data either using X.reshape(-1, 1) if your data has a single feature or X.reshape(1, -1) if it contains a single sample.\n",
      "  warnings.warn(DEPRECATION_MSG_1D, DeprecationWarning)\n"
     ]
    }
   ],
   "source": [
    "trainPredict = model.predict(x_train)\n",
    "testPredict = model.predict(x_val)\n",
    "trainPredict = scaler.inverse_transform(trainPredict)\n",
    "train_y_r_e = scaler.inverse_transform(y_train)\n",
    "testPredict = scaler.inverse_transform(testPredict)\n",
    "test_y_r_e = y_val#scaler.inverse_transform([y_val])"
   ]
  },
  {
   "cell_type": "code",
   "execution_count": 18,
   "metadata": {
    "collapsed": false,
    "scrolled": true
   },
   "outputs": [
    {
     "data": {
      "text/plain": [
       "[<matplotlib.lines.Line2D at 0x12457a990>]"
      ]
     },
     "execution_count": 18,
     "metadata": {},
     "output_type": "execute_result"
    },
    {
     "data": {
      "image/png": "[encoded data removed]",
      "text/plain": [
       "<matplotlib.figure.Figure at 0x119258310>"
      ]
     },
     "metadata": {},
     "output_type": "display_data"
    }
   ],
   "source": [
    "plt.plot(testPredict)"
   ]
  },
  {
   "cell_type": "code",
   "execution_count": 19,
   "metadata": {
    "collapsed": false
   },
   "outputs": [
    {
     "name": "stdout",
     "output_type": "stream",
     "text": [
      "Train Score: 43.80 RMSE\n",
      "Test Score: 199.29 RMSE\n"
     ]
    }
   ],
   "source": [
    "trainScore = math.sqrt(mean_squared_error(train_y_r_e, trainPredict[:,0]))\n",
    "print('Train Score: %.2f RMSE' % (trainScore))\n",
    "testScore = math.sqrt(mean_squared_error(test_y_r_e, testPredict[:,0]))\n",
    "print('Test Score: %.2f RMSE' % (testScore))"
   ]
  },
  {
   "cell_type": "code",
   "execution_count": 20,
   "metadata": {
    "collapsed": false
   },
   "outputs": [
    {
     "name": "stdout",
     "output_type": "stream",
     "text": [
      "0.97097\n"
     ]
    },
    {
     "data": {
      "text/plain": [
       "[<matplotlib.lines.Line2D at 0x124c181d0>]"
      ]
     },
     "execution_count": 20,
     "metadata": {},
     "output_type": "execute_result"
    },
    {
     "data": {
      "image/png": "[encoded data removed]",
      "text/plain": [
       "<matplotlib.figure.Figure at 0x11846e510>"
      ]
     },
     "metadata": {},
     "output_type": "display_data"
    }
   ],
   "source": [
    "print scipy.stats.pearsonr(train_y_r_e,trainPredict[:,0])[0]\n",
    "plt.plot(train_y_r_e,trainPredict,'.')"
   ]
  },
  {
   "cell_type": "code",
   "execution_count": 21,
   "metadata": {
    "collapsed": false
   },
   "outputs": [
    {
     "data": {
      "text/plain": [
       "[<matplotlib.lines.Line2D at 0x12410b890>]"
      ]
     },
     "execution_count": 21,
     "metadata": {},
     "output_type": "execute_result"
    },
    {
     "data": {
      "image/png": "[encoded data removed]",
      "text/plain": [
       "<matplotlib.figure.Figure at 0x119e9f050>"
      ]
     },
     "metadata": {},
     "output_type": "display_data"
    }
   ],
   "source": [
    "plt.plot(train_y_r_e-trainPredict[:,0])"
   ]
  },
  {
   "cell_type": "code",
   "execution_count": 22,
   "metadata": {
    "collapsed": false
   },
   "outputs": [
    {
     "name": "stdout",
     "output_type": "stream",
     "text": [
      "0.908525\n"
     ]
    },
    {
     "data": {
      "text/plain": [
       "[<matplotlib.lines.Line2D at 0x1246088d0>]"
      ]
     },
     "execution_count": 22,
     "metadata": {},
     "output_type": "execute_result"
    },
    {
     "data": {
      "image/png": "[encoded data removed]",
      "text/plain": [
       "<matplotlib.figure.Figure at 0x12412d8d0>"
      ]
     },
     "metadata": {},
     "output_type": "display_data"
    }
   ],
   "source": [
    "print scipy.stats.pearsonr(test_y_r_e,testPredict[:,0])[0]\n",
    "plt.plot(test_y_r_e,testPredict,'.')"
   ]
  },
  {
   "cell_type": "code",
   "execution_count": 33,
   "metadata": {
    "collapsed": false
   },
   "outputs": [],
   "source": [
    "df_test['month'] = pd.DatetimeIndex(df_test.datetime).month\n",
    "df_test['day'] = pd.DatetimeIndex(df_test.datetime).dayofweek\n",
    "df_test['hour'] = pd.DatetimeIndex(df_test.datetime).hour\n",
    "df_test['year'] = pd.DatetimeIndex(df_test.datetime).year\n",
    "df_test_test = df_test.drop(['datetime'], axis = 1)\n",
    "df_test_test = df_test_test.drop(['season','workingday','weather','holiday'], axis = 1)\n",
    "df_test_t = scaler.fit_transform(df_test_test.values)\n",
    "df_test_r = numpy.reshape(df_test_t, (df_test_t.shape[0], timesteps , df_test_t.shape[1]))\n",
    "pred = model.predict(df_test_r)"
   ]
  },
  {
   "cell_type": "code",
   "execution_count": 34,
   "metadata": {
    "collapsed": false
   },
   "outputs": [
    {
     "name": "stderr",
     "output_type": "stream",
     "text": [
      "/usr/local/bin/anaconda/lib/python2.7/site-packages/sklearn/preprocessing/data.py:321: DeprecationWarning: Passing 1d arrays as data is deprecated in 0.17 and will raise ValueError in 0.19. Reshape your data either using X.reshape(-1, 1) if your data has a single feature or X.reshape(1, -1) if it contains a single sample.\n",
      "  warnings.warn(DEPRECATION_MSG_1D, DeprecationWarning)\n",
      "/usr/local/bin/anaconda/lib/python2.7/site-packages/sklearn/preprocessing/data.py:356: DeprecationWarning: Passing 1d arrays as data is deprecated in 0.17 and will raise ValueError in 0.19. Reshape your data either using X.reshape(-1, 1) if your data has a single feature or X.reshape(1, -1) if it contains a single sample.\n",
      "  warnings.warn(DEPRECATION_MSG_1D, DeprecationWarning)\n"
     ]
    },
    {
     "data": {
      "text/plain": [
       "array([-0.9631148 , -0.86270493, -0.78073776, ..., -0.65778697,\n",
       "       -0.73770499, -0.82172132], dtype=float32)"
      ]
     },
     "execution_count": 34,
     "metadata": {},
     "output_type": "execute_result"
    }
   ],
   "source": [
    "scaler.fit_transform(test_y.values)"
   ]
  },
  {
   "cell_type": "code",
   "execution_count": 35,
   "metadata": {
    "collapsed": false
   },
   "outputs": [],
   "source": [
    "out = scaler.inverse_transform(pred).astype(int)\n",
    "out[out<0] = 0\n",
    "out = out[:,0]"
   ]
  },
  {
   "cell_type": "code",
   "execution_count": 36,
   "metadata": {
    "collapsed": false
   },
   "outputs": [],
   "source": [
    "pred = pd.DataFrame({'datetime': df_test['datetime'],'count': out})\n",
    "pred = pred[['datetime','count']]"
   ]
  },
  {
   "cell_type": "code",
   "execution_count": 37,
   "metadata": {
    "collapsed": false
   },
   "outputs": [],
   "source": [
    "pred.to_csv(\"pred.csv\", index = False)"
   ]
  },
  {
   "cell_type": "code",
   "execution_count": 38,
   "metadata": {
    "collapsed": false
   },
   "outputs": [],
   "source": [
    "predicted = pd.read_csv('pred.csv')"
   ]
  },
  {
   "cell_type": "code",
   "execution_count": 39,
   "metadata": {
    "collapsed": false
   },
   "outputs": [
    {
     "data": {
      "text/plain": [
       "[<matplotlib.lines.Line2D at 0x124709b10>]"
      ]
     },
     "execution_count": 39,
     "metadata": {},
     "output_type": "execute_result"
    },
    {
     "data": {
      "image/png": "[encoded data removed]",
      "text/plain": [
       "<matplotlib.figure.Figure at 0x116047b10>"
      ]
     },
     "metadata": {},
     "output_type": "display_data"
    }
   ],
   "source": [
    "plt.plot(predicted['count'])"
   ]
  },
  {
   "cell_type": "code",
   "execution_count": 30,
   "metadata": {
    "collapsed": false
   },
   "outputs": [
    {
     "data": {
      "text/plain": [
       "[<matplotlib.lines.Line2D at 0x124b186d0>]"
      ]
     },
     "execution_count": 30,
     "metadata": {},
     "output_type": "execute_result"
    },
    {
     "data": {
      "image/png": "[encoded data removed]",
      "text/plain": [
       "<matplotlib.figure.Figure at 0x1249aac90>"
      ]
     },
     "metadata": {},
     "output_type": "display_data"
    }
   ],
   "source": [
    "plt.plot(df_train['count'].values)"
   ]
  },
  {
   "cell_type": "code",
   "execution_count": null,
   "metadata": {
    "collapsed": true
   },
   "outputs": [],
   "source": []
  }
 ],
 "metadata": {
  "kernelspec": {
   "display_name": "Python 2",
   "language": "python",
   "name": "python2"
  },
  "language_info": {
   "codemirror_mode": {
    "name": "ipython",
    "version": 2
   },
   "file_extension": ".py",
   "mimetype": "text/x-python",
   "name": "python",
   "nbconvert_exporter": "python",
   "pygments_lexer": "ipython2",
   "version": "2.7.10"
  }
 },
 "nbformat": 4,
 "nbformat_minor": 0
}
