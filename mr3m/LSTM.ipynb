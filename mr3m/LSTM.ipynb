{
 "cells": [
  {
   "cell_type": "code",
   "execution_count": 27,
   "metadata": {
    "collapsed": true
   },
   "outputs": [],
   "source": [
    "import pandas\n",
    "import matplotlib.pyplot as plt\n",
    "%matplotlib inline"
   ]
  },
  {
   "cell_type": "code",
   "execution_count": 28,
   "metadata": {
    "collapsed": false
   },
   "outputs": [
    {
     "data": {
      "image/png": "[encoded data removed]",
      "text/plain": [
       "<matplotlib.figure.Figure at 0x10fefb350>"
      ]
     },
     "metadata": {},
     "output_type": "display_data"
    }
   ],
   "source": [
    "dataset = pandas.read_csv('international-airline-passengers.csv', usecols=[1], engine='python', skipfooter=3)\n",
    "plt.plot(dataset)\n",
    "plt.show()"
   ]
  },
  {
   "cell_type": "code",
   "execution_count": 67,
   "metadata": {
    "collapsed": false
   },
   "outputs": [
    {
     "data": {
      "text/plain": [
       "array([[ 0.01544401],\n",
       "       [ 0.02702703],\n",
       "       [ 0.05405405],\n",
       "       [ 0.04826255],\n",
       "       [ 0.03281853],\n",
       "       [ 0.05984557],\n",
       "       [ 0.08494207],\n",
       "       [ 0.08494207],\n",
       "       [ 0.06177607],\n",
       "       [ 0.02895753],\n",
       "       [ 0.        ],\n",
       "       [ 0.02702703],\n",
       "       [ 0.02123553],\n",
       "       [ 0.04247104],\n",
       "       [ 0.07142857],\n",
       "       [ 0.05984557],\n",
       "       [ 0.04054055],\n",
       "       [ 0.08687258],\n",
       "       [ 0.12741312],\n",
       "       [ 0.12741312],\n",
       "       [ 0.10424709],\n",
       "       [ 0.05598456],\n",
       "       [ 0.01930502],\n",
       "       [ 0.06949806],\n",
       "       [ 0.07915059],\n",
       "       [ 0.08880308],\n",
       "       [ 0.14285713],\n",
       "       [ 0.11389962],\n",
       "       [ 0.13127413],\n",
       "       [ 0.14285713],\n",
       "       [ 0.18339768],\n",
       "       [ 0.18339768],\n",
       "       [ 0.15444016],\n",
       "       [ 0.11196911],\n",
       "       [ 0.08108109],\n",
       "       [ 0.1196911 ],\n",
       "       [ 0.12934363],\n",
       "       [ 0.14671814],\n",
       "       [ 0.17181468],\n",
       "       [ 0.14864865],\n",
       "       [ 0.15250966],\n",
       "       [ 0.22007722],\n",
       "       [ 0.24324325],\n",
       "       [ 0.26640925],\n",
       "       [ 0.2027027 ],\n",
       "       [ 0.16795367],\n",
       "       [ 0.13127413],\n",
       "       [ 0.17374519],\n",
       "       [ 0.17760617],\n",
       "       [ 0.17760617],\n",
       "       [ 0.25482625],\n",
       "       [ 0.25289574],\n",
       "       [ 0.24131274],\n",
       "       [ 0.26833975],\n",
       "       [ 0.3088803 ],\n",
       "       [ 0.32432434],\n",
       "       [ 0.25675675],\n",
       "       [ 0.20656371],\n",
       "       [ 0.14671814],\n",
       "       [ 0.18725869],\n",
       "       [ 0.19305018],\n",
       "       [ 0.16216215],\n",
       "       [ 0.25289574],\n",
       "       [ 0.23745173],\n",
       "       [ 0.25096524],\n",
       "       [ 0.3088803 ],\n",
       "       [ 0.38223937],\n",
       "       [ 0.36486486],\n",
       "       [ 0.2992278 ],\n",
       "       [ 0.24131274],\n",
       "       [ 0.1911197 ],\n",
       "       [ 0.24131274],\n",
       "       [ 0.26640925],\n",
       "       [ 0.24903473],\n",
       "       [ 0.31467178],\n",
       "       [ 0.31853279],\n",
       "       [ 0.32046333],\n",
       "       [ 0.40733591],\n",
       "       [ 0.50193048],\n",
       "       [ 0.46911195],\n",
       "       [ 0.40154442],\n",
       "       [ 0.32818535],\n",
       "       [ 0.25675675],\n",
       "       [ 0.33590731],\n",
       "       [ 0.34749034],\n",
       "       [ 0.33397684],\n",
       "       [ 0.41119692],\n",
       "       [ 0.4034749 ],\n",
       "       [ 0.41312739],\n",
       "       [ 0.52123547],\n",
       "       [ 0.59652507],\n",
       "       [ 0.58108103],\n",
       "       [ 0.48455599],\n",
       "       [ 0.38996139],\n",
       "       [ 0.3223938 ],\n",
       "       [ 0.38996139],\n",
       "       [ 0.40733591],\n",
       "       [ 0.3803089 ],\n",
       "       [ 0.48648646],\n",
       "       [ 0.47104248],\n",
       "       [ 0.48455599],\n",
       "       [ 0.61389959],\n",
       "       [ 0.69691122],\n",
       "       [ 0.70077217],\n",
       "       [ 0.57915056],\n",
       "       [ 0.46911195],\n",
       "       [ 0.38803086],\n",
       "       [ 0.44787642],\n",
       "       [ 0.45559844],\n",
       "       [ 0.41312739],\n",
       "       [ 0.49806949],\n",
       "       [ 0.47104248],\n",
       "       [ 0.49999997],\n",
       "       [ 0.63899612],\n",
       "       [ 0.74710429],\n",
       "       [ 0.7741313 ],\n",
       "       [ 0.57915056],\n",
       "       [ 0.49227801],\n",
       "       [ 0.39768341],\n",
       "       [ 0.44980696],\n",
       "       [ 0.49420848],\n",
       "       [ 0.45945945],\n",
       "       [ 0.58301163],\n",
       "       [ 0.56370652],\n",
       "       [ 0.61003864],\n",
       "       [ 0.71042466],\n",
       "       [ 0.85714293],\n",
       "       [ 0.87837839],\n",
       "       [ 0.69305015],\n",
       "       [ 0.5849421 ],\n",
       "       [ 0.49806949],\n",
       "       [ 0.58108103],\n",
       "       [ 0.60424709],\n",
       "       [ 0.55405402],\n",
       "       [ 0.60810804],\n",
       "       [ 0.6891892 ],\n",
       "       [ 0.71042466],\n",
       "       [ 0.83204639],\n",
       "       [ 1.        ],\n",
       "       [ 0.96911204],\n",
       "       [ 0.77992272],\n",
       "       [ 0.6891892 ],\n",
       "       [ 0.55212355],\n",
       "       [ 0.63320458]], dtype=float32)"
      ]
     },
     "execution_count": 67,
     "metadata": {},
     "output_type": "execute_result"
    }
   ],
   "source": [
    "dataset"
   ]
  },
  {
   "cell_type": "code",
   "execution_count": 29,
   "metadata": {
    "collapsed": false
   },
   "outputs": [],
   "source": [
    "import numpy as np\n",
    "import numpy\n",
    "import matplotlib.pyplot as plt\n",
    "import pandas\n",
    "import math\n",
    "from keras.models import Sequential\n",
    "from keras.layers import Dense\n",
    "from keras.layers import LSTM\n",
    "from sklearn.preprocessing import MinMaxScaler\n",
    "from sklearn.metrics import mean_squared_error"
   ]
  },
  {
   "cell_type": "code",
   "execution_count": 30,
   "metadata": {
    "collapsed": false
   },
   "outputs": [],
   "source": [
    "# fix random seed for reproducibility\n",
    "numpy.random.seed(7)"
   ]
  },
  {
   "cell_type": "code",
   "execution_count": 31,
   "metadata": {
    "collapsed": true
   },
   "outputs": [],
   "source": [
    "# load the dataset\n",
    "dataframe = pandas.read_csv('international-airline-passengers.csv', usecols=[1], engine='python', skipfooter=3)\n",
    "dataset = dataframe.values\n",
    "dataset = dataset.astype('float32')"
   ]
  },
  {
   "cell_type": "code",
   "execution_count": 32,
   "metadata": {
    "collapsed": true
   },
   "outputs": [],
   "source": [
    "# normalize the dataset\n",
    "scaler = MinMaxScaler(feature_range=(0, 1))\n",
    "dataset = scaler.fit_transform(dataset)"
   ]
  },
  {
   "cell_type": "code",
   "execution_count": 33,
   "metadata": {
    "collapsed": false
   },
   "outputs": [
    {
     "name": "stdout",
     "output_type": "stream",
     "text": [
      "(96, 48)\n"
     ]
    }
   ],
   "source": [
    "# split into train and test sets\n",
    "train_size = int(len(dataset) * 0.67)\n",
    "test_size = len(dataset) - train_size\n",
    "train, test = dataset[0:train_size,:], dataset[train_size:len(dataset),:]\n",
    "print(len(train), len(test))"
   ]
  },
  {
   "cell_type": "code",
   "execution_count": 34,
   "metadata": {
    "collapsed": true
   },
   "outputs": [],
   "source": [
    "# convert an array of values into a dataset matrix\n",
    "def create_dataset(dataset, look_back=1):\n",
    "\tdataX, dataY = [], []\n",
    "\tfor i in range(len(dataset)-look_back-1):\n",
    "\t\ta = dataset[i:(i+look_back), 0]\n",
    "\t\tdataX.append(a)\n",
    "\t\tdataY.append(dataset[i + look_back, 0])\n",
    "\treturn numpy.array(dataX), numpy.array(dataY)"
   ]
  },
  {
   "cell_type": "code",
   "execution_count": 35,
   "metadata": {
    "collapsed": true
   },
   "outputs": [],
   "source": [
    "# reshape into X=t and Y=t+1\n",
    "look_back = 3\n",
    "trainX, trainY = create_dataset(train, look_back)\n",
    "testX, testY = create_dataset(test, look_back)"
   ]
  },
  {
   "cell_type": "code",
   "execution_count": 36,
   "metadata": {
    "collapsed": true
   },
   "outputs": [],
   "source": [
    "# reshape input to be [samples, time steps, features]\n",
    "trainX = numpy.reshape(trainX, (trainX.shape[0], 1, trainX.shape[1]))\n",
    "testX = numpy.reshape(testX, (testX.shape[0], 1, testX.shape[1]))"
   ]
  },
  {
   "cell_type": "code",
   "execution_count": 69,
   "metadata": {
    "collapsed": false
   },
   "outputs": [
    {
     "data": {
      "text/plain": [
       "3"
      ]
     },
     "execution_count": 69,
     "metadata": {},
     "output_type": "execute_result"
    }
   ],
   "source": [
    "len(trainX[0][0])"
   ]
  },
  {
   "cell_type": "raw",
   "metadata": {},
   "source": []
  },
  {
   "cell_type": "code",
   "execution_count": 37,
   "metadata": {
    "collapsed": false,
    "scrolled": true
   },
   "outputs": [
    {
     "data": {
      "text/plain": [
       "[<matplotlib.lines.Line2D at 0x1107c3cd0>,\n",
       " <matplotlib.lines.Line2D at 0x1107c3f10>,\n",
       " <matplotlib.lines.Line2D at 0x1107d0150>]"
      ]
     },
     "execution_count": 37,
     "metadata": {},
     "output_type": "execute_result"
    },
    {
     "data": {
      "image/png": "[encoded data removed]",
      "text/plain": [
       "<matplotlib.figure.Figure at 0x11008c2d0>"
      ]
     },
     "metadata": {},
     "output_type": "display_data"
    }
   ],
   "source": [
    "#plt.plot(trainX,testX)\n",
    "trainxx = np.array(trainX)\n",
    "plt.plot(trainxx[:,0],trainY,'.')"
   ]
  },
  {
   "cell_type": "code",
   "execution_count": 61,
   "metadata": {
    "collapsed": false
   },
   "outputs": [
    {
     "data": {
      "text/plain": [
       "3"
      ]
     },
     "execution_count": 61,
     "metadata": {},
     "output_type": "execute_result"
    }
   ],
   "source": [
    "len(trainX[0,0])"
   ]
  },
  {
   "cell_type": "code",
   "execution_count": 70,
   "metadata": {
    "collapsed": false
   },
   "outputs": [
    {
     "data": {
      "text/plain": [
       "<keras.callbacks.History at 0x111c19a90>"
      ]
     },
     "execution_count": 70,
     "metadata": {},
     "output_type": "execute_result"
    }
   ],
   "source": [
    "# create and fit the LSTM network\n",
    "model = Sequential()\n",
    "model.add(LSTM(4, input_dim=look_back))\n",
    "model.add(Dense(1))\n",
    "model.compile(loss='mean_squared_error', optimizer='adam')\n",
    "model.fit(trainX, trainY, nb_epoch=24, batch_size=1, verbose=0)"
   ]
  },
  {
   "cell_type": "code",
   "execution_count": 25,
   "metadata": {
    "collapsed": false
   },
   "outputs": [
    {
     "name": "stdout",
     "output_type": "stream",
     "text": [
      "Train Score: 22.87 RMSE\n",
      "Test Score: 53.86 RMSE\n"
     ]
    }
   ],
   "source": [
    "# make predictions\n",
    "trainPredict = model.predict(trainX)\n",
    "testPredict = model.predict(testX)\n",
    "# invert predictions\n",
    "trainPredict = scaler.inverse_transform(trainPredict)\n",
    "trainY = scaler.inverse_transform([trainY])\n",
    "testPredict = scaler.inverse_transform(testPredict)\n",
    "testY = scaler.inverse_transform([testY])\n",
    "# calculate root mean squared error\n",
    "trainScore = math.sqrt(mean_squared_error(trainY[0], trainPredict[:,0]))\n",
    "print('Train Score: %.2f RMSE' % (trainScore))\n",
    "testScore = math.sqrt(mean_squared_error(testY[0], testPredict[:,0]))\n",
    "print('Test Score: %.2f RMSE' % (testScore))"
   ]
  },
  {
   "cell_type": "code",
   "execution_count": 26,
   "metadata": {
    "collapsed": false
   },
   "outputs": [
    {
     "data": {
      "image/png": "[encoded data removed]",
      "text/plain": [
       "<matplotlib.figure.Figure at 0x10eb3e310>"
      ]
     },
     "metadata": {},
     "output_type": "display_data"
    }
   ],
   "source": [
    "# shift train predictions for plotting\n",
    "trainPredictPlot = numpy.empty_like(dataset)\n",
    "trainPredictPlot[:, :] = numpy.nan\n",
    "trainPredictPlot[look_back:len(trainPredict)+look_back, :] = trainPredict\n",
    "# shift test predictions for plotting\n",
    "testPredictPlot = numpy.empty_like(dataset)\n",
    "testPredictPlot[:, :] = numpy.nan\n",
    "testPredictPlot[len(trainPredict)+(look_back*2)+1:len(dataset)-1, :] = testPredict\n",
    "# plot baseline and predictions\n",
    "plt.plot(scaler.inverse_transform(dataset))\n",
    "plt.plot(trainPredictPlot)\n",
    "plt.plot(testPredictPlot)\n",
    "plt.show()"
   ]
  },
  {
   "cell_type": "code",
   "execution_count": 76,
   "metadata": {
    "collapsed": false
   },
   "outputs": [
    {
     "name": "stdout",
     "output_type": "stream",
     "text": [
      "Train on 1000 samples, validate on 100 samples\n",
      "Epoch 1/5\n",
      "1000/1000 [==============================] - 4s - loss: 0.1430 - acc: 0.1080 - val_loss: 0.0885 - val_acc: 0.1500\n",
      "Epoch 2/5\n",
      "1000/1000 [==============================] - 3s - loss: 0.0849 - acc: 0.1010 - val_loss: 0.0876 - val_acc: 0.0800\n",
      "Epoch 3/5\n",
      "1000/1000 [==============================] - 2s - loss: 0.0852 - acc: 0.0820 - val_loss: 0.0925 - val_acc: 0.1300\n",
      "Epoch 4/5\n",
      "1000/1000 [==============================] - 3s - loss: 0.0846 - acc: 0.1020 - val_loss: 0.0875 - val_acc: 0.1400\n",
      "Epoch 5/5\n",
      "1000/1000 [==============================] - 3s - loss: 0.0846 - acc: 0.0790 - val_loss: 0.0881 - val_acc: 0.1200\n"
     ]
    },
    {
     "data": {
      "text/plain": [
       "<keras.callbacks.History at 0x11e566290>"
      ]
     },
     "execution_count": 76,
     "metadata": {},
     "output_type": "execute_result"
    }
   ],
   "source": [
    "from keras.models import Sequential\n",
    "from keras.layers import LSTM, Dense\n",
    "import numpy as np\n",
    "\n",
    "data_dim = 16\n",
    "timesteps = 8\n",
    "nb_classes = 10\n",
    "\n",
    "# expected input data shape: (batch_size, timesteps, data_dim)\n",
    "model = Sequential()\n",
    "model.add(LSTM(32, return_sequences=True,\n",
    "               input_shape=(timesteps, data_dim)))  # returns a sequence of vectors of dimension 32\n",
    "model.add(LSTM(32, return_sequences=True))  # returns a sequence of vectors of dimension 32\n",
    "model.add(LSTM(32))  # return a single vector of dimension 32\n",
    "model.add(Dense(10, activation='linear'))\n",
    "\n",
    "model.compile(loss='mean_squared_error',\n",
    "              optimizer='rmsprop',\n",
    "              metrics=['accuracy'])\n",
    "\n",
    "# generate dummy training data\n",
    "x_train = np.random.random((1000, timesteps, data_dim))\n",
    "y_train = np.random.random((1000, nb_classes))\n",
    "\n",
    "# generate dummy validation data\n",
    "x_val = np.random.random((100, timesteps, data_dim))\n",
    "y_val = np.random.random((100, nb_classes))\n",
    "\n",
    "model.fit(x_train, y_train,\n",
    "          batch_size=64, nb_epoch=5,\n",
    "          validation_data=(x_val, y_val))"
   ]
  },
  {
   "cell_type": "code",
   "execution_count": 75,
   "metadata": {
    "collapsed": false
   },
   "outputs": [
    {
     "data": {
      "text/plain": [
       "array([[ 0.23260718,  0.86918483,  0.84079141,  0.18223105,  0.48418349,\n",
       "         0.18249155,  0.247564  ,  0.27681825,  0.34058501,  0.94552613,\n",
       "         0.3261526 ,  0.79921224,  0.2512571 ,  0.82983161,  0.54943414,\n",
       "         0.08213979],\n",
       "       [ 0.6775702 ,  0.66069364,  0.96655121,  0.35248327,  0.27955145,\n",
       "         0.16020918,  0.7170223 ,  0.25502572,  0.61711633,  0.03427906,\n",
       "         0.57811996,  0.33292227,  0.20474206,  0.68227823,  0.42645915,\n",
       "         0.91191437],\n",
       "       [ 0.19373284,  0.93489066,  0.24375268,  0.28362323,  0.87005987,\n",
       "         0.50121295,  0.77137291,  0.90288043,  0.37929713,  0.20672546,\n",
       "         0.89026851,  0.31459913,  0.11771617,  0.19946103,  0.33568645,\n",
       "         0.1958226 ],\n",
       "       [ 0.24070819,  0.93802775,  0.92093026,  0.79625583,  0.93804502,\n",
       "         0.32995428,  0.27448339,  0.85540889,  0.87331934,  0.11237933,\n",
       "         0.16924879,  0.77518012,  0.72658721,  0.08100204,  0.53487139,\n",
       "         0.49379757],\n",
       "       [ 0.03713259,  0.26463561,  0.78942799,  0.32280221,  0.28226366,\n",
       "         0.90254536,  0.23375901,  0.38357474,  0.57568191,  0.87832618,\n",
       "         0.00341876,  0.52852188,  0.05743233,  0.37401184,  0.23344535,\n",
       "         0.44268614],\n",
       "       [ 0.27515236,  0.71438835,  0.60491426,  0.39300724,  0.07287706,\n",
       "         0.66940186,  0.76524866,  0.81002621,  0.81132136,  0.12260693,\n",
       "         0.40291341,  0.87331366,  0.29308158,  0.94638343,  0.46932135,\n",
       "         0.96312524],\n",
       "       [ 0.29363721,  0.17331991,  0.98983175,  0.65854914,  0.91977589,\n",
       "         0.23408409,  0.58786206,  0.76256451,  0.14329821,  0.18031473,\n",
       "         0.3685999 ,  0.14173091,  0.46903475,  0.66459934,  0.84332531,\n",
       "         0.92023751],\n",
       "       [ 0.29146012,  0.04647854,  0.10723748,  0.81206074,  0.39129358,\n",
       "         0.75492272,  0.33606233,  0.9950681 ,  0.44570724,  0.31147073,\n",
       "         0.10885827,  0.0222946 ,  0.79940305,  0.41678713,  0.96222152,\n",
       "         0.70984978]])"
      ]
     },
     "execution_count": 75,
     "metadata": {},
     "output_type": "execute_result"
    }
   ],
   "source": [
    "x_train[0]"
   ]
  },
  {
   "cell_type": "code",
   "execution_count": null,
   "metadata": {
    "collapsed": true
   },
   "outputs": [],
   "source": []
  }
 ],
 "metadata": {
  "kernelspec": {
   "display_name": "Python 2",
   "language": "python",
   "name": "python2"
  },
  "language_info": {
   "codemirror_mode": {
    "name": "ipython",
    "version": 2
   },
   "file_extension": ".py",
   "mimetype": "text/x-python",
   "name": "python",
   "nbconvert_exporter": "python",
   "pygments_lexer": "ipython2",
   "version": "2.7.10"
  }
 },
 "nbformat": 4,
 "nbformat_minor": 0
}
