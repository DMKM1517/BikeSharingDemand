{
 "cells": [
  {
   "cell_type": "code",
   "execution_count": 59,
   "metadata": {
    "collapsed": false
   },
   "outputs": [],
   "source": [
    "from sklearn.neural_network import MLPRegressor\n",
    "import pandas as pd\n",
    "import numpy as np \n",
    "import matplotlib.pyplot as plt\n",
    "%matplotlib inline\n",
    "from sklearn import preprocessing  \n",
    "import time\n",
    "from sklearn import datasets\n",
    "from sklearn.model_selection import train_test_split\n",
    "from sklearn.model_selection import GridSearchCV\n",
    "from sklearn.metrics import classification_report\n",
    "from sklearn.svm import SVC"
   ]
  },
  {
   "cell_type": "code",
   "execution_count": 60,
   "metadata": {
    "collapsed": true
   },
   "outputs": [],
   "source": [
    "def rmsle(y_pred, y_actual):\n",
    "    y_pred = y_pred.astype(int)\n",
    "    y_pred[y_pred<0] = 0\n",
    "    diff = np.log(y_pred + 1) - np.log(y_actual + 1)\n",
    "    mean_error = np.square(diff).mean()\n",
    "    return np.sqrt(mean_error)"
   ]
  },
  {
   "cell_type": "code",
   "execution_count": 61,
   "metadata": {
    "collapsed": true
   },
   "outputs": [],
   "source": [
    "df_train = pd.read_csv(\"../train.csv\")\n",
    "df_test = pd.read_csv(\"../test.csv\")"
   ]
  },
  {
   "cell_type": "code",
   "execution_count": 62,
   "metadata": {
    "collapsed": false
   },
   "outputs": [],
   "source": [
    "df_train['month'] = pd.DatetimeIndex(df_train.datetime).month\n",
    "df_train['day'] = pd.DatetimeIndex(df_train.datetime).dayofweek\n",
    "df_train['hour'] = pd.DatetimeIndex(df_train.datetime).hour\n",
    "df_train['year'] = pd.DatetimeIndex(df_train.datetime).year\n",
    "#df_train = df_train.drop(['datetime','casual','registered'],axis=1)\n",
    "df_train = df_train.drop(['datetime'],axis=1)"
   ]
  },
  {
   "cell_type": "code",
   "execution_count": 63,
   "metadata": {
    "collapsed": true
   },
   "outputs": [],
   "source": [
    "#df_train_train = df_train.drop(['count','registered','casual','holiday','workingday','weather','season'],axis = 1)\n",
    "#df_train_train = df_train.drop(['count','registered','casual'],axis = 1)\n",
    "#df_train_target_a = df_train['casual']\n",
    "#df_train_target_b = df_train['registered']\n",
    "#df_train_target_c = df_train['count']"
   ]
  },
  {
   "cell_type": "code",
   "execution_count": 64,
   "metadata": {
    "collapsed": false
   },
   "outputs": [],
   "source": [
    "df_train_unique = df_train[['season','holiday','workingday','weather']].drop_duplicates()\n",
    "df_train_unique = pd.DataFrame(df_train_unique.values)\n",
    "df_train_unique.columns = ['season','holiday','workingday','weather']\n",
    "df_train_unique_i = df_train_unique.iloc[[0]]"
   ]
  },
  {
   "cell_type": "code",
   "execution_count": 65,
   "metadata": {
    "collapsed": false
   },
   "outputs": [],
   "source": [
    "df_in = df_train[(df_train['season']==df_train_unique_i['season'].values[0])\n",
    "                &(df_train['holiday']==df_train_unique_i['holiday'].values[0])\n",
    "                &(df_train['workingday']==df_train_unique_i['workingday'].values[0])\n",
    "                &(df_train['weather']==df_train_unique_i['weather'].values[0])]\n",
    "df_target = df_in\n",
    "arch = (100,)*30\n",
    "iterations = 10000"
   ]
  },
  {
   "cell_type": "code",
   "execution_count": 66,
   "metadata": {
    "collapsed": false
   },
   "outputs": [],
   "source": [
    "def ann_train(df_in,df_target,arch,iterations):\n",
    "    params = {#'activation' :'tanh', \n",
    "              'solver':'adam', \n",
    "              'hidden_layer_sizes': arch,\n",
    "              'verbose':False,\n",
    "              'learning_rate':'adaptive',\n",
    "              'warm_start':False, \n",
    "              'tol':1e-30, \n",
    "              'max_iter':iterations,\n",
    "              'early_stopping':False}\n",
    "    df_train_strip = df_in.drop(['count','registered','casual','holiday','workingday','weather','season'],axis = 1)\n",
    "    df_target_strip = df_target[['casual','registered','count']] \n",
    "    #df_train_strip = df_in\n",
    "    #df_target_strip = df_target\n",
    "    df_train_train_a_1 = df_train_strip[0:int(len(df_train_strip )*.8)]\n",
    "    df_train_train_a_2 = df_train_strip[int(len(df_train_strip)*.8)+1:len(df_train_strip)]\n",
    "    df_train_target_a_1 = df_target_strip[0:int(len(df_target_strip)*.8)]\n",
    "    df_train_target_a_2 = df_target_strip[int(len(df_target_strip)*.8)+1:len(df_target_strip)]\n",
    "    time_start = time.clock()\n",
    "    ann1 = MLPRegressor(**params).fit(preprocessing.scale(df_train_train_a_1),df_train_target_a_1['casual'])\n",
    "    ann2 = MLPRegressor(**params).fit(preprocessing.scale(df_train_train_a_1),df_train_target_a_1['registered'])\n",
    "    ann3 = MLPRegressor(**params).fit(preprocessing.scale(df_train_train_a_1),df_train_target_a_1['count'])\n",
    "    time_elapsed = (time.clock() - time_start)\n",
    "    fit1 = ann1.score(preprocessing.scale(df_train_train_a_1),df_train_target_a_1['casual'])\n",
    "    fit2 = ann2.score(preprocessing.scale(df_train_train_a_1),df_train_target_a_1['registered'])\n",
    "    fit3 = ann3.score(preprocessing.scale(df_train_train_a_1),df_train_target_a_1['count'])\n",
    "    fit = np.mean([fit1,fit2])\n",
    "    pred_test1 = ann1.predict(preprocessing.scale(df_train_train_a_2))\n",
    "    pred_test2 = ann2.predict(preprocessing.scale(df_train_train_a_2))\n",
    "    pred_test3 = ann3.predict(preprocessing.scale(df_train_train_a_2))\n",
    "    pred_test = pred_test1 + pred_test2\n",
    "    pred = np.array(pred_test)\n",
    "    target = np.array(df_train_target_a_2['count'].values)\n",
    "    error =  rmsle(pred_test,target)\n",
    "    fitplot = plt.plot(pred_test,target,'.')\n",
    "    return {'time' : time_elapsed,'fit' : fit, 'error' : error, 'ann1': ann1, 'ann2': ann2,'ann3': ann3}"
   ]
  },
  {
   "cell_type": "code",
   "execution_count": 67,
   "metadata": {
    "collapsed": false
   },
   "outputs": [
    {
     "name": "stdout",
     "output_type": "stream",
     "text": [
      "0.861665913029\n"
     ]
    },
    {
     "data": {
      "image/png": "[encoded data removed]",
      "text/plain": [
       "<matplotlib.figure.Figure at 0x10963bed0>"
      ]
     },
     "metadata": {},
     "output_type": "display_data"
    }
   ],
   "source": [
    "df_in = df_train[(df_train['year']==2011)]\n",
    "df_in = df_in.drop(['year'], axis=1)\n",
    "df_target = df_in\n",
    "m1 = ann_train(df_in,df_target,arch,iterations)\n",
    "print m1['fit']\n",
    "\n",
    "df_test_test = df_test.drop(['holiday','workingday','weather','season'],axis = 1)\n",
    "df_test_test['month'] = pd.DatetimeIndex(df_test_test.datetime).month\n",
    "df_test_test['day'] = pd.DatetimeIndex(df_test_test.datetime).dayofweek\n",
    "df_test_test['hour'] = pd.DatetimeIndex(df_test_test.datetime).hour\n",
    "df_test_test['year'] = pd.DatetimeIndex(df_test_test.datetime).year\n",
    "df_test_test = df_test_test.drop(['datetime'],axis = 1)\n",
    "\n",
    "df_test_test = df_test_test[df_test_test['year']==2011]\n",
    "df_test_test = df_test_test.drop(['year'],axis = 1)\n",
    "\n",
    "out1 = m1['ann1'].predict(preprocessing.scale(df_test_test))\n",
    "out2 = m1['ann2'].predict(preprocessing.scale(df_test_test))\n",
    "out3 = m1['ann3'].predict(preprocessing.scale(df_test_test))\n",
    "outm1 = out1 + out2\n",
    "outm1 = outm1.astype(int)\n",
    "outm1[outm1<0] = 0"
   ]
  },
  {
   "cell_type": "code",
   "execution_count": 68,
   "metadata": {
    "collapsed": false
   },
   "outputs": [
    {
     "name": "stdout",
     "output_type": "stream",
     "text": [
      "0.913075954452\n"
     ]
    },
    {
     "data": {
      "image/png": "[encoded data removed]",
      "text/plain": [
       "<matplotlib.figure.Figure at 0x108ea1f90>"
      ]
     },
     "metadata": {},
     "output_type": "display_data"
    }
   ],
   "source": [
    "df_in = df_train[(df_train['year']==2012)]\n",
    "df_in = df_in.drop(['year'], axis=1)\n",
    "df_target = df_in\n",
    "m2 = ann_train(df_in,df_target,arch,iterations)\n",
    "print m2['fit']\n",
    "\n",
    "df_test_test = df_test.drop(['holiday','workingday','weather','season'],axis = 1)\n",
    "df_test_test['month'] = pd.DatetimeIndex(df_test_test.datetime).month\n",
    "df_test_test['day'] = pd.DatetimeIndex(df_test_test.datetime).dayofweek\n",
    "df_test_test['hour'] = pd.DatetimeIndex(df_test_test.datetime).hour\n",
    "df_test_test['year'] = pd.DatetimeIndex(df_test_test.datetime).year\n",
    "df_test_test = df_test_test.drop(['datetime'],axis = 1)\n",
    "\n",
    "df_test_test = df_test_test[df_test_test['year']==2012]\n",
    "df_test_test = df_test_test.drop(['year'],axis = 1)\n",
    "\n",
    "out1 = m2['ann1'].predict(preprocessing.scale(df_test_test))\n",
    "out2 = m2['ann2'].predict(preprocessing.scale(df_test_test))\n",
    "out3 = m2['ann3'].predict(preprocessing.scale(df_test_test))\n",
    "outm2 = out1 + out2\n",
    "outm2 = outm2.astype(int)\n",
    "outm2[outm2<0] = 0"
   ]
  },
  {
   "cell_type": "code",
   "execution_count": 69,
   "metadata": {
    "collapsed": false
   },
   "outputs": [],
   "source": [
    "out = np.append(np.array(outm1),(np.array(outm2)))\n",
    "pred = pd.DataFrame({'datetime': df_test['datetime'],'count': out})\n",
    "pred = pred[['datetime','count']]"
   ]
  },
  {
   "cell_type": "code",
   "execution_count": 70,
   "metadata": {
    "collapsed": true
   },
   "outputs": [],
   "source": [
    "pred.to_csv(\"pred.csv\", index = False)"
   ]
  },
  {
   "cell_type": "code",
   "execution_count": 71,
   "metadata": {
    "collapsed": false
   },
   "outputs": [
    {
     "data": {
      "text/plain": [
       "[<matplotlib.lines.Line2D at 0x109454890>]"
      ]
     },
     "execution_count": 71,
     "metadata": {},
     "output_type": "execute_result"
    },
    {
     "data": {
      "image/png": "[encoded data removed]",
      "text/plain": [
       "<matplotlib.figure.Figure at 0x10b7de550>"
      ]
     },
     "metadata": {},
     "output_type": "display_data"
    }
   ],
   "source": [
    "plt.plot(out)"
   ]
  },
  {
   "cell_type": "code",
   "execution_count": 73,
   "metadata": {
    "collapsed": false
   },
   "outputs": [
    {
     "data": {
      "text/plain": [
       "[<matplotlib.lines.Line2D at 0x10b495b50>]"
      ]
     },
     "execution_count": 73,
     "metadata": {},
     "output_type": "execute_result"
    },
    {
     "data": {
      "image/png": "[encoded data removed]",
      "text/plain": [
       "<matplotlib.figure.Figure at 0x10b77ab90>"
      ]
     },
     "metadata": {},
     "output_type": "display_data"
    }
   ],
   "source": [
    "plt.plot(df_train['count'])"
   ]
  },
  {
   "cell_type": "code",
   "execution_count": null,
   "metadata": {
    "collapsed": false
   },
   "outputs": [],
   "source": [
    "plt.plot(target-pred_test)"
   ]
  },
  {
   "cell_type": "code",
   "execution_count": null,
   "metadata": {
    "collapsed": false
   },
   "outputs": [],
   "source": [
    "#df_test_test = df_test\n",
    "df_test_test = df_test.drop(['holiday','workingday','weather','season'],axis = 1)\n",
    "df_test_test['month'] = pd.DatetimeIndex(df_test_test.datetime).month\n",
    "df_test_test['day'] = pd.DatetimeIndex(df_test_test.datetime).dayofweek\n",
    "df_test_test['hour'] = pd.DatetimeIndex(df_test_test.datetime).hour\n",
    "df_test_test = df_test_test.drop(['datetime'],axis = 1)"
   ]
  },
  {
   "cell_type": "code",
   "execution_count": null,
   "metadata": {
    "collapsed": false
   },
   "outputs": [],
   "source": [
    "out1 = ann1.predict(preprocessing.scale(df_test_test))\n",
    "out2 = ann2.predict(preprocessing.scale(df_test_test))\n",
    "out3 = ann3.predict(preprocessing.scale(df_test_test))\n",
    "out = out1 + out2\n",
    "\n",
    "#out = out3"
   ]
  },
  {
   "cell_type": "code",
   "execution_count": null,
   "metadata": {
    "collapsed": false
   },
   "outputs": [],
   "source": [
    "out = out.astype(int)\n",
    "out[out<0] = 0"
   ]
  },
  {
   "cell_type": "code",
   "execution_count": null,
   "metadata": {
    "collapsed": false
   },
   "outputs": [],
   "source": [
    "pred = pd.DataFrame({'datetime': df_test['datetime'],'count': out})\n",
    "pred = pred[['datetime','count']]"
   ]
  },
  {
   "cell_type": "code",
   "execution_count": null,
   "metadata": {
    "collapsed": false
   },
   "outputs": [],
   "source": [
    "pred.to_csv(\"pred.csv\", index = False)"
   ]
  },
  {
   "cell_type": "code",
   "execution_count": null,
   "metadata": {
    "collapsed": false
   },
   "outputs": [],
   "source": [
    "plt.plot(out1,out2,'.')"
   ]
  },
  {
   "cell_type": "code",
   "execution_count": null,
   "metadata": {
    "collapsed": false
   },
   "outputs": [],
   "source": [
    "#plt.plot(out,out3,'.')"
   ]
  },
  {
   "cell_type": "code",
   "execution_count": null,
   "metadata": {
    "collapsed": false
   },
   "outputs": [],
   "source": [
    "plt.plot(out,'.')"
   ]
  },
  {
   "cell_type": "code",
   "execution_count": null,
   "metadata": {
    "collapsed": false
   },
   "outputs": [],
   "source": [
    "plt.plot(df_target_strip['casual'],ann1.predict(preprocessing.scale(df_train_strip)) ,'.')\n",
    "plt.show()\n",
    "plt.plot(df_target_strip['registered'],ann2.predict(preprocessing.scale(df_train_strip)) ,'.')"
   ]
  },
  {
   "cell_type": "code",
   "execution_count": null,
   "metadata": {
    "collapsed": false
   },
   "outputs": [],
   "source": [
    "plt.plot(ann1.predict(preprocessing.scale(df_train_strip)) ,'.')\n",
    "plt.show()\n",
    "plt.plot(ann2.predict(preprocessing.scale(df_train_strip)) ,'.')"
   ]
  },
  {
   "cell_type": "code",
   "execution_count": 33,
   "metadata": {
    "collapsed": false
   },
   "outputs": [
    {
     "ename": "NameError",
     "evalue": "name 'df_target_strip' is not defined",
     "output_type": "error",
     "traceback": [
      "\u001b[0;31m---------------------------------------------------------------------------\u001b[0m",
      "\u001b[0;31mNameError\u001b[0m                                 Traceback (most recent call last)",
      "\u001b[0;32m<ipython-input-33-e3f63b203258>\u001b[0m in \u001b[0;36m<module>\u001b[0;34m()\u001b[0m\n\u001b[1;32m      1\u001b[0m \u001b[0ml1\u001b[0m \u001b[0;34m=\u001b[0m \u001b[0;36m0\u001b[0m\u001b[0;34m\u001b[0m\u001b[0m\n\u001b[0;32m----> 2\u001b[0;31m \u001b[0ml2\u001b[0m \u001b[0;34m=\u001b[0m \u001b[0ml1\u001b[0m \u001b[0;34m+\u001b[0m  \u001b[0mlen\u001b[0m\u001b[0;34m(\u001b[0m\u001b[0mdf_target_strip\u001b[0m\u001b[0;34m[\u001b[0m\u001b[0;34m'count'\u001b[0m\u001b[0;34m]\u001b[0m\u001b[0;34m)\u001b[0m\u001b[0;34m\u001b[0m\u001b[0m\n\u001b[0m\u001b[1;32m      3\u001b[0m \u001b[0ma\u001b[0m \u001b[0;34m=\u001b[0m \u001b[0mdf_target_strip\u001b[0m\u001b[0;34m[\u001b[0m\u001b[0;34m'count'\u001b[0m\u001b[0;34m]\u001b[0m \u001b[0;34m[\u001b[0m\u001b[0ml1\u001b[0m\u001b[0;34m:\u001b[0m\u001b[0ml2\u001b[0m\u001b[0;34m]\u001b[0m\u001b[0;34m\u001b[0m\u001b[0m\n\u001b[1;32m      4\u001b[0m b = ( ann1.predict(preprocessing.scale(df_train_strip)) \n\u001b[1;32m      5\u001b[0m     \u001b[0;34m+\u001b[0m \u001b[0mann2\u001b[0m\u001b[0;34m.\u001b[0m\u001b[0mpredict\u001b[0m\u001b[0;34m(\u001b[0m\u001b[0mpreprocessing\u001b[0m\u001b[0;34m.\u001b[0m\u001b[0mscale\u001b[0m\u001b[0;34m(\u001b[0m\u001b[0mdf_train_strip\u001b[0m\u001b[0;34m)\u001b[0m\u001b[0;34m)\u001b[0m\u001b[0;34m\u001b[0m\u001b[0m\n",
      "\u001b[0;31mNameError\u001b[0m: name 'df_target_strip' is not defined"
     ]
    }
   ],
   "source": [
    "l1 = 0\n",
    "l2 = l1 +  len(df_target_strip['count'])\n",
    "a = df_target_strip['count'] [l1:l2]\n",
    "b = ( ann1.predict(preprocessing.scale(df_train_strip)) \n",
    "    + ann2.predict(preprocessing.scale(df_train_strip))\n",
    "    )[l1:l2]\n",
    "b = b.astype(int)\n",
    "b[b<0]=0\n",
    "c = ann3.predict(preprocessing.scale(df_train_strip)) [l1:l2]\n",
    "c = c.astype(int)\n",
    "c = np.array(c)\n",
    "c[c<0]=0\n",
    "plt.plot(range(len(a)),a,range(len(b)),b,range(len(c)),c)"
   ]
  },
  {
   "cell_type": "code",
   "execution_count": null,
   "metadata": {
    "collapsed": false
   },
   "outputs": [],
   "source": [
    "rmsle(a,b)"
   ]
  },
  {
   "cell_type": "code",
   "execution_count": null,
   "metadata": {
    "collapsed": false
   },
   "outputs": [],
   "source": [
    "rmsle(a,c)"
   ]
  },
  {
   "cell_type": "code",
   "execution_count": null,
   "metadata": {
    "collapsed": true
   },
   "outputs": [],
   "source": []
  },
  {
   "cell_type": "code",
   "execution_count": null,
   "metadata": {
    "collapsed": true
   },
   "outputs": [],
   "source": []
  },
  {
   "cell_type": "code",
   "execution_count": null,
   "metadata": {
    "collapsed": true
   },
   "outputs": [],
   "source": []
  },
  {
   "cell_type": "code",
   "execution_count": null,
   "metadata": {
    "collapsed": true
   },
   "outputs": [],
   "source": []
  }
 ],
 "metadata": {
  "kernelspec": {
   "display_name": "Python 2",
   "language": "python",
   "name": "python2"
  },
  "language_info": {
   "codemirror_mode": {
    "name": "ipython",
    "version": 2
   },
   "file_extension": ".py",
   "mimetype": "text/x-python",
   "name": "python",
   "nbconvert_exporter": "python",
   "pygments_lexer": "ipython2",
   "version": "2.7.10"
  }
 },
 "nbformat": 4,
 "nbformat_minor": 0
}
