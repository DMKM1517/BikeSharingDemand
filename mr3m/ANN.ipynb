{
 "cells": [
  {
   "cell_type": "code",
   "execution_count": 1,
   "metadata": {
    "collapsed": false
   },
   "outputs": [],
   "source": [
    "from sklearn.neural_network import MLPClassifier\n",
    "import pandas as pd\n",
    "import numpy as np\n",
    "import matplotlib.pyplot as plt\n",
    "%matplotlib inline\n",
    "from sklearn import preprocessing  \n",
    "import time"
   ]
  },
  {
   "cell_type": "code",
   "execution_count": 2,
   "metadata": {
    "collapsed": true
   },
   "outputs": [],
   "source": [
    "def rmsle(y_pred, y_actual):\n",
    "    diff = np.log(y_pred + 1) - np.log(y_actual + 1)\n",
    "    mean_error = np.square(diff).mean()\n",
    "    return np.sqrt(mean_error)"
   ]
  },
  {
   "cell_type": "code",
   "execution_count": 3,
   "metadata": {
    "collapsed": true
   },
   "outputs": [],
   "source": [
    "df_train = pd.read_csv(\"../train.csv\")\n",
    "df_test = pd.read_csv(\"../test.csv\")"
   ]
  },
  {
   "cell_type": "code",
   "execution_count": 4,
   "metadata": {
    "collapsed": false
   },
   "outputs": [],
   "source": [
    "df_train['month'] = pd.DatetimeIndex(df_train.datetime).month\n",
    "df_train['day'] = pd.DatetimeIndex(df_train.datetime).dayofweek\n",
    "df_train['hour'] = pd.DatetimeIndex(df_train.datetime).hour\n",
    "#df_train['dayofm'] = pd.DatetimeIndex(df_train.datetime).day\n",
    "df_train = df_train.drop(['datetime','casual','registered'],axis=1)"
   ]
  },
  {
   "cell_type": "code",
   "execution_count": 5,
   "metadata": {
    "collapsed": true
   },
   "outputs": [],
   "source": [
    "df_train_train = df_train.drop(['count','holiday','workingday','weather','season'],axis = 1)\n",
    "df_train_target = df_train['count']"
   ]
  },
  {
   "cell_type": "code",
   "execution_count": 6,
   "metadata": {
    "collapsed": false
   },
   "outputs": [],
   "source": [
    "df_train_train_1 = df_train_train[0:8000]\n",
    "df_train_train_2 = df_train_train[8000+1:len(df_train_train)]\n",
    "df_train_target_1 = df_train_target[0:8000]\n",
    "df_train_target_2 = df_train_target[8000+1:len(df_train_target)]"
   ]
  },
  {
   "cell_type": "code",
   "execution_count": 7,
   "metadata": {
    "collapsed": false
   },
   "outputs": [],
   "source": [
    "def ann_iter(arch,iterations):\n",
    "    params = {'activation' :'tanh', \n",
    "          'solver':'adam', \n",
    "          'hidden_layer_sizes':arch,\n",
    "          'verbose':False,\n",
    "          'learning_rate':'adaptive',\n",
    "          'warm_start':False, \n",
    "          'tol':1e-30, \n",
    "          'max_iter':iterations,\n",
    "          'early_stopping':False}\n",
    "    time_start = time.clock()\n",
    "    ann = MLPClassifier(**params).fit(preprocessing.scale(df_train_train_1),df_train_target_1)\n",
    "    time_elapsed = (time.clock() - time_start)\n",
    "    #print time_elapsed\n",
    "    #print \n",
    "    fit = ann.score(preprocessing.scale(df_train_train_1),df_train_target_1)\n",
    "    pred_test = ann.predict(preprocessing.scale(df_train_train_2))\n",
    "    pred = np.array(pred_test)\n",
    "    target = np.array(df_train_target_2.values)\n",
    "    error =  rmsle(pred_test,target)\n",
    "    fitplot = plt.plot(pred_test,target,'.')\n",
    "    return {'time' : time_elapsed,'fit' : fit, 'error' : error}"
   ]
  },
  {
   "cell_type": "code",
   "execution_count": 8,
   "metadata": {
    "collapsed": false
   },
   "outputs": [],
   "source": [
    "opt_test = pd.DataFrame({'arch': map(lambda p : map(lambda it : (10**it,)*p , range(4)),range(10)[1:])})"
   ]
  },
  {
   "cell_type": "code",
   "execution_count": null,
   "metadata": {
    "collapsed": false,
    "scrolled": false
   },
   "outputs": [],
   "source": [
    "for fam in opt_test['arch']:\n",
    "    for elem in fam:\n",
    "        print elem, ann_iter(elem,1000)\n",
    "    plt.show()"
   ]
  },
  {
   "cell_type": "code",
   "execution_count": 32,
   "metadata": {
    "collapsed": false
   },
   "outputs": [],
   "source": [
    "df_test_test = df_test.drop(['holiday','workingday','weather','season'],axis = 1)\n",
    "df_test_test['month'] = pd.DatetimeIndex(df_test_test.datetime).month\n",
    "df_test_test['day'] = pd.DatetimeIndex(df_test_test.datetime).dayofweek\n",
    "df_test_test['hour'] = pd.DatetimeIndex(df_test_test.datetime).hour\n",
    "df_test_test = df_test_test.drop(['datetime'],axis = 1)"
   ]
  },
  {
   "cell_type": "code",
   "execution_count": 314,
   "metadata": {
    "collapsed": false
   },
   "outputs": [],
   "source": [
    "out = ann.predict(df_test_test)"
   ]
  },
  {
   "cell_type": "code",
   "execution_count": 315,
   "metadata": {
    "collapsed": false
   },
   "outputs": [],
   "source": [
    "pred = pd.DataFrame({'datetime': df_test['datetime'],'count': out})\n",
    "pred = pred[['datetime','count']]"
   ]
  },
  {
   "cell_type": "code",
   "execution_count": 316,
   "metadata": {
    "collapsed": false
   },
   "outputs": [],
   "source": [
    "pred.to_csv(\"pred.csv\", index = False)"
   ]
  },
  {
   "cell_type": "code",
   "execution_count": null,
   "metadata": {
    "collapsed": true
   },
   "outputs": [],
   "source": []
  }
 ],
 "metadata": {
  "kernelspec": {
   "display_name": "Python 2",
   "language": "python",
   "name": "python2"
  },
  "language_info": {
   "codemirror_mode": {
    "name": "ipython",
    "version": 2
   },
   "file_extension": ".py",
   "mimetype": "text/x-python",
   "name": "python",
   "nbconvert_exporter": "python",
   "pygments_lexer": "ipython2",
   "version": "2.7.10"
  }
 },
 "nbformat": 4,
 "nbformat_minor": 0
}
