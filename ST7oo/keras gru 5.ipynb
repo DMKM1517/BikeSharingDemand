{
 "cells": [
  {
   "cell_type": "markdown",
   "metadata": {},
   "source": [
    "# 1 model"
   ]
  },
  {
   "cell_type": "code",
   "execution_count": 1,
   "metadata": {
    "collapsed": false
   },
   "outputs": [
    {
     "name": "stderr",
     "output_type": "stream",
     "text": [
      "Using TensorFlow backend.\n"
     ]
    }
   ],
   "source": [
    "import numpy as np\n",
    "import pandas as pd\n",
    "from keras.models import Sequential\n",
    "from keras.layers import Dense, GRU, Activation\n",
    "from keras.callbacks import TensorBoard\n",
    "from keras.wrappers.scikit_learn import KerasRegressor\n",
    "from sklearn.preprocessing import StandardScaler\n",
    "from datetime import datetime\n",
    "import matplotlib.pyplot as plt\n",
    "%matplotlib inline"
   ]
  },
  {
   "cell_type": "code",
   "execution_count": 2,
   "metadata": {
    "collapsed": false
   },
   "outputs": [
    {
     "name": "stdout",
     "output_type": "stream",
     "text": [
      "(10886, 13)\n"
     ]
    },
    {
     "data": {
      "text/html": [
       "<div>\n",
       "<table border=\"1\" class=\"dataframe\">\n",
       "  <thead>\n",
       "    <tr style=\"text-align: right;\">\n",
       "      <th></th>\n",
       "      <th>datetime</th>\n",
       "      <th>season</th>\n",
       "      <th>holiday</th>\n",
       "      <th>workingday</th>\n",
       "      <th>weather</th>\n",
       "      <th>temp</th>\n",
       "      <th>atemp</th>\n",
       "      <th>humidity</th>\n",
       "      <th>windspeed</th>\n",
       "      <th>casual</th>\n",
       "      <th>registered</th>\n",
       "      <th>count</th>\n",
       "      <th>dataset</th>\n",
       "    </tr>\n",
       "  </thead>\n",
       "  <tbody>\n",
       "    <tr>\n",
       "      <th>0</th>\n",
       "      <td>2011-01-01 00:00:00</td>\n",
       "      <td>1</td>\n",
       "      <td>0</td>\n",
       "      <td>0</td>\n",
       "      <td>1</td>\n",
       "      <td>9.84</td>\n",
       "      <td>14.395</td>\n",
       "      <td>81</td>\n",
       "      <td>0.0</td>\n",
       "      <td>3</td>\n",
       "      <td>13</td>\n",
       "      <td>16</td>\n",
       "      <td>train</td>\n",
       "    </tr>\n",
       "    <tr>\n",
       "      <th>1</th>\n",
       "      <td>2011-01-01 01:00:00</td>\n",
       "      <td>1</td>\n",
       "      <td>0</td>\n",
       "      <td>0</td>\n",
       "      <td>1</td>\n",
       "      <td>9.02</td>\n",
       "      <td>13.635</td>\n",
       "      <td>80</td>\n",
       "      <td>0.0</td>\n",
       "      <td>8</td>\n",
       "      <td>32</td>\n",
       "      <td>40</td>\n",
       "      <td>train</td>\n",
       "    </tr>\n",
       "    <tr>\n",
       "      <th>2</th>\n",
       "      <td>2011-01-01 02:00:00</td>\n",
       "      <td>1</td>\n",
       "      <td>0</td>\n",
       "      <td>0</td>\n",
       "      <td>1</td>\n",
       "      <td>9.02</td>\n",
       "      <td>13.635</td>\n",
       "      <td>80</td>\n",
       "      <td>0.0</td>\n",
       "      <td>5</td>\n",
       "      <td>27</td>\n",
       "      <td>32</td>\n",
       "      <td>train</td>\n",
       "    </tr>\n",
       "    <tr>\n",
       "      <th>3</th>\n",
       "      <td>2011-01-01 03:00:00</td>\n",
       "      <td>1</td>\n",
       "      <td>0</td>\n",
       "      <td>0</td>\n",
       "      <td>1</td>\n",
       "      <td>9.84</td>\n",
       "      <td>14.395</td>\n",
       "      <td>75</td>\n",
       "      <td>0.0</td>\n",
       "      <td>3</td>\n",
       "      <td>10</td>\n",
       "      <td>13</td>\n",
       "      <td>train</td>\n",
       "    </tr>\n",
       "    <tr>\n",
       "      <th>4</th>\n",
       "      <td>2011-01-01 04:00:00</td>\n",
       "      <td>1</td>\n",
       "      <td>0</td>\n",
       "      <td>0</td>\n",
       "      <td>1</td>\n",
       "      <td>9.84</td>\n",
       "      <td>14.395</td>\n",
       "      <td>75</td>\n",
       "      <td>0.0</td>\n",
       "      <td>0</td>\n",
       "      <td>1</td>\n",
       "      <td>1</td>\n",
       "      <td>train</td>\n",
       "    </tr>\n",
       "  </tbody>\n",
       "</table>\n",
       "</div>"
      ],
      "text/plain": [
       "              datetime  season  holiday  workingday  weather  temp   atemp  \\\n",
       "0  2011-01-01 00:00:00       1        0           0        1  9.84  14.395   \n",
       "1  2011-01-01 01:00:00       1        0           0        1  9.02  13.635   \n",
       "2  2011-01-01 02:00:00       1        0           0        1  9.02  13.635   \n",
       "3  2011-01-01 03:00:00       1        0           0        1  9.84  14.395   \n",
       "4  2011-01-01 04:00:00       1        0           0        1  9.84  14.395   \n",
       "\n",
       "   humidity  windspeed  casual  registered  count dataset  \n",
       "0        81        0.0       3          13     16   train  \n",
       "1        80        0.0       8          32     40   train  \n",
       "2        80        0.0       5          27     32   train  \n",
       "3        75        0.0       3          10     13   train  \n",
       "4        75        0.0       0           1      1   train  "
      ]
     },
     "execution_count": 2,
     "metadata": {},
     "output_type": "execute_result"
    }
   ],
   "source": [
    "df_train = pd.read_csv('../train.csv')\n",
    "df_train['dataset'] = 'train'\n",
    "print(df_train.shape)\n",
    "df_train.head()"
   ]
  },
  {
   "cell_type": "code",
   "execution_count": 3,
   "metadata": {
    "collapsed": false
   },
   "outputs": [
    {
     "name": "stdout",
     "output_type": "stream",
     "text": [
      "(6493, 10)\n"
     ]
    },
    {
     "data": {
      "text/html": [
       "<div>\n",
       "<table border=\"1\" class=\"dataframe\">\n",
       "  <thead>\n",
       "    <tr style=\"text-align: right;\">\n",
       "      <th></th>\n",
       "      <th>datetime</th>\n",
       "      <th>season</th>\n",
       "      <th>holiday</th>\n",
       "      <th>workingday</th>\n",
       "      <th>weather</th>\n",
       "      <th>temp</th>\n",
       "      <th>atemp</th>\n",
       "      <th>humidity</th>\n",
       "      <th>windspeed</th>\n",
       "      <th>dataset</th>\n",
       "    </tr>\n",
       "  </thead>\n",
       "  <tbody>\n",
       "    <tr>\n",
       "      <th>0</th>\n",
       "      <td>2011-01-20 00:00:00</td>\n",
       "      <td>1</td>\n",
       "      <td>0</td>\n",
       "      <td>1</td>\n",
       "      <td>1</td>\n",
       "      <td>10.66</td>\n",
       "      <td>11.365</td>\n",
       "      <td>56</td>\n",
       "      <td>26.0027</td>\n",
       "      <td>test</td>\n",
       "    </tr>\n",
       "    <tr>\n",
       "      <th>1</th>\n",
       "      <td>2011-01-20 01:00:00</td>\n",
       "      <td>1</td>\n",
       "      <td>0</td>\n",
       "      <td>1</td>\n",
       "      <td>1</td>\n",
       "      <td>10.66</td>\n",
       "      <td>13.635</td>\n",
       "      <td>56</td>\n",
       "      <td>0.0000</td>\n",
       "      <td>test</td>\n",
       "    </tr>\n",
       "    <tr>\n",
       "      <th>2</th>\n",
       "      <td>2011-01-20 02:00:00</td>\n",
       "      <td>1</td>\n",
       "      <td>0</td>\n",
       "      <td>1</td>\n",
       "      <td>1</td>\n",
       "      <td>10.66</td>\n",
       "      <td>13.635</td>\n",
       "      <td>56</td>\n",
       "      <td>0.0000</td>\n",
       "      <td>test</td>\n",
       "    </tr>\n",
       "    <tr>\n",
       "      <th>3</th>\n",
       "      <td>2011-01-20 03:00:00</td>\n",
       "      <td>1</td>\n",
       "      <td>0</td>\n",
       "      <td>1</td>\n",
       "      <td>1</td>\n",
       "      <td>10.66</td>\n",
       "      <td>12.880</td>\n",
       "      <td>56</td>\n",
       "      <td>11.0014</td>\n",
       "      <td>test</td>\n",
       "    </tr>\n",
       "    <tr>\n",
       "      <th>4</th>\n",
       "      <td>2011-01-20 04:00:00</td>\n",
       "      <td>1</td>\n",
       "      <td>0</td>\n",
       "      <td>1</td>\n",
       "      <td>1</td>\n",
       "      <td>10.66</td>\n",
       "      <td>12.880</td>\n",
       "      <td>56</td>\n",
       "      <td>11.0014</td>\n",
       "      <td>test</td>\n",
       "    </tr>\n",
       "  </tbody>\n",
       "</table>\n",
       "</div>"
      ],
      "text/plain": [
       "             datetime  season  holiday  workingday  weather   temp   atemp  \\\n",
       "0 2011-01-20 00:00:00       1        0           1        1  10.66  11.365   \n",
       "1 2011-01-20 01:00:00       1        0           1        1  10.66  13.635   \n",
       "2 2011-01-20 02:00:00       1        0           1        1  10.66  13.635   \n",
       "3 2011-01-20 03:00:00       1        0           1        1  10.66  12.880   \n",
       "4 2011-01-20 04:00:00       1        0           1        1  10.66  12.880   \n",
       "\n",
       "   humidity  windspeed dataset  \n",
       "0        56    26.0027    test  \n",
       "1        56     0.0000    test  \n",
       "2        56     0.0000    test  \n",
       "3        56    11.0014    test  \n",
       "4        56    11.0014    test  "
      ]
     },
     "execution_count": 3,
     "metadata": {},
     "output_type": "execute_result"
    }
   ],
   "source": [
    "df_test = pd.read_csv('../test.csv')\n",
    "df_test['dataset'] = 'test'\n",
    "df_test['datetime'] = pd.to_datetime(df_test['datetime'])\n",
    "print(df_test.shape)\n",
    "df_test.head()"
   ]
  },
  {
   "cell_type": "code",
   "execution_count": 4,
   "metadata": {
    "collapsed": false
   },
   "outputs": [
    {
     "data": {
      "text/plain": [
       "(17379, 13)"
      ]
     },
     "execution_count": 4,
     "metadata": {},
     "output_type": "execute_result"
    }
   ],
   "source": [
    "df = df_train.copy().append(df_test.copy())\n",
    "df.shape"
   ]
  },
  {
   "cell_type": "code",
   "execution_count": 5,
   "metadata": {
    "collapsed": false
   },
   "outputs": [
    {
     "name": "stdout",
     "output_type": "stream",
     "text": [
      "(17544, 12)\n"
     ]
    },
    {
     "data": {
      "text/html": [
       "<div>\n",
       "<table border=\"1\" class=\"dataframe\">\n",
       "  <thead>\n",
       "    <tr style=\"text-align: right;\">\n",
       "      <th></th>\n",
       "      <th>atemp</th>\n",
       "      <th>casual</th>\n",
       "      <th>count</th>\n",
       "      <th>dataset</th>\n",
       "      <th>holiday</th>\n",
       "      <th>humidity</th>\n",
       "      <th>registered</th>\n",
       "      <th>season</th>\n",
       "      <th>temp</th>\n",
       "      <th>weather</th>\n",
       "      <th>windspeed</th>\n",
       "      <th>workingday</th>\n",
       "    </tr>\n",
       "  </thead>\n",
       "  <tbody>\n",
       "    <tr>\n",
       "      <th>2011-01-01 00:00:00</th>\n",
       "      <td>14.395</td>\n",
       "      <td>3.0</td>\n",
       "      <td>16.0</td>\n",
       "      <td>train</td>\n",
       "      <td>0.0</td>\n",
       "      <td>81.0</td>\n",
       "      <td>13.0</td>\n",
       "      <td>1.0</td>\n",
       "      <td>9.84</td>\n",
       "      <td>1.0</td>\n",
       "      <td>0.0</td>\n",
       "      <td>0.0</td>\n",
       "    </tr>\n",
       "    <tr>\n",
       "      <th>2011-01-01 01:00:00</th>\n",
       "      <td>13.635</td>\n",
       "      <td>8.0</td>\n",
       "      <td>40.0</td>\n",
       "      <td>train</td>\n",
       "      <td>0.0</td>\n",
       "      <td>80.0</td>\n",
       "      <td>32.0</td>\n",
       "      <td>1.0</td>\n",
       "      <td>9.02</td>\n",
       "      <td>1.0</td>\n",
       "      <td>0.0</td>\n",
       "      <td>0.0</td>\n",
       "    </tr>\n",
       "    <tr>\n",
       "      <th>2011-01-01 02:00:00</th>\n",
       "      <td>13.635</td>\n",
       "      <td>5.0</td>\n",
       "      <td>32.0</td>\n",
       "      <td>train</td>\n",
       "      <td>0.0</td>\n",
       "      <td>80.0</td>\n",
       "      <td>27.0</td>\n",
       "      <td>1.0</td>\n",
       "      <td>9.02</td>\n",
       "      <td>1.0</td>\n",
       "      <td>0.0</td>\n",
       "      <td>0.0</td>\n",
       "    </tr>\n",
       "    <tr>\n",
       "      <th>2011-01-01 03:00:00</th>\n",
       "      <td>14.395</td>\n",
       "      <td>3.0</td>\n",
       "      <td>13.0</td>\n",
       "      <td>train</td>\n",
       "      <td>0.0</td>\n",
       "      <td>75.0</td>\n",
       "      <td>10.0</td>\n",
       "      <td>1.0</td>\n",
       "      <td>9.84</td>\n",
       "      <td>1.0</td>\n",
       "      <td>0.0</td>\n",
       "      <td>0.0</td>\n",
       "    </tr>\n",
       "    <tr>\n",
       "      <th>2011-01-01 04:00:00</th>\n",
       "      <td>14.395</td>\n",
       "      <td>0.0</td>\n",
       "      <td>1.0</td>\n",
       "      <td>train</td>\n",
       "      <td>0.0</td>\n",
       "      <td>75.0</td>\n",
       "      <td>1.0</td>\n",
       "      <td>1.0</td>\n",
       "      <td>9.84</td>\n",
       "      <td>1.0</td>\n",
       "      <td>0.0</td>\n",
       "      <td>0.0</td>\n",
       "    </tr>\n",
       "  </tbody>\n",
       "</table>\n",
       "</div>"
      ],
      "text/plain": [
       "                      atemp  casual  count dataset  holiday  humidity  \\\n",
       "2011-01-01 00:00:00  14.395     3.0   16.0   train      0.0      81.0   \n",
       "2011-01-01 01:00:00  13.635     8.0   40.0   train      0.0      80.0   \n",
       "2011-01-01 02:00:00  13.635     5.0   32.0   train      0.0      80.0   \n",
       "2011-01-01 03:00:00  14.395     3.0   13.0   train      0.0      75.0   \n",
       "2011-01-01 04:00:00  14.395     0.0    1.0   train      0.0      75.0   \n",
       "\n",
       "                     registered  season  temp  weather  windspeed  workingday  \n",
       "2011-01-01 00:00:00        13.0     1.0  9.84      1.0        0.0         0.0  \n",
       "2011-01-01 01:00:00        32.0     1.0  9.02      1.0        0.0         0.0  \n",
       "2011-01-01 02:00:00        27.0     1.0  9.02      1.0        0.0         0.0  \n",
       "2011-01-01 03:00:00        10.0     1.0  9.84      1.0        0.0         0.0  \n",
       "2011-01-01 04:00:00         1.0     1.0  9.84      1.0        0.0         0.0  "
      ]
     },
     "execution_count": 5,
     "metadata": {},
     "output_type": "execute_result"
    }
   ],
   "source": [
    "df['datetime'] = pd.to_datetime(df['datetime'])\n",
    "df.index = df['datetime']\n",
    "df = df.drop('datetime', axis=1)\n",
    "drange = pd.date_range('2011-01-01 00:00:00', '2012-12-31 23:00:00', freq='H')\n",
    "df = df.reindex(drange)\n",
    "print(df.shape)\n",
    "df.head()"
   ]
  },
  {
   "cell_type": "code",
   "execution_count": 6,
   "metadata": {
    "collapsed": false
   },
   "outputs": [
    {
     "data": {
      "text/plain": [
       "(165, 12)"
      ]
     },
     "execution_count": 6,
     "metadata": {},
     "output_type": "execute_result"
    }
   ],
   "source": [
    "missing = df[pd.isnull(df['atemp'])]\n",
    "missing.shape"
   ]
  },
  {
   "cell_type": "code",
   "execution_count": 7,
   "metadata": {
    "collapsed": true
   },
   "outputs": [],
   "source": [
    "df['atemp'] = df['atemp'].interpolate(method='time')\n",
    "df['holiday'] = df['holiday'].interpolate(method='time').apply(np.round)\n",
    "df['humidity'] = df['humidity'].interpolate(method='time').apply(np.round)\n",
    "df['season'] = df['season'].interpolate(method='time').apply(np.round)\n",
    "df['temp'] = df['temp'].interpolate(method='time')\n",
    "df['weather'] = df['weather'].interpolate(method='time').apply(np.round)\n",
    "df['windspeed'] = df['windspeed'].interpolate(method='time')\n",
    "df['workingday'] = df['workingday'].interpolate(method='time').apply(np.round)\n",
    "df['casual'] = df['casual'].interpolate(method='time').apply(np.round)\n",
    "df['registered'] = df['registered'].interpolate(method='time').apply(np.round)\n",
    "df['count'] = df['count'].interpolate(method='time').apply(np.round)"
   ]
  },
  {
   "cell_type": "code",
   "execution_count": 8,
   "metadata": {
    "collapsed": false,
    "scrolled": false
   },
   "outputs": [
    {
     "data": {
      "text/plain": [
       "(17544, 12)"
      ]
     },
     "execution_count": 8,
     "metadata": {},
     "output_type": "execute_result"
    }
   ],
   "source": [
    "df.loc[missing.index, 'dataset'] = 'train'\n",
    "for year in [2011,2012]:\n",
    "    for m in np.arange(1,13):\n",
    "        df.loc[pd.datetime(year,m,20):pd.datetime(year,m,20)+pd.tseries.offsets.MonthEnd(),'dataset'] = 'test'\n",
    "#         df = df.drop(df[df['dataset']=='train'].loc[pd.datetime(year,m,20):pd.datetime(year,m,20)+pd.tseries.offsets.MonthEnd()].index)\n",
    "df.shape"
   ]
  },
  {
   "cell_type": "code",
   "execution_count": 9,
   "metadata": {
    "collapsed": false
   },
   "outputs": [
    {
     "name": "stdout",
     "output_type": "stream",
     "text": [
      "(17544, 16)\n"
     ]
    },
    {
     "data": {
      "text/html": [
       "<div>\n",
       "<table border=\"1\" class=\"dataframe\">\n",
       "  <thead>\n",
       "    <tr style=\"text-align: right;\">\n",
       "      <th></th>\n",
       "      <th>atemp</th>\n",
       "      <th>casual</th>\n",
       "      <th>count</th>\n",
       "      <th>dataset</th>\n",
       "      <th>holiday</th>\n",
       "      <th>humidity</th>\n",
       "      <th>registered</th>\n",
       "      <th>season</th>\n",
       "      <th>temp</th>\n",
       "      <th>weather</th>\n",
       "      <th>windspeed</th>\n",
       "      <th>workingday</th>\n",
       "      <th>month</th>\n",
       "      <th>day</th>\n",
       "      <th>dayofweek</th>\n",
       "      <th>hour</th>\n",
       "    </tr>\n",
       "  </thead>\n",
       "  <tbody>\n",
       "    <tr>\n",
       "      <th>2011-01-01 00:00:00</th>\n",
       "      <td>14.395</td>\n",
       "      <td>3.0</td>\n",
       "      <td>16.0</td>\n",
       "      <td>train</td>\n",
       "      <td>0.0</td>\n",
       "      <td>81.0</td>\n",
       "      <td>13.0</td>\n",
       "      <td>1.0</td>\n",
       "      <td>9.84</td>\n",
       "      <td>1.0</td>\n",
       "      <td>0.0</td>\n",
       "      <td>0.0</td>\n",
       "      <td>1</td>\n",
       "      <td>1</td>\n",
       "      <td>5</td>\n",
       "      <td>0</td>\n",
       "    </tr>\n",
       "    <tr>\n",
       "      <th>2011-01-01 01:00:00</th>\n",
       "      <td>13.635</td>\n",
       "      <td>8.0</td>\n",
       "      <td>40.0</td>\n",
       "      <td>train</td>\n",
       "      <td>0.0</td>\n",
       "      <td>80.0</td>\n",
       "      <td>32.0</td>\n",
       "      <td>1.0</td>\n",
       "      <td>9.02</td>\n",
       "      <td>1.0</td>\n",
       "      <td>0.0</td>\n",
       "      <td>0.0</td>\n",
       "      <td>1</td>\n",
       "      <td>1</td>\n",
       "      <td>5</td>\n",
       "      <td>1</td>\n",
       "    </tr>\n",
       "    <tr>\n",
       "      <th>2011-01-01 02:00:00</th>\n",
       "      <td>13.635</td>\n",
       "      <td>5.0</td>\n",
       "      <td>32.0</td>\n",
       "      <td>train</td>\n",
       "      <td>0.0</td>\n",
       "      <td>80.0</td>\n",
       "      <td>27.0</td>\n",
       "      <td>1.0</td>\n",
       "      <td>9.02</td>\n",
       "      <td>1.0</td>\n",
       "      <td>0.0</td>\n",
       "      <td>0.0</td>\n",
       "      <td>1</td>\n",
       "      <td>1</td>\n",
       "      <td>5</td>\n",
       "      <td>2</td>\n",
       "    </tr>\n",
       "    <tr>\n",
       "      <th>2011-01-01 03:00:00</th>\n",
       "      <td>14.395</td>\n",
       "      <td>3.0</td>\n",
       "      <td>13.0</td>\n",
       "      <td>train</td>\n",
       "      <td>0.0</td>\n",
       "      <td>75.0</td>\n",
       "      <td>10.0</td>\n",
       "      <td>1.0</td>\n",
       "      <td>9.84</td>\n",
       "      <td>1.0</td>\n",
       "      <td>0.0</td>\n",
       "      <td>0.0</td>\n",
       "      <td>1</td>\n",
       "      <td>1</td>\n",
       "      <td>5</td>\n",
       "      <td>3</td>\n",
       "    </tr>\n",
       "    <tr>\n",
       "      <th>2011-01-01 04:00:00</th>\n",
       "      <td>14.395</td>\n",
       "      <td>0.0</td>\n",
       "      <td>1.0</td>\n",
       "      <td>train</td>\n",
       "      <td>0.0</td>\n",
       "      <td>75.0</td>\n",
       "      <td>1.0</td>\n",
       "      <td>1.0</td>\n",
       "      <td>9.84</td>\n",
       "      <td>1.0</td>\n",
       "      <td>0.0</td>\n",
       "      <td>0.0</td>\n",
       "      <td>1</td>\n",
       "      <td>1</td>\n",
       "      <td>5</td>\n",
       "      <td>4</td>\n",
       "    </tr>\n",
       "  </tbody>\n",
       "</table>\n",
       "</div>"
      ],
      "text/plain": [
       "                      atemp  casual  count dataset  holiday  humidity  \\\n",
       "2011-01-01 00:00:00  14.395     3.0   16.0   train      0.0      81.0   \n",
       "2011-01-01 01:00:00  13.635     8.0   40.0   train      0.0      80.0   \n",
       "2011-01-01 02:00:00  13.635     5.0   32.0   train      0.0      80.0   \n",
       "2011-01-01 03:00:00  14.395     3.0   13.0   train      0.0      75.0   \n",
       "2011-01-01 04:00:00  14.395     0.0    1.0   train      0.0      75.0   \n",
       "\n",
       "                     registered  season  temp  weather  windspeed  workingday  \\\n",
       "2011-01-01 00:00:00        13.0     1.0  9.84      1.0        0.0         0.0   \n",
       "2011-01-01 01:00:00        32.0     1.0  9.02      1.0        0.0         0.0   \n",
       "2011-01-01 02:00:00        27.0     1.0  9.02      1.0        0.0         0.0   \n",
       "2011-01-01 03:00:00        10.0     1.0  9.84      1.0        0.0         0.0   \n",
       "2011-01-01 04:00:00         1.0     1.0  9.84      1.0        0.0         0.0   \n",
       "\n",
       "                     month  day  dayofweek  hour  \n",
       "2011-01-01 00:00:00      1    1          5     0  \n",
       "2011-01-01 01:00:00      1    1          5     1  \n",
       "2011-01-01 02:00:00      1    1          5     2  \n",
       "2011-01-01 03:00:00      1    1          5     3  \n",
       "2011-01-01 04:00:00      1    1          5     4  "
      ]
     },
     "execution_count": 9,
     "metadata": {},
     "output_type": "execute_result"
    }
   ],
   "source": [
    "df['month'] = df.index.month\n",
    "df['day'] = df.index.day\n",
    "df['dayofweek'] = df.index.dayofweek\n",
    "df['hour'] = df.index.hour\n",
    "print(df.shape)\n",
    "df.head()"
   ]
  },
  {
   "cell_type": "code",
   "execution_count": 10,
   "metadata": {
    "collapsed": true
   },
   "outputs": [],
   "source": [
    "# tax day\n",
    "df.loc[pd.datetime(2011,4,15,0):pd.datetime(2011,4,15,23), 'workingday'] = 1\n",
    "df.loc[pd.datetime(2011,4,15,0):pd.datetime(2011,4,15,23), 'holiday'] = 0\n",
    "df.loc[pd.datetime(2012,4,16,0):pd.datetime(2012,4,16,23), 'workingday'] = 1\n",
    "df.loc[pd.datetime(2012,4,16,0):pd.datetime(2012,4,16,23), 'holiday'] = 0\n",
    "\n",
    "# thanksgiving friday\n",
    "df.loc[pd.datetime(2011,11,25,0):pd.datetime(2011,11,25,23), 'workingday'] = 0\n",
    "df.loc[pd.datetime(2011,11,25,0):pd.datetime(2011,11,25,23), 'holiday'] = 1\n",
    "df.loc[pd.datetime(2012,11,23,0):pd.datetime(2012,11,23,23), 'workingday'] = 0\n",
    "df.loc[pd.datetime(2012,11,23,0):pd.datetime(2012,11,23,23), 'holiday'] = 1\n",
    "\n",
    "# christmas eve\n",
    "df.loc[pd.datetime(2011,12,24,0):pd.datetime(2011,12,24,23), 'workingday'] = 0\n",
    "df.loc[pd.datetime(2011,12,24,0):pd.datetime(2011,12,24,23), 'holiday'] = 1\n",
    "df.loc[pd.datetime(2012,12,24,0):pd.datetime(2012,12,24,23), 'workingday'] = 0\n",
    "df.loc[pd.datetime(2012,12,24,0):pd.datetime(2012,12,24,23), 'holiday'] = 1\n",
    "\n",
    "# new year\n",
    "df.loc[pd.datetime(2011,12,31,0):pd.datetime(2011,12,31,23), 'workingday'] = 0\n",
    "df.loc[pd.datetime(2011,12,31,0):pd.datetime(2011,12,31,23), 'holiday'] = 1\n",
    "df.loc[pd.datetime(2012,12,31,0):pd.datetime(2012,12,31,23), 'workingday'] = 0\n",
    "df.loc[pd.datetime(2012,12,31,0):pd.datetime(2012,12,31,23), 'holiday'] = 1"
   ]
  },
  {
   "cell_type": "code",
   "execution_count": 11,
   "metadata": {
    "collapsed": false
   },
   "outputs": [
    {
     "data": {
      "text/html": [
       "<div>\n",
       "<table border=\"1\" class=\"dataframe\">\n",
       "  <thead>\n",
       "    <tr style=\"text-align: right;\">\n",
       "      <th></th>\n",
       "      <th>atemp</th>\n",
       "      <th>casual</th>\n",
       "      <th>count</th>\n",
       "      <th>dataset</th>\n",
       "      <th>holiday</th>\n",
       "      <th>humidity</th>\n",
       "      <th>registered</th>\n",
       "      <th>season</th>\n",
       "      <th>temp</th>\n",
       "      <th>weather</th>\n",
       "      <th>windspeed</th>\n",
       "      <th>workingday</th>\n",
       "      <th>month</th>\n",
       "      <th>day</th>\n",
       "      <th>dayofweek</th>\n",
       "      <th>hour</th>\n",
       "      <th>casual_rush</th>\n",
       "      <th>registered_rush</th>\n",
       "    </tr>\n",
       "  </thead>\n",
       "  <tbody>\n",
       "    <tr>\n",
       "      <th>2011-01-01 00:00:00</th>\n",
       "      <td>14.395</td>\n",
       "      <td>3.0</td>\n",
       "      <td>16.0</td>\n",
       "      <td>train</td>\n",
       "      <td>0.0</td>\n",
       "      <td>81.0</td>\n",
       "      <td>13.0</td>\n",
       "      <td>1.0</td>\n",
       "      <td>9.84</td>\n",
       "      <td>1.0</td>\n",
       "      <td>0.0</td>\n",
       "      <td>0.0</td>\n",
       "      <td>1</td>\n",
       "      <td>1</td>\n",
       "      <td>5</td>\n",
       "      <td>0</td>\n",
       "      <td>0</td>\n",
       "      <td>0</td>\n",
       "    </tr>\n",
       "    <tr>\n",
       "      <th>2011-01-01 01:00:00</th>\n",
       "      <td>13.635</td>\n",
       "      <td>8.0</td>\n",
       "      <td>40.0</td>\n",
       "      <td>train</td>\n",
       "      <td>0.0</td>\n",
       "      <td>80.0</td>\n",
       "      <td>32.0</td>\n",
       "      <td>1.0</td>\n",
       "      <td>9.02</td>\n",
       "      <td>1.0</td>\n",
       "      <td>0.0</td>\n",
       "      <td>0.0</td>\n",
       "      <td>1</td>\n",
       "      <td>1</td>\n",
       "      <td>5</td>\n",
       "      <td>1</td>\n",
       "      <td>0</td>\n",
       "      <td>0</td>\n",
       "    </tr>\n",
       "    <tr>\n",
       "      <th>2011-01-01 02:00:00</th>\n",
       "      <td>13.635</td>\n",
       "      <td>5.0</td>\n",
       "      <td>32.0</td>\n",
       "      <td>train</td>\n",
       "      <td>0.0</td>\n",
       "      <td>80.0</td>\n",
       "      <td>27.0</td>\n",
       "      <td>1.0</td>\n",
       "      <td>9.02</td>\n",
       "      <td>1.0</td>\n",
       "      <td>0.0</td>\n",
       "      <td>0.0</td>\n",
       "      <td>1</td>\n",
       "      <td>1</td>\n",
       "      <td>5</td>\n",
       "      <td>2</td>\n",
       "      <td>0</td>\n",
       "      <td>0</td>\n",
       "    </tr>\n",
       "    <tr>\n",
       "      <th>2011-01-01 03:00:00</th>\n",
       "      <td>14.395</td>\n",
       "      <td>3.0</td>\n",
       "      <td>13.0</td>\n",
       "      <td>train</td>\n",
       "      <td>0.0</td>\n",
       "      <td>75.0</td>\n",
       "      <td>10.0</td>\n",
       "      <td>1.0</td>\n",
       "      <td>9.84</td>\n",
       "      <td>1.0</td>\n",
       "      <td>0.0</td>\n",
       "      <td>0.0</td>\n",
       "      <td>1</td>\n",
       "      <td>1</td>\n",
       "      <td>5</td>\n",
       "      <td>3</td>\n",
       "      <td>0</td>\n",
       "      <td>0</td>\n",
       "    </tr>\n",
       "    <tr>\n",
       "      <th>2011-01-01 04:00:00</th>\n",
       "      <td>14.395</td>\n",
       "      <td>0.0</td>\n",
       "      <td>1.0</td>\n",
       "      <td>train</td>\n",
       "      <td>0.0</td>\n",
       "      <td>75.0</td>\n",
       "      <td>1.0</td>\n",
       "      <td>1.0</td>\n",
       "      <td>9.84</td>\n",
       "      <td>1.0</td>\n",
       "      <td>0.0</td>\n",
       "      <td>0.0</td>\n",
       "      <td>1</td>\n",
       "      <td>1</td>\n",
       "      <td>5</td>\n",
       "      <td>4</td>\n",
       "      <td>0</td>\n",
       "      <td>0</td>\n",
       "    </tr>\n",
       "  </tbody>\n",
       "</table>\n",
       "</div>"
      ],
      "text/plain": [
       "                      atemp  casual  count dataset  holiday  humidity  \\\n",
       "2011-01-01 00:00:00  14.395     3.0   16.0   train      0.0      81.0   \n",
       "2011-01-01 01:00:00  13.635     8.0   40.0   train      0.0      80.0   \n",
       "2011-01-01 02:00:00  13.635     5.0   32.0   train      0.0      80.0   \n",
       "2011-01-01 03:00:00  14.395     3.0   13.0   train      0.0      75.0   \n",
       "2011-01-01 04:00:00  14.395     0.0    1.0   train      0.0      75.0   \n",
       "\n",
       "                     registered  season  temp  weather  windspeed  workingday  \\\n",
       "2011-01-01 00:00:00        13.0     1.0  9.84      1.0        0.0         0.0   \n",
       "2011-01-01 01:00:00        32.0     1.0  9.02      1.0        0.0         0.0   \n",
       "2011-01-01 02:00:00        27.0     1.0  9.02      1.0        0.0         0.0   \n",
       "2011-01-01 03:00:00        10.0     1.0  9.84      1.0        0.0         0.0   \n",
       "2011-01-01 04:00:00         1.0     1.0  9.84      1.0        0.0         0.0   \n",
       "\n",
       "                     month  day  dayofweek  hour  casual_rush  registered_rush  \n",
       "2011-01-01 00:00:00      1    1          5     0            0                0  \n",
       "2011-01-01 01:00:00      1    1          5     1            0                0  \n",
       "2011-01-01 02:00:00      1    1          5     2            0                0  \n",
       "2011-01-01 03:00:00      1    1          5     3            0                0  \n",
       "2011-01-01 04:00:00      1    1          5     4            0                0  "
      ]
     },
     "execution_count": 11,
     "metadata": {},
     "output_type": "execute_result"
    }
   ],
   "source": [
    "cr_w_from = 7\n",
    "cr_w_to = 23\n",
    "cr_nw_from = 10\n",
    "cr_nw_to = 19\n",
    "rr_w_from1 = 7\n",
    "rr_w_to1 = 9\n",
    "rr_w_from2 = 12\n",
    "rr_w_to2 = 21\n",
    "rr_nw_from = 8\n",
    "rr_nw_to = 23\n",
    "df['casual_rush'] = df[['hour', 'workingday']].apply(\n",
    "    lambda x: (0, 1)[\n",
    "        (x['workingday'] == 1 and  cr_w_from <= x['hour'] <= cr_w_to)\n",
    "        or (x['workingday'] == 0 and  cr_nw_from <= x['hour'] <= cr_nw_to)], axis = 1)\n",
    "df['registered_rush'] = df[['hour', 'workingday']].apply(\n",
    "    lambda x: (0, 1)[\n",
    "#         (x['workingday'] == 1 and  rr_w_from1 <= x['hour'] <= rr_w_to2)\n",
    "        (x['workingday'] == 1 and  (rr_w_from1 <= x['hour'] <= rr_w_to1 or rr_w_from2 <= x['hour'] <= rr_w_to2))\n",
    "        or (x['workingday'] == 0 and rr_nw_from <= x['hour'] <= rr_nw_to)], axis = 1)\n",
    "df.head()"
   ]
  },
  {
   "cell_type": "code",
   "execution_count": 12,
   "metadata": {
    "collapsed": true
   },
   "outputs": [],
   "source": [
    "features = ['humidity','atemp','temp','windspeed','weather','season','holiday','workingday','month','day','dayofweek','hour','casual_rush','registered_rush']"
   ]
  },
  {
   "cell_type": "code",
   "execution_count": 16,
   "metadata": {
    "collapsed": false,
    "scrolled": true
   },
   "outputs": [
    {
     "data": {
      "text/plain": [
       "((10947, 14), (10947,))"
      ]
     },
     "execution_count": 16,
     "metadata": {},
     "output_type": "execute_result"
    }
   ],
   "source": [
    "x_complete = df[df['dataset']=='train'][features]\n",
    "y_complete = df[df['dataset']=='train']['count']\n",
    "x_complete.shape, y_complete.shape"
   ]
  },
  {
   "cell_type": "markdown",
   "metadata": {},
   "source": [
    "Reshape functions"
   ]
  },
  {
   "cell_type": "code",
   "execution_count": 24,
   "metadata": {
    "collapsed": true
   },
   "outputs": [],
   "source": [
    "def reshape_training(x, y, ts):\n",
    "    rows = 24*19*24-((ts-1)*24)\n",
    "    dataX = np.zeros((rows, ts, x.shape[1]))\n",
    "    dataY = np.zeros((rows))\n",
    "    print(dataX.shape, dataY.shape)\n",
    "    i = 0\n",
    "    year = 2011\n",
    "    m = 1\n",
    "    d = 1\n",
    "    h = 0\n",
    "    while i < rows:\n",
    "        idx = x.index.get_loc(pd.datetime(year,m,d,h))\n",
    "        dataX[i] = x.ix[idx:idx+ts]\n",
    "        dataY[i] = y.ix[idx+ts-1]\n",
    "        i += 1\n",
    "        h += 1\n",
    "        if d == 19 and h > 23-ts+1:\n",
    "            h = 0\n",
    "            d = 1\n",
    "            m += 1\n",
    "            if m > 12:\n",
    "                m = 1\n",
    "                year += 1\n",
    "        elif h > 23:\n",
    "            h = 0\n",
    "            d += 1\n",
    "    return dataX, dataY\n",
    "\n",
    "def reshape_testing(ts, features):\n",
    "    dataX = np.zeros((len(df_test), ts, len(features)))\n",
    "    i = 0\n",
    "    for j, row in df_test.iterrows():\n",
    "        idx = df.index.get_loc(row['datetime'])\n",
    "        dataX[i] = df.ix[idx-ts+1:idx+1][features]\n",
    "        i += 1\n",
    "    return dataX\n",
    "\n",
    "def write_preds(predictions, year, name):\n",
    "    str_prediction = \"datetime,count\\n\"\n",
    "    tmp = df_test[(df_test['datetime'] >= str(year)+'-1-1') & (df_test['datetime'] < str(year+1)+'-1-1')]\n",
    "    i = 0\n",
    "    for j, row in tmp.iterrows():\n",
    "        datetime = row['datetime']\n",
    "        pred = predictions[i]\n",
    "        str_prediction += \"{},{}\\n\".format(datetime, pred)\n",
    "        i += 1\n",
    "    f = open('preds/'+name+'.csv','w')\n",
    "    f.write(str_prediction)\n",
    "    f.close()"
   ]
  },
  {
   "cell_type": "markdown",
   "metadata": {},
   "source": [
    "Train models"
   ]
  },
  {
   "cell_type": "code",
   "execution_count": 36,
   "metadata": {
    "collapsed": false,
    "scrolled": true
   },
   "outputs": [
    {
     "name": "stdout",
     "output_type": "stream",
     "text": [
      "(10464, 21, 14) (10464,)\n",
      "Epoch 1/100\n",
      "49s - loss: 12465.4507\n",
      "Epoch 2/100\n",
      "49s - loss: 6446.9633\n",
      "Epoch 3/100\n",
      "53s - loss: 5077.1356\n",
      "Epoch 4/100\n",
      "50s - loss: 4130.3769\n",
      "Epoch 5/100\n",
      "49s - loss: 3365.5172\n",
      "Epoch 6/100\n",
      "49s - loss: 2761.4846\n",
      "Epoch 7/100\n",
      "51s - loss: 2397.9079\n",
      "Epoch 8/100\n",
      "48s - loss: 2092.9650\n",
      "Epoch 9/100\n",
      "50s - loss: 1929.4885\n",
      "Epoch 10/100\n",
      "50s - loss: 1693.1995\n",
      "Epoch 11/100\n",
      "49s - loss: 1522.3164\n",
      "Epoch 12/100\n",
      "52s - loss: 1408.5247\n",
      "Epoch 13/100\n",
      "49s - loss: 1317.5618\n",
      "Epoch 14/100\n",
      "50s - loss: 1248.1210\n",
      "Epoch 15/100\n",
      "49s - loss: 1199.9899\n",
      "Epoch 16/100\n",
      "52s - loss: 1134.2691\n",
      "Epoch 17/100\n",
      "51s - loss: 1098.8369\n",
      "Epoch 18/100\n",
      "51s - loss: 1039.9063\n",
      "Epoch 19/100\n",
      "51s - loss: 1017.5804\n",
      "Epoch 20/100\n",
      "53s - loss: 962.4240\n",
      "Epoch 21/100\n",
      "55s - loss: 910.9017\n",
      "Epoch 22/100\n",
      "50s - loss: 898.7123\n",
      "Epoch 23/100\n",
      "50s - loss: 856.2839\n",
      "Epoch 24/100\n",
      "50s - loss: 828.0940\n",
      "Epoch 25/100\n",
      "51s - loss: 794.1104\n",
      "Epoch 26/100\n",
      "50s - loss: 783.0659\n",
      "Epoch 27/100\n",
      "51s - loss: 770.9373\n",
      "Epoch 28/100\n",
      "50s - loss: 770.7777\n",
      "Epoch 29/100\n",
      "49s - loss: 746.5545\n",
      "Epoch 30/100\n",
      "50s - loss: 717.5915\n",
      "Epoch 31/100\n",
      "50s - loss: 688.1086\n",
      "Epoch 32/100\n",
      "51s - loss: 695.0259\n",
      "Epoch 33/100\n",
      "52s - loss: 665.4206\n",
      "Epoch 34/100\n",
      "52s - loss: 661.9997\n",
      "Epoch 35/100\n",
      "50s - loss: 639.5956\n",
      "Epoch 36/100\n",
      "52s - loss: 634.7561\n",
      "Epoch 37/100\n",
      "51s - loss: 603.6005\n",
      "Epoch 38/100\n",
      "51s - loss: 587.4777\n",
      "Epoch 39/100\n",
      "51s - loss: 595.4053\n",
      "Epoch 40/100\n",
      "53s - loss: 582.9959\n",
      "Epoch 41/100\n",
      "48s - loss: 603.9826\n",
      "Epoch 42/100\n",
      "49s - loss: 567.8904\n",
      "Epoch 43/100\n",
      "49s - loss: 560.9250\n",
      "Epoch 44/100\n",
      "49s - loss: 536.4847\n",
      "Epoch 45/100\n",
      "49s - loss: 539.2175\n",
      "Epoch 46/100\n",
      "49s - loss: 552.4949\n",
      "Epoch 47/100\n",
      "49s - loss: 518.3510\n",
      "Epoch 48/100\n",
      "50s - loss: 516.2684\n",
      "Epoch 49/100\n",
      "51s - loss: 504.1685\n",
      "Epoch 50/100\n",
      "50s - loss: 504.7913\n",
      "Epoch 51/100\n",
      "50s - loss: 509.0116\n",
      "Epoch 52/100\n",
      "50s - loss: 495.8425\n",
      "Epoch 53/100\n",
      "49s - loss: 497.5855\n",
      "Epoch 54/100\n",
      "49s - loss: 468.4658\n",
      "Epoch 55/100\n",
      "49s - loss: 464.3603\n",
      "Epoch 56/100\n",
      "50s - loss: 464.7287\n",
      "Epoch 57/100\n",
      "49s - loss: 452.5151\n",
      "Epoch 58/100\n",
      "49s - loss: 446.7289\n",
      "Epoch 59/100\n",
      "51s - loss: 449.5684\n",
      "Epoch 60/100\n",
      "51s - loss: 450.5238\n",
      "Epoch 61/100\n",
      "51s - loss: 442.1088\n",
      "Epoch 62/100\n",
      "50s - loss: 443.1281\n",
      "Epoch 63/100\n",
      "50s - loss: 417.1383\n",
      "Epoch 64/100\n",
      "52s - loss: 423.4647\n",
      "Epoch 65/100\n",
      "50s - loss: 416.8799\n",
      "Epoch 66/100\n",
      "49s - loss: 413.1354\n",
      "Epoch 67/100\n",
      "49s - loss: 410.6882\n",
      "Epoch 68/100\n",
      "50s - loss: 404.0367\n",
      "Epoch 69/100\n",
      "49s - loss: 396.7060\n",
      "Epoch 70/100\n",
      "50s - loss: 396.9340\n",
      "Epoch 71/100\n",
      "50s - loss: 403.9361\n",
      "Epoch 72/100\n",
      "50s - loss: 393.1379\n",
      "Epoch 73/100\n",
      "51s - loss: 389.3055\n",
      "Epoch 74/100\n",
      "50s - loss: 390.0376\n",
      "Epoch 75/100\n",
      "50s - loss: 374.4776\n",
      "Epoch 76/100\n",
      "49s - loss: 376.1779\n",
      "Epoch 77/100\n",
      "49s - loss: 369.8410\n",
      "Epoch 78/100\n",
      "50s - loss: 376.5990\n",
      "Epoch 79/100\n",
      "49s - loss: 374.7342\n",
      "Epoch 80/100\n",
      "51s - loss: 351.9603\n",
      "Epoch 81/100\n",
      "50s - loss: 352.7906\n",
      "Epoch 82/100\n",
      "50s - loss: 361.8085\n",
      "Epoch 83/100\n",
      "49s - loss: 327.2550\n",
      "Epoch 84/100\n",
      "49s - loss: 346.6893\n",
      "Epoch 85/100\n",
      "50s - loss: 356.7566\n",
      "Epoch 86/100\n",
      "50s - loss: 342.5973\n",
      "Epoch 87/100\n",
      "49s - loss: 332.0108\n",
      "Epoch 88/100\n",
      "50s - loss: 327.4706\n",
      "Epoch 89/100\n",
      "50s - loss: 338.6236\n",
      "Epoch 90/100\n",
      "52s - loss: 337.7303\n",
      "Epoch 91/100\n",
      "50s - loss: 332.1220\n",
      "Epoch 92/100\n",
      "53s - loss: 331.0936\n",
      "Epoch 93/100\n",
      "54s - loss: 338.4461\n",
      "Epoch 94/100\n",
      "54s - loss: 338.0174\n",
      "Epoch 95/100\n",
      "56s - loss: 333.1655\n",
      "Epoch 96/100\n",
      "53s - loss: 330.9201\n",
      "Epoch 97/100\n",
      "51s - loss: 313.3442\n",
      "Epoch 98/100\n",
      "55s - loss: 312.8689\n",
      "Epoch 99/100\n",
      "50s - loss: 319.5204\n",
      "Epoch 100/100\n",
      "50s - loss: 315.4345\n",
      "CPU times: user 4h 59min 54s, sys: 1h 24s, total: 6h 18s\n",
      "Wall time: 1h 25min 3s\n"
     ]
    },
    {
     "data": {
      "text/plain": [
       "<keras.callbacks.History at 0x7f65ac8282b0>"
      ]
     },
     "execution_count": 36,
     "metadata": {},
     "output_type": "execute_result"
    }
   ],
   "source": [
    "time_steps = 21\n",
    "n_features = x_complete.shape[1]\n",
    "\n",
    "X, Y = reshape_training(x_complete, y_complete, time_steps)\n",
    "scaler = StandardScaler()\n",
    "scaler.fit(x_complete)\n",
    "X_scaled = np.zeros((X.shape))\n",
    "for i in np.arange(len(X)):\n",
    "    X_scaled[i] = scaler.transform(X[i])\n",
    "def model():\n",
    "    model = Sequential()\n",
    "    model.add(GRU(100, input_shape=(time_steps, n_features), return_sequences=True, activation='relu'))\n",
    "    model.add(GRU(100, input_shape=(time_steps, n_features), activation='relu'))\n",
    "    model.add(Dense(100, activation='relu'))\n",
    "    model.add(Dense(100, activation='relu'))\n",
    "    model.add(Dense(100, activation='relu'))\n",
    "    model.add(Dense(100, activation='relu'))\n",
    "    model.add(Dense(1))\n",
    "    model.add(Activation('linear'))\n",
    "    model.compile(loss='mean_squared_error', optimizer='RMSprop')\n",
    "    return model\n",
    "kr = KerasRegressor(build_fn=model, nb_epoch=100, batch_size=5, verbose=2)\n",
    "%time kr.fit(X_scaled, Y, callbacks=[TensorBoard( \\\n",
    "            log_dir='logs/complete/g2d4_'+str(time_steps)+'_'+datetime.now().strftime('%Y%m%d-%H%M'))])"
   ]
  },
  {
   "cell_type": "markdown",
   "metadata": {},
   "source": [
    "## Prediction"
   ]
  },
  {
   "cell_type": "markdown",
   "metadata": {},
   "source": [
    "reshape"
   ]
  },
  {
   "cell_type": "code",
   "execution_count": 37,
   "metadata": {
    "collapsed": false
   },
   "outputs": [
    {
     "name": "stdout",
     "output_type": "stream",
     "text": [
      "(6493, 21, 14)\n"
     ]
    }
   ],
   "source": [
    "t_complete = reshape_testing(time_steps, features)\n",
    "print(t_complete.shape)"
   ]
  },
  {
   "cell_type": "markdown",
   "metadata": {},
   "source": [
    "predict"
   ]
  },
  {
   "cell_type": "code",
   "execution_count": 38,
   "metadata": {
    "collapsed": false
   },
   "outputs": [],
   "source": [
    "t_scaled = np.zeros((t_complete.shape))\n",
    "for i in np.arange(len(t_complete)):\n",
    "    t_scaled[i] = scaler.transform(t_complete[i])\n",
    "t_complete_pred = kr.predict(t_scaled)"
   ]
  },
  {
   "cell_type": "markdown",
   "metadata": {},
   "source": [
    "write final prediction file"
   ]
  },
  {
   "cell_type": "code",
   "execution_count": 39,
   "metadata": {
    "collapsed": false
   },
   "outputs": [],
   "source": [
    "t_complete_pred[t_complete_pred < 0] = 0\n",
    "test_pred = t_complete_pred\n",
    "str_prediction = 'datetime,count\\n'\n",
    "for i in range(0, len(test_pred)):\n",
    "    datetime = df_test['datetime'][i]\n",
    "    pred = int(round(test_pred[i]))\n",
    "    str_prediction += '{},{}\\n'.format(datetime, pred)\n",
    "f = open('pred.csv','w')\n",
    "f.write(str_prediction)\n",
    "f.close()"
   ]
  },
  {
   "cell_type": "markdown",
   "metadata": {},
   "source": [
    "plots"
   ]
  },
  {
   "cell_type": "code",
   "execution_count": 40,
   "metadata": {
    "collapsed": false
   },
   "outputs": [
    {
     "data": {
      "text/plain": [
       "[<matplotlib.lines.Line2D at 0x7f65a6caaac8>]"
      ]
     },
     "execution_count": 40,
     "metadata": {},
     "output_type": "execute_result"
    },
    {
     "data": {
      "image/png": "[encoded data removed]",
      "text/plain": [
       "<matplotlib.figure.Figure at 0x7f65a56f6e48>"
      ]
     },
     "metadata": {},
     "output_type": "display_data"
    }
   ],
   "source": [
    "plt.plot(test_pred)"
   ]
  },
  {
   "cell_type": "code",
   "execution_count": 398,
   "metadata": {
    "collapsed": false
   },
   "outputs": [
    {
     "data": {
      "text/plain": [
       "[<matplotlib.lines.Line2D at 0x7fb13a9280b8>]"
      ]
     },
     "execution_count": 398,
     "metadata": {},
     "output_type": "execute_result"
    },
    {
     "data": {
      "image/png": "[encoded data removed]",
      "text/plain": [
       "<matplotlib.figure.Figure at 0x7fb13a9282e8>"
      ]
     },
     "metadata": {},
     "output_type": "display_data"
    }
   ],
   "source": [
    "plt.plot(df[df['dataset']=='train']['count'].reset_index(drop=True))\n",
    "plt.plot(df[df['dataset']=='train']['registered'].reset_index(drop=True))\n",
    "plt.plot(df[df['dataset']=='train']['casual'].reset_index(drop=True))"
   ]
  },
  {
   "cell_type": "code",
   "execution_count": null,
   "metadata": {
    "collapsed": true
   },
   "outputs": [],
   "source": []
  }
 ],
 "metadata": {
  "anaconda-cloud": {},
  "kernelspec": {
   "display_name": "Python [conda env:keras]",
   "language": "python",
   "name": "conda-env-keras-py"
  },
  "language_info": {
   "codemirror_mode": {
    "name": "ipython",
    "version": 3
   },
   "file_extension": ".py",
   "mimetype": "text/x-python",
   "name": "python",
   "nbconvert_exporter": "python",
   "pygments_lexer": "ipython3",
   "version": "3.5.2"
  }
 },
 "nbformat": 4,
 "nbformat_minor": 1
}
