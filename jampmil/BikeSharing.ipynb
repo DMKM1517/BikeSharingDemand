{
 "cells": [
  {
   "cell_type": "code",
   "execution_count": null,
   "metadata": {
    "collapsed": true
   },
   "outputs": [],
   "source": [
    "# Imports"
   ]
  },
  {
   "cell_type": "code",
   "execution_count": 1,
   "metadata": {
    "collapsed": true
   },
   "outputs": [],
   "source": [
    "import numpy as np\n",
    "import pandas as pd\n",
    "import matplotlib.pyplot as plt\n",
    "import statsmodels.api as sm\n",
    "%matplotlib inline"
   ]
  },
  {
   "cell_type": "code",
   "execution_count": 2,
   "metadata": {
    "collapsed": true
   },
   "outputs": [],
   "source": [
    "from sklearn import linear_model\n",
    "from sklearn import cross_validation\n",
    "from sklearn import svm\n",
    "from sklearn import tree\n",
    "from sklearn.ensemble import RandomForestRegressor\n",
    "from sklearn.learning_curve import learning_curve\n",
    "from sklearn.grid_search import GridSearchCV\n",
    "from sklearn.metrics import explained_variance_score"
   ]
  },
  {
   "cell_type": "markdown",
   "metadata": {},
   "source": [
    "# Importing and Creating Training & Testing Sets\n"
   ]
  },
  {
   "cell_type": "code",
   "execution_count": 3,
   "metadata": {
    "collapsed": false
   },
   "outputs": [
    {
     "name": "stdout",
     "output_type": "stream",
     "text": [
      "(10886, 13)\n"
     ]
    }
   ],
   "source": [
    "original_train = pd.read_csv('../train.csv',header = 0)\n",
    "original_train['dataset'] = 'train'\n",
    "print original_train.shape"
   ]
  },
  {
   "cell_type": "code",
   "execution_count": 4,
   "metadata": {
    "collapsed": false
   },
   "outputs": [
    {
     "name": "stdout",
     "output_type": "stream",
     "text": [
      "(6493, 10)\n"
     ]
    }
   ],
   "source": [
    "original_test = pd.read_csv('../test.csv',header = 0)\n",
    "original_test['dataset'] = 'test'\n",
    "print original_test.shape"
   ]
  },
  {
   "cell_type": "code",
   "execution_count": 5,
   "metadata": {
    "collapsed": false
   },
   "outputs": [],
   "source": [
    "df_complete =  original_train.copy().append(original_test.copy())\n",
    "#df_complete = df_complete.drop(['casual','registered'], axis = 1)\n",
    "df_complete = df_complete.drop(['count'], axis = 1)"
   ]
  },
  {
   "cell_type": "code",
   "execution_count": 6,
   "metadata": {
    "collapsed": true
   },
   "outputs": [],
   "source": [
    "#add the natural dissater feature\n",
    "#df_complete['nat_dis'] = 0\n"
   ]
  },
  {
   "cell_type": "code",
   "execution_count": 7,
   "metadata": {
    "collapsed": false
   },
   "outputs": [],
   "source": [
    "# Make the datetime the index\n",
    "df_complete['datetime'] = pd.to_datetime(df_complete['datetime'])\n",
    "\n",
    "df_complete.index = df_complete['datetime']\n",
    "del df_complete['datetime']\n"
   ]
  },
  {
   "cell_type": "code",
   "execution_count": 8,
   "metadata": {
    "collapsed": false
   },
   "outputs": [],
   "source": [
    "# Make sure we have all the complete values of the series\n",
    "idx = pd.date_range('2011-01-01 00:00:00', '2012-12-31 23:00:00', freq='H')\n",
    "df_complete = df_complete.reindex(idx)"
   ]
  },
  {
   "cell_type": "code",
   "execution_count": 9,
   "metadata": {
    "collapsed": false
   },
   "outputs": [
    {
     "data": {
      "text/plain": [
       "(165, 11)"
      ]
     },
     "execution_count": 9,
     "metadata": {},
     "output_type": "execute_result"
    }
   ],
   "source": [
    "# Missing entries? let's try to interpolate to get that info\n",
    "missing = df_complete[pd.isnull(df_complete['atemp'])]\n",
    "missing.shape"
   ]
  },
  {
   "cell_type": "code",
   "execution_count": 10,
   "metadata": {
    "collapsed": false
   },
   "outputs": [],
   "source": [
    "df_complete[\"weather\"] = df_complete[\"weather\"].interpolate(method='time').apply(np.round)\n",
    "df_complete[\"temp\"] = df_complete[\"temp\"].interpolate(method='time')\n",
    "df_complete[\"atemp\"] = df_complete[\"atemp\"].interpolate(method='time')\n",
    "df_complete[\"humidity\"] = df_complete[\"humidity\"].interpolate(method='time').apply(np.round)\n",
    "df_complete[\"windspeed\"] = df_complete[\"windspeed\"].interpolate(method='time')\n",
    "df_complete[\"season\"] = df_complete[\"season\"].interpolate(method='time').apply(np.round)\n",
    "df_complete[\"workingday\"] = df_complete[\"workingday\"].interpolate(method='time').apply(np.round)\n",
    "df_complete[\"holiday\"] = df_complete[\"holiday\"].interpolate(method='time').apply(np.round)\n",
    "#df_complete[\"nat_dis\"] = df_complete[\"season\"].interpolate(method='time').apply(np.round)\n",
    "#df_complete[\"count\"] = df_complete[\"count\"].interpolate(method='time').apply(np.round)\n",
    "\n",
    "#df_complete.loc[missing.index, \"dataset\"] = 'train'\n",
    "#df_complete.loc[df_complete['dataset']=='test', 'count'] = float('NaN')"
   ]
  },
  {
   "cell_type": "code",
   "execution_count": 11,
   "metadata": {
    "collapsed": false
   },
   "outputs": [
    {
     "data": {
      "text/plain": [
       "(0, 11)"
      ]
     },
     "execution_count": 11,
     "metadata": {},
     "output_type": "execute_result"
    }
   ],
   "source": [
    "missing2 = df_complete[pd.isnull(df_complete['atemp'])]\n",
    "missing2.shape"
   ]
  },
  {
   "cell_type": "code",
   "execution_count": 12,
   "metadata": {
    "collapsed": false
   },
   "outputs": [
    {
     "data": {
      "text/html": [
       "<div>\n",
       "<table border=\"1\" class=\"dataframe\">\n",
       "  <thead>\n",
       "    <tr style=\"text-align: right;\">\n",
       "      <th></th>\n",
       "      <th>atemp</th>\n",
       "      <th>casual</th>\n",
       "      <th>dataset</th>\n",
       "      <th>holiday</th>\n",
       "      <th>humidity</th>\n",
       "      <th>registered</th>\n",
       "      <th>season</th>\n",
       "      <th>temp</th>\n",
       "      <th>weather</th>\n",
       "      <th>windspeed</th>\n",
       "      <th>workingday</th>\n",
       "    </tr>\n",
       "  </thead>\n",
       "  <tbody>\n",
       "    <tr>\n",
       "      <th>2011-01-02 05:00:00</th>\n",
       "      <td>21.9675</td>\n",
       "      <td>NaN</td>\n",
       "      <td>NaN</td>\n",
       "      <td>0.0</td>\n",
       "      <td>86.0</td>\n",
       "      <td>NaN</td>\n",
       "      <td>1.0</td>\n",
       "      <td>18.040000</td>\n",
       "      <td>2.0</td>\n",
       "      <td>16.498750</td>\n",
       "      <td>0.0</td>\n",
       "    </tr>\n",
       "    <tr>\n",
       "      <th>2011-01-03 02:00:00</th>\n",
       "      <td>7.8300</td>\n",
       "      <td>NaN</td>\n",
       "      <td>NaN</td>\n",
       "      <td>0.0</td>\n",
       "      <td>45.0</td>\n",
       "      <td>NaN</td>\n",
       "      <td>1.0</td>\n",
       "      <td>7.653333</td>\n",
       "      <td>1.0</td>\n",
       "      <td>27.333767</td>\n",
       "      <td>1.0</td>\n",
       "    </tr>\n",
       "    <tr>\n",
       "      <th>2011-01-03 03:00:00</th>\n",
       "      <td>7.3250</td>\n",
       "      <td>NaN</td>\n",
       "      <td>NaN</td>\n",
       "      <td>0.0</td>\n",
       "      <td>46.0</td>\n",
       "      <td>NaN</td>\n",
       "      <td>1.0</td>\n",
       "      <td>7.106667</td>\n",
       "      <td>1.0</td>\n",
       "      <td>26.668233</td>\n",
       "      <td>1.0</td>\n",
       "    </tr>\n",
       "    <tr>\n",
       "      <th>2011-01-04 03:00:00</th>\n",
       "      <td>8.3325</td>\n",
       "      <td>NaN</td>\n",
       "      <td>NaN</td>\n",
       "      <td>0.0</td>\n",
       "      <td>63.0</td>\n",
       "      <td>NaN</td>\n",
       "      <td>1.0</td>\n",
       "      <td>5.740000</td>\n",
       "      <td>1.0</td>\n",
       "      <td>7.500650</td>\n",
       "      <td>1.0</td>\n",
       "    </tr>\n",
       "    <tr>\n",
       "      <th>2011-01-05 03:00:00</th>\n",
       "      <td>10.6075</td>\n",
       "      <td>NaN</td>\n",
       "      <td>NaN</td>\n",
       "      <td>0.0</td>\n",
       "      <td>61.0</td>\n",
       "      <td>NaN</td>\n",
       "      <td>1.0</td>\n",
       "      <td>8.200000</td>\n",
       "      <td>1.0</td>\n",
       "      <td>10.502250</td>\n",
       "      <td>1.0</td>\n",
       "    </tr>\n",
       "  </tbody>\n",
       "</table>\n",
       "</div>"
      ],
      "text/plain": [
       "                       atemp  casual dataset  holiday  humidity  registered  \\\n",
       "2011-01-02 05:00:00  21.9675     NaN     NaN      0.0      86.0         NaN   \n",
       "2011-01-03 02:00:00   7.8300     NaN     NaN      0.0      45.0         NaN   \n",
       "2011-01-03 03:00:00   7.3250     NaN     NaN      0.0      46.0         NaN   \n",
       "2011-01-04 03:00:00   8.3325     NaN     NaN      0.0      63.0         NaN   \n",
       "2011-01-05 03:00:00  10.6075     NaN     NaN      0.0      61.0         NaN   \n",
       "\n",
       "                     season       temp  weather  windspeed  workingday  \n",
       "2011-01-02 05:00:00     1.0  18.040000      2.0  16.498750         0.0  \n",
       "2011-01-03 02:00:00     1.0   7.653333      1.0  27.333767         1.0  \n",
       "2011-01-03 03:00:00     1.0   7.106667      1.0  26.668233         1.0  \n",
       "2011-01-04 03:00:00     1.0   5.740000      1.0   7.500650         1.0  \n",
       "2011-01-05 03:00:00     1.0   8.200000      1.0  10.502250         1.0  "
      ]
     },
     "execution_count": 12,
     "metadata": {},
     "output_type": "execute_result"
    }
   ],
   "source": [
    "df_complete.loc[missing.index].head()"
   ]
  },
  {
   "cell_type": "code",
   "execution_count": 13,
   "metadata": {
    "collapsed": true
   },
   "outputs": [],
   "source": [
    "#df_complete['month'] = df_complete.index.month\n",
    "#df_complete['dayOfMonth'] = df_complete.index.day\n",
    "df_complete['day'] = df_complete.index.dayofweek\n",
    "df_complete['week'] = df_complete.index.week\n",
    "df_complete['hour'] = df_complete.index.hour"
   ]
  },
  {
   "cell_type": "code",
   "execution_count": null,
   "metadata": {
    "collapsed": true
   },
   "outputs": [],
   "source": []
  },
  {
   "cell_type": "markdown",
   "metadata": {},
   "source": [
    "# Initial Data View"
   ]
  },
  {
   "cell_type": "code",
   "execution_count": 14,
   "metadata": {
    "collapsed": false
   },
   "outputs": [
    {
     "data": {
      "text/html": [
       "<div>\n",
       "<table border=\"1\" class=\"dataframe\">\n",
       "  <thead>\n",
       "    <tr style=\"text-align: right;\">\n",
       "      <th></th>\n",
       "      <th>atemp</th>\n",
       "      <th>casual</th>\n",
       "      <th>dataset</th>\n",
       "      <th>holiday</th>\n",
       "      <th>humidity</th>\n",
       "      <th>registered</th>\n",
       "      <th>season</th>\n",
       "      <th>temp</th>\n",
       "      <th>weather</th>\n",
       "      <th>windspeed</th>\n",
       "      <th>workingday</th>\n",
       "      <th>day</th>\n",
       "      <th>week</th>\n",
       "      <th>hour</th>\n",
       "    </tr>\n",
       "  </thead>\n",
       "  <tbody>\n",
       "    <tr>\n",
       "      <th>2011-01-20 00:00:00</th>\n",
       "      <td>11.365</td>\n",
       "      <td>NaN</td>\n",
       "      <td>test</td>\n",
       "      <td>0.0</td>\n",
       "      <td>56.0</td>\n",
       "      <td>NaN</td>\n",
       "      <td>1.0</td>\n",
       "      <td>10.66</td>\n",
       "      <td>1.0</td>\n",
       "      <td>26.0027</td>\n",
       "      <td>1.0</td>\n",
       "      <td>3</td>\n",
       "      <td>3</td>\n",
       "      <td>0</td>\n",
       "    </tr>\n",
       "    <tr>\n",
       "      <th>2011-01-20 01:00:00</th>\n",
       "      <td>13.635</td>\n",
       "      <td>NaN</td>\n",
       "      <td>test</td>\n",
       "      <td>0.0</td>\n",
       "      <td>56.0</td>\n",
       "      <td>NaN</td>\n",
       "      <td>1.0</td>\n",
       "      <td>10.66</td>\n",
       "      <td>1.0</td>\n",
       "      <td>0.0000</td>\n",
       "      <td>1.0</td>\n",
       "      <td>3</td>\n",
       "      <td>3</td>\n",
       "      <td>1</td>\n",
       "    </tr>\n",
       "  </tbody>\n",
       "</table>\n",
       "</div>"
      ],
      "text/plain": [
       "                      atemp  casual dataset  holiday  humidity  registered  \\\n",
       "2011-01-20 00:00:00  11.365     NaN    test      0.0      56.0         NaN   \n",
       "2011-01-20 01:00:00  13.635     NaN    test      0.0      56.0         NaN   \n",
       "\n",
       "                     season   temp  weather  windspeed  workingday  day  week  \\\n",
       "2011-01-20 00:00:00     1.0  10.66      1.0    26.0027         1.0    3     3   \n",
       "2011-01-20 01:00:00     1.0  10.66      1.0     0.0000         1.0    3     3   \n",
       "\n",
       "                     hour  \n",
       "2011-01-20 00:00:00     0  \n",
       "2011-01-20 01:00:00     1  "
      ]
     },
     "execution_count": 14,
     "metadata": {},
     "output_type": "execute_result"
    }
   ],
   "source": [
    "df_complete[df_complete['dataset']=='test'].head(2)"
   ]
  },
  {
   "cell_type": "code",
   "execution_count": 15,
   "metadata": {
    "collapsed": false
   },
   "outputs": [
    {
     "name": "stderr",
     "output_type": "stream",
     "text": [
      "D:\\Software\\Anaconda2\\lib\\site-packages\\numpy\\lib\\function_base.py:3834: RuntimeWarning: Invalid value encountered in percentile\n",
      "  RuntimeWarning)\n"
     ]
    },
    {
     "data": {
      "text/html": [
       "<div>\n",
       "<table border=\"1\" class=\"dataframe\">\n",
       "  <thead>\n",
       "    <tr style=\"text-align: right;\">\n",
       "      <th></th>\n",
       "      <th>atemp</th>\n",
       "      <th>casual</th>\n",
       "      <th>holiday</th>\n",
       "      <th>humidity</th>\n",
       "      <th>registered</th>\n",
       "      <th>season</th>\n",
       "      <th>temp</th>\n",
       "      <th>weather</th>\n",
       "      <th>windspeed</th>\n",
       "      <th>workingday</th>\n",
       "      <th>day</th>\n",
       "      <th>week</th>\n",
       "      <th>hour</th>\n",
       "    </tr>\n",
       "  </thead>\n",
       "  <tbody>\n",
       "    <tr>\n",
       "      <th>count</th>\n",
       "      <td>17544.000000</td>\n",
       "      <td>10886.000000</td>\n",
       "      <td>17544.000000</td>\n",
       "      <td>17544.000000</td>\n",
       "      <td>10886.000000</td>\n",
       "      <td>17544.000000</td>\n",
       "      <td>17544.000000</td>\n",
       "      <td>17544.000000</td>\n",
       "      <td>17544.000000</td>\n",
       "      <td>17544.000000</td>\n",
       "      <td>17544.000000</td>\n",
       "      <td>17544.000000</td>\n",
       "      <td>17544.000000</td>\n",
       "    </tr>\n",
       "    <tr>\n",
       "      <th>mean</th>\n",
       "      <td>23.697851</td>\n",
       "      <td>36.021955</td>\n",
       "      <td>0.029241</td>\n",
       "      <td>62.842909</td>\n",
       "      <td>155.552177</td>\n",
       "      <td>2.496580</td>\n",
       "      <td>20.296823</td>\n",
       "      <td>1.432342</td>\n",
       "      <td>12.794676</td>\n",
       "      <td>0.683482</td>\n",
       "      <td>3.002736</td>\n",
       "      <td>26.534884</td>\n",
       "      <td>11.500000</td>\n",
       "    </tr>\n",
       "    <tr>\n",
       "      <th>std</th>\n",
       "      <td>8.625972</td>\n",
       "      <td>49.960477</td>\n",
       "      <td>0.168485</td>\n",
       "      <td>19.304095</td>\n",
       "      <td>151.039033</td>\n",
       "      <td>1.110079</td>\n",
       "      <td>7.920885</td>\n",
       "      <td>0.645414</td>\n",
       "      <td>8.234295</td>\n",
       "      <td>0.465131</td>\n",
       "      <td>2.003470</td>\n",
       "      <td>15.066700</td>\n",
       "      <td>6.922384</td>\n",
       "    </tr>\n",
       "    <tr>\n",
       "      <th>min</th>\n",
       "      <td>0.000000</td>\n",
       "      <td>0.000000</td>\n",
       "      <td>0.000000</td>\n",
       "      <td>0.000000</td>\n",
       "      <td>0.000000</td>\n",
       "      <td>1.000000</td>\n",
       "      <td>0.820000</td>\n",
       "      <td>1.000000</td>\n",
       "      <td>0.000000</td>\n",
       "      <td>0.000000</td>\n",
       "      <td>0.000000</td>\n",
       "      <td>1.000000</td>\n",
       "      <td>0.000000</td>\n",
       "    </tr>\n",
       "    <tr>\n",
       "      <th>25%</th>\n",
       "      <td>16.665000</td>\n",
       "      <td>NaN</td>\n",
       "      <td>0.000000</td>\n",
       "      <td>48.000000</td>\n",
       "      <td>NaN</td>\n",
       "      <td>2.000000</td>\n",
       "      <td>13.940000</td>\n",
       "      <td>1.000000</td>\n",
       "      <td>7.001500</td>\n",
       "      <td>0.000000</td>\n",
       "      <td>1.000000</td>\n",
       "      <td>13.000000</td>\n",
       "      <td>5.750000</td>\n",
       "    </tr>\n",
       "    <tr>\n",
       "      <th>50%</th>\n",
       "      <td>24.240000</td>\n",
       "      <td>NaN</td>\n",
       "      <td>0.000000</td>\n",
       "      <td>63.000000</td>\n",
       "      <td>NaN</td>\n",
       "      <td>3.000000</td>\n",
       "      <td>20.500000</td>\n",
       "      <td>1.000000</td>\n",
       "      <td>12.998000</td>\n",
       "      <td>1.000000</td>\n",
       "      <td>3.000000</td>\n",
       "      <td>27.000000</td>\n",
       "      <td>11.500000</td>\n",
       "    </tr>\n",
       "    <tr>\n",
       "      <th>75%</th>\n",
       "      <td>31.060000</td>\n",
       "      <td>NaN</td>\n",
       "      <td>0.000000</td>\n",
       "      <td>79.000000</td>\n",
       "      <td>NaN</td>\n",
       "      <td>3.000000</td>\n",
       "      <td>27.060000</td>\n",
       "      <td>2.000000</td>\n",
       "      <td>16.997900</td>\n",
       "      <td>1.000000</td>\n",
       "      <td>5.000000</td>\n",
       "      <td>40.000000</td>\n",
       "      <td>17.250000</td>\n",
       "    </tr>\n",
       "    <tr>\n",
       "      <th>max</th>\n",
       "      <td>50.000000</td>\n",
       "      <td>367.000000</td>\n",
       "      <td>1.000000</td>\n",
       "      <td>100.000000</td>\n",
       "      <td>886.000000</td>\n",
       "      <td>4.000000</td>\n",
       "      <td>41.000000</td>\n",
       "      <td>4.000000</td>\n",
       "      <td>56.996900</td>\n",
       "      <td>1.000000</td>\n",
       "      <td>6.000000</td>\n",
       "      <td>52.000000</td>\n",
       "      <td>23.000000</td>\n",
       "    </tr>\n",
       "  </tbody>\n",
       "</table>\n",
       "</div>"
      ],
      "text/plain": [
       "              atemp        casual       holiday      humidity    registered  \\\n",
       "count  17544.000000  10886.000000  17544.000000  17544.000000  10886.000000   \n",
       "mean      23.697851     36.021955      0.029241     62.842909    155.552177   \n",
       "std        8.625972     49.960477      0.168485     19.304095    151.039033   \n",
       "min        0.000000      0.000000      0.000000      0.000000      0.000000   \n",
       "25%       16.665000           NaN      0.000000     48.000000           NaN   \n",
       "50%       24.240000           NaN      0.000000     63.000000           NaN   \n",
       "75%       31.060000           NaN      0.000000     79.000000           NaN   \n",
       "max       50.000000    367.000000      1.000000    100.000000    886.000000   \n",
       "\n",
       "             season          temp       weather     windspeed    workingday  \\\n",
       "count  17544.000000  17544.000000  17544.000000  17544.000000  17544.000000   \n",
       "mean       2.496580     20.296823      1.432342     12.794676      0.683482   \n",
       "std        1.110079      7.920885      0.645414      8.234295      0.465131   \n",
       "min        1.000000      0.820000      1.000000      0.000000      0.000000   \n",
       "25%        2.000000     13.940000      1.000000      7.001500      0.000000   \n",
       "50%        3.000000     20.500000      1.000000     12.998000      1.000000   \n",
       "75%        3.000000     27.060000      2.000000     16.997900      1.000000   \n",
       "max        4.000000     41.000000      4.000000     56.996900      1.000000   \n",
       "\n",
       "                day          week          hour  \n",
       "count  17544.000000  17544.000000  17544.000000  \n",
       "mean       3.002736     26.534884     11.500000  \n",
       "std        2.003470     15.066700      6.922384  \n",
       "min        0.000000      1.000000      0.000000  \n",
       "25%        1.000000     13.000000      5.750000  \n",
       "50%        3.000000     27.000000     11.500000  \n",
       "75%        5.000000     40.000000     17.250000  \n",
       "max        6.000000     52.000000     23.000000  "
      ]
     },
     "execution_count": 15,
     "metadata": {},
     "output_type": "execute_result"
    }
   ],
   "source": [
    "df_complete.describe()"
   ]
  },
  {
   "cell_type": "code",
   "execution_count": null,
   "metadata": {
    "collapsed": false
   },
   "outputs": [],
   "source": [
    "df_complete.dtypes"
   ]
  },
  {
   "cell_type": "code",
   "execution_count": null,
   "metadata": {
    "collapsed": false
   },
   "outputs": [],
   "source": [
    "df_complete.shape"
   ]
  },
  {
   "cell_type": "markdown",
   "metadata": {},
   "source": [
    "# Utils"
   ]
  },
  {
   "cell_type": "code",
   "execution_count": 16,
   "metadata": {
    "collapsed": false
   },
   "outputs": [],
   "source": [
    "# Function that prints the prediction according the submission format\n",
    "def printPrediction(pred, fileName='pred.csv'):\n",
    "    str_prediction = \"datetime,count\\n\"\n",
    "    for i in range(0, len(pred)):\n",
    "        datetime = original_test['datetime'][i]\n",
    "        currentPred = int(round(pred[i]))\n",
    "        str_prediction += \"{},{}\\n\".format(datetime, currentPred)\n",
    "\n",
    "    #print str_prediction\n",
    "    f = open(fileName,'w')\n",
    "    f.write(str_prediction)\n",
    "    f.close()"
   ]
  },
  {
   "cell_type": "code",
   "execution_count": 17,
   "metadata": {
    "collapsed": true
   },
   "outputs": [],
   "source": [
    "# Function that gets the range of an specific day\n",
    "def get_day_range(day):\n",
    "    day_end = day + pd.offsets.DateOffset(hours=23)\n",
    "    return pd.date_range(day, day_end, freq=\"H\")"
   ]
  },
  {
   "cell_type": "markdown",
   "metadata": {},
   "source": [
    "# Adding new Features"
   ]
  },
  {
   "cell_type": "code",
   "execution_count": 18,
   "metadata": {
    "collapsed": false
   },
   "outputs": [
    {
     "data": {
      "image/png": "[encoded data removed]",
      "text/plain": [
       "<matplotlib.figure.Figure at 0xcebc0f0>"
      ]
     },
     "metadata": {},
     "output_type": "display_data"
    }
   ],
   "source": [
    "# rentals by hour, split by working day (or not)\n",
    "by_hour = df_complete[df_complete['dataset'] == 'train'].copy().groupby(['hour', 'workingday'])['casual'].agg('sum').unstack()\n",
    "\n",
    "by_hour.plot(kind='bar', figsize=(8,4), width=0.8);"
   ]
  },
  {
   "cell_type": "code",
   "execution_count": 19,
   "metadata": {
    "collapsed": false
   },
   "outputs": [
    {
     "data": {
      "image/png": "[encoded data removed]",
      "text/plain": [
       "<matplotlib.figure.Figure at 0xd675b00>"
      ]
     },
     "metadata": {},
     "output_type": "display_data"
    }
   ],
   "source": [
    "# rentals by hour, split by working day (or not)\n",
    "by_hour = df_complete[df_complete['dataset'] == 'train'].copy().groupby(['hour', 'workingday'])['registered'].agg('sum').unstack()\n",
    "\n",
    "by_hour.plot(kind='bar', figsize=(8,4), width=0.8);"
   ]
  },
  {
   "cell_type": "code",
   "execution_count": 20,
   "metadata": {
    "collapsed": false
   },
   "outputs": [],
   "source": [
    "## Add Rush Hours according to histograms\n",
    "df_complete['casual_rush'] = df_complete[['hour', 'workingday']].apply(\n",
    "    lambda x: (0, 1)[\n",
    "        (x['workingday'] == 1 and  11 <= x['hour'] <= 19)\n",
    "        or (x['workingday'] == 0 and  10 <= x['hour'] <= 18)], axis = 1)\n",
    "\n",
    "df_complete['registered_rush'] = df_complete[['hour', 'workingday']].apply(\n",
    "    lambda x: (0, 1)[\n",
    "        (x['workingday'] == 1 and  (6 <= x['hour'] <= 9 or 16 <= x['hour'] <= 21))\n",
    "        or (x['workingday'] == 0 and  9 <= x['hour'] <= 22)], axis = 1)"
   ]
  },
  {
   "cell_type": "code",
   "execution_count": null,
   "metadata": {
    "collapsed": true
   },
   "outputs": [],
   "source": [
    "#df_complete['ideal'] = df_complete[['temp', 'windspeed']].apply(lambda x: (0, 1)[x['temp'] > 27 and x['windspeed'] < 30], axis = 1)\n",
    "#df_complete['sticky'] = df_complete[['humidity', 'workingday']].apply(lambda x: (0, 1)[x['workingday'] == 1 and x['humidity'] >= 60], axis = 1)"
   ]
  },
  {
   "cell_type": "code",
   "execution_count": 21,
   "metadata": {
    "collapsed": false
   },
   "outputs": [],
   "source": [
    "## Adding some missed \"holydays\"\n",
    "\n",
    "# tax day\n",
    "df_complete.loc[get_day_range(pd.datetime(2011, 4, 15)), \"workingday\"] = 1\n",
    "df_complete.loc[get_day_range(pd.datetime(2012, 4, 16)), \"workingday\"] = 1\n",
    "\n",
    "# thanksgiving friday\n",
    "df_complete.loc[get_day_range(pd.datetime(2011, 11, 25)), \"workingday\"] = 0\n",
    "df_complete.loc[get_day_range(pd.datetime(2012, 11, 23)), \"workingday\"] = 0\n",
    "\n",
    "# tax day\n",
    "df_complete.loc[get_day_range(pd.datetime(2011, 4, 15)), \"holiday\"] = 0\n",
    "df_complete.loc[get_day_range(pd.datetime(2012, 4, 16)), \"holiday\"] = 0\n",
    "\n",
    "# thanksgiving friday\n",
    "df_complete.loc[get_day_range(pd.datetime(2011, 11, 25)), \"holiday\"] = 1\n",
    "df_complete.loc[get_day_range(pd.datetime(2012, 11, 23)), \"holiday\"] = 1\n",
    "\n",
    "#pre christmas / new year\n",
    "df_complete.loc[get_day_range(pd.datetime(2011, 12, 24)), \"holiday\"] = 1\n",
    "df_complete.loc[get_day_range(pd.datetime(2012, 12, 24)), \"holiday\"] = 1\n",
    "df_complete.loc[get_day_range(pd.datetime(2011, 12, 24)), \"workingday\"] = 0\n",
    "df_complete.loc[get_day_range(pd.datetime(2012, 12, 24)), \"workingday\"] = 0\n",
    "\n",
    "df_complete.loc[get_day_range(pd.datetime(2011, 12, 31)), \"holiday\"] = 1\n",
    "df_complete.loc[get_day_range(pd.datetime(2012, 12, 31)), \"holiday\"] = 1\n",
    "df_complete.loc[get_day_range(pd.datetime(2011, 12, 31)), \"workingday\"] = 0\n",
    "df_complete.loc[get_day_range(pd.datetime(2012, 12, 31)), \"workingday\"] = 0\n",
    "\n"
   ]
  },
  {
   "cell_type": "markdown",
   "metadata": {},
   "source": [
    "\n",
    "#storms\n",
    "df_complete.loc[get_day_range(pd.datetime(2012, 5, 21)), \"nat_dis\"] = 1\n",
    "#tornado\n",
    "df_complete.loc[get_day_range(pd.datetime(2012, 6, 1)), \"nat_dis\"] = 1\n",
    "\n",
    "#January 8–13, 2011 North American blizzard\n",
    "df_complete.loc[get_day_range(pd.datetime(2011, 1, 9)), \"nat_dis\"] = 1\n",
    "df_complete.loc[get_day_range(pd.datetime(2011, 1, 10)), \"nat_dis\"] = 1\n",
    "df_complete.loc[get_day_range(pd.datetime(2011, 1, 11)), \"nat_dis\"] = 1\n",
    "df_complete.loc[get_day_range(pd.datetime(2011, 1, 12)), \"nat_dis\"] = 1\n",
    "\n",
    "#Earthquake Aug. 23, 2011\n",
    "df_complete.loc[get_day_range(pd.datetime(2011, 8, 23)), \"nat_dis\"] = 1\n",
    "\n",
    "#Hurricane Irene 21 - 30  Aug-11\n",
    "df_complete.loc[get_day_range(pd.datetime(2011, 8, 22)), \"nat_dis\"] = 1\n",
    "df_complete.loc[get_day_range(pd.datetime(2011, 8, 23)), \"nat_dis\"] = 1\n",
    "df_complete.loc[get_day_range(pd.datetime(2011, 8, 24)), \"nat_dis\"] = 1\n",
    "df_complete.loc[get_day_range(pd.datetime(2011, 8, 25)), \"nat_dis\"] = 1\n",
    "df_complete.loc[get_day_range(pd.datetime(2011, 8, 26)), \"nat_dis\"] = 1\n",
    "df_complete.loc[get_day_range(pd.datetime(2011, 8, 27)), \"nat_dis\"] = 1\n"
   ]
  },
  {
   "cell_type": "code",
   "execution_count": 22,
   "metadata": {
    "collapsed": true
   },
   "outputs": [],
   "source": [
    "df_train = df_complete[df_complete['dataset'] == 'train']\n",
    "del df_train['dataset']\n",
    "\n",
    "\n",
    "df_train_y_c = df_train['casual'].values\n",
    "df_train_y_r = df_train['registered'].values\n",
    "df_train_y = df_train_y_c + df_train_y_r\n",
    "\n",
    "df_train_x = df_train.drop(['casual', 'registered'],axis = 1)#.values"
   ]
  },
  {
   "cell_type": "code",
   "execution_count": 23,
   "metadata": {
    "collapsed": true
   },
   "outputs": [],
   "source": [
    "df_test = df_complete[df_complete['dataset'] == 'test']\n",
    "del df_test['dataset']\n",
    "#del df_test['count']\n",
    "del df_test['casual']\n",
    "del df_test['registered']"
   ]
  },
  {
   "cell_type": "markdown",
   "metadata": {},
   "source": [
    "# Models"
   ]
  },
  {
   "cell_type": "code",
   "execution_count": 24,
   "metadata": {
    "collapsed": true
   },
   "outputs": [],
   "source": [
    "# Cross Validation Generator\n",
    "cv = cross_validation.ShuffleSplit(len(df_train_x), n_iter=3, test_size=0.2,\n",
    "    random_state=0)"
   ]
  },
  {
   "cell_type": "markdown",
   "metadata": {},
   "source": [
    " ## Time Series"
   ]
  },
  {
   "cell_type": "code",
   "execution_count": null,
   "metadata": {
    "collapsed": false
   },
   "outputs": [],
   "source": [
    "type(df_train)"
   ]
  },
  {
   "cell_type": "code",
   "execution_count": null,
   "metadata": {
    "collapsed": false
   },
   "outputs": [],
   "source": [
    "dates = pd.date_range('2011-01-01 00:00:00', '2012-12-19 23:00:00', freq='H')\n",
    "#original_train.sort_values('datetime', ascending = True).head()\n",
    "dates"
   ]
  },
  {
   "cell_type": "code",
   "execution_count": null,
   "metadata": {
    "collapsed": false
   },
   "outputs": [],
   "source": [
    "AO = pd.Series(df_train['count'], index=dates)\n",
    "AO"
   ]
  },
  {
   "cell_type": "code",
   "execution_count": null,
   "metadata": {
    "collapsed": false
   },
   "outputs": [],
   "source": [
    "#df_train[['datetime', 'temp']]"
   ]
  },
  {
   "cell_type": "markdown",
   "metadata": {},
   "source": [
    "## Decision Tree"
   ]
  },
  {
   "cell_type": "code",
   "execution_count": null,
   "metadata": {
    "collapsed": false
   },
   "outputs": [],
   "source": [
    "#Finding best parameters\n",
    "X_train, X_test, y_train, y_test = cross_validation.train_test_split(\n",
    "    df_train_x, df_train_y, test_size=0.3, random_state=0)\n",
    "\n",
    "tuned_parameters = [\n",
    "    {'max_depth':[9,10,11,20,25,50]},\n",
    "    {'min_samples_leaf':[1,2,5,10,50,100]},\n",
    "    {'min_samples_split':[1,2,5,10,50,100]},\n",
    "    {'presort':[True, False]},\n",
    "    {'min_weight_fraction_leaf':[0.0, 0.1, 0.3, 0.4, 0.5]}]   \n",
    "    \n",
    "scores = ['r2']\n",
    "\n",
    "for score in scores:\n",
    "    \n",
    "    print score\n",
    "    \n",
    "    clf = GridSearchCV(tree.DecisionTreeRegressor(), tuned_parameters, cv=5, scoring=score)\n",
    "    clf.fit(X_train, y_train)\n",
    "\n",
    "    print(\"Best parameters set found on development set:\")\n",
    "    \n",
    "    #best_estimator_ returns the best estimator chosen by the search\n",
    "    print(clf.best_estimator_)\n",
    "    print \"\"\n",
    "    print(\"Grid scores on development set:\")\n",
    "    print \"\"\n",
    "    #grid_scores_ returns:\n",
    "    #    * a dict of parameter settings\n",
    "    #    * the mean score over the cross-validation folds \n",
    "    #    * the list of scores for each fold\n",
    "    for params, mean_score, scores in clf.grid_scores_:\n",
    "        print(\"%0.3f (+/-%0.03f) for %r\"\n",
    "              % (mean_score, scores.std() / 2, params))\n",
    "    print \"\""
   ]
  },
  {
   "cell_type": "code",
   "execution_count": null,
   "metadata": {
    "collapsed": false
   },
   "outputs": [],
   "source": [
    "# Cross Validation\n",
    "dtr = tree.DecisionTreeRegressor(criterion='mse', max_depth=None, max_features=None,\n",
    "           max_leaf_nodes=None, min_samples_leaf=10, min_samples_split=2,\n",
    "           min_weight_fraction_leaf=0.0, presort=False, random_state=None,\n",
    "           splitter='best')\n",
    "for train, test in cv:\n",
    "    clf = dtr.fit(df_train_x[train], df_train_y[train])\n",
    "    print(\"train score: {0:.3f}, test score: {1:.3f}\\n\".format(\n",
    "        clf.score(df_train_x[train], df_train_y[train]), clf.score(df_train_x[test], df_train_y[test])))"
   ]
  },
  {
   "cell_type": "code",
   "execution_count": null,
   "metadata": {
    "collapsed": false
   },
   "outputs": [],
   "source": [
    "# Predicting & Exporting File\n",
    "dtr_pred = dtr.predict(df_test)\n",
    "printPrediction(dtr_pred)\n"
   ]
  },
  {
   "cell_type": "markdown",
   "metadata": {},
   "source": [
    "## Random Forest"
   ]
  },
  {
   "cell_type": "code",
   "execution_count": null,
   "metadata": {
    "collapsed": false
   },
   "outputs": [],
   "source": [
    "#Finding best parameters\n",
    "X_train, X_test, y_train, y_test = cross_validation.train_test_split(\n",
    "    df_train_x, df_train_y, test_size=0.3, random_state=0)\n",
    "\n",
    "tuned_parameters = [\n",
    "    {'max_depth':[50,100, 500, 1000]}, #Best: 1000\n",
    "    #{'n_estimators':[1000, 10000]}, #We assume is 1000\n",
    "    {'min_samples_leaf':[1,2,5,10,50,100]}, #2\n",
    "    {'min_samples_split':[1,2,5,10,50,100]}, #10\n",
    "    {'min_weight_fraction_leaf':[0.0, 0.1, 0.3, 0.4, 0.5]}] #0.0    \n",
    "    \n",
    "scores = ['r2']\n",
    "\n",
    "for score in scores:\n",
    "    \n",
    "    print score\n",
    "    \n",
    "    clf = GridSearchCV(RandomForestRegressor(), tuned_parameters, cv=5, scoring=score)\n",
    "    clf.fit(X_train, y_train)\n",
    "\n",
    "    print(\"Best parameters set found on development set:\")\n",
    "    \n",
    "    #best_estimator_ returns the best estimator chosen by the search\n",
    "    print(clf.best_estimator_)\n",
    "    print \"\"\n",
    "    print(\"Grid scores on development set:\")\n",
    "    print \"\"\n",
    "    #grid_scores_ returns:\n",
    "    #    * a dict of parameter settings\n",
    "    #    * the mean score over the cross-validation folds \n",
    "    #    * the list of scores for each fold\n",
    "    for params, mean_score, scores in clf.grid_scores_:\n",
    "        print(\"%0.3f (+/-%0.03f) for %r\"\n",
    "              % (mean_score, scores.std() / 2, params))\n",
    "    print \"\"\n",
    "\n",
    "\n",
    "\n"
   ]
  },
  {
   "cell_type": "code",
   "execution_count": null,
   "metadata": {
    "collapsed": false
   },
   "outputs": [],
   "source": [
    "# Cross Validation\n",
    "rfr = RandomForestRegressor(bootstrap=True, criterion='mse', max_depth=1000,\n",
    "           max_features='auto', max_leaf_nodes=None, min_samples_leaf=2,\n",
    "           min_samples_split=10, min_weight_fraction_leaf=0.0,\n",
    "           n_estimators=1000, n_jobs=1, oob_score=False, random_state=None,\n",
    "           verbose=0, warm_start=False)\n",
    "#rfr = RandomForestRegressor(bootstrap=True, criterion='mse', max_depth=None,\n",
    "#           max_features='auto', max_leaf_nodes=None, min_samples_leaf=1,\n",
    "#           min_samples_split=1, min_weight_fraction_leaf=0.0,\n",
    "#           n_estimators=10, n_jobs=1, oob_score=False, random_state=None,\n",
    "#           verbose=0, warm_start=False)\n",
    "\n",
    "    \n",
    "for train, test in cv:\n",
    "    clf = rfr.fit(df_train_x[train], df_train_y[train])\n",
    "    print(\"train score: {0:.3f}, test score: {1:.3f}\\n\".format(\n",
    "        clf.score(df_train_x[train], df_train_y[train]), clf.score(df_train_x[test], df_train_y[test])))"
   ]
  },
  {
   "cell_type": "code",
   "execution_count": 25,
   "metadata": {
    "collapsed": false
   },
   "outputs": [],
   "source": [
    "# Predicting & Exporting File\n",
    "#rfr = RandomForestRegressor(bootstrap=True, criterion='mse', max_depth=1000,\n",
    "#           max_features='auto', max_leaf_nodes=None, min_samples_leaf=2,\n",
    "#           min_samples_split=10, min_weight_fraction_leaf=0.0,\n",
    "#           n_estimators=1000, n_jobs=1, oob_score=False, random_state=None,\n",
    "#           verbose=0, warm_start=False)\n",
    "rfr = RandomForestRegressor(bootstrap=True, criterion='mse', max_depth=1000,\n",
    "           max_features='auto', max_leaf_nodes=None, min_samples_leaf=2,\n",
    "           min_samples_split=10, min_weight_fraction_leaf=0.0,\n",
    "           n_estimators=1000, n_jobs=1, oob_score=False, random_state=None,\n",
    "           verbose=0, warm_start=False)\n",
    "\n",
    "rfr.fit(df_train_x, df_train_y_c)\n",
    "rfr_pred_c = np.array(rfr.predict(df_test))\n",
    "\n",
    "rfr.fit(df_train_x, df_train_y_r)\n",
    "rfr_pred_r = np.array(rfr.predict(df_test))\n",
    "\n",
    "rfr_pred = rfr_pred_c + rfr_pred_r\n",
    "printPrediction(rfr_pred)\n"
   ]
  },
  {
   "cell_type": "code",
   "execution_count": null,
   "metadata": {
    "collapsed": false,
    "scrolled": true
   },
   "outputs": [],
   "source": [
    "# Predicting & Exporting File\n",
    "rfr = RandomForestRegressor(bootstrap=True, criterion='mse', max_depth=1000,\n",
    "           max_features='auto', max_leaf_nodes=None, min_samples_leaf=2,\n",
    "           min_samples_split=10, min_weight_fraction_leaf=0.0,\n",
    "           n_estimators=1000, n_jobs=1, oob_score=False, random_state=None,\n",
    "           verbose=0, warm_start=False)\n",
    "\n",
    "rfr.fit(df_train_x, df_train_y)\n",
    "rfr_pred = np.array(rfr.predict(df_test))\n",
    "\n",
    "printPrediction(rfr_pred)"
   ]
  },
  {
   "cell_type": "code",
   "execution_count": null,
   "metadata": {
    "collapsed": false
   },
   "outputs": [],
   "source": [
    "df_train_x"
   ]
  },
  {
   "cell_type": "code",
   "execution_count": null,
   "metadata": {
    "collapsed": true
   },
   "outputs": [],
   "source": []
  }
 ],
 "metadata": {
  "anaconda-cloud": {},
  "kernelspec": {
   "display_name": "Python [default]",
   "language": "python",
   "name": "python2"
  },
  "language_info": {
   "codemirror_mode": {
    "name": "ipython",
    "version": 2
   },
   "file_extension": ".py",
   "mimetype": "text/x-python",
   "name": "python",
   "nbconvert_exporter": "python",
   "pygments_lexer": "ipython2",
   "version": "2.7.12"
  }
 },
 "nbformat": 4,
 "nbformat_minor": 0
}
