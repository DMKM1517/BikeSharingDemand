{
 "cells": [
  {
   "cell_type": "code",
   "execution_count": 1,
   "metadata": {
    "collapsed": true
   },
   "outputs": [],
   "source": [
    "# Imports"
   ]
  },
  {
   "cell_type": "code",
   "execution_count": 2,
   "metadata": {
    "collapsed": false
   },
   "outputs": [],
   "source": [
    "import numpy as np\n",
    "import pandas as pd\n",
    "import matplotlib.pyplot as plt\n",
    "import statsmodels.api as sm\n",
    "import seaborn as sns\n",
    "%matplotlib inline"
   ]
  },
  {
   "cell_type": "code",
   "execution_count": 3,
   "metadata": {
    "collapsed": false
   },
   "outputs": [],
   "source": [
    "from sklearn import linear_model\n",
    "from sklearn import cross_validation\n",
    "from sklearn import svm\n",
    "from sklearn import tree\n",
    "from sklearn.tree import _tree\n",
    "import xgboost as xgb\n",
    "from xgboost.sklearn import XGBRegressor\n",
    "from sklearn.ensemble import RandomForestRegressor\n",
    "from sklearn.learning_curve import learning_curve\n",
    "from sklearn.grid_search import GridSearchCV\n",
    "from sklearn.metrics import explained_variance_score"
   ]
  },
  {
   "cell_type": "markdown",
   "metadata": {},
   "source": [
    "# Importing and Creating Training & Testing Sets\n"
   ]
  },
  {
   "cell_type": "code",
   "execution_count": 4,
   "metadata": {
    "collapsed": false
   },
   "outputs": [
    {
     "name": "stdout",
     "output_type": "stream",
     "text": [
      "(10886, 13)\n"
     ]
    }
   ],
   "source": [
    "original_train = pd.read_csv('../train.csv',header = 0)\n",
    "original_train['dataset'] = 'train'\n",
    "print original_train.shape"
   ]
  },
  {
   "cell_type": "code",
   "execution_count": 5,
   "metadata": {
    "collapsed": false
   },
   "outputs": [
    {
     "name": "stdout",
     "output_type": "stream",
     "text": [
      "(6493, 10)\n"
     ]
    }
   ],
   "source": [
    "original_test = pd.read_csv('../test.csv',header = 0)\n",
    "original_test['dataset'] = 'test'\n",
    "print original_test.shape"
   ]
  },
  {
   "cell_type": "code",
   "execution_count": 6,
   "metadata": {
    "collapsed": false
   },
   "outputs": [],
   "source": [
    "df_complete =  original_train.copy().append(original_test.copy())\n",
    "df_complete = df_complete.drop(['count'], axis = 1)"
   ]
  },
  {
   "cell_type": "code",
   "execution_count": 7,
   "metadata": {
    "collapsed": true
   },
   "outputs": [],
   "source": [
    "#add the counts as logarithms\n",
    "df_complete['log_casual'] = df_complete['casual'].apply(np.log1p)\n",
    "df_complete['log_registered'] = df_complete['registered'].apply(np.log1p)"
   ]
  },
  {
   "cell_type": "code",
   "execution_count": 8,
   "metadata": {
    "collapsed": false
   },
   "outputs": [],
   "source": [
    "# Make the datetime the index\n",
    "df_complete['datetime'] = pd.to_datetime(df_complete['datetime'])\n",
    "\n",
    "df_complete.index = df_complete['datetime']\n",
    "del df_complete['datetime']\n"
   ]
  },
  {
   "cell_type": "code",
   "execution_count": 9,
   "metadata": {
    "collapsed": false
   },
   "outputs": [],
   "source": [
    "# Make sure we have all the complete values of the series\n",
    "idx = pd.date_range('2011-01-01 00:00:00', '2012-12-31 23:00:00', freq='H')\n",
    "df_complete = df_complete.reindex(idx)"
   ]
  },
  {
   "cell_type": "code",
   "execution_count": 10,
   "metadata": {
    "collapsed": false
   },
   "outputs": [],
   "source": [
    "#Put the target variables at the beggining\n",
    "df_complete = df_complete[[u'casual', u'registered', u'log_casual', u'log_registered', u'dataset',  \n",
    "       u'atemp', u'humidity', u'temp', u'windspeed', u'weather', u'season', u'workingday', u'holiday']]"
   ]
  },
  {
   "cell_type": "code",
   "execution_count": 11,
   "metadata": {
    "collapsed": false
   },
   "outputs": [
    {
     "data": {
      "text/plain": [
       "(165, 13)"
      ]
     },
     "execution_count": 11,
     "metadata": {},
     "output_type": "execute_result"
    }
   ],
   "source": [
    "# Missing entries? let's try to interpolate to get that info\n",
    "missing = df_complete[pd.isnull(df_complete['atemp'])]\n",
    "missing.shape"
   ]
  },
  {
   "cell_type": "code",
   "execution_count": 11,
   "metadata": {
    "collapsed": false
   },
   "outputs": [],
   "source": [
    "df_complete[\"weather\"] = df_complete[\"weather\"].interpolate(method='time').apply(np.round)\n",
    "df_complete[\"temp\"] = df_complete[\"temp\"].interpolate(method='time')\n",
    "df_complete[\"atemp\"] = df_complete[\"atemp\"].interpolate(method='time')\n",
    "df_complete[\"humidity\"] = df_complete[\"humidity\"].interpolate(method='time').apply(np.round)\n",
    "df_complete[\"windspeed\"] = df_complete[\"windspeed\"].interpolate(method='time')\n",
    "df_complete[\"season\"] = df_complete[\"season\"].interpolate(method='time').apply(np.round)\n",
    "df_complete[\"workingday\"] = df_complete[\"workingday\"].interpolate(method='time').apply(np.round)\n",
    "df_complete[\"holiday\"] = df_complete[\"holiday\"].interpolate(method='time').apply(np.round)"
   ]
  },
  {
   "cell_type": "code",
   "execution_count": 12,
   "metadata": {
    "collapsed": false
   },
   "outputs": [
    {
     "data": {
      "text/plain": [
       "(165, 13)"
      ]
     },
     "execution_count": 12,
     "metadata": {},
     "output_type": "execute_result"
    }
   ],
   "source": [
    "missing2 = df_complete[pd.isnull(df_complete['atemp'])]\n",
    "missing2.shape"
   ]
  },
  {
   "cell_type": "code",
   "execution_count": 13,
   "metadata": {
    "collapsed": false,
    "scrolled": true
   },
   "outputs": [
    {
     "data": {
      "text/html": [
       "<div>\n",
       "<table border=\"1\" class=\"dataframe\">\n",
       "  <thead>\n",
       "    <tr style=\"text-align: right;\">\n",
       "      <th></th>\n",
       "      <th>casual</th>\n",
       "      <th>registered</th>\n",
       "      <th>log_casual</th>\n",
       "      <th>log_registered</th>\n",
       "      <th>dataset</th>\n",
       "      <th>atemp</th>\n",
       "      <th>humidity</th>\n",
       "      <th>temp</th>\n",
       "      <th>windspeed</th>\n",
       "      <th>weather</th>\n",
       "      <th>season</th>\n",
       "      <th>workingday</th>\n",
       "      <th>holiday</th>\n",
       "    </tr>\n",
       "  </thead>\n",
       "  <tbody>\n",
       "    <tr>\n",
       "      <th>2011-01-02 05:00:00</th>\n",
       "      <td>NaN</td>\n",
       "      <td>NaN</td>\n",
       "      <td>NaN</td>\n",
       "      <td>NaN</td>\n",
       "      <td>NaN</td>\n",
       "      <td>NaN</td>\n",
       "      <td>NaN</td>\n",
       "      <td>NaN</td>\n",
       "      <td>NaN</td>\n",
       "      <td>NaN</td>\n",
       "      <td>NaN</td>\n",
       "      <td>NaN</td>\n",
       "      <td>NaN</td>\n",
       "    </tr>\n",
       "    <tr>\n",
       "      <th>2011-01-03 02:00:00</th>\n",
       "      <td>NaN</td>\n",
       "      <td>NaN</td>\n",
       "      <td>NaN</td>\n",
       "      <td>NaN</td>\n",
       "      <td>NaN</td>\n",
       "      <td>NaN</td>\n",
       "      <td>NaN</td>\n",
       "      <td>NaN</td>\n",
       "      <td>NaN</td>\n",
       "      <td>NaN</td>\n",
       "      <td>NaN</td>\n",
       "      <td>NaN</td>\n",
       "      <td>NaN</td>\n",
       "    </tr>\n",
       "    <tr>\n",
       "      <th>2011-01-03 03:00:00</th>\n",
       "      <td>NaN</td>\n",
       "      <td>NaN</td>\n",
       "      <td>NaN</td>\n",
       "      <td>NaN</td>\n",
       "      <td>NaN</td>\n",
       "      <td>NaN</td>\n",
       "      <td>NaN</td>\n",
       "      <td>NaN</td>\n",
       "      <td>NaN</td>\n",
       "      <td>NaN</td>\n",
       "      <td>NaN</td>\n",
       "      <td>NaN</td>\n",
       "      <td>NaN</td>\n",
       "    </tr>\n",
       "    <tr>\n",
       "      <th>2011-01-04 03:00:00</th>\n",
       "      <td>NaN</td>\n",
       "      <td>NaN</td>\n",
       "      <td>NaN</td>\n",
       "      <td>NaN</td>\n",
       "      <td>NaN</td>\n",
       "      <td>NaN</td>\n",
       "      <td>NaN</td>\n",
       "      <td>NaN</td>\n",
       "      <td>NaN</td>\n",
       "      <td>NaN</td>\n",
       "      <td>NaN</td>\n",
       "      <td>NaN</td>\n",
       "      <td>NaN</td>\n",
       "    </tr>\n",
       "    <tr>\n",
       "      <th>2011-01-05 03:00:00</th>\n",
       "      <td>NaN</td>\n",
       "      <td>NaN</td>\n",
       "      <td>NaN</td>\n",
       "      <td>NaN</td>\n",
       "      <td>NaN</td>\n",
       "      <td>NaN</td>\n",
       "      <td>NaN</td>\n",
       "      <td>NaN</td>\n",
       "      <td>NaN</td>\n",
       "      <td>NaN</td>\n",
       "      <td>NaN</td>\n",
       "      <td>NaN</td>\n",
       "      <td>NaN</td>\n",
       "    </tr>\n",
       "  </tbody>\n",
       "</table>\n",
       "</div>"
      ],
      "text/plain": [
       "                     casual  registered  log_casual  log_registered dataset  \\\n",
       "2011-01-02 05:00:00     NaN         NaN         NaN             NaN     NaN   \n",
       "2011-01-03 02:00:00     NaN         NaN         NaN             NaN     NaN   \n",
       "2011-01-03 03:00:00     NaN         NaN         NaN             NaN     NaN   \n",
       "2011-01-04 03:00:00     NaN         NaN         NaN             NaN     NaN   \n",
       "2011-01-05 03:00:00     NaN         NaN         NaN             NaN     NaN   \n",
       "\n",
       "                     atemp  humidity  temp  windspeed  weather  season  \\\n",
       "2011-01-02 05:00:00    NaN       NaN   NaN        NaN      NaN     NaN   \n",
       "2011-01-03 02:00:00    NaN       NaN   NaN        NaN      NaN     NaN   \n",
       "2011-01-03 03:00:00    NaN       NaN   NaN        NaN      NaN     NaN   \n",
       "2011-01-04 03:00:00    NaN       NaN   NaN        NaN      NaN     NaN   \n",
       "2011-01-05 03:00:00    NaN       NaN   NaN        NaN      NaN     NaN   \n",
       "\n",
       "                     workingday  holiday  \n",
       "2011-01-02 05:00:00         NaN      NaN  \n",
       "2011-01-03 02:00:00         NaN      NaN  \n",
       "2011-01-03 03:00:00         NaN      NaN  \n",
       "2011-01-04 03:00:00         NaN      NaN  \n",
       "2011-01-05 03:00:00         NaN      NaN  "
      ]
     },
     "execution_count": 13,
     "metadata": {},
     "output_type": "execute_result"
    }
   ],
   "source": [
    "df_complete.loc[missing.index].head()"
   ]
  },
  {
   "cell_type": "code",
   "execution_count": 14,
   "metadata": {
    "collapsed": true
   },
   "outputs": [],
   "source": [
    "df_complete['month'] = df_complete.index.month\n",
    "#df_complete['dayOfMonth'] = df_complete.index.day\n",
    "df_complete['day'] = df_complete.index.dayofweek\n",
    "df_complete['week'] = df_complete.index.week\n",
    "df_complete['hour'] = df_complete.index.hour\n",
    "df_complete['year'] = df_complete.index.year\n"
   ]
  },
  {
   "cell_type": "code",
   "execution_count": 15,
   "metadata": {
    "collapsed": false
   },
   "outputs": [],
   "source": [
    "df_complete['weekend'] = ((df_complete.index.dayofweek == 5) | (df_complete.index.dayofweek == 6)).astype(int)\n"
   ]
  },
  {
   "cell_type": "code",
   "execution_count": 16,
   "metadata": {
    "collapsed": true
   },
   "outputs": [],
   "source": [
    "df_complete[\"nat_dis\"] = 0"
   ]
  },
  {
   "cell_type": "markdown",
   "metadata": {},
   "source": [
    "# Initial Data View"
   ]
  },
  {
   "cell_type": "code",
   "execution_count": null,
   "metadata": {
    "collapsed": false
   },
   "outputs": [],
   "source": [
    "df_complete[df_complete['dataset']=='test'].head(2)"
   ]
  },
  {
   "cell_type": "code",
   "execution_count": 18,
   "metadata": {
    "collapsed": false
   },
   "outputs": [
    {
     "data": {
      "text/html": [
       "<div>\n",
       "<table border=\"1\" class=\"dataframe\">\n",
       "  <thead>\n",
       "    <tr style=\"text-align: right;\">\n",
       "      <th></th>\n",
       "      <th>casual</th>\n",
       "      <th>registered</th>\n",
       "      <th>log_casual</th>\n",
       "      <th>log_registered</th>\n",
       "      <th>atemp</th>\n",
       "      <th>humidity</th>\n",
       "      <th>temp</th>\n",
       "      <th>windspeed</th>\n",
       "      <th>weather</th>\n",
       "      <th>season</th>\n",
       "      <th>workingday</th>\n",
       "      <th>holiday</th>\n",
       "      <th>month</th>\n",
       "      <th>day</th>\n",
       "      <th>week</th>\n",
       "      <th>hour</th>\n",
       "      <th>year</th>\n",
       "      <th>weekend</th>\n",
       "      <th>nat_dis</th>\n",
       "    </tr>\n",
       "  </thead>\n",
       "  <tbody>\n",
       "    <tr>\n",
       "      <th>count</th>\n",
       "      <td>10886.000000</td>\n",
       "      <td>10886.000000</td>\n",
       "      <td>10886.000000</td>\n",
       "      <td>10886.000000</td>\n",
       "      <td>10886.000000</td>\n",
       "      <td>10886.000000</td>\n",
       "      <td>10886.00000</td>\n",
       "      <td>10886.000000</td>\n",
       "      <td>10886.000000</td>\n",
       "      <td>10886.000000</td>\n",
       "      <td>10886.000000</td>\n",
       "      <td>10886.000000</td>\n",
       "      <td>10886.000000</td>\n",
       "      <td>10886.000000</td>\n",
       "      <td>10886.000000</td>\n",
       "      <td>10886.000000</td>\n",
       "      <td>10886.000000</td>\n",
       "      <td>10886.000000</td>\n",
       "      <td>10886.0</td>\n",
       "    </tr>\n",
       "    <tr>\n",
       "      <th>mean</th>\n",
       "      <td>36.021955</td>\n",
       "      <td>155.552177</td>\n",
       "      <td>2.712439</td>\n",
       "      <td>4.395774</td>\n",
       "      <td>23.655084</td>\n",
       "      <td>61.886460</td>\n",
       "      <td>20.23086</td>\n",
       "      <td>12.799395</td>\n",
       "      <td>1.418427</td>\n",
       "      <td>2.506614</td>\n",
       "      <td>0.680875</td>\n",
       "      <td>0.028569</td>\n",
       "      <td>6.521495</td>\n",
       "      <td>3.013963</td>\n",
       "      <td>25.917784</td>\n",
       "      <td>11.541613</td>\n",
       "      <td>2011.501929</td>\n",
       "      <td>0.290557</td>\n",
       "      <td>0.0</td>\n",
       "    </tr>\n",
       "    <tr>\n",
       "      <th>std</th>\n",
       "      <td>49.960477</td>\n",
       "      <td>151.039033</td>\n",
       "      <td>1.491055</td>\n",
       "      <td>1.399383</td>\n",
       "      <td>8.474601</td>\n",
       "      <td>19.245033</td>\n",
       "      <td>7.79159</td>\n",
       "      <td>8.164537</td>\n",
       "      <td>0.633839</td>\n",
       "      <td>1.116174</td>\n",
       "      <td>0.466159</td>\n",
       "      <td>0.166599</td>\n",
       "      <td>3.444365</td>\n",
       "      <td>2.004577</td>\n",
       "      <td>15.017249</td>\n",
       "      <td>6.915757</td>\n",
       "      <td>0.500015</td>\n",
       "      <td>0.454058</td>\n",
       "      <td>0.0</td>\n",
       "    </tr>\n",
       "    <tr>\n",
       "      <th>min</th>\n",
       "      <td>0.000000</td>\n",
       "      <td>0.000000</td>\n",
       "      <td>0.000000</td>\n",
       "      <td>0.000000</td>\n",
       "      <td>0.760000</td>\n",
       "      <td>0.000000</td>\n",
       "      <td>0.82000</td>\n",
       "      <td>0.000000</td>\n",
       "      <td>1.000000</td>\n",
       "      <td>1.000000</td>\n",
       "      <td>0.000000</td>\n",
       "      <td>0.000000</td>\n",
       "      <td>1.000000</td>\n",
       "      <td>0.000000</td>\n",
       "      <td>1.000000</td>\n",
       "      <td>0.000000</td>\n",
       "      <td>2011.000000</td>\n",
       "      <td>0.000000</td>\n",
       "      <td>0.0</td>\n",
       "    </tr>\n",
       "    <tr>\n",
       "      <th>25%</th>\n",
       "      <td>4.000000</td>\n",
       "      <td>36.000000</td>\n",
       "      <td>1.609438</td>\n",
       "      <td>3.610918</td>\n",
       "      <td>16.665000</td>\n",
       "      <td>47.000000</td>\n",
       "      <td>13.94000</td>\n",
       "      <td>7.001500</td>\n",
       "      <td>1.000000</td>\n",
       "      <td>2.000000</td>\n",
       "      <td>0.000000</td>\n",
       "      <td>0.000000</td>\n",
       "      <td>4.000000</td>\n",
       "      <td>1.000000</td>\n",
       "      <td>14.000000</td>\n",
       "      <td>6.000000</td>\n",
       "      <td>2011.000000</td>\n",
       "      <td>0.000000</td>\n",
       "      <td>0.0</td>\n",
       "    </tr>\n",
       "    <tr>\n",
       "      <th>50%</th>\n",
       "      <td>17.000000</td>\n",
       "      <td>118.000000</td>\n",
       "      <td>2.890372</td>\n",
       "      <td>4.779123</td>\n",
       "      <td>24.240000</td>\n",
       "      <td>62.000000</td>\n",
       "      <td>20.50000</td>\n",
       "      <td>12.998000</td>\n",
       "      <td>1.000000</td>\n",
       "      <td>3.000000</td>\n",
       "      <td>1.000000</td>\n",
       "      <td>0.000000</td>\n",
       "      <td>7.000000</td>\n",
       "      <td>3.000000</td>\n",
       "      <td>26.000000</td>\n",
       "      <td>12.000000</td>\n",
       "      <td>2012.000000</td>\n",
       "      <td>0.000000</td>\n",
       "      <td>0.0</td>\n",
       "    </tr>\n",
       "    <tr>\n",
       "      <th>75%</th>\n",
       "      <td>49.000000</td>\n",
       "      <td>222.000000</td>\n",
       "      <td>3.912023</td>\n",
       "      <td>5.407172</td>\n",
       "      <td>31.060000</td>\n",
       "      <td>77.000000</td>\n",
       "      <td>26.24000</td>\n",
       "      <td>16.997900</td>\n",
       "      <td>2.000000</td>\n",
       "      <td>4.000000</td>\n",
       "      <td>1.000000</td>\n",
       "      <td>0.000000</td>\n",
       "      <td>10.000000</td>\n",
       "      <td>5.000000</td>\n",
       "      <td>40.000000</td>\n",
       "      <td>18.000000</td>\n",
       "      <td>2012.000000</td>\n",
       "      <td>1.000000</td>\n",
       "      <td>0.0</td>\n",
       "    </tr>\n",
       "    <tr>\n",
       "      <th>max</th>\n",
       "      <td>367.000000</td>\n",
       "      <td>886.000000</td>\n",
       "      <td>5.908083</td>\n",
       "      <td>6.787845</td>\n",
       "      <td>45.455000</td>\n",
       "      <td>100.000000</td>\n",
       "      <td>41.00000</td>\n",
       "      <td>56.996900</td>\n",
       "      <td>4.000000</td>\n",
       "      <td>4.000000</td>\n",
       "      <td>1.000000</td>\n",
       "      <td>1.000000</td>\n",
       "      <td>12.000000</td>\n",
       "      <td>6.000000</td>\n",
       "      <td>52.000000</td>\n",
       "      <td>23.000000</td>\n",
       "      <td>2012.000000</td>\n",
       "      <td>1.000000</td>\n",
       "      <td>0.0</td>\n",
       "    </tr>\n",
       "  </tbody>\n",
       "</table>\n",
       "</div>"
      ],
      "text/plain": [
       "             casual    registered    log_casual  log_registered         atemp  \\\n",
       "count  10886.000000  10886.000000  10886.000000    10886.000000  10886.000000   \n",
       "mean      36.021955    155.552177      2.712439        4.395774     23.655084   \n",
       "std       49.960477    151.039033      1.491055        1.399383      8.474601   \n",
       "min        0.000000      0.000000      0.000000        0.000000      0.760000   \n",
       "25%        4.000000     36.000000      1.609438        3.610918     16.665000   \n",
       "50%       17.000000    118.000000      2.890372        4.779123     24.240000   \n",
       "75%       49.000000    222.000000      3.912023        5.407172     31.060000   \n",
       "max      367.000000    886.000000      5.908083        6.787845     45.455000   \n",
       "\n",
       "           humidity         temp     windspeed       weather        season  \\\n",
       "count  10886.000000  10886.00000  10886.000000  10886.000000  10886.000000   \n",
       "mean      61.886460     20.23086     12.799395      1.418427      2.506614   \n",
       "std       19.245033      7.79159      8.164537      0.633839      1.116174   \n",
       "min        0.000000      0.82000      0.000000      1.000000      1.000000   \n",
       "25%       47.000000     13.94000      7.001500      1.000000      2.000000   \n",
       "50%       62.000000     20.50000     12.998000      1.000000      3.000000   \n",
       "75%       77.000000     26.24000     16.997900      2.000000      4.000000   \n",
       "max      100.000000     41.00000     56.996900      4.000000      4.000000   \n",
       "\n",
       "         workingday       holiday         month           day          week  \\\n",
       "count  10886.000000  10886.000000  10886.000000  10886.000000  10886.000000   \n",
       "mean       0.680875      0.028569      6.521495      3.013963     25.917784   \n",
       "std        0.466159      0.166599      3.444365      2.004577     15.017249   \n",
       "min        0.000000      0.000000      1.000000      0.000000      1.000000   \n",
       "25%        0.000000      0.000000      4.000000      1.000000     14.000000   \n",
       "50%        1.000000      0.000000      7.000000      3.000000     26.000000   \n",
       "75%        1.000000      0.000000     10.000000      5.000000     40.000000   \n",
       "max        1.000000      1.000000     12.000000      6.000000     52.000000   \n",
       "\n",
       "               hour          year       weekend  nat_dis  \n",
       "count  10886.000000  10886.000000  10886.000000  10886.0  \n",
       "mean      11.541613   2011.501929      0.290557      0.0  \n",
       "std        6.915757      0.500015      0.454058      0.0  \n",
       "min        0.000000   2011.000000      0.000000      0.0  \n",
       "25%        6.000000   2011.000000      0.000000      0.0  \n",
       "50%       12.000000   2012.000000      0.000000      0.0  \n",
       "75%       18.000000   2012.000000      1.000000      0.0  \n",
       "max       23.000000   2012.000000      1.000000      0.0  "
      ]
     },
     "execution_count": 18,
     "metadata": {},
     "output_type": "execute_result"
    }
   ],
   "source": [
    "df_complete[df_complete['dataset'] == 'train'].describe()"
   ]
  },
  {
   "cell_type": "code",
   "execution_count": 19,
   "metadata": {
    "collapsed": false
   },
   "outputs": [
    {
     "data": {
      "text/plain": [
       "casual            float64\n",
       "registered        float64\n",
       "log_casual        float64\n",
       "log_registered    float64\n",
       "dataset            object\n",
       "atemp             float64\n",
       "humidity          float64\n",
       "temp              float64\n",
       "windspeed         float64\n",
       "weather           float64\n",
       "season            float64\n",
       "workingday        float64\n",
       "holiday           float64\n",
       "month               int32\n",
       "day                 int32\n",
       "week                int32\n",
       "hour                int32\n",
       "year                int32\n",
       "weekend             int32\n",
       "nat_dis             int64\n",
       "dtype: object"
      ]
     },
     "execution_count": 19,
     "metadata": {},
     "output_type": "execute_result"
    }
   ],
   "source": [
    "df_complete[df_complete['dataset'] == 'train'].dtypes"
   ]
  },
  {
   "cell_type": "code",
   "execution_count": 20,
   "metadata": {
    "collapsed": false
   },
   "outputs": [
    {
     "data": {
      "text/plain": [
       "(10886, 20)"
      ]
     },
     "execution_count": 20,
     "metadata": {},
     "output_type": "execute_result"
    }
   ],
   "source": [
    "df_complete[df_complete['dataset'] == 'train'].shape"
   ]
  },
  {
   "cell_type": "markdown",
   "metadata": {},
   "source": [
    "# Utils"
   ]
  },
  {
   "cell_type": "code",
   "execution_count": 22,
   "metadata": {
    "collapsed": false
   },
   "outputs": [],
   "source": [
    "# Function that prints the prediction according the submission format\n",
    "def printPrediction(pred, fileName='pred.csv'):\n",
    "    str_prediction = \"datetime,count\\n\"\n",
    "    for i in range(0, len(pred)):\n",
    "        datetime = original_test['datetime'][i]\n",
    "        currentPred = int(round(pred[i]))\n",
    "        str_prediction += \"{},{}\\n\".format(datetime, currentPred)\n",
    "\n",
    "    #print str_prediction\n",
    "    f = open(fileName,'w')\n",
    "    f.write(str_prediction)\n",
    "    f.close()"
   ]
  },
  {
   "cell_type": "code",
   "execution_count": 23,
   "metadata": {
    "collapsed": true
   },
   "outputs": [],
   "source": [
    "# Function that gets the range of an specific day\n",
    "def get_day_range(day):\n",
    "    day_end = day + pd.offsets.DateOffset(hours=23)\n",
    "    return pd.date_range(day, day_end, freq=\"H\")"
   ]
  },
  {
   "cell_type": "code",
   "execution_count": 24,
   "metadata": {
    "collapsed": false
   },
   "outputs": [],
   "source": [
    "def predictWithModel(model, train_x, train_y_c, train_y_r, test_x, features_casual, features_registered, use_log):\n",
    "    pred_c = []\n",
    "    pred_r = []\n",
    "\n",
    "    years = [2011, 2012]\n",
    "    for y in years:\n",
    "        print 'Predicting: {}'.format(y)\n",
    "        train_mask = (train_x['year'] == y)\n",
    "        train_mask = train_mask.values\n",
    "\n",
    "        test_mask = (test_x['year'] == y)\n",
    "        test_mask = test_mask.values\n",
    "\n",
    "\n",
    "        model.fit(train_x[train_mask][features_casual], train_y_c[train_mask])\n",
    "        pred_c_current = np.array(model.predict(test_x[test_mask][features_casual]))\n",
    "        pred_c = np.concatenate((pred_c, pred_c_current), axis = 0)\n",
    "\n",
    "        model.fit(train_x[train_mask][features_registered], train_y_r[train_mask])\n",
    "        pred_r_current = np.array(model.predict(test_x[test_mask][features_registered]))\n",
    "        pred_r = np.concatenate((pred_r, pred_r_current), axis = 0)\n",
    "    \n",
    "    if(use_log):\n",
    "        pred_c = np.expm1(pred_c)\n",
    "        pred_r = np.expm1(pred_r)\n",
    "    \n",
    "\n",
    "    return pred_c + pred_r\n",
    "    "
   ]
  },
  {
   "cell_type": "code",
   "execution_count": 25,
   "metadata": {
    "collapsed": true
   },
   "outputs": [],
   "source": [
    "def tree_to_code(sk_tree, feature_names):\n",
    "    tree_ = sk_tree.tree_\n",
    "    feature_name = [\n",
    "        feature_names[i] if i != _tree.TREE_UNDEFINED else \"undefined!\"\n",
    "        for i in tree_.feature\n",
    "    ]\n",
    "    print \"def sk_tree({}):\".format(\", \".join(feature_names))\n",
    "\n",
    "    def recurse(node, depth):\n",
    "        indent = \"  \" * depth\n",
    "        if tree_.feature[node] != _tree.TREE_UNDEFINED:\n",
    "            name = feature_name[node]\n",
    "            threshold = tree_.threshold[node]\n",
    "            print \"{}if {} <= {}:\".format(indent, name, threshold)\n",
    "            recurse(tree_.children_left[node], depth + 1)\n",
    "            print \"{}else:  # if {} > {}\".format(indent, name, threshold)\n",
    "            recurse(tree_.children_right[node], depth + 1)\n",
    "        else:\n",
    "            print \"{}return {}\".format(indent, tree_.value[node])\n",
    "\n",
    "    recurse(0, 1)"
   ]
  },
  {
   "cell_type": "markdown",
   "metadata": {},
   "source": [
    "# Adding new Features"
   ]
  },
  {
   "cell_type": "code",
   "execution_count": 44,
   "metadata": {
    "collapsed": false
   },
   "outputs": [],
   "source": [
    "#Natural Disasters\n",
    "#storms\n",
    "df_complete.loc[get_day_range(pd.datetime(2012, 5, 21)), \"nat_dis\"] = 1\n",
    "\n",
    "#tornado\n",
    "df_complete.loc[get_day_range(pd.datetime(2012, 6, 1)), \"nat_dis\"] = 1\n",
    "\n",
    "#January 8–13, 2011 North American blizzard\n",
    "df_complete.loc[get_day_range(pd.datetime(2011, 1, 9)), \"nat_dis\"] = 1 \n",
    "df_complete.loc[get_day_range(pd.datetime(2011, 1, 10)), \"nat_dis\"] = 1 \n",
    "df_complete.loc[get_day_range(pd.datetime(2011, 1, 11)), \"nat_dis\"] = 1 \n",
    "df_complete.loc[get_day_range(pd.datetime(2011, 1, 12)), \"nat_dis\"] = 1\n",
    "\n",
    "#Earthquake Aug. 23, 2011\n",
    "df_complete.loc[get_day_range(pd.datetime(2011, 8, 23)), \"nat_dis\"] = 1\n",
    "\n",
    "#Hurricane Irene 21 - 30 Aug-11\n",
    "df_complete.loc[get_day_range(pd.datetime(2011, 8, 22)), \"nat_dis\"] = 1 \n",
    "df_complete.loc[get_day_range(pd.datetime(2011, 8, 23)), \"nat_dis\"] = 1 \n",
    "df_complete.loc[get_day_range(pd.datetime(2011, 8, 24)), \"nat_dis\"] = 1 \n",
    "df_complete.loc[get_day_range(pd.datetime(2011, 8, 25)), \"nat_dis\"] = 1 \n",
    "df_complete.loc[get_day_range(pd.datetime(2011, 8, 26)), \"nat_dis\"] = 1 \n",
    "df_complete.loc[get_day_range(pd.datetime(2011, 8, 27)), \"nat_dis\"] = 1\n"
   ]
  },
  {
   "cell_type": "markdown",
   "metadata": {},
   "source": [
    "### Rush Hour"
   ]
  },
  {
   "cell_type": "code",
   "execution_count": 32,
   "metadata": {
    "collapsed": false
   },
   "outputs": [
    {
     "data": {
      "text/plain": [
       "<matplotlib.text.Text at 0x10bb2a90>"
      ]
     },
     "execution_count": 32,
     "metadata": {},
     "output_type": "execute_result"
    },
    {
     "data": {
      "image/png": "[encoded data removed]",
      "text/plain": [
       "<matplotlib.figure.Figure at 0x10bde160>"
      ]
     },
     "metadata": {},
     "output_type": "display_data"
    }
   ],
   "source": [
    "# rentals by hour, split by working day (or not)\n",
    "by_hour = df_complete[df_complete['dataset'] == 'train'].copy().groupby(['hour', 'workingday'])['casual'].agg('sum').unstack()\n",
    "\n",
    "by_hour.plot(kind='bar', figsize=(8,4), width=0.8, label='rush hours');\n",
    "plt.ylabel('# Casual Rentals')\n",
    "plt.xlabel('Hours')"
   ]
  },
  {
   "cell_type": "code",
   "execution_count": 33,
   "metadata": {
    "collapsed": false
   },
   "outputs": [
    {
     "data": {
      "text/plain": [
       "<matplotlib.text.Text at 0x106d59b0>"
      ]
     },
     "execution_count": 33,
     "metadata": {},
     "output_type": "execute_result"
    },
    {
     "data": {
      "image/png": "[encoded data removed]",
      "text/plain": [
       "<matplotlib.figure.Figure at 0xd7780b8>"
      ]
     },
     "metadata": {},
     "output_type": "display_data"
    }
   ],
   "source": [
    "# rentals by hour, split by working day (or not)\n",
    "by_hour = df_complete[df_complete['dataset'] == 'train'].copy().groupby(['hour', 'workingday'])['registered'].agg('sum').unstack()\n",
    "\n",
    "by_hour.plot(kind='bar', figsize=(8,4), width=0.8);\n",
    "plt.ylabel('# Registered Rentals')\n",
    "plt.xlabel('Hours')"
   ]
  },
  {
   "cell_type": "code",
   "execution_count": 35,
   "metadata": {
    "collapsed": false
   },
   "outputs": [],
   "source": [
    "## Add Rush Hours according to histograms\n",
    "df_complete['rush_hour_casual_man'] = df_complete[['hour', 'workingday']].apply(\n",
    "    lambda x: (0, 1)[\n",
    "        (x['workingday'] == 1 and  7 <= x['hour'] <= 23)\n",
    "        or (x['workingday'] == 0 and  10 <= x['hour'] <= 19)], axis = 1)\n",
    "\n",
    "df_complete['rush_hour_reg_man'] = df_complete[['hour', 'workingday']].apply(\n",
    "    lambda x: (0, 1)[\n",
    "        (x['workingday'] == 1 and  (6 <= x['hour'] <= 9 or 16 <= x['hour'] <= 23))\n",
    "        or (x['workingday'] == 0 and  8 <= x['hour'] <= 23)], axis = 1)"
   ]
  },
  {
   "cell_type": "code",
   "execution_count": 40,
   "metadata": {
    "collapsed": false
   },
   "outputs": [
    {
     "name": "stdout",
     "output_type": "stream",
     "text": [
      "Casual Temp:\n",
      "def sk_tree(hour):\n",
      "  if hour <= 9.5:\n",
      "    if hour <= 7.5:\n",
      "      return [[ 5.29744018]]\n",
      "    else:  # if hour > 7.5\n",
      "      return [[ 26.24945055]]\n",
      "  else:  # if hour > 9.5\n",
      "    if hour <= 19.5:\n",
      "      return [[ 66.27336551]]\n",
      "    else:  # if hour > 19.5\n",
      "      return [[ 25.84155702]]\n",
      "None\n",
      "Registered Temp:\n",
      "def sk_tree(hour):\n",
      "  if hour <= 6.5:\n",
      "    if hour <= 5.5:\n",
      "      return [[ 20.63785395]]\n",
      "    else:  # if hour > 5.5\n",
      "      return [[ 72.10989011]]\n",
      "  else:  # if hour > 6.5\n",
      "    if hour <= 20.5:\n",
      "      return [[ 228.05141872]]\n",
      "    else:  # if hour > 20.5\n",
      "      return [[ 109.94078947]]\n",
      "None\n"
     ]
    }
   ],
   "source": [
    "# Getting rules for hour rushes\n",
    "hour_dt = tree.DecisionTreeRegressor(max_depth=2)\n",
    "\n",
    "dt_casual = df_complete[df_complete['dataset'] == 'train']['casual']\n",
    "dt_registered = df_complete[df_complete['dataset'] == 'train']['registered']\n",
    "dt_hour = df_complete[df_complete['dataset'] == 'train']['hour']\n",
    "\n",
    "hour_dt.fit(dt_hour[:, None], dt_casual)\n",
    "print 'Casual Temp:'\n",
    "print tree_to_code(hour_dt, ['hour'])\n",
    "\n",
    "\n",
    "hour_dt.fit(dt_hour[:, None], dt_registered)\n",
    "print 'Registered Temp:'\n",
    "print tree_to_code(hour_dt, ['hour'])"
   ]
  },
  {
   "cell_type": "code",
   "execution_count": 42,
   "metadata": {
    "collapsed": true
   },
   "outputs": [],
   "source": [
    "# Functions for defining the rush hours\n",
    "def rush_hour_casual_bucket(hour):\n",
    "  if hour <= 9.5:\n",
    "    if hour <= 7.5:\n",
    "      return 1\n",
    "    else:  # if hour > 7.5\n",
    "      return 2\n",
    "  else:  # if hour > 9.5\n",
    "    if hour <= 19.5:\n",
    "      return 3\n",
    "    else:  # if hour > 19.5\n",
    "      return 4\n",
    "\n",
    "def rush_hour_reg_bucket(hour):\n",
    "  if hour <= 6.5:\n",
    "    if hour <= 5.5:\n",
    "      return 1\n",
    "    else:  # if hour > 5.5\n",
    "      return 2\n",
    "  else:  # if hour > 6.5\n",
    "    if hour <= 20.5:\n",
    "      return 3\n",
    "    else:  # if hour > 20.5\n",
    "      return 4"
   ]
  },
  {
   "cell_type": "code",
   "execution_count": 45,
   "metadata": {
    "collapsed": true
   },
   "outputs": [],
   "source": [
    "df_complete['rush_hour_casual_aut'] = df_complete['hour'].apply(lambda x: rush_hour_casual_bucket(x))\n",
    "df_complete['rush_hour_reg_aut'] = df_complete['hour'].apply(lambda x: rush_hour_reg_bucket(x))"
   ]
  },
  {
   "cell_type": "markdown",
   "metadata": {},
   "source": [
    "### Rush Temperature"
   ]
  },
  {
   "cell_type": "code",
   "execution_count": 47,
   "metadata": {
    "collapsed": false
   },
   "outputs": [
    {
     "data": {
      "text/plain": [
       "<matplotlib.text.Text at 0xdf39160>"
      ]
     },
     "execution_count": 47,
     "metadata": {},
     "output_type": "execute_result"
    },
    {
     "data": {
      "image/png": "[encoded data removed]",
      "text/plain": [
       "<matplotlib.figure.Figure at 0x1040bd30>"
      ]
     },
     "metadata": {},
     "output_type": "display_data"
    }
   ],
   "source": [
    "# casual rentals by temperature, split by working day (or not)\n",
    "by_hour = df_complete[df_complete['dataset'] == 'train'].copy().groupby(['temp'])['casual'].agg('sum')\n",
    "\n",
    "by_hour.plot(kind='bar', figsize=(8,4), width=0.8);\n",
    "plt.ylabel('# Casual Rentals')\n",
    "plt.xlabel('Temperature')"
   ]
  },
  {
   "cell_type": "code",
   "execution_count": 48,
   "metadata": {
    "collapsed": false
   },
   "outputs": [
    {
     "data": {
      "text/plain": [
       "<matplotlib.text.Text at 0x11273f98>"
      ]
     },
     "execution_count": 48,
     "metadata": {},
     "output_type": "execute_result"
    },
    {
     "data": {
      "image/png": "[encoded data removed]",
      "text/plain": [
       "<matplotlib.figure.Figure at 0x10ef4ef0>"
      ]
     },
     "metadata": {},
     "output_type": "display_data"
    }
   ],
   "source": [
    "# registered rentals by temperature \n",
    "by_hour = df_complete[df_complete['dataset'] == 'train'].copy().groupby(['temp'])['registered'].agg('sum')\n",
    "\n",
    "by_hour.plot(kind='bar', figsize=(8,4), width=0.8);\n",
    "plt.ylabel('# Registered Rentals')\n",
    "plt.xlabel('Temperature')"
   ]
  },
  {
   "cell_type": "code",
   "execution_count": 21,
   "metadata": {
    "collapsed": true
   },
   "outputs": [],
   "source": [
    "#Add rush temps:\n",
    "df_complete['casual_rush_temp'] = df_complete[['temp']].apply(\n",
    "    lambda x: (0, 1)[\n",
    "        (20 <= x['temp'] <= 23)\n",
    "        or (24 <= x['temp'] <= 27.2)\n",
    "        or (28.5 <= x['temp'] <= 31.3)\n",
    "        or (32.5 <= x['temp'] <= 34)], axis = 1)\n",
    "df_complete['registered_rush_temp'] = df_complete[['temp']].apply(\n",
    "    lambda x: (0, 1)[\n",
    "        (12 <= x['temp'] <= 15)\n",
    "        or (16 <= x['temp'] <= 19)\n",
    "        or (20 <= x['temp'] <= 23)\n",
    "        or (24.5 <= x['temp'] <= 27.1)\n",
    "        or (28.5 <= x['temp'] <= 31.2)\n",
    "        or (32 <= x['temp'] <= 33)], axis = 1)"
   ]
  },
  {
   "cell_type": "code",
   "execution_count": null,
   "metadata": {
    "collapsed": true
   },
   "outputs": [],
   "source": [
    "# Getting rules for temp rushes\n",
    "temp_dt = tree.DecisionTreeRegressor(max_depth=3)\n",
    "\n",
    "dt_casual = df_complete[df_complete['dataset'] == 'train']['casual']\n",
    "dt_registered = df_complete[df_complete['dataset'] == 'train']['registered']\n",
    "dt_temp = df_complete[df_complete['dataset'] == 'train']['temp']\n",
    "\n",
    "temp_dt.fit(dt_temp[:, None], dt_casual)\n",
    "print 'Casual Temp:'\n",
    "print tree_to_code(temp_dt, ['temp'])\n",
    "\n",
    "\n",
    "temp_dt.fit(dt_temp[:, None], dt_registered)\n",
    "print 'Registered Temp:'\n",
    "print tree_to_code(temp_dt, ['temp'])"
   ]
  },
  {
   "cell_type": "code",
   "execution_count": 22,
   "metadata": {
    "collapsed": false
   },
   "outputs": [],
   "source": [
    "# Functions for defining the temp rushes\n",
    "def temp_rush_casual_bucket(temp):\n",
    "  if temp <= 23.3699989319:\n",
    "    if temp <= 15.1700000763:\n",
    "      if temp <= 12.7100000381:\n",
    "        return 1\n",
    "      else:  # if temp > 12.7100000381\n",
    "        return 2\n",
    "    else:  # if temp > 15.1700000763\n",
    "      if temp <= 19.2700004578:\n",
    "        return 3\n",
    "      else:  # if temp > 19.2700004578\n",
    "        return 4\n",
    "  else:  # if temp > 23.3699989319\n",
    "    if temp <= 29.9300003052:\n",
    "      if temp <= 29.1100006104:\n",
    "        return 5\n",
    "      else:  # if temp > 29.1100006104\n",
    "        return 6\n",
    "    else:  # if temp > 29.9300003052\n",
    "      if temp <= 32.3899993896:\n",
    "        return 7\n",
    "      else:  # if temp > 32.3899993896\n",
    "        return 8\n",
    "\n",
    "def temp_rush_registered_bucket(temp):\n",
    "  if temp <= 22.5499992371:\n",
    "    if temp <= 12.7100000381:\n",
    "      if temp <= 11.0699996948:\n",
    "        return 1\n",
    "      else:  # if temp > 11.0699996948\n",
    "        return 2\n",
    "    else:  # if temp > 12.7100000381\n",
    "      if temp <= 19.2700004578:\n",
    "        return 3\n",
    "      else:  # if temp > 19.2700004578\n",
    "        return 4\n",
    "  else:  # if temp > 22.5499992371\n",
    "    if temp <= 29.9300003052:\n",
    "      if temp <= 28.2900009155:\n",
    "        return 5\n",
    "      else:  # if temp > 28.2900009155\n",
    "        return 6\n",
    "    else:  # if temp > 29.9300003052\n",
    "      if temp <= 30.75:\n",
    "        return 7\n",
    "      else:  # if temp > 30.75\n",
    "        return 8\n"
   ]
  },
  {
   "cell_type": "code",
   "execution_count": 23,
   "metadata": {
    "collapsed": false
   },
   "outputs": [],
   "source": [
    "df_complete['casual_rush_temp_2'] = df_complete['temp'].apply(lambda x: temp_rush_casual_bucket(x))\n",
    "df_complete['registered_rush_temp_2'] = df_complete['temp'].apply(lambda x: temp_rush_registered_bucket(x))"
   ]
  },
  {
   "cell_type": "code",
   "execution_count": null,
   "metadata": {
    "collapsed": true
   },
   "outputs": [],
   "source": [
    "# Getting rules for humidity rushes\n",
    "humidity_dt = tree.DecisionTreeRegressor(max_depth=2)\n",
    "\n",
    "dt_casual = df_complete[df_complete['dataset'] == 'train']['casual']\n",
    "dt_registered = df_complete[df_complete['dataset'] == 'train']['registered']\n",
    "dt_humidity = df_complete[df_complete['dataset'] == 'train']['humidity']\n",
    "\n",
    "humidity_dt.fit(dt_humidity[:, None], dt_casual)\n",
    "print 'Casual Temp:'\n",
    "print tree_to_code(humidity_dt, ['humidity'])\n",
    "\n",
    "humidity_dt.fit(dt_humidity[:, None], dt_registered)\n",
    "print 'Registered Temp:'\n",
    "print tree_to_code(humidity_dt, ['humidity'])"
   ]
  },
  {
   "cell_type": "code",
   "execution_count": 24,
   "metadata": {
    "collapsed": true
   },
   "outputs": [],
   "source": [
    "# Functions for defining the humidity rushes\n",
    "def humidity_rush_casual_bucket(humidity):\n",
    "  if humidity <= 55.5:\n",
    "    if humidity <= 39.5:\n",
    "      return 1\n",
    "    else:  # if humidity > 39.5\n",
    "      return 2\n",
    "  else:  # if humidity > 55.5\n",
    "    if humidity <= 74.5:\n",
    "      return 3\n",
    "    else:  # if humidity > 74.5\n",
    "      return 4\n",
    "\n",
    "def humidity_rush_registered_bucket(humidity):\n",
    "  if humidity <= 66.5:\n",
    "    if humidity <= 43.5:\n",
    "      return 1\n",
    "    else:  # if humidity > 43.5\n",
    "      return 2\n",
    "  else:  # if humidity > 66.5\n",
    "    if humidity <= 84.5:\n",
    "      return 3\n",
    "    else:  # if humidity > 84.5\n",
    "      return 4"
   ]
  },
  {
   "cell_type": "code",
   "execution_count": 25,
   "metadata": {
    "collapsed": false
   },
   "outputs": [],
   "source": [
    "df_complete['casual_rush_humidity_2'] = df_complete['humidity'].apply(lambda x: humidity_rush_casual_bucket(x))\n",
    "df_complete['registered_rush_humidity_2'] = df_complete['humidity'].apply(lambda x: humidity_rush_registered_bucket(x))"
   ]
  },
  {
   "cell_type": "code",
   "execution_count": null,
   "metadata": {
    "collapsed": false
   },
   "outputs": [],
   "source": [
    "# Getting rules for wind/humidity rushes\n",
    "wind_dt = tree.DecisionTreeRegressor(max_depth=2)\n",
    "\n",
    "dt_casual = df_complete[df_complete['dataset'] == 'train']['casual']\n",
    "dt_registered = df_complete[df_complete['dataset'] == 'train']['registered']\n",
    "dt_wind = df_complete[df_complete['dataset'] == 'train']['windspeed']\n",
    "\n",
    "wind_dt.fit(dt_wind[:, None], dt_casual)\n",
    "print 'Casual Wind:'\n",
    "print tree_to_code(wind_dt, ['windspeed'])\n",
    "\n",
    "wind_dt.fit(dt_wind[:, None], dt_registered)\n",
    "print 'Registered Wind:'\n",
    "print tree_to_code(wind_dt, ['windspeed'])"
   ]
  },
  {
   "cell_type": "code",
   "execution_count": null,
   "metadata": {
    "collapsed": true
   },
   "outputs": [],
   "source": [
    "def wind_rush_registered_bucket(windspeed):\n",
    "  if windspeed <= 9.99975013733:\n",
    "    if windspeed <= 7.99980020523:\n",
    "      return 1\n",
    "    else:  # if windspeed > 7.99980020523\n",
    "      return 2\n",
    "  else:  # if windspeed > 9.99975013733\n",
    "    if windspeed <= 15.9995994568:\n",
    "      return 3\n",
    "    else:  # if windspeed > 15.9995994568\n",
    "      return 4\n",
    "\n",
    "def wind_rush_registered_bucket(windspeed):\n",
    "  if windspeed <= 9.99975013733:\n",
    "    if windspeed <= 6.50234985352:\n",
    "      return 1\n",
    "    else:  # if windspeed > 6.50234985352\n",
    "      return 2\n",
    "  else:  # if windspeed > 9.99975013733\n",
    "    if windspeed <= 41.9989471436:\n",
    "      return 3\n",
    "    else:  # if windspeed > 41.9989471436\n",
    "      return 4"
   ]
  },
  {
   "cell_type": "code",
   "execution_count": null,
   "metadata": {
    "collapsed": true
   },
   "outputs": [],
   "source": [
    "df_complete['casual_rush_wind_2'] = df_complete['windspeed'].apply(lambda x: wind_rush_registered_bucket(x))\n",
    "df_complete['registered_rush_wind_2'] = df_complete['windspeed'].apply(lambda x: wind_rush_registered_bucket(x))"
   ]
  },
  {
   "cell_type": "code",
   "execution_count": 26,
   "metadata": {
    "collapsed": false
   },
   "outputs": [],
   "source": [
    "## Add feature that indicates if it's raining or not\n",
    "df_complete['rain'] = ((df_complete['weather'] == 3) | (df_complete['weather'] == 4)).astype(int)\n",
    "#del df_complete['weather']"
   ]
  },
  {
   "cell_type": "code",
   "execution_count": null,
   "metadata": {
    "collapsed": false
   },
   "outputs": [],
   "source": [
    "## add quarters by year\n",
    "df_complete['year_quarter'] = 1\n",
    "\n",
    "df_complete.loc[(1 <= df_complete.index.month)\n",
    "                & (df_complete.index.month <= 3),\n",
    "                'year_quarter'] = 1\n",
    "df_complete.loc[(4 <= df_complete.index.month) \n",
    "                & (df_complete.index.month <= 6)\n",
    "                , 'year_quarter'] = 2\n",
    "df_complete.loc[(7 <= df_complete.index.month) \n",
    "                & (df_complete.index.month <= 9)\n",
    "                , 'year_quarter'] = 3\n",
    "df_complete.loc[(10 <= df_complete.index.month) \n",
    "                & (df_complete.index.month <= 12)\n",
    "                , 'year_quarter'] = 4\n"
   ]
  },
  {
   "cell_type": "code",
   "execution_count": 27,
   "metadata": {
    "collapsed": false
   },
   "outputs": [
    {
     "data": {
      "text/html": [
       "<div>\n",
       "<table border=\"1\" class=\"dataframe\">\n",
       "  <thead>\n",
       "    <tr style=\"text-align: right;\">\n",
       "      <th></th>\n",
       "      <th>casual</th>\n",
       "      <th>registered</th>\n",
       "      <th>log_casual</th>\n",
       "      <th>log_registered</th>\n",
       "      <th>dataset</th>\n",
       "      <th>atemp</th>\n",
       "      <th>humidity</th>\n",
       "      <th>temp</th>\n",
       "      <th>windspeed</th>\n",
       "      <th>weather</th>\n",
       "      <th>...</th>\n",
       "      <th>weekend</th>\n",
       "      <th>casual_rush</th>\n",
       "      <th>registered_rush</th>\n",
       "      <th>casual_rush_temp</th>\n",
       "      <th>registered_rush_temp</th>\n",
       "      <th>casual_rush_temp_2</th>\n",
       "      <th>registered_rush_temp_2</th>\n",
       "      <th>casual_rush_humidity_2</th>\n",
       "      <th>registered_rush_humidity_2</th>\n",
       "      <th>rain</th>\n",
       "    </tr>\n",
       "  </thead>\n",
       "  <tbody>\n",
       "    <tr>\n",
       "      <th>2011-01-01 00:00:00</th>\n",
       "      <td>3.0</td>\n",
       "      <td>13.0</td>\n",
       "      <td>1.386294</td>\n",
       "      <td>2.639057</td>\n",
       "      <td>train</td>\n",
       "      <td>14.395</td>\n",
       "      <td>81.0</td>\n",
       "      <td>9.84</td>\n",
       "      <td>0.0</td>\n",
       "      <td>1.0</td>\n",
       "      <td>...</td>\n",
       "      <td>1</td>\n",
       "      <td>0</td>\n",
       "      <td>0</td>\n",
       "      <td>0</td>\n",
       "      <td>0</td>\n",
       "      <td>1</td>\n",
       "      <td>1</td>\n",
       "      <td>4</td>\n",
       "      <td>3</td>\n",
       "      <td>0</td>\n",
       "    </tr>\n",
       "    <tr>\n",
       "      <th>2011-01-01 01:00:00</th>\n",
       "      <td>8.0</td>\n",
       "      <td>32.0</td>\n",
       "      <td>2.197225</td>\n",
       "      <td>3.496508</td>\n",
       "      <td>train</td>\n",
       "      <td>13.635</td>\n",
       "      <td>80.0</td>\n",
       "      <td>9.02</td>\n",
       "      <td>0.0</td>\n",
       "      <td>1.0</td>\n",
       "      <td>...</td>\n",
       "      <td>1</td>\n",
       "      <td>0</td>\n",
       "      <td>0</td>\n",
       "      <td>0</td>\n",
       "      <td>0</td>\n",
       "      <td>1</td>\n",
       "      <td>1</td>\n",
       "      <td>4</td>\n",
       "      <td>3</td>\n",
       "      <td>0</td>\n",
       "    </tr>\n",
       "  </tbody>\n",
       "</table>\n",
       "<p>2 rows × 28 columns</p>\n",
       "</div>"
      ],
      "text/plain": [
       "                     casual  registered  log_casual  log_registered dataset  \\\n",
       "2011-01-01 00:00:00     3.0        13.0    1.386294        2.639057   train   \n",
       "2011-01-01 01:00:00     8.0        32.0    2.197225        3.496508   train   \n",
       "\n",
       "                      atemp  humidity  temp  windspeed  weather  ...   \\\n",
       "2011-01-01 00:00:00  14.395      81.0  9.84        0.0      1.0  ...    \n",
       "2011-01-01 01:00:00  13.635      80.0  9.02        0.0      1.0  ...    \n",
       "\n",
       "                     weekend  casual_rush  registered_rush  casual_rush_temp  \\\n",
       "2011-01-01 00:00:00        1            0                0                 0   \n",
       "2011-01-01 01:00:00        1            0                0                 0   \n",
       "\n",
       "                     registered_rush_temp  casual_rush_temp_2  \\\n",
       "2011-01-01 00:00:00                     0                   1   \n",
       "2011-01-01 01:00:00                     0                   1   \n",
       "\n",
       "                     registered_rush_temp_2  casual_rush_humidity_2  \\\n",
       "2011-01-01 00:00:00                       1                       4   \n",
       "2011-01-01 01:00:00                       1                       4   \n",
       "\n",
       "                     registered_rush_humidity_2  rain  \n",
       "2011-01-01 00:00:00                           3     0  \n",
       "2011-01-01 01:00:00                           3     0  \n",
       "\n",
       "[2 rows x 28 columns]"
      ]
     },
     "execution_count": 27,
     "metadata": {},
     "output_type": "execute_result"
    }
   ],
   "source": [
    "df_complete.head(n=2)"
   ]
  },
  {
   "cell_type": "code",
   "execution_count": null,
   "metadata": {
    "collapsed": true
   },
   "outputs": [],
   "source": [
    "#df_complete['ideal'] = df_complete[['temp', 'windspeed']].apply(lambda x: (0, 1)[x['temp'] > 27 and x['windspeed'] < 30], axis = 1)\n",
    "#df_complete['sticky'] = df_complete[['humidity', 'workingday']].apply(lambda x: (0, 1)[x['workingday'] == 1 and x['humidity'] >= 60], axis = 1)"
   ]
  },
  {
   "cell_type": "code",
   "execution_count": 28,
   "metadata": {
    "collapsed": false
   },
   "outputs": [],
   "source": [
    "## Adding some missed \"holydays\"\n",
    "\n",
    "# tax day\n",
    "df_complete.loc[get_day_range(pd.datetime(2011, 4, 15)), \"workingday\"] = 1\n",
    "df_complete.loc[get_day_range(pd.datetime(2012, 4, 16)), \"workingday\"] = 1\n",
    "\n",
    "# thanksgiving friday\n",
    "df_complete.loc[get_day_range(pd.datetime(2011, 11, 25)), \"workingday\"] = 0\n",
    "df_complete.loc[get_day_range(pd.datetime(2012, 11, 23)), \"workingday\"] = 0\n",
    "\n",
    "# tax day\n",
    "df_complete.loc[get_day_range(pd.datetime(2011, 4, 15)), \"holiday\"] = 0\n",
    "df_complete.loc[get_day_range(pd.datetime(2012, 4, 16)), \"holiday\"] = 0\n",
    "\n",
    "# thanksgiving friday\n",
    "df_complete.loc[get_day_range(pd.datetime(2011, 11, 25)), \"holiday\"] = 1\n",
    "df_complete.loc[get_day_range(pd.datetime(2012, 11, 23)), \"holiday\"] = 1\n",
    "\n",
    "#pre christmas / new year\n",
    "df_complete.loc[get_day_range(pd.datetime(2011, 12, 24)), \"holiday\"] = 1\n",
    "df_complete.loc[get_day_range(pd.datetime(2012, 12, 24)), \"holiday\"] = 1\n",
    "df_complete.loc[get_day_range(pd.datetime(2011, 12, 24)), \"workingday\"] = 0\n",
    "df_complete.loc[get_day_range(pd.datetime(2012, 12, 24)), \"workingday\"] = 0\n",
    "\n",
    "df_complete.loc[get_day_range(pd.datetime(2011, 12, 31)), \"holiday\"] = 1\n",
    "df_complete.loc[get_day_range(pd.datetime(2012, 12, 31)), \"holiday\"] = 1\n",
    "df_complete.loc[get_day_range(pd.datetime(2011, 12, 31)), \"workingday\"] = 0\n",
    "df_complete.loc[get_day_range(pd.datetime(2012, 12, 31)), \"workingday\"] = 0\n",
    "\n"
   ]
  },
  {
   "cell_type": "code",
   "execution_count": null,
   "metadata": {
    "collapsed": false
   },
   "outputs": [],
   "source": [
    "# Getting rules for hour buckets\n",
    "hours_dt = tree.DecisionTreeRegressor(max_depth=2)\n",
    "\n",
    "dt_casual = df_complete[df_complete['dataset'] == 'train']['casual']\n",
    "dt_registered = df_complete[df_complete['dataset'] == 'train']['registered']\n",
    "dt_hours = df_complete[df_complete['dataset'] == 'train']['hour']\n",
    "\n",
    "hours_dt.fit(dt_hours[:, None], dt_casual)\n",
    "print 'Casual Temp:'\n",
    "print tree_to_code(hours_dt, ['hour'])\n",
    "\n",
    "hours_dt.fit(dt_hours[:, None], dt_registered)\n",
    "print 'Registered Temp:'\n",
    "print tree_to_code(hours_dt, ['hour'])"
   ]
  },
  {
   "cell_type": "code",
   "execution_count": 30,
   "metadata": {
    "collapsed": true
   },
   "outputs": [],
   "source": [
    "def hour_casual_bucket(hour):\n",
    "  if hour <= 9.5:\n",
    "    if hour <= 7.5:\n",
    "      return 1\n",
    "    else:  # if hour > 7.5\n",
    "      return 2\n",
    "  else:  # if hour > 9.5\n",
    "    if hour <= 19.5:\n",
    "      return 3\n",
    "    else:  # if hour > 19.5\n",
    "      return 4\n",
    "\n",
    "def hour_registered_bucket(hour):\n",
    "  if hour <= 6.5:\n",
    "    if hour <= 5.5:\n",
    "      return 1\n",
    "    else:  # if hour > 5.5\n",
    "      return 2\n",
    "  else:  # if hour > 6.5\n",
    "    if hour <= 20.5:\n",
    "      return 3\n",
    "    else:  # if hour > 20.5\n",
    "      return 4"
   ]
  },
  {
   "cell_type": "code",
   "execution_count": 31,
   "metadata": {
    "collapsed": true
   },
   "outputs": [],
   "source": [
    "df_complete['bck_hour_casual'] = df_complete['hour'].apply(lambda x: hour_casual_bucket(x))\n",
    "df_complete['bck_hour_registered'] = df_complete['hour'].apply(lambda x: hour_registered_bucket(x))"
   ]
  },
  {
   "cell_type": "code",
   "execution_count": 29,
   "metadata": {
    "collapsed": false
   },
   "outputs": [
    {
     "data": {
      "text/plain": [
       "<matplotlib.axes._subplots.AxesSubplot at 0xe1a02e8>"
      ]
     },
     "execution_count": 29,
     "metadata": {},
     "output_type": "execute_result"
    },
    {
     "data": {
      "image/png": "[encoded data removed]",
      "text/plain": [
       "<matplotlib.figure.Figure at 0xcd47c88>"
      ]
     },
     "metadata": {},
     "output_type": "display_data"
    }
   ],
   "source": [
    "\n",
    "# Compute the correlation matrix\n",
    "corr = df_complete[df_complete['dataset'] == 'train'].corr()\n",
    "\n",
    "# Generate a mask for the upper triangle\n",
    "mask = np.zeros_like(corr, dtype=np.bool)\n",
    "mask[np.triu_indices_from(mask)] = True\n",
    "\n",
    "# Set up the matplotlib figure\n",
    "f, ax = plt.subplots(figsize=(11, 9))\n",
    "\n",
    "# Generate a custom diverging colormap\n",
    "cmap = sns.diverging_palette(256, 15, as_cmap=True)\n",
    "\n",
    "# Draw the heatmap with the mask and correct aspect ratio\n",
    "sns.heatmap(corr, mask=mask, cmap=cmap, vmax=.3,\n",
    "            square=True,\n",
    "            linewidths=.5, cbar_kws={\"shrink\": .5}, ax=ax)"
   ]
  },
  {
   "cell_type": "markdown",
   "metadata": {},
   "source": [
    "# Models"
   ]
  },
  {
   "cell_type": "code",
   "execution_count": 32,
   "metadata": {
    "collapsed": true
   },
   "outputs": [],
   "source": [
    "# FEATURES TO USE\n",
    "# month reduces the accuracy considerable\n",
    "# year_quarter also reduces accuracy\n",
    "# week also reduces the accuracy\n",
    "features_common = ['humidity', 'atemp', 'temp', 'windspeed', 'weather', 'rain', 'season', 'holiday',   \n",
    "        'workingday', 'weekend', 'day', 'hour']\n",
    "\n",
    "\n",
    "features_casual = features_common + ['rush_hour_casual_man', 'casual_rush_temp', 'casual_rush_temp_2',\n",
    "                                     'casual_rush_humidity_2', 'bck_hour_casual']\n",
    "features_registered = features_common + ['rush_hour_reg_man', 'registered_rush_temp', 'registered_rush_temp_2',\n",
    "                                         'registered_rush_humidity_2']"
   ]
  },
  {
   "cell_type": "markdown",
   "metadata": {},
   "source": [
    "## Contruct Training and Testing Sets"
   ]
  },
  {
   "cell_type": "code",
   "execution_count": 34,
   "metadata": {
    "collapsed": true
   },
   "outputs": [],
   "source": [
    "use_log = True"
   ]
  },
  {
   "cell_type": "code",
   "execution_count": 35,
   "metadata": {
    "collapsed": false
   },
   "outputs": [],
   "source": [
    "df_train = df_complete[df_complete['dataset'] == 'train']\n",
    "del df_train['dataset']\n",
    "\n",
    "\n",
    "df_train_y_c = df_train['log_casual'].values if use_log else df_train['casual'].values\n",
    "df_train_y_r = df_train['log_registered'].values if use_log else df_train['registered'].values\n",
    "df_train_y = df_train_y_c + df_train_y_r\n",
    "\n",
    "df_train_x = df_train.drop(['casual', 'registered', 'log_casual', 'log_registered'],axis = 1)#.values\n",
    "df_train_x_c = df_train_x[features_casual]\n",
    "df_train_x_r = df_train_x[features_registered]"
   ]
  },
  {
   "cell_type": "code",
   "execution_count": 36,
   "metadata": {
    "collapsed": true
   },
   "outputs": [],
   "source": [
    "df_test = df_complete[df_complete['dataset'] == 'test']\n",
    "del df_test['dataset']\n",
    "#del df_test['count']\n",
    "del df_test['casual']\n",
    "del df_test['registered']"
   ]
  },
  {
   "cell_type": "code",
   "execution_count": 37,
   "metadata": {
    "collapsed": true
   },
   "outputs": [],
   "source": [
    "# Cross Validation Generator\n",
    "cv = cross_validation.ShuffleSplit(len(df_train_x), n_iter=3, test_size=0.2,\n",
    "    random_state=0)"
   ]
  },
  {
   "cell_type": "markdown",
   "metadata": {},
   "source": [
    "## Decision Tree"
   ]
  },
  {
   "cell_type": "code",
   "execution_count": null,
   "metadata": {
    "collapsed": false
   },
   "outputs": [],
   "source": [
    "#Finding best parameters\n",
    "X_train, X_test, y_train, y_test = cross_validation.train_test_split(\n",
    "    df_train_x, df_train_y, test_size=0.3, random_state=0)\n",
    "\n",
    "tuned_parameters = [\n",
    "    {'max_depth':[9,10,11,20,25,50]},\n",
    "    {'min_samples_leaf':[1,2,5,10,50,100]},\n",
    "    {'min_samples_split':[1,2,5,10,50,100]},\n",
    "    {'presort':[True, False]},\n",
    "    {'min_weight_fraction_leaf':[0.0, 0.1, 0.3, 0.4, 0.5]}]   \n",
    "    \n",
    "scores = ['r2']\n",
    "\n",
    "for score in scores:\n",
    "    \n",
    "    print score\n",
    "    \n",
    "    clf = GridSearchCV(tree.DecisionTreeRegressor(), tuned_parameters, cv=5, scoring=score)\n",
    "    clf.fit(X_train, y_train)\n",
    "\n",
    "    print(\"Best parameters set found on development set:\")\n",
    "    \n",
    "    #best_estimator_ returns the best estimator chosen by the search\n",
    "    print(clf.best_estimator_)\n",
    "    print \"\"\n",
    "    print(\"Grid scores on development set:\")\n",
    "    print \"\"\n",
    "    #grid_scores_ returns:\n",
    "    #    * a dict of parameter settings\n",
    "    #    * the mean score over the cross-validation folds \n",
    "    #    * the list of scores for each fold\n",
    "    for params, mean_score, scores in clf.grid_scores_:\n",
    "        print(\"%0.3f (+/-%0.03f) for %r\"\n",
    "              % (mean_score, scores.std() / 2, params))\n",
    "    print \"\""
   ]
  },
  {
   "cell_type": "code",
   "execution_count": null,
   "metadata": {
    "collapsed": false
   },
   "outputs": [],
   "source": [
    "# Cross Validation\n",
    "dtr = tree.DecisionTreeRegressor(criterion='mse', max_depth=None, max_features=None,\n",
    "           max_leaf_nodes=None, min_samples_leaf=10, min_samples_split=2,\n",
    "           min_weight_fraction_leaf=0.0, presort=False, random_state=None,\n",
    "           splitter='best')\n",
    "for train, test in cv:\n",
    "    clf = dtr.fit(df_train_x[train], df_train_y[train])\n",
    "    print(\"train score: {0:.3f}, test score: {1:.3f}\\n\".format(\n",
    "        clf.score(df_train_x[train], df_train_y[train]), clf.score(df_train_x[test], df_train_y[test])))"
   ]
  },
  {
   "cell_type": "code",
   "execution_count": null,
   "metadata": {
    "collapsed": true
   },
   "outputs": [],
   "source": [
    "# Best Model\n",
    "dtr = tree.DecisionTreeRegressor(criterion='mse', max_depth=None, max_features=None,\n",
    "           max_leaf_nodes=None, min_samples_leaf=10, min_samples_split=2,\n",
    "           min_weight_fraction_leaf=0.0, presort=False, random_state=None,\n",
    "           splitter='best')"
   ]
  },
  {
   "cell_type": "code",
   "execution_count": null,
   "metadata": {
    "collapsed": false
   },
   "outputs": [],
   "source": [
    "# Predicting & Exporting File\n",
    "dtr_pred = predictWithModel(dtr, df_train_x, df_train_y_c, df_train_y_r, df_test, features_casual, features_registered, use_log)\n",
    "printPrediction(dtr_pred)"
   ]
  },
  {
   "cell_type": "markdown",
   "metadata": {},
   "source": [
    "## Random Forest"
   ]
  },
  {
   "cell_type": "code",
   "execution_count": null,
   "metadata": {
    "collapsed": false
   },
   "outputs": [],
   "source": [
    "#Finding best parameters\n",
    "X_train, X_test, y_train, y_test = cross_validation.train_test_split(\n",
    "    df_train_x, df_train_y, test_size=0.3, random_state=0)\n",
    "\n",
    "tuned_parameters = [\n",
    "    {'max_depth':[50,100, 500, 1000]}, #Best: 1000\n",
    "    #{'n_estimators':[1000, 10000]}, #We assume is 1000\n",
    "    {'min_samples_leaf':[1,2,5,10,50,100]}, #2\n",
    "    {'min_samples_split':[1,2,5,10,50,100]}, #10\n",
    "    {'min_weight_fraction_leaf':[0.0, 0.1, 0.3, 0.4, 0.5]}] #0.0    \n",
    "    \n",
    "scores = ['r2']\n",
    "\n",
    "for score in scores:\n",
    "    \n",
    "    print score\n",
    "    \n",
    "    clf = GridSearchCV(RandomForestRegressor(), tuned_parameters, cv=5, scoring=score)\n",
    "    clf.fit(X_train, y_train)\n",
    "\n",
    "    print(\"Best parameters set found on development set:\")\n",
    "    \n",
    "    #best_estimator_ returns the best estimator chosen by the search\n",
    "    print(clf.best_estimator_)\n",
    "    print \"\"\n",
    "    print(\"Grid scores on development set:\")\n",
    "    print \"\"\n",
    "    #grid_scores_ returns:\n",
    "    #    * a dict of parameter settings\n",
    "    #    * the mean score over the cross-validation folds \n",
    "    #    * the list of scores for each fold\n",
    "    for params, mean_score, scores in clf.grid_scores_:\n",
    "        print(\"%0.3f (+/-%0.03f) for %r\"\n",
    "              % (mean_score, scores.std() / 2, params))\n",
    "    print \"\"\n"
   ]
  },
  {
   "cell_type": "code",
   "execution_count": null,
   "metadata": {
    "collapsed": false
   },
   "outputs": [],
   "source": [
    "print df_train_x.shape\n",
    "print df_train_y.shape"
   ]
  },
  {
   "cell_type": "code",
   "execution_count": null,
   "metadata": {
    "collapsed": false
   },
   "outputs": [],
   "source": [
    "# Cross Validation\n",
    "rfr = RandomForestRegressor(bootstrap=True, criterion='mse', max_depth=1000,\n",
    "           max_features='auto', max_leaf_nodes=None, min_samples_leaf=2,\n",
    "           min_samples_split=10, min_weight_fraction_leaf=0.0,\n",
    "           n_estimators=1000, n_jobs=1, oob_score=False, random_state=0,\n",
    "           verbose=0, warm_start=False)\n",
    "\n",
    "for train, test in cv:\n",
    "    clf = rfr.fit(df_train_x.iloc[train], df_train_y[train])\n",
    "    print(\"train score: {0:.3f}, test score: {1:.3f}\\n\".format(\n",
    "        clf.score(df_train_x.iloc[train], df_train_y[train]), clf.score(df_train_x.iloc[test], df_train_y[test])))"
   ]
  },
  {
   "cell_type": "code",
   "execution_count": 38,
   "metadata": {
    "collapsed": false
   },
   "outputs": [],
   "source": [
    "#Optimized model\n",
    "rfr = RandomForestRegressor(bootstrap=True, criterion='mse', max_depth=1000,\n",
    "           max_features='auto', max_leaf_nodes=None, min_samples_leaf=2,\n",
    "           min_samples_split=10, min_weight_fraction_leaf=0.0,\n",
    "           n_estimators=1000, n_jobs=1, oob_score=False, random_state=0,\n",
    "           verbose=0, warm_start=False)"
   ]
  },
  {
   "cell_type": "code",
   "execution_count": null,
   "metadata": {
    "collapsed": false
   },
   "outputs": [],
   "source": [
    "# Predicting Year by Year\n",
    "rfr_pred = predictWithModel(rfr, df_train_x, df_train_y_c, df_train_y_r, df_test, features_casual, features_registered, use_log)\n",
    "printPrediction(rfr_pred)"
   ]
  },
  {
   "cell_type": "markdown",
   "metadata": {},
   "source": [
    "## XGBoost Regressor"
   ]
  },
  {
   "cell_type": "code",
   "execution_count": null,
   "metadata": {
    "collapsed": false
   },
   "outputs": [],
   "source": [
    "#xgb_model = xgb.XGBRegressor()\n",
    "#clf = GridSearchCV(xgb_model,\n",
    "#                   {'max_depth': [2,4,6],\n",
    "#'n_estimators': [50,100,200]}, verbose=1)\n",
    "\n",
    "\n",
    "#Finding best parameters\n",
    "X_train, X_test, y_train, y_test = cross_validation.train_test_split(\n",
    "    df_train_x, df_train_y, test_size=0.3, random_state=0)\n",
    "\n",
    "tuned_parameters = [\n",
    "    #{'max_depth': [2,5,10,100,1000,5000,10000]}, # best 100\n",
    "    #{'n_estimators': [50,100,500,1000,5000,10000]}, # best 5000\n",
    "    {'learning_rate': [0.15, 0.18, 0.2, 0.29, 0.3]}]  #best 0.2\n",
    "    \n",
    "scores = ['r2']\n",
    "\n",
    "for score in scores:\n",
    "    \n",
    "    print score\n",
    "    \n",
    "    xgbr = GridSearchCV(xgb.XGBRegressor(), tuned_parameters, cv=5, scoring=score)\n",
    "    xgbr.fit(X_train, y_train)\n",
    "\n",
    "    print(\"Best parameters set found on development set:\")\n",
    "    \n",
    "    #best_estimator_ returns the best estimator chosen by the search\n",
    "    print(xgbr.best_estimator_)\n",
    "    print \"\"\n",
    "    print(\"Grid scores on development set:\")\n",
    "    print \"\"\n",
    "    #grid_scores_ returns:\n",
    "    #    * a dict of parameter settings\n",
    "    #    * the mean score over the cross-validation folds \n",
    "    #    * the list of scores for each fold\n",
    "    for params, mean_score, scores in xgbr.grid_scores_:\n",
    "        print(\"%0.3f (+/-%0.03f) for %r\"\n",
    "              % (mean_score, scores.std() / 2, params))\n",
    "    print \"\"\n"
   ]
  },
  {
   "cell_type": "code",
   "execution_count": null,
   "metadata": {
    "collapsed": false
   },
   "outputs": [],
   "source": [
    "# Cross Validation\n",
    "xgbr = XGBRegressor(base_score=0.5, colsample_bylevel=1, colsample_bytree=1, gamma=0,\n",
    "       learning_rate=0.2, max_delta_step=0, max_depth=1000,\n",
    "       min_child_weight=1, missing=None, n_estimators=1000, nthread=-1,\n",
    "       objective='reg:linear', reg_alpha=0, reg_lambda=1,\n",
    "       scale_pos_weight=1, seed=0, silent=True, subsample=1)\n",
    "\n",
    "for train, test in cv:\n",
    "    clf_c = xgbr.fit(df_train_x_c.iloc[train], df_train_y_c[train])\n",
    "    print(\"Casual: train score: {0:.3f}, test score: {1:.3f}\".format(\n",
    "        clf_c.score(df_train_x_c.iloc[train], df_train_y_c[train]), clf_c.score(df_train_x_c.iloc[test], df_train_y_c[test])))\n",
    "    clf_r = xgbr.fit(df_train_x_r.iloc[train], df_train_y_r[train])\n",
    "    print(\"Regist: train score: {0:.3f}, test score: {1:.3f}\\n\".format(\n",
    "        clf_r.score(df_train_x_r.iloc[train], df_train_y_r[train]), clf_r.score(df_train_x_r.iloc[test], df_train_y_r[test])))"
   ]
  },
  {
   "cell_type": "code",
   "execution_count": 39,
   "metadata": {
    "collapsed": false
   },
   "outputs": [],
   "source": [
    "#Optimized model\n",
    "xgbr = XGBRegressor(base_score=0.5, colsample_bylevel=1, colsample_bytree=1, gamma=0,\n",
    "       learning_rate=0.2, max_delta_step=0, max_depth=1000,\n",
    "       min_child_weight=1, missing=None, n_estimators=1000, nthread=-1,\n",
    "       objective='reg:linear', reg_alpha=0, reg_lambda=1,\n",
    "       scale_pos_weight=1, seed=0, silent=True, subsample=1)\n"
   ]
  },
  {
   "cell_type": "code",
   "execution_count": null,
   "metadata": {
    "collapsed": false
   },
   "outputs": [],
   "source": [
    "# Predicting Year by Year\n",
    "xgbr_pred = predictWithModel(xgbr, df_train_x, df_train_y_c, df_train_y_r, df_test, features_casual, features_registered, use_log)\n",
    "printPrediction(xgbr_pred)"
   ]
  },
  {
   "cell_type": "markdown",
   "metadata": {
    "collapsed": true
   },
   "source": [
    "## Merging models"
   ]
  },
  {
   "cell_type": "code",
   "execution_count": null,
   "metadata": {
    "collapsed": false
   },
   "outputs": [],
   "source": [
    "rfr_dtr_merged_pred = 0.9 * rfr_pred + 0.1 * xgbr_pred\n",
    "printPrediction(rfr_dtr_merged_pred)"
   ]
  },
  {
   "cell_type": "code",
   "execution_count": null,
   "metadata": {
    "collapsed": false
   },
   "outputs": [],
   "source": [
    "rfr_xgbr_merged_pred = 0.55 * rfr_pred + 0.45 * xgbr_pred\n",
    "printPrediction(rfr_xgbr_merged_pred)"
   ]
  },
  {
   "cell_type": "markdown",
   "metadata": {
    "collapsed": true
   },
   "source": [
    "# Quick Run"
   ]
  },
  {
   "cell_type": "code",
   "execution_count": 40,
   "metadata": {
    "collapsed": false
   },
   "outputs": [],
   "source": [
    "features_common = ['humidity', 'atemp', 'temp', 'windspeed', 'weather', 'rain', 'season', 'holiday',   \n",
    "        'workingday', 'weekend', 'day', 'hour']\n",
    "\n",
    "features_casual = features_common + ['rush_hour_casual_man', 'casual_rush_temp', 'casual_rush_temp_2',\n",
    "                                     'casual_rush_humidity_2', 'bck_hour_casual']\n",
    "features_registered = features_common + ['rush_hour_reg_man', 'registered_rush_temp', 'registered_rush_temp_2',\n",
    "                                         'registered_rush_humidity_2']"
   ]
  },
  {
   "cell_type": "code",
   "execution_count": null,
   "metadata": {
    "collapsed": true
   },
   "outputs": [],
   "source": [
    "use_log = True\n",
    "\n",
    "df_train = df_complete[df_complete['dataset'] == 'train']\n",
    "del df_train['dataset']\n",
    "\n",
    "\n",
    "df_train_y_c = df_train['log_casual'].values if use_log else df_train['casual'].values\n",
    "df_train_y_r = df_train['log_registered'].values if use_log else df_train['registered'].values\n",
    "df_train_y = df_train_y_c + df_train_y_r\n",
    "\n",
    "df_train_x = df_train.drop(['casual', 'registered', 'log_casual', 'log_registered'],axis = 1)#.values\n",
    "df_train_x_c = df_train_x[features_casual]\n",
    "df_train_x_r = df_train_x[features_registered]\n",
    "\n",
    "df_test = df_complete[df_complete['dataset'] == 'test']\n",
    "del df_test['dataset']\n",
    "#del df_test['count']\n",
    "del df_test['casual']\n",
    "del df_test['registered']"
   ]
  },
  {
   "cell_type": "code",
   "execution_count": null,
   "metadata": {
    "collapsed": false
   },
   "outputs": [],
   "source": [
    "# Cross Validation\n",
    "cv = cross_validation.ShuffleSplit(len(df_train_x), n_iter=1, test_size=0.2, random_state=0)\n",
    "\n",
    "xgbr = XGBRegressor(base_score=0.5, colsample_bylevel=1, colsample_bytree=1, gamma=0,\n",
    "       learning_rate=0.2, max_delta_step=0, max_depth=1000,\n",
    "       min_child_weight=1, missing=None, n_estimators=1000, nthread=-1,\n",
    "       objective='reg:linear', reg_alpha=0, reg_lambda=1,\n",
    "       scale_pos_weight=1, seed=0, silent=True, subsample=1)\n",
    "rfr = RandomForestRegressor(bootstrap=True, criterion='mse', max_depth=1000,\n",
    "           max_features='auto', max_leaf_nodes=None, min_samples_leaf=2,\n",
    "           min_samples_split=10, min_weight_fraction_leaf=0.0,\n",
    "           n_estimators=1000, n_jobs=1, oob_score=False, random_state=0,\n",
    "           verbose=0, warm_start=False)\n",
    "\n",
    "for train, test in cv:\n",
    "    clf_c = xgbr.fit(df_train_x_c.iloc[train], df_train_y_c[train])\n",
    "    print(\"XGB Casual: train score: {0:.3f}, test score: {1:.3f}\".format(\n",
    "        clf_c.score(df_train_x_c.iloc[train], df_train_y_c[train]), clf_c.score(df_train_x_c.iloc[test], df_train_y_c[test])))\n",
    "    clf_r = xgbr.fit(df_train_x_r.iloc[train], df_train_y_r[train])\n",
    "    print(\"XGB Regist: train score: {0:.3f}, test score: {1:.3f}\".format(\n",
    "        clf_r.score(df_train_x_r.iloc[train], df_train_y_r[train]), clf_r.score(df_train_x_r.iloc[test], df_train_y_r[test])))\n",
    "    clf_c = rfr.fit(df_train_x_c.iloc[train], df_train_y_c[train])\n",
    "    print(\"RF  Casual: train score: {0:.3f}, test score: {1:.3f}\".format(\n",
    "        clf_c.score(df_train_x_c.iloc[train], df_train_y_c[train]), clf_c.score(df_train_x_c.iloc[test], df_train_y_c[test])))\n",
    "    clf_r = rfr.fit(df_train_x_r.iloc[train], df_train_y_r[train])\n",
    "    print(\"RF  Regist: train score: {0:.3f}, test score: {1:.3f}\\n\".format(\n",
    "        clf_r.score(df_train_x_r.iloc[train], df_train_y_r[train]), clf_r.score(df_train_x_r.iloc[test], df_train_y_r[test])))"
   ]
  },
  {
   "cell_type": "code",
   "execution_count": 41,
   "metadata": {
    "collapsed": false
   },
   "outputs": [
    {
     "name": "stdout",
     "output_type": "stream",
     "text": [
      "Predicting: 2011\n",
      "Predicting: 2012\n",
      "Predicting: 2011\n",
      "Predicting: 2012\n"
     ]
    }
   ],
   "source": [
    "rfr_pred = predictWithModel(rfr, df_train_x, df_train_y_c, df_train_y_r, df_test, features_casual, features_registered, use_log)\n",
    "xgbr_pred = predictWithModel(xgbr, df_train_x, df_train_y_c, df_train_y_r, df_test, features_casual, features_registered, use_log)"
   ]
  },
  {
   "cell_type": "code",
   "execution_count": null,
   "metadata": {
    "collapsed": true
   },
   "outputs": [],
   "source": [
    "rfr_xgbr_merged_pred = 0.48 * rfr_pred + 0.42 * xgbr_pred\n",
    "printPrediction(rfr_xgbr_merged_pred)"
   ]
  },
  {
   "cell_type": "code",
   "execution_count": 42,
   "metadata": {
    "collapsed": true
   },
   "outputs": [],
   "source": [
    "rfr_xgbr_merged_pred = 0.73 * rfr_pred + 0.27 * xgbr_pred\n",
    "printPrediction(rfr_xgbr_merged_pred)"
   ]
  },
  {
   "cell_type": "code",
   "execution_count": null,
   "metadata": {
    "collapsed": true
   },
   "outputs": [],
   "source": [
    "#saving this just in case\n",
    "features_common = ['humidity', 'atemp', 'temp', 'windspeed', 'weather', 'rain', 'season', 'holiday',   \n",
    "        'workingday', 'weekend', 'day', 'hour']\n",
    "\n",
    "\n",
    "features_casual = features_common + ['rush_hour_casual_man', 'casual_rush_temp', 'casual_rush_temp_2',\n",
    "                                     'casual_rush_humidity_2', 'bck_hour_casual']\n",
    "features_registered = features_common + ['rush_hour_reg_man', 'registered_rush_temp', 'registered_rush_temp_2',\n",
    "                                         'registered_rush_humidity_2']"
   ]
  }
 ],
 "metadata": {
  "anaconda-cloud": {},
  "kernelspec": {
   "display_name": "Python [default]",
   "language": "python",
   "name": "python2"
  },
  "language_info": {
   "codemirror_mode": {
    "name": "ipython",
    "version": 2
   },
   "file_extension": ".py",
   "mimetype": "text/x-python",
   "name": "python",
   "nbconvert_exporter": "python",
   "pygments_lexer": "ipython2",
   "version": "2.7.12"
  }
 },
 "nbformat": 4,
 "nbformat_minor": 0
}
