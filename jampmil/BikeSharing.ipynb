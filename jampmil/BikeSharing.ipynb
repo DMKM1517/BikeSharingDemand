{
 "cells": [
  {
   "cell_type": "markdown",
   "metadata": {
    "collapsed": true
   },
   "source": [
    "# Import Libraries"
   ]
  },
  {
   "cell_type": "code",
   "execution_count": 1,
   "metadata": {
    "collapsed": false
   },
   "outputs": [],
   "source": [
    "import math\n",
    "import numpy as np\n",
    "import pandas as pd\n",
    "import matplotlib.pyplot as plt\n",
    "import statsmodels.api as sm\n",
    "import seaborn as sns\n",
    "%matplotlib inline"
   ]
  },
  {
   "cell_type": "code",
   "execution_count": 2,
   "metadata": {
    "collapsed": false
   },
   "outputs": [],
   "source": [
    "from sklearn import linear_model\n",
    "from sklearn import cross_validation\n",
    "from sklearn import svm\n",
    "from sklearn import tree\n",
    "from sklearn.tree import _tree\n",
    "import xgboost as xgb\n",
    "from xgboost.sklearn import XGBRegressor\n",
    "from sklearn.ensemble import RandomForestRegressor\n",
    "from sklearn.learning_curve import learning_curve\n",
    "from sklearn.grid_search import GridSearchCV\n",
    "from sklearn.metrics import explained_variance_score"
   ]
  },
  {
   "cell_type": "markdown",
   "metadata": {},
   "source": [
    "# Importing and Creating Training & Testing Sets\n"
   ]
  },
  {
   "cell_type": "code",
   "execution_count": 3,
   "metadata": {
    "collapsed": false
   },
   "outputs": [
    {
     "name": "stdout",
     "output_type": "stream",
     "text": [
      "(10886, 13)\n"
     ]
    }
   ],
   "source": [
    "original_train = pd.read_csv('../train.csv',header = 0)\n",
    "original_train['dataset'] = 'train'\n",
    "print original_train.shape"
   ]
  },
  {
   "cell_type": "code",
   "execution_count": 4,
   "metadata": {
    "collapsed": false
   },
   "outputs": [
    {
     "name": "stdout",
     "output_type": "stream",
     "text": [
      "(6493, 10)\n"
     ]
    }
   ],
   "source": [
    "original_test = pd.read_csv('../test.csv',header = 0)\n",
    "original_test['dataset'] = 'test'\n",
    "print original_test.shape"
   ]
  },
  {
   "cell_type": "code",
   "execution_count": 5,
   "metadata": {
    "collapsed": false
   },
   "outputs": [],
   "source": [
    "df_complete =  original_train.copy().append(original_test.copy())\n",
    "df_complete = df_complete.drop(['count'], axis = 1)"
   ]
  },
  {
   "cell_type": "code",
   "execution_count": 6,
   "metadata": {
    "collapsed": true
   },
   "outputs": [],
   "source": [
    "#add the counts as logarithms\n",
    "df_complete['log_casual'] = df_complete['casual'].apply(np.log1p)\n",
    "df_complete['log_registered'] = df_complete['registered'].apply(np.log1p)"
   ]
  },
  {
   "cell_type": "code",
   "execution_count": 7,
   "metadata": {
    "collapsed": false
   },
   "outputs": [],
   "source": [
    "# Make the datetime the index\n",
    "df_complete['datetime'] = pd.to_datetime(df_complete['datetime'])\n",
    "\n",
    "df_complete.index = df_complete['datetime']\n",
    "del df_complete['datetime']"
   ]
  },
  {
   "cell_type": "code",
   "execution_count": 8,
   "metadata": {
    "collapsed": false
   },
   "outputs": [],
   "source": [
    "# Make sure we have all the complete values of the series\n",
    "idx = pd.date_range('2011-01-01 00:00:00', '2012-12-31 23:00:00', freq='H')\n",
    "df_complete = df_complete.reindex(idx)"
   ]
  },
  {
   "cell_type": "code",
   "execution_count": 9,
   "metadata": {
    "collapsed": false
   },
   "outputs": [],
   "source": [
    "#Put the target variables at the beggining\n",
    "df_complete = df_complete[[u'casual', u'registered', u'log_casual', u'log_registered', u'dataset',  \n",
    "       u'atemp', u'humidity', u'temp', u'windspeed', u'weather', u'season', u'workingday', u'holiday']]"
   ]
  },
  {
   "cell_type": "code",
   "execution_count": 10,
   "metadata": {
    "collapsed": false
   },
   "outputs": [
    {
     "data": {
      "text/plain": [
       "(165, 13)"
      ]
     },
     "execution_count": 10,
     "metadata": {},
     "output_type": "execute_result"
    }
   ],
   "source": [
    "# Missing entries? let's try to interpolate to get that info\n",
    "missing = df_complete[pd.isnull(df_complete['atemp'])]\n",
    "missing.shape"
   ]
  },
  {
   "cell_type": "code",
   "execution_count": 11,
   "metadata": {
    "collapsed": false
   },
   "outputs": [],
   "source": [
    "df_complete[\"weather\"] = df_complete[\"weather\"].interpolate(method='time').apply(np.round)\n",
    "df_complete[\"temp\"] = df_complete[\"temp\"].interpolate(method='time')\n",
    "df_complete[\"atemp\"] = df_complete[\"atemp\"].interpolate(method='time')\n",
    "df_complete[\"humidity\"] = df_complete[\"humidity\"].interpolate(method='time').apply(np.round)\n",
    "df_complete[\"windspeed\"] = df_complete[\"windspeed\"].interpolate(method='time')\n",
    "df_complete[\"season\"] = df_complete[\"season\"].interpolate(method='time').apply(np.round)\n",
    "df_complete[\"workingday\"] = df_complete[\"workingday\"].interpolate(method='time').apply(np.round)\n",
    "df_complete[\"holiday\"] = df_complete[\"holiday\"].interpolate(method='time').apply(np.round)"
   ]
  },
  {
   "cell_type": "code",
   "execution_count": 12,
   "metadata": {
    "collapsed": false
   },
   "outputs": [
    {
     "data": {
      "text/plain": [
       "(0, 13)"
      ]
     },
     "execution_count": 12,
     "metadata": {},
     "output_type": "execute_result"
    }
   ],
   "source": [
    "# If 0 rows then we don't have more missing\n",
    "missing2 = df_complete[pd.isnull(df_complete['atemp'])]\n",
    "missing2.shape"
   ]
  },
  {
   "cell_type": "markdown",
   "metadata": {},
   "source": [
    "# Initial Data View"
   ]
  },
  {
   "cell_type": "code",
   "execution_count": 13,
   "metadata": {
    "collapsed": false
   },
   "outputs": [
    {
     "data": {
      "text/html": [
       "<div>\n",
       "<table border=\"1\" class=\"dataframe\">\n",
       "  <thead>\n",
       "    <tr style=\"text-align: right;\">\n",
       "      <th></th>\n",
       "      <th>casual</th>\n",
       "      <th>registered</th>\n",
       "      <th>log_casual</th>\n",
       "      <th>log_registered</th>\n",
       "      <th>atemp</th>\n",
       "      <th>humidity</th>\n",
       "      <th>temp</th>\n",
       "      <th>windspeed</th>\n",
       "      <th>weather</th>\n",
       "      <th>season</th>\n",
       "      <th>workingday</th>\n",
       "      <th>holiday</th>\n",
       "    </tr>\n",
       "  </thead>\n",
       "  <tbody>\n",
       "    <tr>\n",
       "      <th>count</th>\n",
       "      <td>10886.000000</td>\n",
       "      <td>10886.000000</td>\n",
       "      <td>10886.000000</td>\n",
       "      <td>10886.000000</td>\n",
       "      <td>10886.000000</td>\n",
       "      <td>10886.000000</td>\n",
       "      <td>10886.00000</td>\n",
       "      <td>10886.000000</td>\n",
       "      <td>10886.000000</td>\n",
       "      <td>10886.000000</td>\n",
       "      <td>10886.000000</td>\n",
       "      <td>10886.000000</td>\n",
       "    </tr>\n",
       "    <tr>\n",
       "      <th>mean</th>\n",
       "      <td>36.021955</td>\n",
       "      <td>155.552177</td>\n",
       "      <td>2.712439</td>\n",
       "      <td>4.395774</td>\n",
       "      <td>23.655084</td>\n",
       "      <td>61.886460</td>\n",
       "      <td>20.23086</td>\n",
       "      <td>12.799395</td>\n",
       "      <td>1.418427</td>\n",
       "      <td>2.506614</td>\n",
       "      <td>0.680875</td>\n",
       "      <td>0.028569</td>\n",
       "    </tr>\n",
       "    <tr>\n",
       "      <th>std</th>\n",
       "      <td>49.960477</td>\n",
       "      <td>151.039033</td>\n",
       "      <td>1.491055</td>\n",
       "      <td>1.399383</td>\n",
       "      <td>8.474601</td>\n",
       "      <td>19.245033</td>\n",
       "      <td>7.79159</td>\n",
       "      <td>8.164537</td>\n",
       "      <td>0.633839</td>\n",
       "      <td>1.116174</td>\n",
       "      <td>0.466159</td>\n",
       "      <td>0.166599</td>\n",
       "    </tr>\n",
       "    <tr>\n",
       "      <th>min</th>\n",
       "      <td>0.000000</td>\n",
       "      <td>0.000000</td>\n",
       "      <td>0.000000</td>\n",
       "      <td>0.000000</td>\n",
       "      <td>0.760000</td>\n",
       "      <td>0.000000</td>\n",
       "      <td>0.82000</td>\n",
       "      <td>0.000000</td>\n",
       "      <td>1.000000</td>\n",
       "      <td>1.000000</td>\n",
       "      <td>0.000000</td>\n",
       "      <td>0.000000</td>\n",
       "    </tr>\n",
       "    <tr>\n",
       "      <th>25%</th>\n",
       "      <td>4.000000</td>\n",
       "      <td>36.000000</td>\n",
       "      <td>1.609438</td>\n",
       "      <td>3.610918</td>\n",
       "      <td>16.665000</td>\n",
       "      <td>47.000000</td>\n",
       "      <td>13.94000</td>\n",
       "      <td>7.001500</td>\n",
       "      <td>1.000000</td>\n",
       "      <td>2.000000</td>\n",
       "      <td>0.000000</td>\n",
       "      <td>0.000000</td>\n",
       "    </tr>\n",
       "    <tr>\n",
       "      <th>50%</th>\n",
       "      <td>17.000000</td>\n",
       "      <td>118.000000</td>\n",
       "      <td>2.890372</td>\n",
       "      <td>4.779123</td>\n",
       "      <td>24.240000</td>\n",
       "      <td>62.000000</td>\n",
       "      <td>20.50000</td>\n",
       "      <td>12.998000</td>\n",
       "      <td>1.000000</td>\n",
       "      <td>3.000000</td>\n",
       "      <td>1.000000</td>\n",
       "      <td>0.000000</td>\n",
       "    </tr>\n",
       "    <tr>\n",
       "      <th>75%</th>\n",
       "      <td>49.000000</td>\n",
       "      <td>222.000000</td>\n",
       "      <td>3.912023</td>\n",
       "      <td>5.407172</td>\n",
       "      <td>31.060000</td>\n",
       "      <td>77.000000</td>\n",
       "      <td>26.24000</td>\n",
       "      <td>16.997900</td>\n",
       "      <td>2.000000</td>\n",
       "      <td>4.000000</td>\n",
       "      <td>1.000000</td>\n",
       "      <td>0.000000</td>\n",
       "    </tr>\n",
       "    <tr>\n",
       "      <th>max</th>\n",
       "      <td>367.000000</td>\n",
       "      <td>886.000000</td>\n",
       "      <td>5.908083</td>\n",
       "      <td>6.787845</td>\n",
       "      <td>45.455000</td>\n",
       "      <td>100.000000</td>\n",
       "      <td>41.00000</td>\n",
       "      <td>56.996900</td>\n",
       "      <td>4.000000</td>\n",
       "      <td>4.000000</td>\n",
       "      <td>1.000000</td>\n",
       "      <td>1.000000</td>\n",
       "    </tr>\n",
       "  </tbody>\n",
       "</table>\n",
       "</div>"
      ],
      "text/plain": [
       "             casual    registered    log_casual  log_registered         atemp  \\\n",
       "count  10886.000000  10886.000000  10886.000000    10886.000000  10886.000000   \n",
       "mean      36.021955    155.552177      2.712439        4.395774     23.655084   \n",
       "std       49.960477    151.039033      1.491055        1.399383      8.474601   \n",
       "min        0.000000      0.000000      0.000000        0.000000      0.760000   \n",
       "25%        4.000000     36.000000      1.609438        3.610918     16.665000   \n",
       "50%       17.000000    118.000000      2.890372        4.779123     24.240000   \n",
       "75%       49.000000    222.000000      3.912023        5.407172     31.060000   \n",
       "max      367.000000    886.000000      5.908083        6.787845     45.455000   \n",
       "\n",
       "           humidity         temp     windspeed       weather        season  \\\n",
       "count  10886.000000  10886.00000  10886.000000  10886.000000  10886.000000   \n",
       "mean      61.886460     20.23086     12.799395      1.418427      2.506614   \n",
       "std       19.245033      7.79159      8.164537      0.633839      1.116174   \n",
       "min        0.000000      0.82000      0.000000      1.000000      1.000000   \n",
       "25%       47.000000     13.94000      7.001500      1.000000      2.000000   \n",
       "50%       62.000000     20.50000     12.998000      1.000000      3.000000   \n",
       "75%       77.000000     26.24000     16.997900      2.000000      4.000000   \n",
       "max      100.000000     41.00000     56.996900      4.000000      4.000000   \n",
       "\n",
       "         workingday       holiday  \n",
       "count  10886.000000  10886.000000  \n",
       "mean       0.680875      0.028569  \n",
       "std        0.466159      0.166599  \n",
       "min        0.000000      0.000000  \n",
       "25%        0.000000      0.000000  \n",
       "50%        1.000000      0.000000  \n",
       "75%        1.000000      0.000000  \n",
       "max        1.000000      1.000000  "
      ]
     },
     "execution_count": 13,
     "metadata": {},
     "output_type": "execute_result"
    }
   ],
   "source": [
    "df_complete[df_complete['dataset'] == 'train'].describe()"
   ]
  },
  {
   "cell_type": "code",
   "execution_count": 14,
   "metadata": {
    "collapsed": false
   },
   "outputs": [
    {
     "name": "stderr",
     "output_type": "stream",
     "text": [
      "D:\\Software\\Anaconda2\\lib\\site-packages\\seaborn\\categorical.py:2171: UserWarning: The boxplot API has been changed. Attempting to adjust your arguments for the new API (which might not work). Please update your code. See the version 0.6 release notes for more info.\n",
      "  warnings.warn(msg, UserWarning)\n"
     ]
    },
    {
     "data": {
      "image/png": "[encoded data removed]",
      "text/plain": [
       "<matplotlib.figure.Figure at 0xd670b00>"
      ]
     },
     "metadata": {},
     "output_type": "display_data"
    }
   ],
   "source": [
    "plot_cols = ['atemp', 'temp', 'humidity', 'windspeed']\n",
    "boxplot = sns.boxplot(df_complete[df_complete['dataset'] == 'train'][ plot_cols])\n",
    "for item in boxplot.get_xticklabels():\n",
    "    item.set_rotation(45)"
   ]
  },
  {
   "cell_type": "code",
   "execution_count": 15,
   "metadata": {
    "collapsed": false
   },
   "outputs": [
    {
     "data": {
      "image/png": "[encoded data removed]",
      "text/plain": [
       "<matplotlib.figure.Figure at 0xdc01898>"
      ]
     },
     "metadata": {},
     "output_type": "display_data"
    }
   ],
   "source": [
    "plot_cols = ['casual', 'registered']\n",
    "boxplot = sns.boxplot(df_complete[df_complete['dataset'] == 'train'][plot_cols])\n",
    "for item in boxplot.get_xticklabels():\n",
    "    item.set_rotation(45)"
   ]
  },
  {
   "cell_type": "code",
   "execution_count": 67,
   "metadata": {
    "collapsed": false
   },
   "outputs": [
    {
     "data": {
      "text/plain": [
       "<matplotlib.axes._subplots.AxesSubplot at 0x11b5f9b0>"
      ]
     },
     "execution_count": 67,
     "metadata": {},
     "output_type": "execute_result"
    },
    {
     "data": {
      "image/png": "[encoded data removed]",
      "text/plain": [
       "<matplotlib.figure.Figure at 0x1350cfd0>"
      ]
     },
     "metadata": {},
     "output_type": "display_data"
    }
   ],
   "source": [
    "# Compute the correlation matrix\n",
    "plot_cols = ['casual', 'registered', 'atemp', 'temp', 'humidity', 'windspeed', 'weather',\n",
    "             'season', 'workingday', 'holiday']\n",
    "corr = df_complete[df_complete['dataset'] == 'train'][plot_cols].corr()\n",
    "\n",
    "# Generate a mask for the upper triangle\n",
    "mask = np.zeros_like(corr, dtype=np.bool)\n",
    "mask[np.triu_indices_from(mask)] = True\n",
    "\n",
    "# Set up the matplotlib figure\n",
    "f, ax = plt.subplots(figsize=(11, 9))\n",
    "\n",
    "# Generate a custom diverging colormap\n",
    "cmap = sns.diverging_palette(256, 15, as_cmap=True)\n",
    "\n",
    "# Draw the heatmap with the mask and correct aspect ratio\n",
    "sns.heatmap(corr, mask=mask, cmap=cmap, vmax=.3,\n",
    "            square=True,\n",
    "            linewidths=.5, cbar_kws={\"shrink\": .5}, ax=ax)"
   ]
  },
  {
   "cell_type": "code",
   "execution_count": 17,
   "metadata": {
    "collapsed": false
   },
   "outputs": [
    {
     "data": {
      "text/plain": [
       "casual            float64\n",
       "registered        float64\n",
       "log_casual        float64\n",
       "log_registered    float64\n",
       "dataset            object\n",
       "atemp             float64\n",
       "humidity          float64\n",
       "temp              float64\n",
       "windspeed         float64\n",
       "weather           float64\n",
       "season            float64\n",
       "workingday        float64\n",
       "holiday           float64\n",
       "dtype: object"
      ]
     },
     "execution_count": 17,
     "metadata": {},
     "output_type": "execute_result"
    }
   ],
   "source": [
    "df_complete[df_complete['dataset'] == 'train'].dtypes"
   ]
  },
  {
   "cell_type": "code",
   "execution_count": 18,
   "metadata": {
    "collapsed": false
   },
   "outputs": [
    {
     "data": {
      "text/plain": [
       "(10886, 13)"
      ]
     },
     "execution_count": 18,
     "metadata": {},
     "output_type": "execute_result"
    }
   ],
   "source": [
    "df_complete[df_complete['dataset'] == 'train'].shape"
   ]
  },
  {
   "cell_type": "markdown",
   "metadata": {},
   "source": [
    "# Utils"
   ]
  },
  {
   "cell_type": "code",
   "execution_count": 19,
   "metadata": {
    "collapsed": false
   },
   "outputs": [],
   "source": [
    "# Function that prints the prediction according the submission format\n",
    "def printPrediction(pred, fileName='pred.csv'):\n",
    "    str_prediction = \"datetime,count\\n\"\n",
    "    for i in range(0, len(pred)):\n",
    "        datetime = original_test['datetime'][i]\n",
    "        currentPred = int(round(pred[i]))\n",
    "        str_prediction += \"{},{}\\n\".format(datetime, currentPred)\n",
    "\n",
    "    #print str_prediction\n",
    "    f = open(fileName,'w')\n",
    "    f.write(str_prediction)\n",
    "    f.close()"
   ]
  },
  {
   "cell_type": "code",
   "execution_count": 20,
   "metadata": {
    "collapsed": true
   },
   "outputs": [],
   "source": [
    "# Function that gets the range of an specific day\n",
    "def get_day_range(day):\n",
    "    day_end = day + pd.offsets.DateOffset(hours=23)\n",
    "    return pd.date_range(day, day_end, freq=\"H\")"
   ]
  },
  {
   "cell_type": "code",
   "execution_count": 21,
   "metadata": {
    "collapsed": true
   },
   "outputs": [],
   "source": [
    "# Function that returns the correct sum of casual and registered rentals taking into account if log is being used\n",
    "def getSumRentals(casual, registered, use_log):\n",
    "    if(use_log):\n",
    "        return np.expm1(casual) + np.expm1(registered)\n",
    "    else:\n",
    "        return casual + registered"
   ]
  },
  {
   "cell_type": "code",
   "execution_count": 24,
   "metadata": {
    "collapsed": false
   },
   "outputs": [],
   "source": [
    "#Function that predicts the number of rentals for an specific model\n",
    "# The prediction is done independently for casual and predicted features, as well as for the years (2011, 2012)\n",
    "# It returns the sum of the casual and registered predictions\n",
    "def predictWithModel(model, train_x, train_y_c, train_y_r, test_x, features_casual, features_registered, use_log):\n",
    "    train_pred_c = []\n",
    "    train_pred_r = []\n",
    "    \n",
    "    test_pred_c = []\n",
    "    test_pred_r = []\n",
    "\n",
    "    years = [2011, 2012]\n",
    "    for y in years:\n",
    "        # print 'Predicting: {}'.format(y)\n",
    "        train_mask = (train_x['year'] == y)\n",
    "        train_mask = train_mask.values\n",
    "\n",
    "        test_mask = (test_x['year'] == y)\n",
    "        test_mask = test_mask.values\n",
    "\n",
    "\n",
    "        model.fit(train_x[train_mask][features_casual], train_y_c[train_mask])\n",
    "        train_pred_c_current = np.array(model.predict(train_x[train_mask][features_casual]))\n",
    "        train_pred_c = np.concatenate((train_pred_c, train_pred_c_current), axis = 0)\n",
    "        test_pred_c_current = np.array(model.predict(test_x[test_mask][features_casual]))\n",
    "        test_pred_c = np.concatenate((test_pred_c, test_pred_c_current), axis = 0)\n",
    "\n",
    "        model.fit(train_x[train_mask][features_registered], train_y_r[train_mask])\n",
    "        train_pred_r_current = np.array(model.predict(train_x[train_mask][features_registered]))\n",
    "        train_pred_r = np.concatenate((train_pred_r, train_pred_r_current), axis = 0)\n",
    "        test_pred_r_current = np.array(model.predict(test_x[test_mask][features_registered]))\n",
    "        test_pred_r = np.concatenate((test_pred_r, test_pred_r_current), axis = 0)\n",
    "    \n",
    "    return getSumRentals(train_pred_c, train_pred_r, use_log), getSumRentals(test_pred_c, test_pred_r, use_log) "
   ]
  },
  {
   "cell_type": "code",
   "execution_count": 25,
   "metadata": {
    "collapsed": true
   },
   "outputs": [],
   "source": [
    "# Funciton that produces the code for the rules of a Decision Tree\n",
    "def tree_to_code(sk_tree, feature_names):\n",
    "    tree_ = sk_tree.tree_\n",
    "    feature_name = [\n",
    "        feature_names[i] if i != _tree.TREE_UNDEFINED else \"undefined!\"\n",
    "        for i in tree_.feature\n",
    "    ]\n",
    "    print \"def sk_tree({}):\".format(\", \".join(feature_names))\n",
    "\n",
    "    def recurse(node, depth):\n",
    "        indent = \"  \" * depth\n",
    "        if tree_.feature[node] != _tree.TREE_UNDEFINED:\n",
    "            name = feature_name[node]\n",
    "            threshold = tree_.threshold[node]\n",
    "            print \"{}if {} <= {}:\".format(indent, name, threshold)\n",
    "            recurse(tree_.children_left[node], depth + 1)\n",
    "            print \"{}else:  # if {} > {}\".format(indent, name, threshold)\n",
    "            recurse(tree_.children_right[node], depth + 1)\n",
    "        else:\n",
    "            print \"{}return {}\".format(indent, tree_.value[node])\n",
    "\n",
    "    recurse(0, 1)"
   ]
  },
  {
   "cell_type": "code",
   "execution_count": 26,
   "metadata": {
    "collapsed": true
   },
   "outputs": [],
   "source": [
    "#A function to calculate Root Mean Squared Logarithmic Error (RMSLE)\n",
    "def rmsle(y, y_pred):\n",
    "    assert len(y) == len(y_pred)\n",
    "    terms_to_sum = [(math.log(y_pred[i] + 1) - math.log(y[i] + 1)) ** 2.0 for i,pred in enumerate(y_pred)]\n",
    "    return (sum(terms_to_sum) * (1.0/len(y))) ** 0.5"
   ]
  },
  {
   "cell_type": "code",
   "execution_count": 27,
   "metadata": {
    "collapsed": true
   },
   "outputs": [],
   "source": [
    "#Function for parameter tuning inding best parameters\n",
    "def parameterTunning(regressionModel, tuned_parameters, X_train, X_test, y_train, y_test):\n",
    "\n",
    "    clf = GridSearchCV(regressionModel, tuned_parameters, cv=5, scoring='r2')\n",
    "    clf.fit(X_train, y_train)\n",
    "\n",
    "    print(\"Best parameters set found on development set:\")\n",
    "    \n",
    "    #best_estimator_ returns the best estimator chosen by the search\n",
    "    print(clf.best_estimator_)\n",
    "    print \"\"\n",
    "    print(\"Grid scores on development set:\")\n",
    "    print \"\"\n",
    "    #grid_scores_ returns:\n",
    "    #    * a dict of parameter settings\n",
    "    #    * the mean score over the cross-validation folds \n",
    "    #    * the list of scores for each fold\n",
    "    for params, mean_score, scores in clf.grid_scores_:\n",
    "        print(\"%0.3f (+/-%0.03f) for %r\"\n",
    "              % (mean_score, scores.std() / 2, params))\n",
    "    print \"\""
   ]
  },
  {
   "cell_type": "code",
   "execution_count": 28,
   "metadata": {
    "collapsed": true
   },
   "outputs": [],
   "source": [
    "#Function that splits a dataset into train and test sets\n",
    "def splitTrainingTesting(df_full, use_log, test_size = 0.3):\n",
    "    \n",
    "    train, test = cross_validation.train_test_split(df_full, test_size = test_size)\n",
    "    \n",
    "    train = train.sort_index()\n",
    "    test = test.sort_index()\n",
    "    \n",
    "    train_x = train.drop(['casual', 'registered', 'log_casual', 'log_registered'],axis = 1)\n",
    "    train_y_c = train['log_casual'].values if use_log else train['casual'].values\n",
    "    train_y_r = train['log_registered'].values if use_log else train['registered'].values\n",
    "    \n",
    "    test_x = test.drop(['casual', 'registered', 'log_casual', 'log_registered'],axis = 1)\n",
    "    test_y_c = test['log_casual'].values if use_log else test['casual'].values\n",
    "    test_y_r = test['log_registered'].values if use_log else test['registered'].values\n",
    "    \n",
    "    return train_x, train_y_c, train_y_r, test_x, test_y_c, test_y_r"
   ]
  },
  {
   "cell_type": "code",
   "execution_count": 29,
   "metadata": {
    "collapsed": true
   },
   "outputs": [],
   "source": [
    "#Function that runs 3-fold crossvalidation given a model\n",
    "def crossValidationForModel(model, x, y_c, y_r, features_casual, features_registered, use_log, crossValidationGenerator):\n",
    "    y = getSumRentals(y_c, y_r, use_log)\n",
    "    for train, val in crossValidationGenerator:\n",
    "        \n",
    "        train = np.sort(train)\n",
    "        val = np.sort(val)\n",
    "        \n",
    "        train_pred, val_pred = predictWithModel(model, x.iloc[train], y_c[train], y_r[train], x.iloc[val], \n",
    "                                features_casual, features_registered, use_log)\n",
    "        train_y = y[train]\n",
    "        train_score = rmsle(train_y, train_pred)\n",
    "        \n",
    "        val_y = y[val]\n",
    "        val_score = rmsle(val_y, val_pred)\n",
    "        \n",
    "        print(\"Train RMSLE: {0:.3f}, Validation RMSLE: {1:.3f}\\n\".format(train_score, val_score))"
   ]
  },
  {
   "cell_type": "code",
   "execution_count": 30,
   "metadata": {
    "collapsed": true
   },
   "outputs": [],
   "source": [
    "# Function that groups the values of a series according to an interval so a plot can be drawn more clearly\n",
    "def getGraphAxisByIntervals(series, interval):\n",
    "    byIntervals = pd.DataFrame()\n",
    "    series_r = series.reset_index()\n",
    "    cols = series_r.columns\n",
    "    min_val = int(min(series_r[cols[0]]))\n",
    "    max_val = math.ceil(max(series_r[cols[0]]))\n",
    "    \n",
    "    stop = False\n",
    "    prev_val = min_val\n",
    "    next_val = min_val + interval\n",
    "    while not stop:\n",
    "        #Hotfix to include certain values\n",
    "        prev_val = prev_val - 0.000001\n",
    "        \n",
    "        if next_val >= max_val:\n",
    "            next_val = max_val\n",
    "            stop = True\n",
    "        \n",
    "        current_sum = sum(series_r[cols[1]][(series_r[cols[0]] > prev_val) & (series_r[cols[0]] <= next_val)])\n",
    "        byIntervals = byIntervals.append(pd.DataFrame([[next_val, current_sum]], columns=cols))\n",
    "        \n",
    "        \n",
    "        prev_val = next_val\n",
    "        next_val = next_val + interval\n",
    "        \n",
    "        \n",
    "    return byIntervals.set_index(cols[0])"
   ]
  },
  {
   "cell_type": "markdown",
   "metadata": {},
   "source": [
    "# Adding new Features"
   ]
  },
  {
   "cell_type": "markdown",
   "metadata": {},
   "source": [
    "### Time Related Features"
   ]
  },
  {
   "cell_type": "code",
   "execution_count": 31,
   "metadata": {
    "collapsed": true
   },
   "outputs": [],
   "source": [
    "#Features derived from the timestamp\n",
    "df_complete['hour'] = df_complete.index.hour\n",
    "df_complete['dayOfMonth'] = df_complete.index.day\n",
    "df_complete['day'] = df_complete.index.dayofweek\n",
    "df_complete['week'] = df_complete.index.week\n",
    "df_complete['month'] = df_complete.index.month\n",
    "df_complete['year'] = df_complete.index.year"
   ]
  },
  {
   "cell_type": "code",
   "execution_count": 32,
   "metadata": {
    "collapsed": true
   },
   "outputs": [],
   "source": [
    "#Weekend feature\n",
    "df_complete['weekend'] = ((df_complete.index.dayofweek == 5) | (df_complete.index.dayofweek == 6)).astype(int)"
   ]
  },
  {
   "cell_type": "code",
   "execution_count": 33,
   "metadata": {
    "collapsed": true
   },
   "outputs": [],
   "source": [
    "## add quarters by year\n",
    "df_complete['year_quarter'] = 1\n",
    "\n",
    "df_complete.loc[(1 <= df_complete.index.month)\n",
    "                & (df_complete.index.month <= 3),\n",
    "                'year_quarter'] = 1\n",
    "df_complete.loc[(4 <= df_complete.index.month) \n",
    "                & (df_complete.index.month <= 6)\n",
    "                , 'year_quarter'] = 2\n",
    "df_complete.loc[(7 <= df_complete.index.month) \n",
    "                & (df_complete.index.month <= 9)\n",
    "                , 'year_quarter'] = 3\n",
    "df_complete.loc[(10 <= df_complete.index.month) \n",
    "                & (df_complete.index.month <= 12)\n",
    "                , 'year_quarter'] = 4"
   ]
  },
  {
   "cell_type": "markdown",
   "metadata": {},
   "source": [
    "### Natural Disasters"
   ]
  },
  {
   "cell_type": "code",
   "execution_count": 34,
   "metadata": {
    "collapsed": false
   },
   "outputs": [],
   "source": [
    "#Natural Disasters\n",
    "df_complete[\"nat_dis\"] = 0\n",
    "\n",
    "#storms\n",
    "df_complete.loc[get_day_range(pd.datetime(2012, 5, 21)), \"nat_dis\"] = 1\n",
    "\n",
    "#tornado\n",
    "df_complete.loc[get_day_range(pd.datetime(2012, 6, 1)), \"nat_dis\"] = 1\n",
    "\n",
    "#January 8–13, 2011 North American blizzard\n",
    "df_complete.loc[get_day_range(pd.datetime(2011, 1, 9)), \"nat_dis\"] = 1 \n",
    "df_complete.loc[get_day_range(pd.datetime(2011, 1, 10)), \"nat_dis\"] = 1 \n",
    "df_complete.loc[get_day_range(pd.datetime(2011, 1, 11)), \"nat_dis\"] = 1 \n",
    "df_complete.loc[get_day_range(pd.datetime(2011, 1, 12)), \"nat_dis\"] = 1\n",
    "\n",
    "#Earthquake Aug. 23, 2011\n",
    "df_complete.loc[get_day_range(pd.datetime(2011, 8, 23)), \"nat_dis\"] = 1\n",
    "\n",
    "#Hurricane Irene 21 - 30 Aug-11\n",
    "df_complete.loc[get_day_range(pd.datetime(2011, 8, 22)), \"nat_dis\"] = 1 \n",
    "df_complete.loc[get_day_range(pd.datetime(2011, 8, 23)), \"nat_dis\"] = 1 \n",
    "df_complete.loc[get_day_range(pd.datetime(2011, 8, 24)), \"nat_dis\"] = 1 \n",
    "df_complete.loc[get_day_range(pd.datetime(2011, 8, 25)), \"nat_dis\"] = 1 \n",
    "df_complete.loc[get_day_range(pd.datetime(2011, 8, 26)), \"nat_dis\"] = 1 \n",
    "df_complete.loc[get_day_range(pd.datetime(2011, 8, 27)), \"nat_dis\"] = 1\n",
    "\n",
    "#Hurricane Sandy Oct 27 - Nov 1 2012\n",
    "df_complete.loc[get_day_range(pd.datetime(2012, 10, 27)), \"nat_dis\"] = 1 \n",
    "df_complete.loc[get_day_range(pd.datetime(2012, 10, 28)), \"nat_dis\"] = 1 \n",
    "df_complete.loc[get_day_range(pd.datetime(2012, 10, 29)), \"nat_dis\"] = 1 \n",
    "df_complete.loc[get_day_range(pd.datetime(2012, 10, 30)), \"nat_dis\"] = 1 \n",
    "df_complete.loc[get_day_range(pd.datetime(2012, 10, 31)), \"nat_dis\"] = 1 \n",
    "df_complete.loc[get_day_range(pd.datetime(2012, 11, 1)), \"nat_dis\"] = 1 "
   ]
  },
  {
   "cell_type": "markdown",
   "metadata": {},
   "source": [
    "### Rain Feature"
   ]
  },
  {
   "cell_type": "code",
   "execution_count": 36,
   "metadata": {
    "collapsed": true
   },
   "outputs": [],
   "source": [
    "## Add feature that indicates if it's raining or not\n",
    "df_complete['rain'] = ((df_complete['weather'] == 3) | (df_complete['weather'] == 4)).astype(int)"
   ]
  },
  {
   "cell_type": "markdown",
   "metadata": {},
   "source": [
    "### Sticky Feature"
   ]
  },
  {
   "cell_type": "code",
   "execution_count": 37,
   "metadata": {
    "collapsed": false
   },
   "outputs": [],
   "source": [
    "#Add an indicator if the weather is sticky or not (if temp >= 26 and humidity >= 70)\n",
    "df_complete['sticky'] = df_complete[['humidity', 'temp']].apply(lambda x: (0, 1)[x['temp'] >= 26 and x['humidity'] >= 70], axis = 1)"
   ]
  },
  {
   "cell_type": "markdown",
   "metadata": {},
   "source": [
    "### Rush Hour"
   ]
  },
  {
   "cell_type": "code",
   "execution_count": 38,
   "metadata": {
    "collapsed": false
   },
   "outputs": [
    {
     "data": {
      "text/plain": [
       "<matplotlib.text.Text at 0xe1ea1d0>"
      ]
     },
     "execution_count": 38,
     "metadata": {},
     "output_type": "execute_result"
    },
    {
     "data": {
      "image/png": "[encoded data removed]",
      "text/plain": [
       "<matplotlib.figure.Figure at 0xcdad400>"
      ]
     },
     "metadata": {},
     "output_type": "display_data"
    }
   ],
   "source": [
    "# rentals by hour, split by working day (or not)\n",
    "by_hour = df_complete[df_complete['dataset'] == 'train'].copy().groupby(['hour', 'workingday'])['casual'].agg('sum').unstack()\n",
    "\n",
    "by_hour.plot(kind='bar', figsize=(8,4), width=0.8, label='rush hours');\n",
    "plt.ylabel('# Casual Rentals')\n",
    "plt.xlabel('Hours')"
   ]
  },
  {
   "cell_type": "code",
   "execution_count": 39,
   "metadata": {
    "collapsed": false
   },
   "outputs": [
    {
     "data": {
      "text/plain": [
       "<matplotlib.text.Text at 0x10538550>"
      ]
     },
     "execution_count": 39,
     "metadata": {},
     "output_type": "execute_result"
    },
    {
     "data": {
      "image/png": "[encoded data removed]",
      "text/plain": [
       "<matplotlib.figure.Figure at 0xe4c7518>"
      ]
     },
     "metadata": {},
     "output_type": "display_data"
    }
   ],
   "source": [
    "# rentals by hour, split by working day (or not)\n",
    "by_hour = df_complete[df_complete['dataset'] == 'train'].copy().groupby(['hour', 'workingday'])['registered'].agg('sum').unstack()\n",
    "\n",
    "by_hour.plot(kind='bar', figsize=(8,4), width=0.8);\n",
    "plt.ylabel('# Registered Rentals')\n",
    "plt.xlabel('Hours')"
   ]
  },
  {
   "cell_type": "code",
   "execution_count": 40,
   "metadata": {
    "collapsed": false
   },
   "outputs": [],
   "source": [
    "## Add Rush Hours according to histograms\n",
    "df_complete['rush_hour_casual_man'] = df_complete[['hour', 'workingday']].apply(\n",
    "    lambda x: (0, 1)[\n",
    "        (x['workingday'] == 1 and  7 <= x['hour'] <= 23)\n",
    "        or (x['workingday'] == 0 and  10 <= x['hour'] <= 19)], axis = 1)\n",
    "\n",
    "df_complete['rush_hour_reg_man'] = df_complete[['hour', 'workingday']].apply(\n",
    "    lambda x: (0, 1)[\n",
    "        (x['workingday'] == 1 and  (6 <= x['hour'] <= 9 or 16 <= x['hour'] <= 23))\n",
    "        or (x['workingday'] == 0 and  8 <= x['hour'] <= 23)], axis = 1)"
   ]
  },
  {
   "cell_type": "code",
   "execution_count": 41,
   "metadata": {
    "collapsed": false
   },
   "outputs": [
    {
     "name": "stdout",
     "output_type": "stream",
     "text": [
      "Casual Temp:\n",
      "def sk_tree(hour):\n",
      "  if hour <= 9.5:\n",
      "    if hour <= 7.5:\n",
      "      return [[ 5.29744018]]\n",
      "    else:  # if hour > 7.5\n",
      "      return [[ 26.24945055]]\n",
      "  else:  # if hour > 9.5\n",
      "    if hour <= 19.5:\n",
      "      return [[ 66.27336551]]\n",
      "    else:  # if hour > 19.5\n",
      "      return [[ 25.84155702]]\n",
      "None\n",
      "Registered Temp:\n",
      "def sk_tree(hour):\n",
      "  if hour <= 6.5:\n",
      "    if hour <= 5.5:\n",
      "      return [[ 20.63785395]]\n",
      "    else:  # if hour > 5.5\n",
      "      return [[ 72.10989011]]\n",
      "  else:  # if hour > 6.5\n",
      "    if hour <= 20.5:\n",
      "      return [[ 228.05141872]]\n",
      "    else:  # if hour > 20.5\n",
      "      return [[ 109.94078947]]\n",
      "None\n"
     ]
    }
   ],
   "source": [
    "# Getting rules for hour rushes\n",
    "hour_dt = tree.DecisionTreeRegressor(max_depth=2)\n",
    "\n",
    "dt_casual = df_complete[df_complete['dataset'] == 'train']['casual']\n",
    "dt_registered = df_complete[df_complete['dataset'] == 'train']['registered']\n",
    "dt_hour = df_complete[df_complete['dataset'] == 'train']['hour']\n",
    "\n",
    "hour_dt.fit(dt_hour[:, None], dt_casual)\n",
    "print 'Casual Temp:'\n",
    "print tree_to_code(hour_dt, ['hour'])\n",
    "\n",
    "\n",
    "hour_dt.fit(dt_hour[:, None], dt_registered)\n",
    "print 'Registered Temp:'\n",
    "print tree_to_code(hour_dt, ['hour'])"
   ]
  },
  {
   "cell_type": "code",
   "execution_count": 42,
   "metadata": {
    "collapsed": true
   },
   "outputs": [],
   "source": [
    "# Functions for defining the rush hours\n",
    "def rush_hour_casual_bucket(hour):\n",
    "  if hour <= 9.5:\n",
    "    if hour <= 7.5:\n",
    "      return 1\n",
    "    else:  # if hour > 7.5\n",
    "      return 2\n",
    "  else:  # if hour > 9.5\n",
    "    if hour <= 19.5:\n",
    "      return 3\n",
    "    else:  # if hour > 19.5\n",
    "      return 4\n",
    "\n",
    "def rush_hour_reg_bucket(hour):\n",
    "  if hour <= 6.5:\n",
    "    if hour <= 5.5:\n",
    "      return 1\n",
    "    else:  # if hour > 5.5\n",
    "      return 2\n",
    "  else:  # if hour > 6.5\n",
    "    if hour <= 20.5:\n",
    "      return 3\n",
    "    else:  # if hour > 20.5\n",
    "      return 4"
   ]
  },
  {
   "cell_type": "code",
   "execution_count": 43,
   "metadata": {
    "collapsed": true
   },
   "outputs": [],
   "source": [
    "df_complete['rush_hour_casual_aut'] = df_complete['hour'].apply(lambda x: rush_hour_casual_bucket(x))\n",
    "df_complete['rush_hour_reg_aut'] = df_complete['hour'].apply(lambda x: rush_hour_reg_bucket(x))"
   ]
  },
  {
   "cell_type": "markdown",
   "metadata": {},
   "source": [
    "### Rush Temperature"
   ]
  },
  {
   "cell_type": "code",
   "execution_count": 44,
   "metadata": {
    "collapsed": false
   },
   "outputs": [
    {
     "data": {
      "text/plain": [
       "<matplotlib.text.Text at 0x10815860>"
      ]
     },
     "execution_count": 44,
     "metadata": {},
     "output_type": "execute_result"
    },
    {
     "data": {
      "image/png": "[encoded data removed]",
      "text/plain": [
       "<matplotlib.figure.Figure at 0xe390f28>"
      ]
     },
     "metadata": {},
     "output_type": "display_data"
    }
   ],
   "source": [
    "# casual rentals by temperature\n",
    "by_hour = df_complete[df_complete['dataset'] == 'train'].copy().groupby(['temp'])['casual'].agg('sum')\n",
    "by_hour = getGraphAxisByIntervals(by_hour, 1)\n",
    "\n",
    "by_hour.plot(kind='bar', figsize=(8,4), width=0.8);\n",
    "plt.ylabel('# Casual Rentals')\n",
    "plt.xlabel('Temperature')"
   ]
  },
  {
   "cell_type": "code",
   "execution_count": 45,
   "metadata": {
    "collapsed": false
   },
   "outputs": [
    {
     "data": {
      "text/plain": [
       "<matplotlib.text.Text at 0xd88d7b8>"
      ]
     },
     "execution_count": 45,
     "metadata": {},
     "output_type": "execute_result"
    },
    {
     "data": {
      "image/png": "[encoded data removed]",
      "text/plain": [
       "<matplotlib.figure.Figure at 0x10b9b668>"
      ]
     },
     "metadata": {},
     "output_type": "display_data"
    }
   ],
   "source": [
    "# registered rentals by temperature \n",
    "by_hour = df_complete[df_complete['dataset'] == 'train'].copy().groupby(['temp'])['registered'].agg('sum')\n",
    "by_hour = getGraphAxisByIntervals(by_hour, 1)\n",
    "\n",
    "by_hour.plot(kind='bar', figsize=(8,4), width=0.8);\n",
    "plt.ylabel('# Registered Rentals')\n",
    "plt.xlabel('Temperature')"
   ]
  },
  {
   "cell_type": "code",
   "execution_count": 46,
   "metadata": {
    "collapsed": true
   },
   "outputs": [],
   "source": [
    "#Add rush temps:\n",
    "df_complete['rush_temp_casual_man'] = df_complete[['temp']].apply(\n",
    "    lambda x: (0, 1)[\n",
    "        (18.5 <= x['temp'] <= 19.5)\n",
    "        or (22.5 <= x['temp'] <= 33)], axis = 1)\n",
    "df_complete['rush_temp_reg_man'] = df_complete[['temp']].apply(\n",
    "    lambda x: (0, 1)[\n",
    "        (13.5 <= x['temp'] <= 15)\n",
    "        or (18.5 <= x['temp'] <= 19.5)\n",
    "        or (22 <= x['temp'] <= 23.5)\n",
    "        or (27 <= x['temp'] <= 32)], axis = 1)"
   ]
  },
  {
   "cell_type": "code",
   "execution_count": 47,
   "metadata": {
    "collapsed": false
   },
   "outputs": [
    {
     "name": "stdout",
     "output_type": "stream",
     "text": [
      "Casual Temp:\n",
      "def sk_tree(temp):\n",
      "  if temp <= 23.3699989319:\n",
      "    if temp <= 15.1700000763:\n",
      "      if temp <= 12.7100000381:\n",
      "        return [[ 5.95595735]]\n",
      "      else:  # if temp > 12.7100000381\n",
      "        return [[ 16.42799353]]\n",
      "    else:  # if temp > 15.1700000763\n",
      "      if temp <= 19.2700004578:\n",
      "        return [[ 26.68481375]]\n",
      "      else:  # if temp > 19.2700004578\n",
      "        return [[ 37.16898008]]\n",
      "  else:  # if temp > 23.3699989319\n",
      "    if temp <= 29.9300003052:\n",
      "      if temp <= 29.1100006104:\n",
      "        return [[ 49.47193264]]\n",
      "      else:  # if temp > 29.1100006104\n",
      "        return [[ 65.60339943]]\n",
      "    else:  # if temp > 29.9300003052\n",
      "      if temp <= 32.3899993896:\n",
      "        return [[ 77.61971831]]\n",
      "      else:  # if temp > 32.3899993896\n",
      "        return [[ 90.39504132]]\n",
      "None\n",
      "Registered Temp:\n",
      "def sk_tree(temp):\n",
      "  if temp <= 22.5499992371:\n",
      "    if temp <= 12.7100000381:\n",
      "      if temp <= 11.0699996948:\n",
      "        return [[ 72.58390949]]\n",
      "      else:  # if temp > 11.0699996948\n",
      "        return [[ 107.50353357]]\n",
      "    else:  # if temp > 12.7100000381\n",
      "      if temp <= 19.2700004578:\n",
      "        return [[ 138.83562563]]\n",
      "      else:  # if temp > 19.2700004578\n",
      "        return [[ 156.44611727]]\n",
      "  else:  # if temp > 22.5499992371\n",
      "    if temp <= 29.9300003052:\n",
      "      if temp <= 28.2900009155:\n",
      "        return [[ 175.58813972]]\n",
      "      else:  # if temp > 28.2900009155\n",
      "        return [[ 207.51538462]]\n",
      "    else:  # if temp > 29.9300003052\n",
      "      if temp <= 30.75:\n",
      "        return [[ 228.91973244]]\n",
      "      else:  # if temp > 30.75\n",
      "        return [[ 257.25079365]]\n",
      "None\n"
     ]
    }
   ],
   "source": [
    "# Getting rules for temp rushes\n",
    "temp_dt = tree.DecisionTreeRegressor(max_depth=3)\n",
    "\n",
    "dt_casual = df_complete[df_complete['dataset'] == 'train']['casual']\n",
    "dt_registered = df_complete[df_complete['dataset'] == 'train']['registered']\n",
    "dt_temp = df_complete[df_complete['dataset'] == 'train']['temp']\n",
    "\n",
    "temp_dt.fit(dt_temp[:, None], dt_casual)\n",
    "print 'Casual Temp:'\n",
    "print tree_to_code(temp_dt, ['temp'])\n",
    "\n",
    "temp_dt.fit(dt_temp[:, None], dt_registered)\n",
    "print 'Registered Temp:'\n",
    "print tree_to_code(temp_dt, ['temp'])"
   ]
  },
  {
   "cell_type": "code",
   "execution_count": 48,
   "metadata": {
    "collapsed": false
   },
   "outputs": [],
   "source": [
    "# Functions for defining the temp rushes\n",
    "def rush_temp_casual_bucket(temp):\n",
    "  if temp <= 23.3699989319:\n",
    "    if temp <= 15.1700000763:\n",
    "      if temp <= 12.7100000381:\n",
    "        return 1\n",
    "      else:  # if temp > 12.7100000381\n",
    "        return 2\n",
    "    else:  # if temp > 15.1700000763\n",
    "      if temp <= 19.2700004578:\n",
    "        return 3\n",
    "      else:  # if temp > 19.2700004578\n",
    "        return 4\n",
    "  else:  # if temp > 23.3699989319\n",
    "    if temp <= 29.9300003052:\n",
    "      if temp <= 29.1100006104:\n",
    "        return 5\n",
    "      else:  # if temp > 29.1100006104\n",
    "        return 6\n",
    "    else:  # if temp > 29.9300003052\n",
    "      if temp <= 32.3899993896:\n",
    "        return 7\n",
    "      else:  # if temp > 32.3899993896\n",
    "        return 8\n",
    "\n",
    "def rush_temp_registered_bucket(temp):\n",
    "  if temp <= 22.5499992371:\n",
    "    if temp <= 12.7100000381:\n",
    "      if temp <= 11.0699996948:\n",
    "        return 1\n",
    "      else:  # if temp > 11.0699996948\n",
    "        return 2\n",
    "    else:  # if temp > 12.7100000381\n",
    "      if temp <= 19.2700004578:\n",
    "        return 3\n",
    "      else:  # if temp > 19.2700004578\n",
    "        return 4\n",
    "  else:  # if temp > 22.5499992371\n",
    "    if temp <= 29.9300003052:\n",
    "      if temp <= 28.2900009155:\n",
    "        return 5\n",
    "      else:  # if temp > 28.2900009155\n",
    "        return 6\n",
    "    else:  # if temp > 29.9300003052\n",
    "      if temp <= 30.75:\n",
    "        return 7\n",
    "      else:  # if temp > 30.75\n",
    "        return 8"
   ]
  },
  {
   "cell_type": "code",
   "execution_count": 49,
   "metadata": {
    "collapsed": false
   },
   "outputs": [],
   "source": [
    "df_complete['rush_temp_casual_aut'] = df_complete['temp'].apply(lambda x: rush_temp_casual_bucket(x))\n",
    "df_complete['rush_temp_reg_aut'] = df_complete['temp'].apply(lambda x: rush_temp_registered_bucket(x))"
   ]
  },
  {
   "cell_type": "markdown",
   "metadata": {},
   "source": [
    "### Rush Humidity"
   ]
  },
  {
   "cell_type": "code",
   "execution_count": 50,
   "metadata": {
    "collapsed": false
   },
   "outputs": [
    {
     "data": {
      "text/plain": [
       "<matplotlib.text.Text at 0x110ac438>"
      ]
     },
     "execution_count": 50,
     "metadata": {},
     "output_type": "execute_result"
    },
    {
     "data": {
      "image/png": "[encoded data removed]",
      "text/plain": [
       "<matplotlib.figure.Figure at 0x109aab38>"
      ]
     },
     "metadata": {},
     "output_type": "display_data"
    }
   ],
   "source": [
    "# casual rentals by humidity\n",
    "by_hour = df_complete[df_complete['dataset'] == 'train'].copy().groupby(['humidity'])['casual'].agg('sum')\n",
    "by_hour = getGraphAxisByIntervals(by_hour, 5)\n",
    "\n",
    "by_hour.plot(kind='bar', figsize=(8,4), width=0.8);\n",
    "plt.ylabel('# Casual Rentals')\n",
    "plt.xlabel('Humidity')"
   ]
  },
  {
   "cell_type": "code",
   "execution_count": 51,
   "metadata": {
    "collapsed": false
   },
   "outputs": [
    {
     "data": {
      "text/plain": [
       "<matplotlib.text.Text at 0x10d15320>"
      ]
     },
     "execution_count": 51,
     "metadata": {},
     "output_type": "execute_result"
    },
    {
     "data": {
      "image/png": "[encoded data removed]",
      "text/plain": [
       "<matplotlib.figure.Figure at 0x10f5e518>"
      ]
     },
     "metadata": {},
     "output_type": "display_data"
    }
   ],
   "source": [
    "# registered rentals by humidity\n",
    "by_hour = df_complete[df_complete['dataset'] == 'train'].copy().groupby(['humidity'])['registered'].agg('sum')\n",
    "by_hour = getGraphAxisByIntervals(by_hour, 5)\n",
    "\n",
    "by_hour.plot(kind='bar', figsize=(8,4), width=0.8);\n",
    "plt.ylabel('# Registered Rentals')\n",
    "plt.xlabel('Humidity')"
   ]
  },
  {
   "cell_type": "code",
   "execution_count": 52,
   "metadata": {
    "collapsed": false
   },
   "outputs": [],
   "source": [
    "#Add rush humidity:\n",
    "df_complete['rush_humid_casual_man'] = df_complete[['humidity']].apply(\n",
    "    lambda x: (0, 1)[\n",
    "        (34 <= x['humidity'] <= 56)], axis = 1)\n",
    "df_complete['rush_humid_reg_man'] = df_complete[['humidity']].apply(\n",
    "    lambda x: (0, 1)[\n",
    "        (39 <= x['humidity'] <= 66)], axis = 1)"
   ]
  },
  {
   "cell_type": "code",
   "execution_count": 53,
   "metadata": {
    "collapsed": false
   },
   "outputs": [
    {
     "name": "stdout",
     "output_type": "stream",
     "text": [
      "Casual Humidity:\n",
      "def sk_tree(humidity):\n",
      "  if humidity <= 55.5:\n",
      "    if humidity <= 39.5:\n",
      "      return [[ 69.760707]]\n",
      "    else:  # if humidity > 39.5\n",
      "      return [[ 46.30662021]]\n",
      "  else:  # if humidity > 55.5\n",
      "    if humidity <= 74.5:\n",
      "      return [[ 32.4573481]]\n",
      "    else:  # if humidity > 74.5\n",
      "      return [[ 15.03651685]]\n",
      "None\n",
      "Registered Humidity:\n",
      "def sk_tree(humidity):\n",
      "  if humidity <= 66.5:\n",
      "    if humidity <= 43.5:\n",
      "      return [[ 215.93435754]]\n",
      "    else:  # if humidity > 43.5\n",
      "      return [[ 169.73187023]]\n",
      "  else:  # if humidity > 66.5\n",
      "    if humidity <= 84.5:\n",
      "      return [[ 127.86905949]]\n",
      "    else:  # if humidity > 84.5\n",
      "      return [[ 86.68835394]]\n",
      "None\n"
     ]
    }
   ],
   "source": [
    "# Getting rules for humidity rushes\n",
    "humidity_dt = tree.DecisionTreeRegressor(max_depth=2)\n",
    "\n",
    "dt_casual = df_complete[df_complete['dataset'] == 'train']['casual']\n",
    "dt_registered = df_complete[df_complete['dataset'] == 'train']['registered']\n",
    "dt_humidity = df_complete[df_complete['dataset'] == 'train']['humidity']\n",
    "\n",
    "humidity_dt.fit(dt_humidity[:, None], dt_casual)\n",
    "print 'Casual Humidity:'\n",
    "print tree_to_code(humidity_dt, ['humidity'])\n",
    "\n",
    "humidity_dt.fit(dt_humidity[:, None], dt_registered)\n",
    "print 'Registered Humidity:'\n",
    "print tree_to_code(humidity_dt, ['humidity'])"
   ]
  },
  {
   "cell_type": "code",
   "execution_count": 54,
   "metadata": {
    "collapsed": true
   },
   "outputs": [],
   "source": [
    "# Functions for defining the humidity rushes\n",
    "def rush_humid_casual_bucket(humidity):\n",
    "  if humidity <= 55.5:\n",
    "    if humidity <= 39.5:\n",
    "      return 1\n",
    "    else:  # if humidity > 39.5\n",
    "      return 2\n",
    "  else:  # if humidity > 55.5\n",
    "    if humidity <= 74.5:\n",
    "      return 3\n",
    "    else:  # if humidity > 74.5\n",
    "      return 4\n",
    "\n",
    "def rush_humid_reg_bucket(humidity):\n",
    "  if humidity <= 66.5:\n",
    "    if humidity <= 43.5:\n",
    "      return 1\n",
    "    else:  # if humidity > 43.5\n",
    "      return 2\n",
    "  else:  # if humidity > 66.5\n",
    "    if humidity <= 84.5:\n",
    "      return 3\n",
    "    else:  # if humidity > 84.5\n",
    "      return 4"
   ]
  },
  {
   "cell_type": "code",
   "execution_count": 55,
   "metadata": {
    "collapsed": false
   },
   "outputs": [],
   "source": [
    "df_complete['rush_humid_casual_aut'] = df_complete['humidity'].apply(lambda x: rush_humid_casual_bucket(x))\n",
    "df_complete['rush_humid_reg_aut'] = df_complete['humidity'].apply(lambda x: rush_humid_reg_bucket(x))"
   ]
  },
  {
   "cell_type": "markdown",
   "metadata": {},
   "source": [
    "### Rush Windspeed"
   ]
  },
  {
   "cell_type": "code",
   "execution_count": 56,
   "metadata": {
    "collapsed": false
   },
   "outputs": [
    {
     "data": {
      "text/plain": [
       "<matplotlib.text.Text at 0x11828048>"
      ]
     },
     "execution_count": 56,
     "metadata": {},
     "output_type": "execute_result"
    },
    {
     "data": {
      "image/png": "[encoded data removed]",
      "text/plain": [
       "<matplotlib.figure.Figure at 0x10d5aef0>"
      ]
     },
     "metadata": {},
     "output_type": "display_data"
    }
   ],
   "source": [
    "# casual rentals by windspeed\n",
    "by_hour = df_complete[df_complete['dataset'] == 'train'].copy().groupby(['windspeed'])['casual'].agg('sum')\n",
    "by_hour = getGraphAxisByIntervals(by_hour, 1)\n",
    "\n",
    "by_hour.plot(kind='bar', figsize=(8,4), width=0.8);\n",
    "plt.ylabel('# Casual Rentals')\n",
    "plt.xlabel('Windspeed')"
   ]
  },
  {
   "cell_type": "code",
   "execution_count": 57,
   "metadata": {
    "collapsed": false
   },
   "outputs": [
    {
     "data": {
      "text/plain": [
       "<matplotlib.text.Text at 0x10889208>"
      ]
     },
     "execution_count": 57,
     "metadata": {},
     "output_type": "execute_result"
    },
    {
     "data": {
      "image/png": "[encoded data removed]",
      "text/plain": [
       "<matplotlib.figure.Figure at 0x10ff9e10>"
      ]
     },
     "metadata": {},
     "output_type": "display_data"
    }
   ],
   "source": [
    "# casual rentals by windspeed\n",
    "by_hour = df_complete[df_complete['dataset'] == 'train'].copy().groupby(['windspeed'])['registered'].agg('sum')\n",
    "by_hour = getGraphAxisByIntervals(by_hour, 1)\n",
    "\n",
    "by_hour.plot(kind='bar', figsize=(8,4), width=0.8);\n",
    "plt.ylabel('# Registered Rentals')\n",
    "plt.xlabel('Windspeed')"
   ]
  },
  {
   "cell_type": "code",
   "execution_count": 58,
   "metadata": {
    "collapsed": true
   },
   "outputs": [],
   "source": [
    "#Add rush humidity:\n",
    "df_complete['rush_wind_casual_man'] = df_complete[['windspeed']].apply(\n",
    "    lambda x: (0, 1)[\n",
    "        (x['windspeed'] <= 21)], axis = 1)\n",
    "df_complete['rush_wind_reg_man'] = df_complete[['windspeed']].apply(\n",
    "    lambda x: (0, 1)[\n",
    "        (x['windspeed'] <= 21)], axis = 1)"
   ]
  },
  {
   "cell_type": "code",
   "execution_count": 59,
   "metadata": {
    "collapsed": false
   },
   "outputs": [
    {
     "name": "stdout",
     "output_type": "stream",
     "text": [
      "Casual Wind:\n",
      "def sk_tree(windspeed):\n",
      "  if windspeed <= 9.99975013733:\n",
      "    if windspeed <= 7.99980020523:\n",
      "      return [[ 28.92171482]]\n",
      "    else:  # if windspeed > 7.99980020523\n",
      "      return [[ 31.25625]]\n",
      "  else:  # if windspeed > 9.99975013733\n",
      "    if windspeed <= 15.9995994568:\n",
      "      return [[ 38.18856209]]\n",
      "    else:  # if windspeed > 15.9995994568\n",
      "      return [[ 42.20590766]]\n",
      "None\n",
      "Registered Wind:\n",
      "def sk_tree(windspeed):\n",
      "  if windspeed <= 9.99975013733:\n",
      "    if windspeed <= 6.50234985352:\n",
      "      return [[ 126.62883295]]\n",
      "    else:  # if windspeed > 6.50234985352\n",
      "      return [[ 143.00092851]]\n",
      "  else:  # if windspeed > 9.99975013733\n",
      "    if windspeed <= 41.9989471436:\n",
      "      return [[ 169.56336299]]\n",
      "    else:  # if windspeed > 41.9989471436\n",
      "      return [[ 117.89655172]]\n",
      "None\n"
     ]
    }
   ],
   "source": [
    "# Getting rules for wind rushes\n",
    "wind_dt = tree.DecisionTreeRegressor(max_depth=2)\n",
    "\n",
    "dt_casual = df_complete[df_complete['dataset'] == 'train']['casual']\n",
    "dt_registered = df_complete[df_complete['dataset'] == 'train']['registered']\n",
    "dt_wind = df_complete[df_complete['dataset'] == 'train']['windspeed']\n",
    "\n",
    "wind_dt.fit(dt_wind[:, None], dt_casual)\n",
    "print 'Casual Wind:'\n",
    "print tree_to_code(wind_dt, ['windspeed'])\n",
    "\n",
    "wind_dt.fit(dt_wind[:, None], dt_registered)\n",
    "print 'Registered Wind:'\n",
    "print tree_to_code(wind_dt, ['windspeed'])"
   ]
  },
  {
   "cell_type": "code",
   "execution_count": 60,
   "metadata": {
    "collapsed": true
   },
   "outputs": [],
   "source": [
    "def rush_wind_casual_bucket(windspeed):\n",
    "  if windspeed <= 9.99975013733:\n",
    "    if windspeed <= 7.99980020523:\n",
    "      return 1\n",
    "    else:  # if windspeed > 7.99980020523\n",
    "      return 2\n",
    "  else:  # if windspeed > 9.99975013733\n",
    "    if windspeed <= 15.9995994568:\n",
    "      return 3\n",
    "    else:  # if windspeed > 15.9995994568\n",
    "      return 4\n",
    "\n",
    "def rush_wind_reg_bucket(windspeed):\n",
    "  if windspeed <= 9.99975013733:\n",
    "    if windspeed <= 6.50234985352:\n",
    "      return 1\n",
    "    else:  # if windspeed > 6.50234985352\n",
    "      return 2\n",
    "  else:  # if windspeed > 9.99975013733\n",
    "    if windspeed <= 41.9989471436:\n",
    "      return 3\n",
    "    else:  # if windspeed > 41.9989471436\n",
    "      return 4"
   ]
  },
  {
   "cell_type": "code",
   "execution_count": 61,
   "metadata": {
    "collapsed": false
   },
   "outputs": [],
   "source": [
    "df_complete['rush_wind_casual_aut'] = df_complete['windspeed'].apply(lambda x: rush_wind_casual_bucket(x))\n",
    "df_complete['rush_wind_reg_aut'] = df_complete['windspeed'].apply(lambda x: rush_wind_reg_bucket(x))"
   ]
  },
  {
   "cell_type": "markdown",
   "metadata": {
    "collapsed": true
   },
   "source": [
    "### Complementing Holidays Features"
   ]
  },
  {
   "cell_type": "code",
   "execution_count": 62,
   "metadata": {
    "collapsed": false
   },
   "outputs": [],
   "source": [
    "## Adding some missed \"holydays\"\n",
    "\n",
    "#storms\n",
    "df_complete.loc[get_day_range(pd.datetime(2012, 5, 21)), \"workingday\"] = 0\n",
    "df_complete.loc[get_day_range(pd.datetime(2012, 5, 21)), \"holiday\"] = 1\n",
    "\n",
    "#tornado\n",
    "df_complete.loc[get_day_range(pd.datetime(2012, 6, 1)), \"workingday\"] = 0\n",
    "df_complete.loc[get_day_range(pd.datetime(2012, 6, 1)), \"holiday\"] = 1\n",
    "\n",
    "# tax day\n",
    "df_complete.loc[get_day_range(pd.datetime(2011, 4, 15)), \"workingday\"] = 1\n",
    "df_complete.loc[get_day_range(pd.datetime(2012, 4, 16)), \"workingday\"] = 1\n",
    "df_complete.loc[get_day_range(pd.datetime(2011, 4, 15)), \"holiday\"] = 0\n",
    "df_complete.loc[get_day_range(pd.datetime(2012, 4, 16)), \"holiday\"] = 0\n",
    "\n",
    "# thanksgiving friday\n",
    "df_complete.loc[get_day_range(pd.datetime(2011, 11, 25)), \"workingday\"] = 0\n",
    "df_complete.loc[get_day_range(pd.datetime(2012, 11, 23)), \"workingday\"] = 0\n",
    "df_complete.loc[get_day_range(pd.datetime(2011, 11, 25)), \"holiday\"] = 1\n",
    "df_complete.loc[get_day_range(pd.datetime(2012, 11, 23)), \"holiday\"] = 1\n",
    "\n",
    "#Christmas eve\n",
    "df_complete.loc[get_day_range(pd.datetime(2011, 12, 24)), \"holiday\"] = 1\n",
    "df_complete.loc[get_day_range(pd.datetime(2012, 12, 24)), \"holiday\"] = 1\n",
    "df_complete.loc[get_day_range(pd.datetime(2011, 12, 24)), \"workingday\"] = 0\n",
    "df_complete.loc[get_day_range(pd.datetime(2012, 12, 24)), \"workingday\"] = 0\n",
    "\n",
    "#New year's eve\n",
    "df_complete.loc[get_day_range(pd.datetime(2011, 12, 31)), \"holiday\"] = 1\n",
    "df_complete.loc[get_day_range(pd.datetime(2012, 12, 31)), \"holiday\"] = 1\n",
    "df_complete.loc[get_day_range(pd.datetime(2011, 12, 31)), \"workingday\"] = 0\n",
    "df_complete.loc[get_day_range(pd.datetime(2012, 12, 31)), \"workingday\"] = 0"
   ]
  },
  {
   "cell_type": "markdown",
   "metadata": {},
   "source": [
    "# Correlation Matrix"
   ]
  },
  {
   "cell_type": "code",
   "execution_count": 65,
   "metadata": {
    "collapsed": false
   },
   "outputs": [
    {
     "data": {
      "text/plain": [
       "<matplotlib.axes._subplots.AxesSubplot at 0x12f0a8d0>"
      ]
     },
     "execution_count": 65,
     "metadata": {},
     "output_type": "execute_result"
    },
    {
     "data": {
      "image/png": "[encoded data removed]",
      "text/plain": [
       "<matplotlib.figure.Figure at 0x12ef12e8>"
      ]
     },
     "metadata": {},
     "output_type": "display_data"
    }
   ],
   "source": [
    "# Compute the correlation matrix\n",
    "plot_cols = ['casual', 'registered', 'atemp', 'temp', 'humidity', 'windspeed', 'weather', 'season',\n",
    "                'workingday', 'holiday', 'weekend', 'hour', 'day', 'dayOfMonth', 'week', 'month',\n",
    "                'year_quarter', 'year',  'nat_dis', 'rain', 'sticky', 'rush_hour_casual_man',\n",
    "                'rush_hour_reg_man', 'rush_hour_casual_aut', 'rush_hour_reg_aut',\n",
    "                'rush_temp_casual_man', 'rush_temp_reg_man', 'rush_temp_casual_aut', \n",
    "                'rush_temp_reg_aut', 'rush_humid_casual_man', 'rush_humid_reg_man',\n",
    "                'rush_humid_casual_aut', 'rush_humid_reg_aut', 'rush_wind_casual_man',\n",
    "                'rush_wind_reg_man','rush_wind_casual_aut', 'rush_wind_reg_aut']\n",
    "corr = df_complete[df_complete['dataset'] == 'train'][plot_cols].corr()\n",
    "\n",
    "# Generate a mask for the upper triangle\n",
    "mask = np.zeros_like(corr, dtype=np.bool)\n",
    "mask[np.triu_indices_from(mask)] = True\n",
    "\n",
    "# Set up the matplotlib figure\n",
    "f, ax = plt.subplots(figsize=(11, 9))\n",
    "\n",
    "# Generate a custom diverging colormap\n",
    "cmap = sns.diverging_palette(256, 15, as_cmap=True)\n",
    "\n",
    "# Draw the heatmap with the mask and correct aspect ratio\n",
    "sns.heatmap(corr, mask=mask, cmap=cmap, vmax=.3,\n",
    "            square=True,\n",
    "            linewidths=.5, cbar_kws={\"shrink\": .5}, ax=ax)"
   ]
  },
  {
   "cell_type": "markdown",
   "metadata": {},
   "source": [
    "# Contruct Full Training and Testing Sets"
   ]
  },
  {
   "cell_type": "code",
   "execution_count": 68,
   "metadata": {
    "collapsed": true
   },
   "outputs": [],
   "source": [
    "# Variable that indicates if log counts should be used\n",
    "use_log = True"
   ]
  },
  {
   "cell_type": "code",
   "execution_count": 69,
   "metadata": {
    "collapsed": false
   },
   "outputs": [],
   "source": [
    "#Construct the full kaggle training set\n",
    "df_train_full = df_complete[df_complete['dataset'] == 'train']\n",
    "del df_train_full['dataset']\n",
    "\n",
    "df_train_full_y_c = df_train_full['log_casual'].values if use_log else df_train_full['casual'].values\n",
    "df_train_full_y_r = df_train_full['log_registered'].values if use_log else df_train_full['registered'].values\n",
    "\n",
    "df_train_full_x = df_train_full.drop(['casual', 'registered', 'log_casual', 'log_registered'],axis = 1)#.values"
   ]
  },
  {
   "cell_type": "code",
   "execution_count": 70,
   "metadata": {
    "collapsed": true
   },
   "outputs": [],
   "source": [
    "#Construct the full kaggle testing set\n",
    "df_test_full = df_complete[df_complete['dataset'] == 'test']\n",
    "del df_test_full['dataset']\n",
    "#del df_test['count']\n",
    "del df_test_full['casual']\n",
    "del df_test_full['registered']"
   ]
  },
  {
   "cell_type": "code",
   "execution_count": 71,
   "metadata": {
    "collapsed": false
   },
   "outputs": [],
   "source": [
    "# Split the full training set into training and validations set\n",
    "train_x, train_y_c, train_y_r, val_x, val_y_c, val_y_r = splitTrainingTesting(df_train_full, use_log, 0.3)\n",
    "train_y = getSumRentals(train_y_c, train_y_r, use_log)\n",
    "val_y = getSumRentals(val_y_c, val_y_r, use_log)"
   ]
  },
  {
   "cell_type": "markdown",
   "metadata": {},
   "source": [
    "# Feature Selection"
   ]
  },
  {
   "cell_type": "code",
   "execution_count": 72,
   "metadata": {
    "collapsed": false
   },
   "outputs": [],
   "source": [
    "#These are the basic features both registered and casual rentals should use.\n",
    "basic_features = ['humidity', 'atemp', 'temp', 'windspeed', 'weather', 'season', 'holiday', \n",
    "                  'workingday', 'weekend', 'day', 'hour']\n",
    "\n",
    "#The test features are the ones that are derived from the basic features and we'll check if they improve \n",
    "# or not our predictions\n",
    "to_test_features = ['year_quarter', 'month', 'week', 'nat_dis', 'rain', 'sticky']\n",
    "\n",
    "to_test_features_casual = to_test_features + ['rush_hour_casual_man', 'rush_hour_casual_aut', 'rush_temp_casual_man',\n",
    "                                            'rush_temp_casual_aut', 'rush_humid_casual_man', 'rush_humid_casual_aut', \n",
    "                                            'rush_wind_casual_man', 'rush_wind_casual_aut']\n",
    "to_test_features_reg = to_test_features + ['rush_hour_reg_man', 'rush_hour_reg_aut', 'rush_temp_reg_man',\n",
    "                                           'rush_temp_reg_aut', 'rush_humid_reg_man', 'rush_humid_reg_aut', \n",
    "                                           'rush_wind_reg_man', 'rush_wind_reg_aut']"
   ]
  },
  {
   "cell_type": "code",
   "execution_count": 73,
   "metadata": {
    "collapsed": false
   },
   "outputs": [
    {
     "name": "stdout",
     "output_type": "stream",
     "text": [
      "XGB\tBasic Features\t0.328974706168 \t0.356089237307\n"
     ]
    }
   ],
   "source": [
    "# Train and predict basic models with basic features  \n",
    "xgb_pred_train, xgb_pred_test = predictWithModel(xgb.XGBRegressor(), train_x, train_y_c, train_y_r, val_x, \n",
    "                            basic_features, basic_features, use_log)\n",
    "\n",
    "# Calculate the RMSLE Score\n",
    "scoreXgb_train = rmsle(train_y, xgb_pred_train)\n",
    "scoreXgb_test = rmsle(val_y, xgb_pred_test)\n",
    "print 'XGB\\t', 'Basic Features\\t', scoreXgb_train, '\\t', scoreXgb_test\n",
    "\n",
    "#Predict with full data set and print the file so we check with kaggle\n",
    "_, xgb_pred_full = predictWithModel(xgb.XGBRegressor(), df_train_full, df_train_full_y_c, df_train_full_y_r, df_test_full, \n",
    "                                    basic_features, basic_features, use_log)\n",
    "printPrediction(xgb_pred_full, 'xgb-BASIC.csv')"
   ]
  },
  {
   "cell_type": "code",
   "execution_count": 74,
   "metadata": {
    "collapsed": false
   },
   "outputs": [
    {
     "name": "stdout",
     "output_type": "stream",
     "text": [
      "XGB\tWith year_quarter\t0.328974706168 \t0.356089237307\n",
      "XGB\tWith month\t0.325947990808 \t0.34995302574\n",
      "XGB\tWith week\t0.326428419252 \t0.353829717661\n",
      "XGB\tWith nat_dis\t0.331873578605 \t0.35938026432\n",
      "XGB\tWith rain\t0.328974706168 \t0.356089237307\n",
      "XGB\tWith sticky\t0.329432907215 \t0.356718747315\n",
      "XGB\tWith rush_hour_casual_man-rush_hour_reg_man\t0.323757361005 \t0.35090478295\n",
      "XGB\tWith rush_hour_casual_aut-rush_hour_reg_aut\t0.328974706168 \t0.356089237307\n",
      "XGB\tWith rush_temp_casual_man-rush_temp_reg_man\t0.328526897196 \t0.355683418567\n",
      "XGB\tWith rush_temp_casual_aut-rush_temp_reg_aut\t0.328974706168 \t0.356089237307\n",
      "XGB\tWith rush_humid_casual_man-rush_humid_reg_man\t0.328290494772 \t0.355489418908\n",
      "XGB\tWith rush_humid_casual_aut-rush_humid_reg_aut\t0.328974706168 \t0.356089237307\n",
      "XGB\tWith rush_wind_casual_man-rush_wind_reg_man\t0.328974706168 \t0.356089237307\n",
      "XGB\tWith rush_wind_casual_aut-rush_wind_reg_aut\t0.328974706168 \t0.356089237307\n"
     ]
    }
   ],
   "source": [
    "#Iterate over all the to_test features\n",
    "for i in range(len(to_test_features_casual)):\n",
    "\n",
    "    #Current features for both casual and registered\n",
    "    current_casual_features = basic_features + [to_test_features_casual[i]]\n",
    "    current_reg_features = basic_features + [to_test_features_reg[i]]\n",
    "    \n",
    "    #Train and predict basic models    \n",
    "    xgb_pred_train, xgb_pred_test = predictWithModel(xgb.XGBRegressor(), train_x, train_y_c, train_y_r, val_x, \n",
    "                                        current_casual_features, current_reg_features, use_log)\n",
    "    \n",
    "    #Name of the current feature for printing\n",
    "    strCurrentFeature = to_test_features_reg[i] if to_test_features_casual[i] == to_test_features_reg[i] else to_test_features_casual[i] + '-' + to_test_features_reg[i]\n",
    "\n",
    "    # Calculate the RMSLE Score\n",
    "    scoreXgb_train = rmsle(train_y, xgb_pred_train)\n",
    "    scoreXgb_test = rmsle(val_y, xgb_pred_test)\n",
    "    print 'XGB\\t', 'With ' + strCurrentFeature + '\\t', scoreXgb_train, '\\t', scoreXgb_test\n",
    "    \n",
    "    #Predict with full data set and print the file so we check with kaggle\n",
    "    _, xgb_pred_full = predictWithModel(xgb.XGBRegressor(), df_train_full, df_train_full_y_c, df_train_full_y_r, df_test_full, \n",
    "                                        current_casual_features, current_reg_features, use_log)\n",
    "    printPrediction(xgb_pred_full, 'xgb-' + strCurrentFeature + '.csv')"
   ]
  },
  {
   "cell_type": "markdown",
   "metadata": {},
   "source": [
    "## Final Features to use"
   ]
  },
  {
   "cell_type": "code",
   "execution_count": 75,
   "metadata": {
    "collapsed": false
   },
   "outputs": [],
   "source": [
    "# FEATURES TO USE\n",
    "features_common = ['humidity', 'atemp', 'temp', 'windspeed', 'weather', 'season', 'holiday', \n",
    "                      'workingday', 'weekend', 'day', 'hour', 'nat_dis', 'sticky']\n",
    "\n",
    "features_casual = features_common + ['rush_hour_casual_man', 'rush_temp_casual_man', 'rush_humid_casual_man']\n",
    "features_registered = features_common + ['rush_hour_reg_man', 'rush_temp_reg_man', 'rush_humid_reg_man']"
   ]
  },
  {
   "cell_type": "markdown",
   "metadata": {},
   "source": [
    "# Models"
   ]
  },
  {
   "cell_type": "markdown",
   "metadata": {},
   "source": [
    "### Cross Validation Generator"
   ]
  },
  {
   "cell_type": "code",
   "execution_count": 76,
   "metadata": {
    "collapsed": true
   },
   "outputs": [],
   "source": [
    "# Cross Validation Generator\n",
    "cv = cross_validation.ShuffleSplit(len(df_train_full_x), n_iter=3, test_size=0.2,\n",
    "    random_state=0)"
   ]
  },
  {
   "cell_type": "markdown",
   "metadata": {},
   "source": [
    "## Decision Tree"
   ]
  },
  {
   "cell_type": "markdown",
   "metadata": {},
   "source": [
    "### Parameter Tunning"
   ]
  },
  {
   "cell_type": "code",
   "execution_count": 77,
   "metadata": {
    "collapsed": false
   },
   "outputs": [
    {
     "name": "stdout",
     "output_type": "stream",
     "text": [
      "Best parameters set found on development set:\n",
      "DecisionTreeRegressor(criterion='mse', max_depth=9, max_features=None,\n",
      "           max_leaf_nodes=None, min_samples_leaf=1, min_samples_split=2,\n",
      "           min_weight_fraction_leaf=0.0, presort=False, random_state=None,\n",
      "           splitter='best')\n",
      "\n",
      "Grid scores on development set:\n",
      "\n",
      "0.627 (+/-0.102) for {'max_depth': 9}\n",
      "0.627 (+/-0.091) for {'max_depth': 10}\n",
      "0.588 (+/-0.103) for {'max_depth': 11}\n",
      "0.574 (+/-0.098) for {'max_depth': 20}\n",
      "0.563 (+/-0.095) for {'max_depth': 25}\n",
      "0.578 (+/-0.093) for {'max_depth': 50}\n",
      "0.579 (+/-0.094) for {'min_samples_leaf': 1}\n",
      "0.591 (+/-0.102) for {'min_samples_leaf': 2}\n",
      "0.615 (+/-0.106) for {'min_samples_leaf': 5}\n",
      "0.617 (+/-0.111) for {'min_samples_leaf': 10}\n",
      "0.514 (+/-0.138) for {'min_samples_leaf': 50}\n",
      "0.456 (+/-0.144) for {'min_samples_leaf': 100}\n",
      "0.577 (+/-0.099) for {'min_samples_split': 1}\n",
      "0.563 (+/-0.096) for {'min_samples_split': 2}\n",
      "0.588 (+/-0.093) for {'min_samples_split': 5}\n",
      "0.606 (+/-0.107) for {'min_samples_split': 10}\n",
      "0.583 (+/-0.115) for {'min_samples_split': 50}\n",
      "0.506 (+/-0.136) for {'min_samples_split': 100}\n",
      "0.572 (+/-0.106) for {'presort': True}\n",
      "0.579 (+/-0.096) for {'presort': False}\n",
      "0.563 (+/-0.097) for {'min_weight_fraction_leaf': 0.0}\n",
      "0.572 (+/-0.101) for {'min_weight_fraction_leaf': 0.1}\n",
      "0.567 (+/-0.098) for {'min_weight_fraction_leaf': 0.3}\n",
      "0.571 (+/-0.092) for {'min_weight_fraction_leaf': 0.4}\n",
      "0.577 (+/-0.101) for {'min_weight_fraction_leaf': 0.5}\n",
      "\n"
     ]
    }
   ],
   "source": [
    "#Parameters to check\n",
    "tuned_parameters = [\n",
    "    {'max_depth':[9,10,11,20,25,50]},\n",
    "    {'min_samples_leaf':[1,2,5,10,50,100]},\n",
    "    {'min_samples_split':[1,2,5,10,50,100]},\n",
    "    {'presort':[True, False]},\n",
    "    {'min_weight_fraction_leaf':[0.0, 0.1, 0.3, 0.4, 0.5]}]   \n",
    "    \n",
    "#Parameter tunning\n",
    "parameterTunning(tree.DecisionTreeRegressor(), tuned_parameters, train_x, val_x, train_y, val_y)"
   ]
  },
  {
   "cell_type": "code",
   "execution_count": 78,
   "metadata": {
    "collapsed": true
   },
   "outputs": [],
   "source": [
    "# Best Model\n",
    "dtr = tree.DecisionTreeRegressor(criterion='mse', max_depth=None, max_features=None,\n",
    "           max_leaf_nodes=None, min_samples_leaf=10, min_samples_split=2,\n",
    "           min_weight_fraction_leaf=0.0, presort=False, random_state=None,\n",
    "           splitter='best')"
   ]
  },
  {
   "cell_type": "markdown",
   "metadata": {},
   "source": [
    "### Cross Validation"
   ]
  },
  {
   "cell_type": "code",
   "execution_count": 79,
   "metadata": {
    "collapsed": false
   },
   "outputs": [
    {
     "name": "stdout",
     "output_type": "stream",
     "text": [
      "Train RMSLE: 0.275, Validation RMSLE: 0.357\n",
      "\n",
      "Train RMSLE: 0.278, Validation RMSLE: 0.347\n",
      "\n",
      "Train RMSLE: 0.278, Validation RMSLE: 0.358\n",
      "\n"
     ]
    }
   ],
   "source": [
    "# Cross Validation\n",
    "crossValidationForModel(dtr, df_train_full_x, df_train_full_y_c, df_train_full_y_r,\n",
    "                        features_casual, features_registered, use_log, cv)"
   ]
  },
  {
   "cell_type": "markdown",
   "metadata": {},
   "source": [
    "### Predicting and Exporting File"
   ]
  },
  {
   "cell_type": "code",
   "execution_count": 80,
   "metadata": {
    "collapsed": false
   },
   "outputs": [],
   "source": [
    "# Predicting & Exporting File\n",
    "_, dtr_pred = predictWithModel(dtr, df_train_full_x, df_train_full_y_c, df_train_full_y_r, df_test_full, \n",
    "                            features_casual, features_registered, use_log)\n",
    "\n",
    "printPrediction(dtr_pred)"
   ]
  },
  {
   "cell_type": "markdown",
   "metadata": {},
   "source": [
    "## Random Forest"
   ]
  },
  {
   "cell_type": "markdown",
   "metadata": {},
   "source": [
    "### Parameter Tunning"
   ]
  },
  {
   "cell_type": "code",
   "execution_count": 85,
   "metadata": {
    "collapsed": false
   },
   "outputs": [
    {
     "name": "stdout",
     "output_type": "stream",
     "text": [
      "Best parameters set found on development set:\n",
      "RandomForestRegressor(bootstrap=True, criterion='mse', max_depth=None,\n",
      "           max_features='auto', max_leaf_nodes=None, min_samples_leaf=1,\n",
      "           min_samples_split=1, min_weight_fraction_leaf=0.0,\n",
      "           n_estimators=10, n_jobs=1, oob_score=False, random_state=None,\n",
      "           verbose=0, warm_start=False)\n",
      "\n",
      "Grid scores on development set:\n",
      "\n",
      "0.672 (+/-0.108) for {'max_depth': 50}\n",
      "0.675 (+/-0.110) for {'max_depth': 100}\n",
      "0.679 (+/-0.111) for {'max_depth': 500}\n",
      "0.668 (+/-0.110) for {'max_depth': 1000}\n",
      "0.701 (+/-0.104) for {'n_estimators': 1000}\n",
      "0.699 (+/-0.105) for {'n_estimators': 5000}\n",
      "0.676 (+/-0.118) for {'min_samples_leaf': 1}\n",
      "0.673 (+/-0.113) for {'min_samples_leaf': 2}\n",
      "0.673 (+/-0.108) for {'min_samples_leaf': 5}\n",
      "0.658 (+/-0.111) for {'min_samples_leaf': 10}\n",
      "0.536 (+/-0.128) for {'min_samples_leaf': 50}\n",
      "0.480 (+/-0.118) for {'min_samples_leaf': 100}\n",
      "0.702 (+/-0.099) for {'min_samples_split': 1}\n",
      "0.683 (+/-0.104) for {'min_samples_split': 2}\n",
      "0.692 (+/-0.096) for {'min_samples_split': 5}\n",
      "0.682 (+/-0.103) for {'min_samples_split': 10}\n",
      "0.627 (+/-0.109) for {'min_samples_split': 50}\n",
      "0.565 (+/-0.124) for {'min_samples_split': 100}\n",
      "0.674 (+/-0.115) for {'min_weight_fraction_leaf': 0.0}\n",
      "0.136 (+/-0.231) for {'min_weight_fraction_leaf': 0.1}\n",
      "-0.005 (+/-0.190) for {'min_weight_fraction_leaf': 0.3}\n",
      "-0.151 (+/-0.344) for {'min_weight_fraction_leaf': 0.4}\n",
      "-0.373 (+/-0.245) for {'min_weight_fraction_leaf': 0.5}\n",
      "\n"
     ]
    }
   ],
   "source": [
    "#Parameters to check\n",
    "tuned_parameters = [\n",
    "    {'max_depth':[50,100, 500, 1000]}, #Best: 1000\n",
    "    {'n_estimators':[1000, 5000]}, #We assume is 1000\n",
    "    {'min_samples_leaf':[1,2,5,10,50,100]}, #2\n",
    "    {'min_samples_split':[1,2,5,10,50,100]}, #10\n",
    "    {'min_weight_fraction_leaf':[0.0, 0.1, 0.3, 0.4, 0.5]}] #0.0    \n",
    "    \n",
    "#Parameter tunning\n",
    "parameterTunning(RandomForestRegressor(), tuned_parameters, train_x, val_x, train_y, val_y)"
   ]
  },
  {
   "cell_type": "code",
   "execution_count": 86,
   "metadata": {
    "collapsed": false
   },
   "outputs": [],
   "source": [
    "#Optimized model\n",
    "rfr = RandomForestRegressor(bootstrap=True, criterion='mse', max_depth=1000,\n",
    "           max_features='auto', max_leaf_nodes=None, min_samples_leaf=2,\n",
    "           min_samples_split=10, min_weight_fraction_leaf=0.0,\n",
    "           n_estimators=1000, n_jobs=1, oob_score=False, random_state=0,\n",
    "           verbose=0, warm_start=False)"
   ]
  },
  {
   "cell_type": "markdown",
   "metadata": {},
   "source": [
    "### Cross Validation"
   ]
  },
  {
   "cell_type": "code",
   "execution_count": 87,
   "metadata": {
    "collapsed": false
   },
   "outputs": [
    {
     "name": "stdout",
     "output_type": "stream",
     "text": [
      "Train RMSLE: 0.208, Validation RMSLE: 0.314\n",
      "\n",
      "Train RMSLE: 0.208, Validation RMSLE: 0.307\n",
      "\n",
      "Train RMSLE: 0.209, Validation RMSLE: 0.308\n",
      "\n"
     ]
    }
   ],
   "source": [
    "# Cross Validation\n",
    "crossValidationForModel(rfr, df_train_full_x, df_train_full_y_c, df_train_full_y_r,\n",
    "                        features_casual, features_registered, use_log, cv)"
   ]
  },
  {
   "cell_type": "markdown",
   "metadata": {},
   "source": [
    "### Predicting and Exporting File"
   ]
  },
  {
   "cell_type": "code",
   "execution_count": 88,
   "metadata": {
    "collapsed": false
   },
   "outputs": [],
   "source": [
    "# Predicting Year by Year\n",
    "_, rfr_pred = predictWithModel(rfr, df_train_full_x, df_train_full_y_c, df_train_full_y_r, df_test_full, \n",
    "                            features_casual, features_registered, use_log)\n",
    "printPrediction(rfr_pred)"
   ]
  },
  {
   "cell_type": "markdown",
   "metadata": {},
   "source": [
    "## XGBoost Regressor"
   ]
  },
  {
   "cell_type": "markdown",
   "metadata": {},
   "source": [
    "### Parameter Tunning"
   ]
  },
  {
   "cell_type": "code",
   "execution_count": 89,
   "metadata": {
    "collapsed": false
   },
   "outputs": [
    {
     "name": "stdout",
     "output_type": "stream",
     "text": [
      "Best parameters set found on development set:\n",
      "XGBRegressor(base_score=0.5, colsample_bylevel=1, colsample_bytree=1, gamma=0,\n",
      "       learning_rate=0.1, max_delta_step=0, max_depth=3,\n",
      "       min_child_weight=1, missing=None, n_estimators=1000, nthread=-1,\n",
      "       objective='reg:linear', reg_alpha=0, reg_lambda=1,\n",
      "       scale_pos_weight=1, seed=0, silent=True, subsample=1)\n",
      "\n",
      "Grid scores on development set:\n",
      "\n",
      "0.637 (+/-0.110) for {'max_depth': 2}\n",
      "0.741 (+/-0.113) for {'max_depth': 5}\n",
      "0.753 (+/-0.087) for {'max_depth': 10}\n",
      "0.753 (+/-0.077) for {'max_depth': 100}\n",
      "0.753 (+/-0.077) for {'max_depth': 1000}\n",
      "0.606 (+/-0.124) for {'n_estimators': 50}\n",
      "0.676 (+/-0.113) for {'n_estimators': 100}\n",
      "0.751 (+/-0.094) for {'n_estimators': 500}\n",
      "0.773 (+/-0.087) for {'n_estimators': 1000}\n",
      "0.744 (+/-0.108) for {'n_estimators': 5000}\n",
      "0.724 (+/-0.113) for {'n_estimators': 10000}\n",
      "0.707 (+/-0.109) for {'learning_rate': 0.15}\n",
      "0.723 (+/-0.100) for {'learning_rate': 0.18}\n",
      "0.733 (+/-0.092) for {'learning_rate': 0.2}\n",
      "0.745 (+/-0.089) for {'learning_rate': 0.29}\n",
      "0.767 (+/-0.076) for {'learning_rate': 0.3}\n",
      "\n"
     ]
    }
   ],
   "source": [
    "# Parameters to check\n",
    "tuned_parameters = [\n",
    "    {'max_depth': [2,5,10,100,1000]}, # best 100\n",
    "    {'n_estimators': [50,100,500,1000,5000,10000]}, # best 5000\n",
    "    {'learning_rate': [0.15, 0.18, 0.2, 0.29, 0.3]}]  #best 0.2\n",
    "    \n",
    "    \n",
    "#Parameter tunning\n",
    "parameterTunning(xgb.XGBRegressor(), tuned_parameters, train_x, val_x, train_y, val_y)"
   ]
  },
  {
   "cell_type": "code",
   "execution_count": 90,
   "metadata": {
    "collapsed": false
   },
   "outputs": [],
   "source": [
    "#Optimized model\n",
    "xgbr = XGBRegressor(base_score=0.5, colsample_bylevel=1, colsample_bytree=1, gamma=0,\n",
    "       learning_rate=0.2, max_delta_step=0, max_depth=1000,\n",
    "       min_child_weight=1, missing=None, n_estimators=1000, nthread=-1,\n",
    "       objective='reg:linear', reg_alpha=0, reg_lambda=1,\n",
    "       scale_pos_weight=1, seed=0, silent=True, subsample=1)"
   ]
  },
  {
   "cell_type": "markdown",
   "metadata": {},
   "source": [
    "### Cross Validation"
   ]
  },
  {
   "cell_type": "code",
   "execution_count": 91,
   "metadata": {
    "collapsed": false
   },
   "outputs": [
    {
     "name": "stdout",
     "output_type": "stream",
     "text": [
      "Train RMSLE: 0.015, Validation RMSLE: 0.316\n",
      "\n",
      "Train RMSLE: 0.011, Validation RMSLE: 0.305\n",
      "\n",
      "Train RMSLE: 0.006, Validation RMSLE: 0.307\n",
      "\n"
     ]
    }
   ],
   "source": [
    "# Cross Validation\n",
    "crossValidationForModel(xgbr, df_train_full_x, df_train_full_y_c, df_train_full_y_r, \n",
    "                        features_casual, features_registered, use_log, cv)"
   ]
  },
  {
   "cell_type": "markdown",
   "metadata": {},
   "source": [
    "### Predicting and Exporting File"
   ]
  },
  {
   "cell_type": "code",
   "execution_count": 92,
   "metadata": {
    "collapsed": false
   },
   "outputs": [],
   "source": [
    "# Predicting Year by Year\n",
    "_, xgbr_pred = predictWithModel(xgbr, df_train_full_x, df_train_full_y_c, df_train_full_y_r, df_test_full, \n",
    "                            features_casual, features_registered, use_log)\n",
    "printPrediction(xgbr_pred)"
   ]
  },
  {
   "cell_type": "markdown",
   "metadata": {
    "collapsed": true
   },
   "source": [
    "## Merging models"
   ]
  },
  {
   "cell_type": "code",
   "execution_count": 93,
   "metadata": {
    "collapsed": false
   },
   "outputs": [],
   "source": [
    "rfr_xgbr_merged_pred = 0.8 * rfr_pred + 0.2 * xgbr_pred\n",
    "printPrediction(rfr_xgbr_merged_pred)"
   ]
  },
  {
   "cell_type": "markdown",
   "metadata": {
    "collapsed": true
   },
   "source": [
    "# Quick Run"
   ]
  },
  {
   "cell_type": "code",
   "execution_count": 94,
   "metadata": {
    "collapsed": false
   },
   "outputs": [],
   "source": [
    "features_common = ['humidity', 'atemp', 'temp', 'windspeed', 'weather', 'season', 'holiday', \n",
    "                  'workingday', 'weekend', 'day', 'hour', 'nat_dis', 'sticky']\n",
    "\n",
    "features_casual = features_common + ['rush_hour_casual_man', 'rush_temp_casual_man', 'rush_humid_casual_man']\n",
    "features_registered = features_common + ['rush_hour_reg_man', 'rush_temp_reg_man', 'rush_humid_reg_man']"
   ]
  },
  {
   "cell_type": "code",
   "execution_count": 95,
   "metadata": {
    "collapsed": false
   },
   "outputs": [],
   "source": [
    "_, rfr_pred = predictWithModel(rfr, df_train_full_x, df_train_full_y_c, df_train_full_y_r, df_test_full, \n",
    "                            features_casual, features_registered, use_log)\n",
    "_, xgbr_pred = predictWithModel(xgbr, df_train_full_x, df_train_full_y_c, df_train_full_y_r, df_test_full, \n",
    "                            features_casual, features_registered, use_log)"
   ]
  },
  {
   "cell_type": "code",
   "execution_count": 96,
   "metadata": {
    "collapsed": true
   },
   "outputs": [],
   "source": [
    "for per_xgb in np.arange(0.05, 1, 0.05):\n",
    "    per_rfr = 1 - per_xgb\n",
    "    rfr_xgbr_merged_pred = per_rfr * rfr_pred + per_xgb * xgbr_pred\n",
    "    fileName = 'merged_{}_{}.csv'.format(per_rfr, per_xgb)\n",
    "    printPrediction(rfr_xgbr_merged_pred, fileName)"
   ]
  }
 ],
 "metadata": {
  "anaconda-cloud": {},
  "kernelspec": {
   "display_name": "Python [default]",
   "language": "python",
   "name": "python2"
  },
  "language_info": {
   "codemirror_mode": {
    "name": "ipython",
    "version": 2
   },
   "file_extension": ".py",
   "mimetype": "text/x-python",
   "name": "python",
   "nbconvert_exporter": "python",
   "pygments_lexer": "ipython2",
   "version": "2.7.12"
  }
 },
 "nbformat": 4,
 "nbformat_minor": 0
}
