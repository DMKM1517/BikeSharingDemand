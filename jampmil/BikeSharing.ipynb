{
 "cells": [
  {
   "cell_type": "code",
   "execution_count": null,
   "metadata": {
    "collapsed": true
   },
   "outputs": [],
   "source": [
    "# Imports"
   ]
  },
  {
   "cell_type": "code",
   "execution_count": 1,
   "metadata": {
    "collapsed": false
   },
   "outputs": [],
   "source": [
    "import numpy as np\n",
    "import pandas as pd\n",
    "import matplotlib.pyplot as plt\n",
    "import statsmodels.api as sm\n",
    "import seaborn as sns\n",
    "%matplotlib inline"
   ]
  },
  {
   "cell_type": "code",
   "execution_count": 2,
   "metadata": {
    "collapsed": false
   },
   "outputs": [],
   "source": [
    "from sklearn import linear_model\n",
    "from sklearn import cross_validation\n",
    "from sklearn import svm\n",
    "from sklearn import tree\n",
    "import xgboost as xgb\n",
    "from xgboost.sklearn import XGBRegressor\n",
    "from sklearn.ensemble import RandomForestRegressor\n",
    "from sklearn.learning_curve import learning_curve\n",
    "from sklearn.grid_search import GridSearchCV\n",
    "from sklearn.metrics import explained_variance_score"
   ]
  },
  {
   "cell_type": "markdown",
   "metadata": {},
   "source": [
    "# Importing and Creating Training & Testing Sets\n"
   ]
  },
  {
   "cell_type": "code",
   "execution_count": 3,
   "metadata": {
    "collapsed": false
   },
   "outputs": [
    {
     "name": "stdout",
     "output_type": "stream",
     "text": [
      "(10886, 13)\n"
     ]
    }
   ],
   "source": [
    "original_train = pd.read_csv('../train.csv',header = 0)\n",
    "original_train['dataset'] = 'train'\n",
    "print original_train.shape"
   ]
  },
  {
   "cell_type": "code",
   "execution_count": 4,
   "metadata": {
    "collapsed": false
   },
   "outputs": [
    {
     "name": "stdout",
     "output_type": "stream",
     "text": [
      "(6493, 10)\n"
     ]
    }
   ],
   "source": [
    "original_test = pd.read_csv('../test.csv',header = 0)\n",
    "original_test['dataset'] = 'test'\n",
    "print original_test.shape"
   ]
  },
  {
   "cell_type": "code",
   "execution_count": 5,
   "metadata": {
    "collapsed": false
   },
   "outputs": [],
   "source": [
    "df_complete =  original_train.copy().append(original_test.copy())\n",
    "#df_complete = df_complete.drop(['casual','registered'], axis = 1)\n",
    "df_complete = df_complete.drop(['count'], axis = 1)"
   ]
  },
  {
   "cell_type": "code",
   "execution_count": 6,
   "metadata": {
    "collapsed": true
   },
   "outputs": [],
   "source": [
    "#add the natural dissater feature\n",
    "df_complete['nat_dis'] = 0\n"
   ]
  },
  {
   "cell_type": "code",
   "execution_count": 7,
   "metadata": {
    "collapsed": false
   },
   "outputs": [],
   "source": [
    "# Make the datetime the index\n",
    "df_complete['datetime'] = pd.to_datetime(df_complete['datetime'])\n",
    "\n",
    "df_complete.index = df_complete['datetime']\n",
    "del df_complete['datetime']\n"
   ]
  },
  {
   "cell_type": "code",
   "execution_count": 8,
   "metadata": {
    "collapsed": false
   },
   "outputs": [],
   "source": [
    "# Make sure we have all the complete values of the series\n",
    "idx = pd.date_range('2011-01-01 00:00:00', '2012-12-31 23:00:00', freq='H')\n",
    "df_complete = df_complete.reindex(idx)"
   ]
  },
  {
   "cell_type": "code",
   "execution_count": 9,
   "metadata": {
    "collapsed": false
   },
   "outputs": [
    {
     "data": {
      "text/plain": [
       "(165, 12)"
      ]
     },
     "execution_count": 9,
     "metadata": {},
     "output_type": "execute_result"
    }
   ],
   "source": [
    "# Missing entries? let's try to interpolate to get that info\n",
    "missing = df_complete[pd.isnull(df_complete['atemp'])]\n",
    "missing.shape"
   ]
  },
  {
   "cell_type": "code",
   "execution_count": 10,
   "metadata": {
    "collapsed": false
   },
   "outputs": [],
   "source": [
    "df_complete[\"weather\"] = df_complete[\"weather\"].interpolate(method='time').apply(np.round)\n",
    "df_complete[\"temp\"] = df_complete[\"temp\"].interpolate(method='time')\n",
    "df_complete[\"atemp\"] = df_complete[\"atemp\"].interpolate(method='time')\n",
    "df_complete[\"humidity\"] = df_complete[\"humidity\"].interpolate(method='time').apply(np.round)\n",
    "df_complete[\"windspeed\"] = df_complete[\"windspeed\"].interpolate(method='time')\n",
    "df_complete[\"season\"] = df_complete[\"season\"].interpolate(method='time').apply(np.round)\n",
    "df_complete[\"workingday\"] = df_complete[\"workingday\"].interpolate(method='time').apply(np.round)\n",
    "df_complete[\"holiday\"] = df_complete[\"holiday\"].interpolate(method='time').apply(np.round)\n",
    "#df_complete[\"nat_dis\"] = df_complete[\"season\"].interpolate(method='time').apply(np.round)\n",
    "#df_complete[\"count\"] = df_complete[\"count\"].interpolate(method='time').apply(np.round)\n",
    "\n",
    "#df_complete.loc[missing.index, \"dataset\"] = 'train'\n",
    "#df_complete.loc[df_complete['dataset']=='test', 'count'] = float('NaN')"
   ]
  },
  {
   "cell_type": "code",
   "execution_count": 11,
   "metadata": {
    "collapsed": false
   },
   "outputs": [
    {
     "data": {
      "text/plain": [
       "(0, 12)"
      ]
     },
     "execution_count": 11,
     "metadata": {},
     "output_type": "execute_result"
    }
   ],
   "source": [
    "missing2 = df_complete[pd.isnull(df_complete['atemp'])]\n",
    "missing2.shape"
   ]
  },
  {
   "cell_type": "code",
   "execution_count": 12,
   "metadata": {
    "collapsed": false
   },
   "outputs": [
    {
     "data": {
      "text/html": [
       "<div>\n",
       "<table border=\"1\" class=\"dataframe\">\n",
       "  <thead>\n",
       "    <tr style=\"text-align: right;\">\n",
       "      <th></th>\n",
       "      <th>atemp</th>\n",
       "      <th>casual</th>\n",
       "      <th>dataset</th>\n",
       "      <th>holiday</th>\n",
       "      <th>humidity</th>\n",
       "      <th>registered</th>\n",
       "      <th>season</th>\n",
       "      <th>temp</th>\n",
       "      <th>weather</th>\n",
       "      <th>windspeed</th>\n",
       "      <th>workingday</th>\n",
       "      <th>nat_dis</th>\n",
       "    </tr>\n",
       "  </thead>\n",
       "  <tbody>\n",
       "    <tr>\n",
       "      <th>2011-01-02 05:00:00</th>\n",
       "      <td>21.9675</td>\n",
       "      <td>NaN</td>\n",
       "      <td>NaN</td>\n",
       "      <td>0.0</td>\n",
       "      <td>86.0</td>\n",
       "      <td>NaN</td>\n",
       "      <td>1.0</td>\n",
       "      <td>18.040000</td>\n",
       "      <td>2.0</td>\n",
       "      <td>16.498750</td>\n",
       "      <td>0.0</td>\n",
       "      <td>NaN</td>\n",
       "    </tr>\n",
       "    <tr>\n",
       "      <th>2011-01-03 02:00:00</th>\n",
       "      <td>7.8300</td>\n",
       "      <td>NaN</td>\n",
       "      <td>NaN</td>\n",
       "      <td>0.0</td>\n",
       "      <td>45.0</td>\n",
       "      <td>NaN</td>\n",
       "      <td>1.0</td>\n",
       "      <td>7.653333</td>\n",
       "      <td>1.0</td>\n",
       "      <td>27.333767</td>\n",
       "      <td>1.0</td>\n",
       "      <td>NaN</td>\n",
       "    </tr>\n",
       "    <tr>\n",
       "      <th>2011-01-03 03:00:00</th>\n",
       "      <td>7.3250</td>\n",
       "      <td>NaN</td>\n",
       "      <td>NaN</td>\n",
       "      <td>0.0</td>\n",
       "      <td>46.0</td>\n",
       "      <td>NaN</td>\n",
       "      <td>1.0</td>\n",
       "      <td>7.106667</td>\n",
       "      <td>1.0</td>\n",
       "      <td>26.668233</td>\n",
       "      <td>1.0</td>\n",
       "      <td>NaN</td>\n",
       "    </tr>\n",
       "    <tr>\n",
       "      <th>2011-01-04 03:00:00</th>\n",
       "      <td>8.3325</td>\n",
       "      <td>NaN</td>\n",
       "      <td>NaN</td>\n",
       "      <td>0.0</td>\n",
       "      <td>63.0</td>\n",
       "      <td>NaN</td>\n",
       "      <td>1.0</td>\n",
       "      <td>5.740000</td>\n",
       "      <td>1.0</td>\n",
       "      <td>7.500650</td>\n",
       "      <td>1.0</td>\n",
       "      <td>NaN</td>\n",
       "    </tr>\n",
       "    <tr>\n",
       "      <th>2011-01-05 03:00:00</th>\n",
       "      <td>10.6075</td>\n",
       "      <td>NaN</td>\n",
       "      <td>NaN</td>\n",
       "      <td>0.0</td>\n",
       "      <td>61.0</td>\n",
       "      <td>NaN</td>\n",
       "      <td>1.0</td>\n",
       "      <td>8.200000</td>\n",
       "      <td>1.0</td>\n",
       "      <td>10.502250</td>\n",
       "      <td>1.0</td>\n",
       "      <td>NaN</td>\n",
       "    </tr>\n",
       "  </tbody>\n",
       "</table>\n",
       "</div>"
      ],
      "text/plain": [
       "                       atemp  casual dataset  holiday  humidity  registered  \\\n",
       "2011-01-02 05:00:00  21.9675     NaN     NaN      0.0      86.0         NaN   \n",
       "2011-01-03 02:00:00   7.8300     NaN     NaN      0.0      45.0         NaN   \n",
       "2011-01-03 03:00:00   7.3250     NaN     NaN      0.0      46.0         NaN   \n",
       "2011-01-04 03:00:00   8.3325     NaN     NaN      0.0      63.0         NaN   \n",
       "2011-01-05 03:00:00  10.6075     NaN     NaN      0.0      61.0         NaN   \n",
       "\n",
       "                     season       temp  weather  windspeed  workingday  \\\n",
       "2011-01-02 05:00:00     1.0  18.040000      2.0  16.498750         0.0   \n",
       "2011-01-03 02:00:00     1.0   7.653333      1.0  27.333767         1.0   \n",
       "2011-01-03 03:00:00     1.0   7.106667      1.0  26.668233         1.0   \n",
       "2011-01-04 03:00:00     1.0   5.740000      1.0   7.500650         1.0   \n",
       "2011-01-05 03:00:00     1.0   8.200000      1.0  10.502250         1.0   \n",
       "\n",
       "                     nat_dis  \n",
       "2011-01-02 05:00:00      NaN  \n",
       "2011-01-03 02:00:00      NaN  \n",
       "2011-01-03 03:00:00      NaN  \n",
       "2011-01-04 03:00:00      NaN  \n",
       "2011-01-05 03:00:00      NaN  "
      ]
     },
     "execution_count": 12,
     "metadata": {},
     "output_type": "execute_result"
    }
   ],
   "source": [
    "df_complete.loc[missing.index].head()"
   ]
  },
  {
   "cell_type": "code",
   "execution_count": 13,
   "metadata": {
    "collapsed": true
   },
   "outputs": [],
   "source": [
    "df_complete['month'] = df_complete.index.month\n",
    "#df_complete['dayOfMonth'] = df_complete.index.day\n",
    "df_complete['day'] = df_complete.index.dayofweek\n",
    "df_complete['week'] = df_complete.index.week\n",
    "df_complete['hour'] = df_complete.index.hour\n",
    "df_complete['year'] = df_complete.index.year\n"
   ]
  },
  {
   "cell_type": "code",
   "execution_count": 14,
   "metadata": {
    "collapsed": false
   },
   "outputs": [],
   "source": [
    "df_complete['weekend'] = ((df_complete.index.dayofweek == 5) | (df_complete.index.dayofweek == 6)).astype(int)\n"
   ]
  },
  {
   "cell_type": "markdown",
   "metadata": {},
   "source": [
    "# Initial Data View"
   ]
  },
  {
   "cell_type": "code",
   "execution_count": null,
   "metadata": {
    "collapsed": false
   },
   "outputs": [],
   "source": [
    "df_complete[df_complete['dataset']=='test'].head(2)"
   ]
  },
  {
   "cell_type": "code",
   "execution_count": null,
   "metadata": {
    "collapsed": false
   },
   "outputs": [],
   "source": [
    "df_complete.describe()"
   ]
  },
  {
   "cell_type": "code",
   "execution_count": null,
   "metadata": {
    "collapsed": false
   },
   "outputs": [],
   "source": [
    "df_complete.dtypes"
   ]
  },
  {
   "cell_type": "code",
   "execution_count": null,
   "metadata": {
    "collapsed": false
   },
   "outputs": [],
   "source": [
    "df_complete.shape"
   ]
  },
  {
   "cell_type": "markdown",
   "metadata": {},
   "source": [
    "# Utils"
   ]
  },
  {
   "cell_type": "code",
   "execution_count": 15,
   "metadata": {
    "collapsed": false
   },
   "outputs": [],
   "source": [
    "# Function that prints the prediction according the submission format\n",
    "def printPrediction(pred, fileName='pred.csv'):\n",
    "    str_prediction = \"datetime,count\\n\"\n",
    "    for i in range(0, len(pred)):\n",
    "        datetime = original_test['datetime'][i]\n",
    "        currentPred = int(round(pred[i]))\n",
    "        str_prediction += \"{},{}\\n\".format(datetime, currentPred)\n",
    "\n",
    "    #print str_prediction\n",
    "    f = open(fileName,'w')\n",
    "    f.write(str_prediction)\n",
    "    f.close()"
   ]
  },
  {
   "cell_type": "code",
   "execution_count": 16,
   "metadata": {
    "collapsed": true
   },
   "outputs": [],
   "source": [
    "# Function that gets the range of an specific day\n",
    "def get_day_range(day):\n",
    "    day_end = day + pd.offsets.DateOffset(hours=23)\n",
    "    return pd.date_range(day, day_end, freq=\"H\")"
   ]
  },
  {
   "cell_type": "code",
   "execution_count": 17,
   "metadata": {
    "collapsed": false
   },
   "outputs": [],
   "source": [
    "def predictWithModel(model, train_x, train_y_c, train_y_r, test_x):\n",
    "    pred_c = []\n",
    "    pred_r = []\n",
    "\n",
    "    years = [2011, 2012]\n",
    "    for y in years:\n",
    "        print 'Predicting: {}'.format(y)\n",
    "        train_mask = (train_x['year'] == y)\n",
    "        train_mask = train_mask.values\n",
    "\n",
    "        test_mask = (test_x['year'] == y)\n",
    "        test_mask = test_mask.values\n",
    "\n",
    "\n",
    "        model.fit(train_x[train_mask][features_casual], train_y_c[train_mask])\n",
    "        pred_c_current = np.array(model.predict(test_x[test_mask][features_casual]))\n",
    "        pred_c = np.concatenate((pred_c, pred_c_current), axis = 0)\n",
    "\n",
    "        model.fit(train_x[train_mask][features_registered], train_y_r[train_mask])\n",
    "        pred_r_current = np.array(model.predict(test_x[test_mask][features_registered]))\n",
    "        pred_r = np.concatenate((pred_r, pred_r_current), axis = 0)\n",
    "\n",
    "\n",
    "    return pred_c + pred_r\n",
    "    "
   ]
  },
  {
   "cell_type": "markdown",
   "metadata": {},
   "source": [
    "# Adding new Features"
   ]
  },
  {
   "cell_type": "code",
   "execution_count": 41,
   "metadata": {
    "collapsed": false
   },
   "outputs": [
    {
     "data": {
      "image/png": "[encoded data removed]",
      "text/plain": [
       "<matplotlib.figure.Figure at 0xe5d05c0>"
      ]
     },
     "metadata": {},
     "output_type": "display_data"
    }
   ],
   "source": [
    "# rentals by hour, split by working day (or not)\n",
    "by_hour = df_complete[df_complete['dataset'] == 'train'].copy().groupby(['hour', 'workingday'])['casual'].agg('sum').unstack()\n",
    "\n",
    "by_hour.plot(kind='bar', figsize=(8,4), width=0.8);"
   ]
  },
  {
   "cell_type": "code",
   "execution_count": 42,
   "metadata": {
    "collapsed": false
   },
   "outputs": [
    {
     "data": {
      "image/png": "[encoded data removed]",
      "text/plain": [
       "<matplotlib.figure.Figure at 0xe5b5f28>"
      ]
     },
     "metadata": {},
     "output_type": "display_data"
    }
   ],
   "source": [
    "# rentals by hour, split by working day (or not)\n",
    "by_hour = df_complete[df_complete['dataset'] == 'train'].copy().groupby(['hour', 'workingday'])['registered'].agg('sum').unstack()\n",
    "\n",
    "by_hour.plot(kind='bar', figsize=(8,4), width=0.8);"
   ]
  },
  {
   "cell_type": "code",
   "execution_count": 75,
   "metadata": {
    "collapsed": false
   },
   "outputs": [],
   "source": [
    "## Add Rush Hours according to histograms\n",
    "df_complete['casual_rush'] = df_complete[['hour', 'workingday']].apply(\n",
    "    lambda x: (0, 1)[\n",
    "        (x['workingday'] == 1 and  7 <= x['hour'] <= 23)\n",
    "        or (x['workingday'] == 0 and  10 <= x['hour'] <= 19)], axis = 1)\n",
    "\n",
    "df_complete['registered_rush'] = df_complete[['hour', 'workingday']].apply(\n",
    "    lambda x: (0, 1)[\n",
    "        (x['workingday'] == 1 and  (6 <= x['hour'] <= 9 or 16 <= x['hour'] <= 23))\n",
    "        or (x['workingday'] == 0 and  8 <= x['hour'] <= 23)], axis = 1)"
   ]
  },
  {
   "cell_type": "code",
   "execution_count": 19,
   "metadata": {
    "collapsed": false
   },
   "outputs": [],
   "source": [
    "## Add feature that indicates if it's raining or not\n",
    "df_complete['rain'] = ((df_complete['weather'] == 3) | (df_complete['weather'] == 4)).astype(int)\n",
    "#del df_complete['weather']"
   ]
  },
  {
   "cell_type": "code",
   "execution_count": 20,
   "metadata": {
    "collapsed": false
   },
   "outputs": [],
   "source": [
    "## add quarters by year\n",
    "df_complete['year_quarter'] = 1\n",
    "\n",
    "df_complete.loc[(df_complete.index.year == 2011)\n",
    "                & (1 <= df_complete.index.month)\n",
    "                & (df_complete.index.month <= 3),\n",
    "                'year_quarter'] = 1\n",
    "df_complete.loc[(df_complete.index.year == 2011) \n",
    "                & (4 <= df_complete.index.month) \n",
    "                & (df_complete.index.month <= 6)\n",
    "                , 'year_quarter'] = 2\n",
    "df_complete.loc[(df_complete.index.year == 2011)\n",
    "                & (7 <= df_complete.index.month) \n",
    "                & (df_complete.index.month <= 9)\n",
    "                , 'year_quarter'] = 3\n",
    "df_complete.loc[(df_complete.index.year == 2011)\n",
    "                & (10 <= df_complete.index.month) \n",
    "                & (df_complete.index.month <= 12)\n",
    "                , 'year_quarter'] = 4\n",
    "df_complete.loc[(df_complete.index.year == 2012)\n",
    "                & (1 <= df_complete.index.month) \n",
    "                & (df_complete.index.month <= 3)\n",
    "                , 'year_quarter'] = 5\n",
    "df_complete.loc[(df_complete.index.year == 2012)\n",
    "                & (4 <= df_complete.index.month) \n",
    "                & (df_complete.index.month <= 6)\n",
    "                , 'year_quarter'] = 6\n",
    "df_complete.loc[(df_complete.index.year == 2012)\n",
    "                & (7 <= df_complete.index.month) \n",
    "                & (df_complete.index.month <= 9)\n",
    "                , 'year_quarter'] = 7\n",
    "df_complete.loc[(df_complete.index.year == 2012)\n",
    "                & (10 <= df_complete.index.month) \n",
    "                & (df_complete.index.month <= 12)\n",
    "                , 'year_quarter'] = 8\n"
   ]
  },
  {
   "cell_type": "markdown",
   "metadata": {},
   "source": [
    "##Make bins for the continous variables\n",
    "df_complete['b_temp'] = pd.cut(df_complete['temp'], 5, labels=False)\n",
    "df_complete['b_atemp'] = pd.cut(df_complete['atemp'], 5, labels=False)\n",
    "df_complete['b_humidity'] = pd.cut(df_complete['humidity'], 5, labels=False)\n",
    "df_complete['b_windspeed'] = pd.cut(df_complete['windspeed'], 5, labels=False)"
   ]
  },
  {
   "cell_type": "code",
   "execution_count": null,
   "metadata": {
    "collapsed": false
   },
   "outputs": [],
   "source": [
    "df_complete.head(n=2)"
   ]
  },
  {
   "cell_type": "code",
   "execution_count": 21,
   "metadata": {
    "collapsed": false
   },
   "outputs": [
    {
     "data": {
      "image/png": "[encoded data removed]",
      "text/plain": [
       "<matplotlib.figure.Figure at 0xe3de898>"
      ]
     },
     "metadata": {},
     "output_type": "display_data"
    }
   ],
   "source": [
    "\n",
    "# rentals by hour, split by working day (or not)\n",
    "by_hour = df_complete[(df_complete['dataset'] == 'train')\n",
    "                      &(df_complete['workingday'] == 1)\n",
    "                      & (df_complete['season'] == 2)].copy()#.groupby(['hour', 'workingday'])['registered'].agg('sum').unstack()\n",
    "by_hour = by_hour[['hour', 'registered', 'humidity']]\n",
    "#by_hour.columns = ['hour', 'no', 'yes']\n",
    "by_hour.head(n=200)\n",
    "by_hour.plot(kind='scatter', x='hour', y='registered', c='humidity', cmap='hot', figsize=(8,8));\n"
   ]
  },
  {
   "cell_type": "code",
   "execution_count": null,
   "metadata": {
    "collapsed": true
   },
   "outputs": [],
   "source": [
    "#df_complete['ideal'] = df_complete[['temp', 'windspeed']].apply(lambda x: (0, 1)[x['temp'] > 27 and x['windspeed'] < 30], axis = 1)\n",
    "#df_complete['sticky'] = df_complete[['humidity', 'workingday']].apply(lambda x: (0, 1)[x['workingday'] == 1 and x['humidity'] >= 60], axis = 1)"
   ]
  },
  {
   "cell_type": "code",
   "execution_count": 22,
   "metadata": {
    "collapsed": false
   },
   "outputs": [],
   "source": [
    "## Adding some missed \"holydays\"\n",
    "\n",
    "# tax day\n",
    "df_complete.loc[get_day_range(pd.datetime(2011, 4, 15)), \"workingday\"] = 1\n",
    "df_complete.loc[get_day_range(pd.datetime(2012, 4, 16)), \"workingday\"] = 1\n",
    "\n",
    "# thanksgiving friday\n",
    "df_complete.loc[get_day_range(pd.datetime(2011, 11, 25)), \"workingday\"] = 0\n",
    "df_complete.loc[get_day_range(pd.datetime(2012, 11, 23)), \"workingday\"] = 0\n",
    "\n",
    "# tax day\n",
    "df_complete.loc[get_day_range(pd.datetime(2011, 4, 15)), \"holiday\"] = 0\n",
    "df_complete.loc[get_day_range(pd.datetime(2012, 4, 16)), \"holiday\"] = 0\n",
    "\n",
    "# thanksgiving friday\n",
    "df_complete.loc[get_day_range(pd.datetime(2011, 11, 25)), \"holiday\"] = 1\n",
    "df_complete.loc[get_day_range(pd.datetime(2012, 11, 23)), \"holiday\"] = 1\n",
    "\n",
    "#pre christmas / new year\n",
    "df_complete.loc[get_day_range(pd.datetime(2011, 12, 24)), \"holiday\"] = 1\n",
    "df_complete.loc[get_day_range(pd.datetime(2012, 12, 24)), \"holiday\"] = 1\n",
    "df_complete.loc[get_day_range(pd.datetime(2011, 12, 24)), \"workingday\"] = 0\n",
    "df_complete.loc[get_day_range(pd.datetime(2012, 12, 24)), \"workingday\"] = 0\n",
    "\n",
    "df_complete.loc[get_day_range(pd.datetime(2011, 12, 31)), \"holiday\"] = 1\n",
    "df_complete.loc[get_day_range(pd.datetime(2012, 12, 31)), \"holiday\"] = 1\n",
    "df_complete.loc[get_day_range(pd.datetime(2011, 12, 31)), \"workingday\"] = 0\n",
    "df_complete.loc[get_day_range(pd.datetime(2012, 12, 31)), \"workingday\"] = 0\n",
    "\n"
   ]
  },
  {
   "cell_type": "markdown",
   "metadata": {},
   "source": [
    "\n",
    "#storms\n",
    "df_complete.loc[get_day_range(pd.datetime(2012, 5, 21)), \"nat_dis\"] = 1\n",
    "#tornado\n",
    "df_complete.loc[get_day_range(pd.datetime(2012, 6, 1)), \"nat_dis\"] = 1\n",
    "\n",
    "#January 8–13, 2011 North American blizzard\n",
    "df_complete.loc[get_day_range(pd.datetime(2011, 1, 9)), \"nat_dis\"] = 1\n",
    "df_complete.loc[get_day_range(pd.datetime(2011, 1, 10)), \"nat_dis\"] = 1\n",
    "df_complete.loc[get_day_range(pd.datetime(2011, 1, 11)), \"nat_dis\"] = 1\n",
    "df_complete.loc[get_day_range(pd.datetime(2011, 1, 12)), \"nat_dis\"] = 1\n",
    "\n",
    "#Earthquake Aug. 23, 2011\n",
    "df_complete.loc[get_day_range(pd.datetime(2011, 8, 23)), \"nat_dis\"] = 1\n",
    "\n",
    "#Hurricane Irene 21 - 30  Aug-11\n",
    "df_complete.loc[get_day_range(pd.datetime(2011, 8, 22)), \"nat_dis\"] = 1\n",
    "df_complete.loc[get_day_range(pd.datetime(2011, 8, 23)), \"nat_dis\"] = 1\n",
    "df_complete.loc[get_day_range(pd.datetime(2011, 8, 24)), \"nat_dis\"] = 1\n",
    "df_complete.loc[get_day_range(pd.datetime(2011, 8, 25)), \"nat_dis\"] = 1\n",
    "df_complete.loc[get_day_range(pd.datetime(2011, 8, 26)), \"nat_dis\"] = 1\n",
    "df_complete.loc[get_day_range(pd.datetime(2011, 8, 27)), \"nat_dis\"] = 1\n"
   ]
  },
  {
   "cell_type": "code",
   "execution_count": null,
   "metadata": {
    "collapsed": false
   },
   "outputs": [],
   "source": [
    "\n",
    "# Compute the correlation matrix\n",
    "corr = df_complete[df_complete['dataset'] == 'train'].corr()\n",
    "\n",
    "# Generate a mask for the upper triangle\n",
    "mask = np.zeros_like(corr, dtype=np.bool)\n",
    "mask[np.triu_indices_from(mask)] = True\n",
    "\n",
    "# Set up the matplotlib figure\n",
    "f, ax = plt.subplots(figsize=(11, 9))\n",
    "\n",
    "# Generate a custom diverging colormap\n",
    "cmap = sns.diverging_palette(256, 15, as_cmap=True)\n",
    "\n",
    "# Draw the heatmap with the mask and correct aspect ratio\n",
    "sns.heatmap(corr, mask=mask, cmap=cmap, vmax=.3,\n",
    "            square=True,\n",
    "            linewidths=.5, cbar_kws={\"shrink\": .5}, ax=ax)"
   ]
  },
  {
   "cell_type": "markdown",
   "metadata": {},
   "source": [
    "## Contruct Training and Testing Sets"
   ]
  },
  {
   "cell_type": "code",
   "execution_count": 76,
   "metadata": {
    "collapsed": true
   },
   "outputs": [],
   "source": [
    "df_train = df_complete[df_complete['dataset'] == 'train']\n",
    "del df_train['dataset']\n",
    "\n",
    "\n",
    "df_train_y_c = df_train['casual'].values\n",
    "df_train_y_r = df_train['registered'].values\n",
    "df_train_y = df_train_y_c + df_train_y_r\n",
    "\n",
    "df_train_x = df_train.drop(['casual', 'registered'],axis = 1)#.values"
   ]
  },
  {
   "cell_type": "code",
   "execution_count": 77,
   "metadata": {
    "collapsed": true
   },
   "outputs": [],
   "source": [
    "df_test = df_complete[df_complete['dataset'] == 'test']\n",
    "del df_test['dataset']\n",
    "#del df_test['count']\n",
    "del df_test['casual']\n",
    "del df_test['registered']"
   ]
  },
  {
   "cell_type": "markdown",
   "metadata": {},
   "source": [
    "# Models"
   ]
  },
  {
   "cell_type": "code",
   "execution_count": 93,
   "metadata": {
    "collapsed": true
   },
   "outputs": [],
   "source": [
    "# Cross Validation Generator\n",
    "cv = cross_validation.ShuffleSplit(len(df_train_x), n_iter=3, test_size=0.2,\n",
    "    random_state=0)\n",
    "\n",
    "# features to use\n",
    "# month reduces the accuracy considerable\n",
    "# year_quarter also reduces accuracy\n",
    "# week also reduces the accuracy\n",
    "features_common = ['humidity', 'atemp', 'temp', 'windspeed', 'weather', 'rain', 'season', 'holiday',   \n",
    "        'workingday', 'weekend', 'day', 'hour']\n",
    "\n",
    "features_casual = features_common + ['casual_rush']\n",
    "features_registered = features_common + ['registered_rush']"
   ]
  },
  {
   "cell_type": "markdown",
   "metadata": {},
   "source": [
    " ## Time Series"
   ]
  },
  {
   "cell_type": "code",
   "execution_count": null,
   "metadata": {
    "collapsed": false
   },
   "outputs": [],
   "source": [
    "type(df_train)"
   ]
  },
  {
   "cell_type": "code",
   "execution_count": null,
   "metadata": {
    "collapsed": false
   },
   "outputs": [],
   "source": [
    "dates = pd.date_range('2011-01-01 00:00:00', '2012-12-19 23:00:00', freq='H')\n",
    "#original_train.sort_values('datetime', ascending = True).head()\n",
    "dates"
   ]
  },
  {
   "cell_type": "code",
   "execution_count": null,
   "metadata": {
    "collapsed": false
   },
   "outputs": [],
   "source": [
    "AO = pd.Series(df_train['count'], index=dates)\n",
    "AO"
   ]
  },
  {
   "cell_type": "code",
   "execution_count": null,
   "metadata": {
    "collapsed": false
   },
   "outputs": [],
   "source": [
    "#df_train[['datetime', 'temp']]"
   ]
  },
  {
   "cell_type": "markdown",
   "metadata": {},
   "source": [
    "## Decision Tree"
   ]
  },
  {
   "cell_type": "code",
   "execution_count": null,
   "metadata": {
    "collapsed": false
   },
   "outputs": [],
   "source": [
    "#Finding best parameters\n",
    "X_train, X_test, y_train, y_test = cross_validation.train_test_split(\n",
    "    df_train_x, df_train_y, test_size=0.3, random_state=0)\n",
    "\n",
    "tuned_parameters = [\n",
    "    {'max_depth':[9,10,11,20,25,50]},\n",
    "    {'min_samples_leaf':[1,2,5,10,50,100]},\n",
    "    {'min_samples_split':[1,2,5,10,50,100]},\n",
    "    {'presort':[True, False]},\n",
    "    {'min_weight_fraction_leaf':[0.0, 0.1, 0.3, 0.4, 0.5]}]   \n",
    "    \n",
    "scores = ['r2']\n",
    "\n",
    "for score in scores:\n",
    "    \n",
    "    print score\n",
    "    \n",
    "    clf = GridSearchCV(tree.DecisionTreeRegressor(), tuned_parameters, cv=5, scoring=score)\n",
    "    clf.fit(X_train, y_train)\n",
    "\n",
    "    print(\"Best parameters set found on development set:\")\n",
    "    \n",
    "    #best_estimator_ returns the best estimator chosen by the search\n",
    "    print(clf.best_estimator_)\n",
    "    print \"\"\n",
    "    print(\"Grid scores on development set:\")\n",
    "    print \"\"\n",
    "    #grid_scores_ returns:\n",
    "    #    * a dict of parameter settings\n",
    "    #    * the mean score over the cross-validation folds \n",
    "    #    * the list of scores for each fold\n",
    "    for params, mean_score, scores in clf.grid_scores_:\n",
    "        print(\"%0.3f (+/-%0.03f) for %r\"\n",
    "              % (mean_score, scores.std() / 2, params))\n",
    "    print \"\""
   ]
  },
  {
   "cell_type": "code",
   "execution_count": null,
   "metadata": {
    "collapsed": false
   },
   "outputs": [],
   "source": [
    "# Cross Validation\n",
    "dtr = tree.DecisionTreeRegressor(criterion='mse', max_depth=None, max_features=None,\n",
    "           max_leaf_nodes=None, min_samples_leaf=10, min_samples_split=2,\n",
    "           min_weight_fraction_leaf=0.0, presort=False, random_state=None,\n",
    "           splitter='best')\n",
    "for train, test in cv:\n",
    "    clf = dtr.fit(df_train_x[train], df_train_y[train])\n",
    "    print(\"train score: {0:.3f}, test score: {1:.3f}\\n\".format(\n",
    "        clf.score(df_train_x[train], df_train_y[train]), clf.score(df_train_x[test], df_train_y[test])))"
   ]
  },
  {
   "cell_type": "code",
   "execution_count": null,
   "metadata": {
    "collapsed": true
   },
   "outputs": [],
   "source": [
    "# Best Model\n",
    "dtr = tree.DecisionTreeRegressor(criterion='mse', max_depth=None, max_features=None,\n",
    "           max_leaf_nodes=None, min_samples_leaf=10, min_samples_split=2,\n",
    "           min_weight_fraction_leaf=0.0, presort=False, random_state=None,\n",
    "           splitter='best')"
   ]
  },
  {
   "cell_type": "code",
   "execution_count": 53,
   "metadata": {
    "collapsed": false
   },
   "outputs": [
    {
     "ename": "NameError",
     "evalue": "name 'dtr' is not defined",
     "output_type": "error",
     "traceback": [
      "\u001b[0;31m---------------------------------------------------------------------------\u001b[0m",
      "\u001b[0;31mNameError\u001b[0m                                 Traceback (most recent call last)",
      "\u001b[0;32m<ipython-input-53-e1c15d4bdfa3>\u001b[0m in \u001b[0;36m<module>\u001b[0;34m()\u001b[0m\n\u001b[1;32m      1\u001b[0m \u001b[1;31m# Predicting & Exporting File\u001b[0m\u001b[1;33m\u001b[0m\u001b[1;33m\u001b[0m\u001b[0m\n\u001b[0;32m----> 2\u001b[0;31m \u001b[0mdtr_pred\u001b[0m \u001b[1;33m=\u001b[0m \u001b[0mpredictWithModel\u001b[0m\u001b[1;33m(\u001b[0m\u001b[0mdtr\u001b[0m\u001b[1;33m,\u001b[0m \u001b[0mdf_train_x\u001b[0m\u001b[1;33m,\u001b[0m \u001b[0mdf_train_y_c\u001b[0m\u001b[1;33m,\u001b[0m \u001b[0mdf_train_y_r\u001b[0m\u001b[1;33m,\u001b[0m \u001b[0mdf_test\u001b[0m\u001b[1;33m)\u001b[0m\u001b[1;33m\u001b[0m\u001b[0m\n\u001b[0m\u001b[1;32m      3\u001b[0m \u001b[0mprintPrediction\u001b[0m\u001b[1;33m(\u001b[0m\u001b[0mdtr_pred\u001b[0m\u001b[1;33m)\u001b[0m\u001b[1;33m\u001b[0m\u001b[0m\n",
      "\u001b[0;31mNameError\u001b[0m: name 'dtr' is not defined"
     ]
    }
   ],
   "source": [
    "# Predicting & Exporting File\n",
    "dtr_pred = predictWithModel(dtr, df_train_x, df_train_y_c, df_train_y_r, df_test)\n",
    "printPrediction(dtr_pred)"
   ]
  },
  {
   "cell_type": "markdown",
   "metadata": {},
   "source": [
    "## Random Forest"
   ]
  },
  {
   "cell_type": "code",
   "execution_count": null,
   "metadata": {
    "collapsed": false
   },
   "outputs": [],
   "source": [
    "#Finding best parameters\n",
    "X_train, X_test, y_train, y_test = cross_validation.train_test_split(\n",
    "    df_train_x, df_train_y, test_size=0.3, random_state=0)\n",
    "\n",
    "tuned_parameters = [\n",
    "    {'max_depth':[50,100, 500, 1000]}, #Best: 1000\n",
    "    #{'n_estimators':[1000, 10000]}, #We assume is 1000\n",
    "    {'min_samples_leaf':[1,2,5,10,50,100]}, #2\n",
    "    {'min_samples_split':[1,2,5,10,50,100]}, #10\n",
    "    {'min_weight_fraction_leaf':[0.0, 0.1, 0.3, 0.4, 0.5]}] #0.0    \n",
    "    \n",
    "scores = ['r2']\n",
    "\n",
    "for score in scores:\n",
    "    \n",
    "    print score\n",
    "    \n",
    "    clf = GridSearchCV(RandomForestRegressor(), tuned_parameters, cv=5, scoring=score)\n",
    "    clf.fit(X_train, y_train)\n",
    "\n",
    "    print(\"Best parameters set found on development set:\")\n",
    "    \n",
    "    #best_estimator_ returns the best estimator chosen by the search\n",
    "    print(clf.best_estimator_)\n",
    "    print \"\"\n",
    "    print(\"Grid scores on development set:\")\n",
    "    print \"\"\n",
    "    #grid_scores_ returns:\n",
    "    #    * a dict of parameter settings\n",
    "    #    * the mean score over the cross-validation folds \n",
    "    #    * the list of scores for each fold\n",
    "    for params, mean_score, scores in clf.grid_scores_:\n",
    "        print(\"%0.3f (+/-%0.03f) for %r\"\n",
    "              % (mean_score, scores.std() / 2, params))\n",
    "    print \"\"\n"
   ]
  },
  {
   "cell_type": "code",
   "execution_count": null,
   "metadata": {
    "collapsed": false
   },
   "outputs": [],
   "source": [
    "# Cross Validation\n",
    "rfr = RandomForestRegressor(bootstrap=True, criterion='mse', max_depth=1000,\n",
    "           max_features='auto', max_leaf_nodes=None, min_samples_leaf=2,\n",
    "           min_samples_split=10, min_weight_fraction_leaf=0.0,\n",
    "           n_estimators=1000, n_jobs=1, oob_score=False, random_state=None,\n",
    "           verbose=0, warm_start=False)\n",
    "#rfr = RandomForestRegressor(bootstrap=True, criterion='mse', max_depth=None,\n",
    "#           max_features='auto', max_leaf_nodes=None, min_samples_leaf=1,\n",
    "#           min_samples_split=1, min_weight_fraction_leaf=0.0,\n",
    "#           n_estimators=10, n_jobs=1, oob_score=False, random_state=None,\n",
    "#           verbose=0, warm_start=False)\n",
    "\n",
    "    \n",
    "for train, test in cv:\n",
    "    clf = rfr.fit(df_train_x[train], df_train_y[train])\n",
    "    print(\"train score: {0:.3f}, test score: {1:.3f}\\n\".format(\n",
    "        clf.score(df_train_x[train], df_train_y[train]), clf.score(df_train_x[test], df_train_y[test])))"
   ]
  },
  {
   "cell_type": "code",
   "execution_count": 46,
   "metadata": {
    "collapsed": false
   },
   "outputs": [],
   "source": [
    "#Optimized model\n",
    "rfr = RandomForestRegressor(bootstrap=True, criterion='mse', max_depth=1000,\n",
    "           max_features='auto', max_leaf_nodes=None, min_samples_leaf=2,\n",
    "           min_samples_split=10, min_weight_fraction_leaf=0.0,\n",
    "           n_estimators=1000, n_jobs=1, oob_score=False, random_state=None,\n",
    "           verbose=0, warm_start=False)\n",
    "\n"
   ]
  },
  {
   "cell_type": "code",
   "execution_count": 94,
   "metadata": {
    "collapsed": false
   },
   "outputs": [
    {
     "name": "stdout",
     "output_type": "stream",
     "text": [
      "Predicting: 2011\n",
      "Predicting: 2012\n"
     ]
    }
   ],
   "source": [
    "# Predicting Year by Year\n",
    "rfr_pred = predictWithModel(rfr, df_train_x, df_train_y_c, df_train_y_r, df_test)\n",
    "printPrediction(rfr_pred)"
   ]
  },
  {
   "cell_type": "markdown",
   "metadata": {},
   "source": [
    "## XBoost Regressor"
   ]
  },
  {
   "cell_type": "code",
   "execution_count": 29,
   "metadata": {
    "collapsed": false
   },
   "outputs": [
    {
     "name": "stdout",
     "output_type": "stream",
     "text": [
      "r2\n",
      "Best parameters set found on development set:\n",
      "XGBRegressor(base_score=0.5, colsample_bylevel=1, colsample_bytree=1, gamma=0,\n",
      "       learning_rate=0.1, max_delta_step=0, max_depth=10,\n",
      "       min_child_weight=1, missing=None, n_estimators=100, nthread=-1,\n",
      "       objective='reg:linear', reg_alpha=0, reg_lambda=1,\n",
      "       scale_pos_weight=1, seed=0, silent=True, subsample=1)\n",
      "\n",
      "Grid scores on development set:\n",
      "\n",
      "0.837 (+/-0.003) for {'max_depth': 2}\n",
      "0.946 (+/-0.002) for {'max_depth': 5}\n",
      "0.951 (+/-0.003) for {'max_depth': 10}\n",
      "0.946 (+/-0.004) for {'max_depth': 100}\n",
      "0.946 (+/-0.004) for {'max_depth': 1000}\n",
      "0.864 (+/-0.003) for {'n_estimators': 50}\n",
      "0.899 (+/-0.002) for {'n_estimators': 100}\n",
      "0.938 (+/-0.002) for {'n_estimators': 500}\n",
      "0.945 (+/-0.003) for {'n_estimators': 1000}\n",
      "\n"
     ]
    }
   ],
   "source": [
    "#xgb_model = xgb.XGBRegressor()\n",
    "#clf = GridSearchCV(xgb_model,\n",
    "#                   {'max_depth': [2,4,6],\n",
    "#'n_estimators': [50,100,200]}, verbose=1)\n",
    "\n",
    "\n",
    "#Finding best parameters\n",
    "X_train, X_test, y_train, y_test = cross_validation.train_test_split(\n",
    "    df_train_x, df_train_y, test_size=0.3, random_state=0)\n",
    "\n",
    "tuned_parameters = [\n",
    "    {'max_depth': [2,5,10,100,1000]},\n",
    "    {'n_estimators': [50,100,500,1000]}]  \n",
    "    \n",
    "scores = ['r2']\n",
    "\n",
    "for score in scores:\n",
    "    \n",
    "    print score\n",
    "    \n",
    "    xgbr = GridSearchCV(xgb.XGBRegressor(), tuned_parameters, cv=5, scoring=score)\n",
    "    xgbr.fit(X_train, y_train)\n",
    "\n",
    "    print(\"Best parameters set found on development set:\")\n",
    "    \n",
    "    #best_estimator_ returns the best estimator chosen by the search\n",
    "    print(xgbr.best_estimator_)\n",
    "    print \"\"\n",
    "    print(\"Grid scores on development set:\")\n",
    "    print \"\"\n",
    "    #grid_scores_ returns:\n",
    "    #    * a dict of parameter settings\n",
    "    #    * the mean score over the cross-validation folds \n",
    "    #    * the list of scores for each fold\n",
    "    for params, mean_score, scores in xgbr.grid_scores_:\n",
    "        print(\"%0.3f (+/-%0.03f) for %r\"\n",
    "              % (mean_score, scores.std() / 2, params))\n",
    "    print \"\"\n"
   ]
  },
  {
   "cell_type": "code",
   "execution_count": 30,
   "metadata": {
    "collapsed": true
   },
   "outputs": [],
   "source": [
    "#Optimized model\n",
    "xgbr = XGBRegressor(base_score=0.5, colsample_bylevel=1, colsample_bytree=1, gamma=0,\n",
    "       learning_rate=0.1, max_delta_step=0, max_depth=1000,\n",
    "       min_child_weight=1, missing=None, n_estimators=1000, nthread=-1,\n",
    "       objective='reg:linear', reg_alpha=0, reg_lambda=1,\n",
    "       scale_pos_weight=1, seed=0, silent=True, subsample=1)\n"
   ]
  },
  {
   "cell_type": "code",
   "execution_count": 95,
   "metadata": {
    "collapsed": false
   },
   "outputs": [
    {
     "name": "stdout",
     "output_type": "stream",
     "text": [
      "Predicting: 2011\n",
      "Predicting: 2012\n"
     ]
    }
   ],
   "source": [
    "# Predicting Year by Year\n",
    "xgbr_pred = predictWithModel(xgbr, df_train_x, df_train_y_c, df_train_y_r, df_test)\n",
    "printPrediction(xgbr_pred)"
   ]
  },
  {
   "cell_type": "markdown",
   "metadata": {
    "collapsed": true
   },
   "source": [
    "## Merging models"
   ]
  },
  {
   "cell_type": "code",
   "execution_count": null,
   "metadata": {
    "collapsed": false
   },
   "outputs": [],
   "source": [
    "rfr_dtr_merged_pred = 0.9 * rfr_pred + 0.1 * xgbr_pred\n",
    "printPrediction(rfr_dtr_merged_pred)"
   ]
  },
  {
   "cell_type": "code",
   "execution_count": 96,
   "metadata": {
    "collapsed": false
   },
   "outputs": [],
   "source": [
    "rfr_xgbr_merged_pred = 0.3 * rfr_pred + 0.7 * xgbr_pred\n",
    "printPrediction(rfr_xgbr_merged_pred)"
   ]
  },
  {
   "cell_type": "code",
   "execution_count": null,
   "metadata": {
    "collapsed": true
   },
   "outputs": [],
   "source": []
  }
 ],
 "metadata": {
  "anaconda-cloud": {},
  "kernelspec": {
   "display_name": "Python [default]",
   "language": "python",
   "name": "python2"
  },
  "language_info": {
   "codemirror_mode": {
    "name": "ipython",
    "version": 2
   },
   "file_extension": ".py",
   "mimetype": "text/x-python",
   "name": "python",
   "nbconvert_exporter": "python",
   "pygments_lexer": "ipython2",
   "version": "2.7.12"
  }
 },
 "nbformat": 4,
 "nbformat_minor": 0
}
